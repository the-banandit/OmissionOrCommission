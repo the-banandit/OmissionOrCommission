{
 "cells": [
  {
   "cell_type": "code",
   "execution_count": 71,
   "metadata": {},
   "outputs": [
    {
     "name": "stdout",
     "output_type": "stream",
     "text": [
      "The nb_black extension is already loaded. To reload it, use:\n",
      "  %reload_ext nb_black\n"
     ]
    },
    {
     "data": {
      "application/javascript": [
       "\n",
       "            setTimeout(function() {\n",
       "                var nbb_cell_id = 71;\n",
       "                var nbb_unformatted_code = \"# for pretty code\\n%load_ext nb_black\";\n",
       "                var nbb_formatted_code = \"# for pretty code\\n%load_ext nb_black\";\n",
       "                var nbb_cells = Jupyter.notebook.get_cells();\n",
       "                for (var i = 0; i < nbb_cells.length; ++i) {\n",
       "                    if (nbb_cells[i].input_prompt_number == nbb_cell_id) {\n",
       "                        if (nbb_cells[i].get_text() == nbb_unformatted_code) {\n",
       "                             nbb_cells[i].set_text(nbb_formatted_code);\n",
       "                        }\n",
       "                        break;\n",
       "                    }\n",
       "                }\n",
       "            }, 500);\n",
       "            "
      ],
      "text/plain": [
       "<IPython.core.display.Javascript object>"
      ]
     },
     "metadata": {},
     "output_type": "display_data"
    }
   ],
   "source": [
    "# for pretty code\n",
    "%load_ext nb_black"
   ]
  },
  {
   "cell_type": "code",
   "execution_count": 72,
   "metadata": {},
   "outputs": [
    {
     "data": {
      "application/javascript": [
       "\n",
       "            setTimeout(function() {\n",
       "                var nbb_cell_id = 72;\n",
       "                var nbb_unformatted_code = \"# imports\\nimport numpy as np\\nimport pandas as pd\\nimport statsmodels.api as sm\\n\\nfrom newsrelations.query_db.relation_query import DBQueryHandlerCoocc\\nfrom newsrelations.helper_classes.synonym_handler import SynonymHandler\\nfrom newsrelations.metrics.distances import DistanceMeasure\";\n",
       "                var nbb_formatted_code = \"# imports\\nimport numpy as np\\nimport pandas as pd\\nimport statsmodels.api as sm\\n\\nfrom newsrelations.query_db.relation_query import DBQueryHandlerCoocc\\nfrom newsrelations.helper_classes.synonym_handler import SynonymHandler\\nfrom newsrelations.metrics.distances import DistanceMeasure\";\n",
       "                var nbb_cells = Jupyter.notebook.get_cells();\n",
       "                for (var i = 0; i < nbb_cells.length; ++i) {\n",
       "                    if (nbb_cells[i].input_prompt_number == nbb_cell_id) {\n",
       "                        if (nbb_cells[i].get_text() == nbb_unformatted_code) {\n",
       "                             nbb_cells[i].set_text(nbb_formatted_code);\n",
       "                        }\n",
       "                        break;\n",
       "                    }\n",
       "                }\n",
       "            }, 500);\n",
       "            "
      ],
      "text/plain": [
       "<IPython.core.display.Javascript object>"
      ]
     },
     "metadata": {},
     "output_type": "display_data"
    }
   ],
   "source": [
    "# imports\n",
    "import numpy as np\n",
    "import pandas as pd\n",
    "import statsmodels.api as sm\n",
    "\n",
    "from newsrelations.query_db.relation_query import DBQueryHandlerCoocc\n",
    "from newsrelations.helper_classes.synonym_handler import SynonymHandler\n",
    "from newsrelations.metrics.distances import DistanceMeasure"
   ]
  },
  {
   "cell_type": "code",
   "execution_count": 90,
   "metadata": {},
   "outputs": [
    {
     "data": {
      "application/javascript": [
       "\n",
       "            setTimeout(function() {\n",
       "                var nbb_cell_id = 90;\n",
       "                var nbb_unformatted_code = \"# input variables\\n\\n# import Relationsmodels from their paths via argsy\\nRELATION_MODELS = [\\n    \\\"RMadvanced_2008_politics_nytimes.sqlite\\\",\\n    \\\"RM_2008_politics_nytimes.sqlite\\\",\\n    \\\"RM_2008-2010_politics_foxnews.sqlite\\\",\\n]\\n\\ntest_RM_similar = [\\n    \\\"RMadvanced_2008_politics_nytimes.sqlite\\\",\\n    \\\"RM_2008_politics_nytimes.sqlite\\\",\\n]\\n# path to the directory of all relation models\\nRELATION_MODELS_PATH = \\\"/home/jonas/.local/share/NewsRelations/models/secondTry/\\\"\\n# number of entities you want to compare\\nNO_ENTITIES = 5\\n# reference entity\\nTOPIC_OF_INTEREST = \\\"united_states\\\"\\n\\n# reference entity list\\nTOPIC_OF_INTEREST_LIST = [\\\"united_states\\\", \\\"germany\\\", \\\"china\\\", \\\"colombia\\\", \\\"namibia\\\"]\";\n",
       "                var nbb_formatted_code = \"# input variables\\n\\n# import Relationsmodels from their paths via argsy\\nRELATION_MODELS = [\\n    \\\"RMadvanced_2008_politics_nytimes.sqlite\\\",\\n    \\\"RM_2008_politics_nytimes.sqlite\\\",\\n    \\\"RM_2008-2010_politics_foxnews.sqlite\\\",\\n]\\n\\ntest_RM_similar = [\\n    \\\"RMadvanced_2008_politics_nytimes.sqlite\\\",\\n    \\\"RM_2008_politics_nytimes.sqlite\\\",\\n]\\n# path to the directory of all relation models\\nRELATION_MODELS_PATH = \\\"/home/jonas/.local/share/NewsRelations/models/secondTry/\\\"\\n# number of entities you want to compare\\nNO_ENTITIES = 5\\n# reference entity\\nTOPIC_OF_INTEREST = \\\"united_states\\\"\\n\\n# reference entity list\\nTOPIC_OF_INTEREST_LIST = [\\\"united_states\\\", \\\"germany\\\", \\\"china\\\", \\\"colombia\\\", \\\"namibia\\\"]\";\n",
       "                var nbb_cells = Jupyter.notebook.get_cells();\n",
       "                for (var i = 0; i < nbb_cells.length; ++i) {\n",
       "                    if (nbb_cells[i].input_prompt_number == nbb_cell_id) {\n",
       "                        if (nbb_cells[i].get_text() == nbb_unformatted_code) {\n",
       "                             nbb_cells[i].set_text(nbb_formatted_code);\n",
       "                        }\n",
       "                        break;\n",
       "                    }\n",
       "                }\n",
       "            }, 500);\n",
       "            "
      ],
      "text/plain": [
       "<IPython.core.display.Javascript object>"
      ]
     },
     "metadata": {},
     "output_type": "display_data"
    }
   ],
   "source": [
    "# input variables\n",
    "\n",
    "# import Relationsmodels from their paths via argsy\n",
    "RELATION_MODELS = [\n",
    "    \"RMadvanced_2008_politics_nytimes.sqlite\",\n",
    "    \"RM_2008_politics_nytimes.sqlite\",\n",
    "    \"RM_2008-2010_politics_foxnews.sqlite\",\n",
    "]\n",
    "\n",
    "test_RM_similar = [\n",
    "    \"RMadvanced_2008_politics_nytimes.sqlite\",\n",
    "    \"RM_2008_politics_nytimes.sqlite\",\n",
    "]\n",
    "# path to the directory of all relation models\n",
    "RELATION_MODELS_PATH = \"/home/jonas/.local/share/NewsRelations/models/secondTry/\"\n",
    "# number of entities you want to compare\n",
    "NO_ENTITIES = 5\n",
    "# reference entity\n",
    "TOPIC_OF_INTEREST = \"united_states\"\n",
    "\n",
    "# reference entity list\n",
    "TOPIC_OF_INTEREST_LIST = [\"united_states\", \"germany\", \"china\", \"colombia\", \"namibia\"]"
   ]
  },
  {
   "cell_type": "code",
   "execution_count": 84,
   "metadata": {},
   "outputs": [
    {
     "data": {
      "application/javascript": [
       "\n",
       "            setTimeout(function() {\n",
       "                var nbb_cell_id = 84;\n",
       "                var nbb_unformatted_code = \"def build_contingency_table_from_single_topic(\\n    relation_models_path, relation_models, topic_of_interest, no_entities=10\\n):\\n    \\\"\\\"\\\"\\n    This function builds a contingency table from a input list of relation models generated with relation_miner.py \\n    in regards to predetermined topic [TOPIC_OF_INTEREST].\\n    The first model in [RELATION_MODELS] is the reference model all other models will be compared with.\\n    The function extracts the top [NO_ENTITIES] co_occuring entities from the model and builds a contingency table.\\n    \\n    input:  relation_models = list\\n            relation_models_path = str \\n            topic_of_interest = str           \\n            no_entities = int (standard 10)\\n            \\n    output: contingency_table = pandas DataFrame [rows = different models, columns = entities]\\n    \\\"\\\"\\\"\\n    # initialize DistanceMeasure with reference-model\\n    dm = DistanceMeasure(relation_models_path, str(relation_models[0]))\\n\\n    # extract top NO_ENTITIES entities\\n    top = dm.get_top_co_occurrences(\\n        topic_of_interest, cutoff=no_entities, e1_is_synset=0, e2_is_synset=0\\n    )\\n    # write first row of contingency_table\\n    contingency_table = pd.DataFrame(\\n        np.array([t[1] for t in top]),\\n        index=[t[0] for t in top],\\n        columns=[str(relation_models[0])],\\n    )\\n\\n    # loop through all remaining models\\n    for model in relation_models[1:]:\\n        # initialize db_handler()\\n        db_handler = DBQueryHandlerCoocc(relation_models_path, model)\\n\\n        # buffer for cooccurrences\\n        co_occs = []\\n        # loop through all entities and get number of co-occurrences\\n        for row in contingency_table.index:\\n            co_occs.append(\\n                len(\\n                    list(\\n                        db_handler.select_relations(\\n                            e1=topic_of_interest.lower(),\\n                            e2=row.lower(),\\n                            e1_is_synset=0,\\n                            e2_is_synset=0,\\n                        )\\n                    )\\n                )\\n            )\\n\\n        contingency_table[str(model)] = co_occs\\n\\n    # transpose the contingency table to get it into the right format\\n    contingency_table = contingency_table.transpose()\\n    return contingency_table\";\n",
       "                var nbb_formatted_code = \"def build_contingency_table_from_single_topic(\\n    relation_models_path, relation_models, topic_of_interest, no_entities=10\\n):\\n    \\\"\\\"\\\"\\n    This function builds a contingency table from a input list of relation models generated with relation_miner.py \\n    in regards to predetermined topic [TOPIC_OF_INTEREST].\\n    The first model in [RELATION_MODELS] is the reference model all other models will be compared with.\\n    The function extracts the top [NO_ENTITIES] co_occuring entities from the model and builds a contingency table.\\n    \\n    input:  relation_models = list\\n            relation_models_path = str \\n            topic_of_interest = str           \\n            no_entities = int (standard 10)\\n            \\n    output: contingency_table = pandas DataFrame [rows = different models, columns = entities]\\n    \\\"\\\"\\\"\\n    # initialize DistanceMeasure with reference-model\\n    dm = DistanceMeasure(relation_models_path, str(relation_models[0]))\\n\\n    # extract top NO_ENTITIES entities\\n    top = dm.get_top_co_occurrences(\\n        topic_of_interest, cutoff=no_entities, e1_is_synset=0, e2_is_synset=0\\n    )\\n    # write first row of contingency_table\\n    contingency_table = pd.DataFrame(\\n        np.array([t[1] for t in top]),\\n        index=[t[0] for t in top],\\n        columns=[str(relation_models[0])],\\n    )\\n\\n    # loop through all remaining models\\n    for model in relation_models[1:]:\\n        # initialize db_handler()\\n        db_handler = DBQueryHandlerCoocc(relation_models_path, model)\\n\\n        # buffer for cooccurrences\\n        co_occs = []\\n        # loop through all entities and get number of co-occurrences\\n        for row in contingency_table.index:\\n            co_occs.append(\\n                len(\\n                    list(\\n                        db_handler.select_relations(\\n                            e1=topic_of_interest.lower(),\\n                            e2=row.lower(),\\n                            e1_is_synset=0,\\n                            e2_is_synset=0,\\n                        )\\n                    )\\n                )\\n            )\\n\\n        contingency_table[str(model)] = co_occs\\n\\n    # transpose the contingency table to get it into the right format\\n    contingency_table = contingency_table.transpose()\\n    return contingency_table\";\n",
       "                var nbb_cells = Jupyter.notebook.get_cells();\n",
       "                for (var i = 0; i < nbb_cells.length; ++i) {\n",
       "                    if (nbb_cells[i].input_prompt_number == nbb_cell_id) {\n",
       "                        if (nbb_cells[i].get_text() == nbb_unformatted_code) {\n",
       "                             nbb_cells[i].set_text(nbb_formatted_code);\n",
       "                        }\n",
       "                        break;\n",
       "                    }\n",
       "                }\n",
       "            }, 500);\n",
       "            "
      ],
      "text/plain": [
       "<IPython.core.display.Javascript object>"
      ]
     },
     "metadata": {},
     "output_type": "display_data"
    }
   ],
   "source": [
    "def build_contingency_table_from_single_topic(\n",
    "    relation_models_path, relation_models, topic_of_interest, no_entities=10\n",
    "):\n",
    "    \"\"\"\n",
    "    This function builds a contingency table from a input list of relation models generated with relation_miner.py \n",
    "    in regards to predetermined topic [TOPIC_OF_INTEREST].\n",
    "    The first model in [RELATION_MODELS] is the reference model all other models will be compared with.\n",
    "    The function extracts the top [NO_ENTITIES] co_occuring entities from the model and builds a contingency table.\n",
    "    \n",
    "    input:  relation_models = list\n",
    "            relation_models_path = str \n",
    "            topic_of_interest = str           \n",
    "            no_entities = int (standard 10)\n",
    "            \n",
    "    output: contingency_table = pandas DataFrame [rows = different models, columns = entities]\n",
    "    \"\"\"\n",
    "    # initialize DistanceMeasure with reference-model\n",
    "    dm = DistanceMeasure(relation_models_path, str(relation_models[0]))\n",
    "\n",
    "    # extract top NO_ENTITIES entities\n",
    "    top = dm.get_top_co_occurrences(\n",
    "        topic_of_interest, cutoff=no_entities, e1_is_synset=0, e2_is_synset=0\n",
    "    )\n",
    "    # write first row of contingency_table\n",
    "    contingency_table = pd.DataFrame(\n",
    "        np.array([t[1] for t in top]),\n",
    "        index=[t[0] for t in top],\n",
    "        columns=[str(relation_models[0])],\n",
    "    )\n",
    "\n",
    "    # loop through all remaining models\n",
    "    for model in relation_models[1:]:\n",
    "        # initialize db_handler()\n",
    "        db_handler = DBQueryHandlerCoocc(relation_models_path, model)\n",
    "\n",
    "        # buffer for cooccurrences\n",
    "        co_occs = []\n",
    "        # loop through all entities and get number of co-occurrences\n",
    "        for row in contingency_table.index:\n",
    "            co_occs.append(\n",
    "                len(\n",
    "                    list(\n",
    "                        db_handler.select_relations(\n",
    "                            e1=topic_of_interest.lower(),\n",
    "                            e2=row.lower(),\n",
    "                            e1_is_synset=0,\n",
    "                            e2_is_synset=0,\n",
    "                        )\n",
    "                    )\n",
    "                )\n",
    "            )\n",
    "\n",
    "        contingency_table[str(model)] = co_occs\n",
    "\n",
    "    # transpose the contingency table to get it into the right format\n",
    "    contingency_table = contingency_table.transpose()\n",
    "    return contingency_table"
   ]
  },
  {
   "cell_type": "code",
   "execution_count": 75,
   "metadata": {
    "scrolled": true
   },
   "outputs": [
    {
     "data": {
      "text/html": [
       "<div>\n",
       "<style scoped>\n",
       "    .dataframe tbody tr th:only-of-type {\n",
       "        vertical-align: middle;\n",
       "    }\n",
       "\n",
       "    .dataframe tbody tr th {\n",
       "        vertical-align: top;\n",
       "    }\n",
       "\n",
       "    .dataframe thead th {\n",
       "        text-align: right;\n",
       "    }\n",
       "</style>\n",
       "<table border=\"1\" class=\"dataframe\">\n",
       "  <thead>\n",
       "    <tr style=\"text-align: right;\">\n",
       "      <th></th>\n",
       "      <th>washington</th>\n",
       "      <th>u.s.</th>\n",
       "      <th>bush</th>\n",
       "      <th>iraq</th>\n",
       "      <th>russia</th>\n",
       "    </tr>\n",
       "  </thead>\n",
       "  <tbody>\n",
       "    <tr>\n",
       "      <th>RMadvanced_2008_politics_nytimes.sqlite</th>\n",
       "      <td>524</td>\n",
       "      <td>416</td>\n",
       "      <td>406</td>\n",
       "      <td>312</td>\n",
       "      <td>259</td>\n",
       "    </tr>\n",
       "    <tr>\n",
       "      <th>RM_2008_politics_nytimes.sqlite</th>\n",
       "      <td>489</td>\n",
       "      <td>411</td>\n",
       "      <td>379</td>\n",
       "      <td>294</td>\n",
       "      <td>260</td>\n",
       "    </tr>\n",
       "    <tr>\n",
       "      <th>RM_2008-2010_politics_foxnews.sqlite</th>\n",
       "      <td>82</td>\n",
       "      <td>129</td>\n",
       "      <td>53</td>\n",
       "      <td>34</td>\n",
       "      <td>8</td>\n",
       "    </tr>\n",
       "  </tbody>\n",
       "</table>\n",
       "</div>"
      ],
      "text/plain": [
       "                                         washington  u.s.  bush  iraq  russia\n",
       "RMadvanced_2008_politics_nytimes.sqlite         524   416   406   312     259\n",
       "RM_2008_politics_nytimes.sqlite                 489   411   379   294     260\n",
       "RM_2008-2010_politics_foxnews.sqlite             82   129    53    34       8"
      ]
     },
     "execution_count": 75,
     "metadata": {},
     "output_type": "execute_result"
    },
    {
     "data": {
      "application/javascript": [
       "\n",
       "            setTimeout(function() {\n",
       "                var nbb_cell_id = 75;\n",
       "                var nbb_unformatted_code = \"contingency_table = build_contingency_table_from_single_topic(\\n    RELATION_MODELS_PATH, RELATION_MODELS, TOPIC_OF_INTEREST, NO_ENTITIES\\n)\\n\\ncontingency_table\";\n",
       "                var nbb_formatted_code = \"contingency_table = build_contingency_table_from_single_topic(\\n    RELATION_MODELS_PATH, RELATION_MODELS, TOPIC_OF_INTEREST, NO_ENTITIES\\n)\\n\\ncontingency_table\";\n",
       "                var nbb_cells = Jupyter.notebook.get_cells();\n",
       "                for (var i = 0; i < nbb_cells.length; ++i) {\n",
       "                    if (nbb_cells[i].input_prompt_number == nbb_cell_id) {\n",
       "                        if (nbb_cells[i].get_text() == nbb_unformatted_code) {\n",
       "                             nbb_cells[i].set_text(nbb_formatted_code);\n",
       "                        }\n",
       "                        break;\n",
       "                    }\n",
       "                }\n",
       "            }, 500);\n",
       "            "
      ],
      "text/plain": [
       "<IPython.core.display.Javascript object>"
      ]
     },
     "metadata": {},
     "output_type": "display_data"
    }
   ],
   "source": [
    "contingency_table = build_contingency_table_from_single_topic(\n",
    "    RELATION_MODELS_PATH, RELATION_MODELS, TOPIC_OF_INTEREST, NO_ENTITIES\n",
    ")\n",
    "\n",
    "contingency_table"
   ]
  },
  {
   "cell_type": "code",
   "execution_count": 85,
   "metadata": {},
   "outputs": [
    {
     "data": {
      "application/javascript": [
       "\n",
       "            setTimeout(function() {\n",
       "                var nbb_cell_id = 85;\n",
       "                var nbb_unformatted_code = \"def build_contingency_table_from_topic_list(\\n    relation_models_path, relation_models, topic_of_interest_list, no_entities=10\\n):\\n    \\\"\\\"\\\"\\n    This function builds a contingency table from a input list of relation models generated with relation_miner.py \\n    in regards to predetermined topic list [topic_of_interest_list].\\n    The first model in [relation_models] is the reference model all other models will be compared with.\\n    The function extracts the top [no_entities] co-occuring entities for the first [topic_of_interest] from the \\n    model and builds a contingency table.\\n    \\n    \\n    input:  relation_models = list\\n            relation_models_path = str \\n            topic_of_interest_list = list           \\n            no_entities = int (standard 10)\\n            \\n    output: contingency_table = pandas DataFrame [rows = different models, columns = entities]\\n    \\\"\\\"\\\"\\n    i = 0\\n    # initialize DistanceMeasure with reference-model\\n    dm = DistanceMeasure(relation_models_path, str(relation_models[0]))\\n\\n    # extract top NO_ENTITIES entities\\n    top = dm.get_top_co_occurrences(\\n        topic_of_interest_list[0], cutoff=no_entities, e1_is_synset=0, e2_is_synset=0\\n    )\\n    # write first row of contingency_table\\n    contingency_table = pd.DataFrame(\\n        np.array([t[1] for t in top]),\\n        index=[t[0] for t in top],\\n        columns=[str(topic_of_interest_list[0]) + \\\" (\\\" + str(i) + \\\")\\\"],\\n    )\\n\\n    # loop through the models\\n    for model in relation_models[:]:\\n        # initialize db_handler()\\n        db_handler = DBQueryHandlerCoocc(relation_models_path, model)\\n\\n        for topic in topic_of_interest_list:\\n            # buffer for co-occurrencces\\n            co_occs = []\\n\\n            # loop through all all entities and get number of co-occurrences\\n            for row in contingency_table.index:\\n                co_occs.append(\\n                    len(\\n                        list(\\n                            db_handler.select_relations(\\n                                e1=topic.lower(),\\n                                e2=row.lower(),\\n                                e1_is_synset=0,\\n                                e2_is_synset=0,\\n                            )\\n                        )\\n                    )\\n                )\\n            contingency_table[str(topic) + \\\" (\\\" + str(i) + \\\")\\\"] = co_occs\\n\\n        i += 1\\n\\n    # transpose the contingency table to get it into the right format\\n    contingency_table = contingency_table.transpose()\\n\\n    return contingency_table\";\n",
       "                var nbb_formatted_code = \"def build_contingency_table_from_topic_list(\\n    relation_models_path, relation_models, topic_of_interest_list, no_entities=10\\n):\\n    \\\"\\\"\\\"\\n    This function builds a contingency table from a input list of relation models generated with relation_miner.py \\n    in regards to predetermined topic list [topic_of_interest_list].\\n    The first model in [relation_models] is the reference model all other models will be compared with.\\n    The function extracts the top [no_entities] co-occuring entities for the first [topic_of_interest] from the \\n    model and builds a contingency table.\\n    \\n    \\n    input:  relation_models = list\\n            relation_models_path = str \\n            topic_of_interest_list = list           \\n            no_entities = int (standard 10)\\n            \\n    output: contingency_table = pandas DataFrame [rows = different models, columns = entities]\\n    \\\"\\\"\\\"\\n    i = 0\\n    # initialize DistanceMeasure with reference-model\\n    dm = DistanceMeasure(relation_models_path, str(relation_models[0]))\\n\\n    # extract top NO_ENTITIES entities\\n    top = dm.get_top_co_occurrences(\\n        topic_of_interest_list[0], cutoff=no_entities, e1_is_synset=0, e2_is_synset=0\\n    )\\n    # write first row of contingency_table\\n    contingency_table = pd.DataFrame(\\n        np.array([t[1] for t in top]),\\n        index=[t[0] for t in top],\\n        columns=[str(topic_of_interest_list[0]) + \\\" (\\\" + str(i) + \\\")\\\"],\\n    )\\n\\n    # loop through the models\\n    for model in relation_models[:]:\\n        # initialize db_handler()\\n        db_handler = DBQueryHandlerCoocc(relation_models_path, model)\\n\\n        for topic in topic_of_interest_list:\\n            # buffer for co-occurrencces\\n            co_occs = []\\n\\n            # loop through all all entities and get number of co-occurrences\\n            for row in contingency_table.index:\\n                co_occs.append(\\n                    len(\\n                        list(\\n                            db_handler.select_relations(\\n                                e1=topic.lower(),\\n                                e2=row.lower(),\\n                                e1_is_synset=0,\\n                                e2_is_synset=0,\\n                            )\\n                        )\\n                    )\\n                )\\n            contingency_table[str(topic) + \\\" (\\\" + str(i) + \\\")\\\"] = co_occs\\n\\n        i += 1\\n\\n    # transpose the contingency table to get it into the right format\\n    contingency_table = contingency_table.transpose()\\n\\n    return contingency_table\";\n",
       "                var nbb_cells = Jupyter.notebook.get_cells();\n",
       "                for (var i = 0; i < nbb_cells.length; ++i) {\n",
       "                    if (nbb_cells[i].input_prompt_number == nbb_cell_id) {\n",
       "                        if (nbb_cells[i].get_text() == nbb_unformatted_code) {\n",
       "                             nbb_cells[i].set_text(nbb_formatted_code);\n",
       "                        }\n",
       "                        break;\n",
       "                    }\n",
       "                }\n",
       "            }, 500);\n",
       "            "
      ],
      "text/plain": [
       "<IPython.core.display.Javascript object>"
      ]
     },
     "metadata": {},
     "output_type": "display_data"
    }
   ],
   "source": [
    "def build_contingency_table_from_topic_list(\n",
    "    relation_models_path, relation_models, topic_of_interest_list, no_entities=10\n",
    "):\n",
    "    \"\"\"\n",
    "    This function builds a contingency table from a input list of relation models generated with relation_miner.py \n",
    "    in regards to predetermined topic list [topic_of_interest_list].\n",
    "    The first model in [relation_models] is the reference model all other models will be compared with.\n",
    "    The function extracts the top [no_entities] co-occuring entities for the first [topic_of_interest] from the \n",
    "    model and builds a contingency table.\n",
    "    \n",
    "    \n",
    "    input:  relation_models = list\n",
    "            relation_models_path = str \n",
    "            topic_of_interest_list = list           \n",
    "            no_entities = int (standard 10)\n",
    "            \n",
    "    output: contingency_table = pandas DataFrame [rows = different models, columns = entities]\n",
    "    \"\"\"\n",
    "    i = 0\n",
    "    # initialize DistanceMeasure with reference-model\n",
    "    dm = DistanceMeasure(relation_models_path, str(relation_models[0]))\n",
    "\n",
    "    # extract top NO_ENTITIES entities\n",
    "    top = dm.get_top_co_occurrences(\n",
    "        topic_of_interest_list[0], cutoff=no_entities, e1_is_synset=0, e2_is_synset=0\n",
    "    )\n",
    "    # write first row of contingency_table\n",
    "    contingency_table = pd.DataFrame(\n",
    "        np.array([t[1] for t in top]),\n",
    "        index=[t[0] for t in top],\n",
    "        columns=[str(topic_of_interest_list[0]) + \" (\" + str(i) + \")\"],\n",
    "    )\n",
    "\n",
    "    # loop through the models\n",
    "    for model in relation_models[:]:\n",
    "        # initialize db_handler()\n",
    "        db_handler = DBQueryHandlerCoocc(relation_models_path, model)\n",
    "\n",
    "        for topic in topic_of_interest_list:\n",
    "            # buffer for co-occurrencces\n",
    "            co_occs = []\n",
    "\n",
    "            # loop through all all entities and get number of co-occurrences\n",
    "            for row in contingency_table.index:\n",
    "                co_occs.append(\n",
    "                    len(\n",
    "                        list(\n",
    "                            db_handler.select_relations(\n",
    "                                e1=topic.lower(),\n",
    "                                e2=row.lower(),\n",
    "                                e1_is_synset=0,\n",
    "                                e2_is_synset=0,\n",
    "                            )\n",
    "                        )\n",
    "                    )\n",
    "                )\n",
    "            contingency_table[str(topic) + \" (\" + str(i) + \")\"] = co_occs\n",
    "\n",
    "        i += 1\n",
    "\n",
    "    # transpose the contingency table to get it into the right format\n",
    "    contingency_table = contingency_table.transpose()\n",
    "\n",
    "    return contingency_table"
   ]
  },
  {
   "cell_type": "code",
   "execution_count": 91,
   "metadata": {},
   "outputs": [
    {
     "data": {
      "text/html": [
       "<div>\n",
       "<style scoped>\n",
       "    .dataframe tbody tr th:only-of-type {\n",
       "        vertical-align: middle;\n",
       "    }\n",
       "\n",
       "    .dataframe tbody tr th {\n",
       "        vertical-align: top;\n",
       "    }\n",
       "\n",
       "    .dataframe thead th {\n",
       "        text-align: right;\n",
       "    }\n",
       "</style>\n",
       "<table border=\"1\" class=\"dataframe\">\n",
       "  <thead>\n",
       "    <tr style=\"text-align: right;\">\n",
       "      <th></th>\n",
       "      <th>washington</th>\n",
       "      <th>u.s.</th>\n",
       "      <th>bush</th>\n",
       "      <th>iraq</th>\n",
       "      <th>russia</th>\n",
       "    </tr>\n",
       "  </thead>\n",
       "  <tbody>\n",
       "    <tr>\n",
       "      <th>united_states (0)</th>\n",
       "      <td>524</td>\n",
       "      <td>416</td>\n",
       "      <td>406</td>\n",
       "      <td>312</td>\n",
       "      <td>259</td>\n",
       "    </tr>\n",
       "    <tr>\n",
       "      <th>germany (0)</th>\n",
       "      <td>66</td>\n",
       "      <td>60</td>\n",
       "      <td>58</td>\n",
       "      <td>39</td>\n",
       "      <td>95</td>\n",
       "    </tr>\n",
       "    <tr>\n",
       "      <th>china (0)</th>\n",
       "      <td>110</td>\n",
       "      <td>107</td>\n",
       "      <td>92</td>\n",
       "      <td>35</td>\n",
       "      <td>114</td>\n",
       "    </tr>\n",
       "    <tr>\n",
       "      <th>colombia (0)</th>\n",
       "      <td>22</td>\n",
       "      <td>10</td>\n",
       "      <td>21</td>\n",
       "      <td>6</td>\n",
       "      <td>5</td>\n",
       "    </tr>\n",
       "    <tr>\n",
       "      <th>namibia (0)</th>\n",
       "      <td>2</td>\n",
       "      <td>0</td>\n",
       "      <td>0</td>\n",
       "      <td>1</td>\n",
       "      <td>1</td>\n",
       "    </tr>\n",
       "    <tr>\n",
       "      <th>united_states (1)</th>\n",
       "      <td>489</td>\n",
       "      <td>411</td>\n",
       "      <td>379</td>\n",
       "      <td>294</td>\n",
       "      <td>260</td>\n",
       "    </tr>\n",
       "    <tr>\n",
       "      <th>germany (1)</th>\n",
       "      <td>65</td>\n",
       "      <td>60</td>\n",
       "      <td>58</td>\n",
       "      <td>38</td>\n",
       "      <td>97</td>\n",
       "    </tr>\n",
       "    <tr>\n",
       "      <th>china (1)</th>\n",
       "      <td>107</td>\n",
       "      <td>110</td>\n",
       "      <td>86</td>\n",
       "      <td>34</td>\n",
       "      <td>113</td>\n",
       "    </tr>\n",
       "    <tr>\n",
       "      <th>colombia (1)</th>\n",
       "      <td>20</td>\n",
       "      <td>10</td>\n",
       "      <td>19</td>\n",
       "      <td>5</td>\n",
       "      <td>5</td>\n",
       "    </tr>\n",
       "    <tr>\n",
       "      <th>namibia (1)</th>\n",
       "      <td>2</td>\n",
       "      <td>0</td>\n",
       "      <td>0</td>\n",
       "      <td>1</td>\n",
       "      <td>1</td>\n",
       "    </tr>\n",
       "    <tr>\n",
       "      <th>united_states (2)</th>\n",
       "      <td>82</td>\n",
       "      <td>129</td>\n",
       "      <td>53</td>\n",
       "      <td>34</td>\n",
       "      <td>8</td>\n",
       "    </tr>\n",
       "    <tr>\n",
       "      <th>germany (2)</th>\n",
       "      <td>6</td>\n",
       "      <td>12</td>\n",
       "      <td>5</td>\n",
       "      <td>4</td>\n",
       "      <td>3</td>\n",
       "    </tr>\n",
       "    <tr>\n",
       "      <th>china (2)</th>\n",
       "      <td>10</td>\n",
       "      <td>23</td>\n",
       "      <td>9</td>\n",
       "      <td>7</td>\n",
       "      <td>7</td>\n",
       "    </tr>\n",
       "    <tr>\n",
       "      <th>colombia (2)</th>\n",
       "      <td>1</td>\n",
       "      <td>3</td>\n",
       "      <td>1</td>\n",
       "      <td>1</td>\n",
       "      <td>1</td>\n",
       "    </tr>\n",
       "    <tr>\n",
       "      <th>namibia (2)</th>\n",
       "      <td>0</td>\n",
       "      <td>0</td>\n",
       "      <td>0</td>\n",
       "      <td>0</td>\n",
       "      <td>0</td>\n",
       "    </tr>\n",
       "  </tbody>\n",
       "</table>\n",
       "</div>"
      ],
      "text/plain": [
       "                   washington  u.s.  bush  iraq  russia\n",
       "united_states (0)         524   416   406   312     259\n",
       "germany (0)                66    60    58    39      95\n",
       "china (0)                 110   107    92    35     114\n",
       "colombia (0)               22    10    21     6       5\n",
       "namibia (0)                 2     0     0     1       1\n",
       "united_states (1)         489   411   379   294     260\n",
       "germany (1)                65    60    58    38      97\n",
       "china (1)                 107   110    86    34     113\n",
       "colombia (1)               20    10    19     5       5\n",
       "namibia (1)                 2     0     0     1       1\n",
       "united_states (2)          82   129    53    34       8\n",
       "germany (2)                 6    12     5     4       3\n",
       "china (2)                  10    23     9     7       7\n",
       "colombia (2)                1     3     1     1       1\n",
       "namibia (2)                 0     0     0     0       0"
      ]
     },
     "execution_count": 91,
     "metadata": {},
     "output_type": "execute_result"
    },
    {
     "data": {
      "application/javascript": [
       "\n",
       "            setTimeout(function() {\n",
       "                var nbb_cell_id = 91;\n",
       "                var nbb_unformatted_code = \"contingency_table_from_list = build_contingency_table_from_topic_list(\\n    RELATION_MODELS_PATH, RELATION_MODELS, TOPIC_OF_INTEREST_LIST, NO_ENTITIES\\n)\\n\\ncontingency_table_from_list\";\n",
       "                var nbb_formatted_code = \"contingency_table_from_list = build_contingency_table_from_topic_list(\\n    RELATION_MODELS_PATH, RELATION_MODELS, TOPIC_OF_INTEREST_LIST, NO_ENTITIES\\n)\\n\\ncontingency_table_from_list\";\n",
       "                var nbb_cells = Jupyter.notebook.get_cells();\n",
       "                for (var i = 0; i < nbb_cells.length; ++i) {\n",
       "                    if (nbb_cells[i].input_prompt_number == nbb_cell_id) {\n",
       "                        if (nbb_cells[i].get_text() == nbb_unformatted_code) {\n",
       "                             nbb_cells[i].set_text(nbb_formatted_code);\n",
       "                        }\n",
       "                        break;\n",
       "                    }\n",
       "                }\n",
       "            }, 500);\n",
       "            "
      ],
      "text/plain": [
       "<IPython.core.display.Javascript object>"
      ]
     },
     "metadata": {},
     "output_type": "display_data"
    }
   ],
   "source": [
    "contingency_table_from_list = build_contingency_table_from_topic_list(\n",
    "    RELATION_MODELS_PATH, RELATION_MODELS, TOPIC_OF_INTEREST_LIST, NO_ENTITIES\n",
    ")\n",
    "\n",
    "contingency_table_from_list"
   ]
  },
  {
   "cell_type": "code",
   "execution_count": 92,
   "metadata": {},
   "outputs": [
    {
     "data": {
      "application/javascript": [
       "\n",
       "            setTimeout(function() {\n",
       "                var nbb_cell_id = 92;\n",
       "                var nbb_unformatted_code = \"def chi_squared(contingency_table):\\n    \\\"\\\"\\\"\\n    This function conducts a chi-squared test of independence between the different rows of a contingency table\\n    \\n    input: contingency_table\\n    \\n    ouput: None\\n    \\\"\\\"\\\"\\n    contingency_table = sm.stats.Table(contingency_table)\\n    results = contingency_table.test_nominal_association()\\n    \\n    \\\"\\\"\\\"\\n    # orig contingency table\\n    print(\\\"Original contingency table:\\\")\\n    print(contingency_table.table_orig)\\n    # expected values\\n    print(\\\"\\\\nExpected values:\\\")\\n    print(contingency_table.fittedvalues)\\n    # residual \\n    print(\\\"\\\\nChi-square contributions:\\\")\\n    print(contingency_table.chi2_contribs)\\n    print(\\\"\\\\nResults:\\\")\\n    \\\"\\\"\\\"\\n    print(results)\\n    \\n    \\n    results = contingency_table.test_ordinal_association()\\n    #print(\\\"\\\\nOrdinal test results:\\\")\\n    #print(results)\\n    \\n    return\";\n",
       "                var nbb_formatted_code = \"def chi_squared(contingency_table):\\n    \\\"\\\"\\\"\\n    This function conducts a chi-squared test of independence between the different rows of a contingency table\\n    \\n    input: contingency_table\\n    \\n    ouput: None\\n    \\\"\\\"\\\"\\n    contingency_table = sm.stats.Table(contingency_table)\\n    results = contingency_table.test_nominal_association()\\n\\n    \\\"\\\"\\\"\\n    # orig contingency table\\n    print(\\\"Original contingency table:\\\")\\n    print(contingency_table.table_orig)\\n    # expected values\\n    print(\\\"\\\\nExpected values:\\\")\\n    print(contingency_table.fittedvalues)\\n    # residual \\n    print(\\\"\\\\nChi-square contributions:\\\")\\n    print(contingency_table.chi2_contribs)\\n    print(\\\"\\\\nResults:\\\")\\n    \\\"\\\"\\\"\\n    print(results)\\n\\n    results = contingency_table.test_ordinal_association()\\n    # print(\\\"\\\\nOrdinal test results:\\\")\\n    # print(results)\\n\\n    return\";\n",
       "                var nbb_cells = Jupyter.notebook.get_cells();\n",
       "                for (var i = 0; i < nbb_cells.length; ++i) {\n",
       "                    if (nbb_cells[i].input_prompt_number == nbb_cell_id) {\n",
       "                        if (nbb_cells[i].get_text() == nbb_unformatted_code) {\n",
       "                             nbb_cells[i].set_text(nbb_formatted_code);\n",
       "                        }\n",
       "                        break;\n",
       "                    }\n",
       "                }\n",
       "            }, 500);\n",
       "            "
      ],
      "text/plain": [
       "<IPython.core.display.Javascript object>"
      ]
     },
     "metadata": {},
     "output_type": "display_data"
    }
   ],
   "source": [
    "def chi_squared(contingency_table):\n",
    "    \"\"\"\n",
    "    This function conducts a chi-squared test of independence between the different rows of a contingency table\n",
    "    \n",
    "    input: contingency_table\n",
    "    \n",
    "    ouput: None\n",
    "    \"\"\"\n",
    "    contingency_table = sm.stats.Table(contingency_table)\n",
    "    results = contingency_table.test_nominal_association()\n",
    "    \n",
    "    \"\"\"\n",
    "    # orig contingency table\n",
    "    print(\"Original contingency table:\")\n",
    "    print(contingency_table.table_orig)\n",
    "    # expected values\n",
    "    print(\"\\nExpected values:\")\n",
    "    print(contingency_table.fittedvalues)\n",
    "    # residual \n",
    "    print(\"\\nChi-square contributions:\")\n",
    "    print(contingency_table.chi2_contribs)\n",
    "    print(\"\\nResults:\")\n",
    "    \"\"\"\n",
    "    print(results)\n",
    "    \n",
    "    \n",
    "    results = contingency_table.test_ordinal_association()\n",
    "    #print(\"\\nOrdinal test results:\")\n",
    "    #print(results)\n",
    "    \n",
    "    return\n"
   ]
  },
  {
   "cell_type": "code",
   "execution_count": 93,
   "metadata": {},
   "outputs": [
    {
     "name": "stdout",
     "output_type": "stream",
     "text": [
      "df          8\n",
      "pvalue      1.1324274851176597e-14\n",
      "statistic   83.14424052352445\n"
     ]
    },
    {
     "data": {
      "application/javascript": [
       "\n",
       "            setTimeout(function() {\n",
       "                var nbb_cell_id = 93;\n",
       "                var nbb_unformatted_code = \"chi_squared(contingency_table)\";\n",
       "                var nbb_formatted_code = \"chi_squared(contingency_table)\";\n",
       "                var nbb_cells = Jupyter.notebook.get_cells();\n",
       "                for (var i = 0; i < nbb_cells.length; ++i) {\n",
       "                    if (nbb_cells[i].input_prompt_number == nbb_cell_id) {\n",
       "                        if (nbb_cells[i].get_text() == nbb_unformatted_code) {\n",
       "                             nbb_cells[i].set_text(nbb_formatted_code);\n",
       "                        }\n",
       "                        break;\n",
       "                    }\n",
       "                }\n",
       "            }, 500);\n",
       "            "
      ],
      "text/plain": [
       "<IPython.core.display.Javascript object>"
      ]
     },
     "metadata": {},
     "output_type": "display_data"
    }
   ],
   "source": [
    "chi_squared(contingency_table)"
   ]
  },
  {
   "cell_type": "code",
   "execution_count": 94,
   "metadata": {},
   "outputs": [
    {
     "name": "stdout",
     "output_type": "stream",
     "text": [
      "df          56\n",
      "pvalue      0.0\n",
      "statistic   316.6076887916231\n"
     ]
    },
    {
     "data": {
      "application/javascript": [
       "\n",
       "            setTimeout(function() {\n",
       "                var nbb_cell_id = 94;\n",
       "                var nbb_unformatted_code = \"chi_squared(contingency_table_from_list)\";\n",
       "                var nbb_formatted_code = \"chi_squared(contingency_table_from_list)\";\n",
       "                var nbb_cells = Jupyter.notebook.get_cells();\n",
       "                for (var i = 0; i < nbb_cells.length; ++i) {\n",
       "                    if (nbb_cells[i].input_prompt_number == nbb_cell_id) {\n",
       "                        if (nbb_cells[i].get_text() == nbb_unformatted_code) {\n",
       "                             nbb_cells[i].set_text(nbb_formatted_code);\n",
       "                        }\n",
       "                        break;\n",
       "                    }\n",
       "                }\n",
       "            }, 500);\n",
       "            "
      ],
      "text/plain": [
       "<IPython.core.display.Javascript object>"
      ]
     },
     "metadata": {},
     "output_type": "display_data"
    }
   ],
   "source": [
    "chi_squared(contingency_table_from_list)"
   ]
  },
  {
   "cell_type": "code",
   "execution_count": null,
   "metadata": {},
   "outputs": [],
   "source": []
  },
  {
   "cell_type": "code",
   "execution_count": null,
   "metadata": {},
   "outputs": [],
   "source": []
  }
 ],
 "metadata": {
  "kernelspec": {
   "display_name": "Python 3",
   "language": "python",
   "name": "python3"
  },
  "language_info": {
   "codemirror_mode": {
    "name": "ipython",
    "version": 3
   },
   "file_extension": ".py",
   "mimetype": "text/x-python",
   "name": "python",
   "nbconvert_exporter": "python",
   "pygments_lexer": "ipython3",
   "version": "3.7.6"
  }
 },
 "nbformat": 4,
 "nbformat_minor": 4
}
