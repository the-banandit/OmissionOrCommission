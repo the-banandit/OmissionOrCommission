{
 "cells": [
  {
   "cell_type": "code",
   "execution_count": 1,
   "metadata": {},
   "outputs": [
    {
     "data": {
      "application/javascript": [
       "\n",
       "            setTimeout(function() {\n",
       "                var nbb_cell_id = 1;\n",
       "                var nbb_unformatted_code = \"# for pretty code\\n%load_ext nb_black\";\n",
       "                var nbb_formatted_code = \"# for pretty code\\n%load_ext nb_black\";\n",
       "                var nbb_cells = Jupyter.notebook.get_cells();\n",
       "                for (var i = 0; i < nbb_cells.length; ++i) {\n",
       "                    if (nbb_cells[i].input_prompt_number == nbb_cell_id) {\n",
       "                        if (nbb_cells[i].get_text() == nbb_unformatted_code) {\n",
       "                             nbb_cells[i].set_text(nbb_formatted_code);\n",
       "                        }\n",
       "                        break;\n",
       "                    }\n",
       "                }\n",
       "            }, 500);\n",
       "            "
      ],
      "text/plain": [
       "<IPython.core.display.Javascript object>"
      ]
     },
     "metadata": {},
     "output_type": "display_data"
    }
   ],
   "source": [
    "# for pretty code\n",
    "%load_ext nb_black"
   ]
  },
  {
   "cell_type": "code",
   "execution_count": 2,
   "metadata": {},
   "outputs": [
    {
     "data": {
      "application/javascript": [
       "\n",
       "            setTimeout(function() {\n",
       "                var nbb_cell_id = 2;\n",
       "                var nbb_unformatted_code = \"# imports\\nimport numpy as np\\nimport pandas as pd\\nimport statsmodels.api as sm\\n\\nfrom newsrelations.query_db.relation_query import DBQueryHandlerCoocc\\nfrom newsrelations.helper_classes.synonym_handler import SynonymHandler\\nfrom newsrelations.metrics.distances import DistanceMeasure\";\n",
       "                var nbb_formatted_code = \"# imports\\nimport numpy as np\\nimport pandas as pd\\nimport statsmodels.api as sm\\n\\nfrom newsrelations.query_db.relation_query import DBQueryHandlerCoocc\\nfrom newsrelations.helper_classes.synonym_handler import SynonymHandler\\nfrom newsrelations.metrics.distances import DistanceMeasure\";\n",
       "                var nbb_cells = Jupyter.notebook.get_cells();\n",
       "                for (var i = 0; i < nbb_cells.length; ++i) {\n",
       "                    if (nbb_cells[i].input_prompt_number == nbb_cell_id) {\n",
       "                        if (nbb_cells[i].get_text() == nbb_unformatted_code) {\n",
       "                             nbb_cells[i].set_text(nbb_formatted_code);\n",
       "                        }\n",
       "                        break;\n",
       "                    }\n",
       "                }\n",
       "            }, 500);\n",
       "            "
      ],
      "text/plain": [
       "<IPython.core.display.Javascript object>"
      ]
     },
     "metadata": {},
     "output_type": "display_data"
    }
   ],
   "source": [
    "# imports\n",
    "import numpy as np\n",
    "import pandas as pd\n",
    "import statsmodels.api as sm\n",
    "\n",
    "from newsrelations.query_db.relation_query import DBQueryHandlerCoocc\n",
    "from newsrelations.helper_classes.synonym_handler import SynonymHandler\n",
    "from newsrelations.metrics.distances import DistanceMeasure"
   ]
  },
  {
   "cell_type": "code",
   "execution_count": 15,
   "metadata": {},
   "outputs": [
    {
     "data": {
      "application/javascript": [
       "\n",
       "            setTimeout(function() {\n",
       "                var nbb_cell_id = 15;\n",
       "                var nbb_unformatted_code = \"# input variables\\n\\n# import Relationsmodels from their paths via argsy\\nRELATION_MODELS = [\\n    \\\"RMadvanced_2008_politics_nytimes.sqlite\\\",\\n    \\\"RM_2008_politics_nytimes.sqlite\\\",\\n    \\\"RM_2008-2010_politics_foxnews.sqlite\\\"\\n]\\nRELATION_MODELS_PATH = \\\"/home/jonas/.local/share/NewsRelations/models/secondTry/\\\"\\n\\nNO_ENTITIES = 3\\nTOPIC_OF_INTEREST = \\\"united_states\\\"\";\n",
       "                var nbb_formatted_code = \"# input variables\\n\\n# import Relationsmodels from their paths via argsy\\nRELATION_MODELS = [\\n    \\\"RMadvanced_2008_politics_nytimes.sqlite\\\",\\n    \\\"RM_2008_politics_nytimes.sqlite\\\",\\n    \\\"RM_2008-2010_politics_foxnews.sqlite\\\",\\n]\\nRELATION_MODELS_PATH = \\\"/home/jonas/.local/share/NewsRelations/models/secondTry/\\\"\\n\\nNO_ENTITIES = 3\\nTOPIC_OF_INTEREST = \\\"united_states\\\"\";\n",
       "                var nbb_cells = Jupyter.notebook.get_cells();\n",
       "                for (var i = 0; i < nbb_cells.length; ++i) {\n",
       "                    if (nbb_cells[i].input_prompt_number == nbb_cell_id) {\n",
       "                        if (nbb_cells[i].get_text() == nbb_unformatted_code) {\n",
       "                             nbb_cells[i].set_text(nbb_formatted_code);\n",
       "                        }\n",
       "                        break;\n",
       "                    }\n",
       "                }\n",
       "            }, 500);\n",
       "            "
      ],
      "text/plain": [
       "<IPython.core.display.Javascript object>"
      ]
     },
     "metadata": {},
     "output_type": "display_data"
    }
   ],
   "source": [
    "# input variables\n",
    "\n",
    "# import Relationsmodels from their paths via argsy\n",
    "RELATION_MODELS = [\n",
    "    \"RMadvanced_2008_politics_nytimes.sqlite\",\n",
    "    \"RM_2008_politics_nytimes.sqlite\",\n",
    "    \"RM_2008-2010_politics_foxnews.sqlite\",\n",
    "]\n",
    "RELATION_MODELS_PATH = \"/home/jonas/.local/share/NewsRelations/models/secondTry/\"\n",
    "\n",
    "NO_ENTITIES = 3\n",
    "TOPIC_OF_INTEREST = \"united_states\""
   ]
  },
  {
   "cell_type": "code",
   "execution_count": 16,
   "metadata": {},
   "outputs": [
    {
     "data": {
      "application/javascript": [
       "\n",
       "            setTimeout(function() {\n",
       "                var nbb_cell_id = 16;\n",
       "                var nbb_unformatted_code = \"def build_contingency_table(\\n    RELATION_MODELS_PATH, RELATION_MODELS, TOPIC_OF_INTEREST, NO_ENTITIES=10\\n):\\n    \\\"\\\"\\\"\\n    This function builds a contingency table from a input list of relation models generated with relation_miner.py in regards to predetermined topic TOPIC_OF_INTEREST.\\n    The first model in RELATION_MODELS is the reference model all other models will be compared with.\\n    The function extracts the top NO_ENTITIES entities from the model and builds the contingency table.\\n    \\n    input:  RELATION_MODELS = list\\n            RELATION_MODEL_PATHS = str \\n            TOPIC_OF_INTEREST = str           \\n            NO_ENTITIES = int (standard 10)\\n            \\n    output: contingency_table = pandas DataFrame [rows = different models, columns = entities]\\n    \\\"\\\"\\\"\\n    # initialize DistanceMeasure with reference-model\\n    dm = DistanceMeasure(RELATION_MODELS_PATH, str(RELATION_MODELS[0]))\\n\\n    # extract top NO_ENTITIES entities\\n    top = dm.get_top_co_occurrences(\\n        TOPIC_OF_INTEREST, cutoff=NO_ENTITIES, e1_is_synset=0, e2_is_synset=0\\n    )\\n    # write first row of contingency_table\\n    contingency_table = pd.DataFrame(\\n        np.array([t[1] for t in top]),\\n        index=[t[0] for t in top],\\n        columns=[str(RELATION_MODELS[0])],\\n    )\\n\\n    # loop through all remaining models\\n    for model in RELATION_MODELS[1:]:\\n        # initialize db_handler()\\n        db_handler = DBQueryHandlerCoocc(RELATION_MODELS_PATH, model)\\n\\n        # buffer for cooccurrences\\n        co_occs = []\\n        # loop through all entities and get number of co-occurrences\\n        for row in contingency_table.index:\\n            co_occs.append(\\n                len(\\n                    list(\\n                        db_handler.select_relations(\\n                            e1=TOPIC_OF_INTEREST.lower(),\\n                            e2=row.lower(),\\n                            e1_is_synset=0,\\n                            e2_is_synset=0,\\n                        )\\n                    )\\n                )\\n            )\\n\\n        contingency_table[str(model)] = co_occs\\n\\n    # transpose the contingency table to get it into the right format\\n    contingency_table = contingency_table.transpose()\\n    return contingency_table\";\n",
       "                var nbb_formatted_code = \"def build_contingency_table(\\n    RELATION_MODELS_PATH, RELATION_MODELS, TOPIC_OF_INTEREST, NO_ENTITIES=10\\n):\\n    \\\"\\\"\\\"\\n    This function builds a contingency table from a input list of relation models generated with relation_miner.py in regards to predetermined topic TOPIC_OF_INTEREST.\\n    The first model in RELATION_MODELS is the reference model all other models will be compared with.\\n    The function extracts the top NO_ENTITIES entities from the model and builds the contingency table.\\n    \\n    input:  RELATION_MODELS = list\\n            RELATION_MODEL_PATHS = str \\n            TOPIC_OF_INTEREST = str           \\n            NO_ENTITIES = int (standard 10)\\n            \\n    output: contingency_table = pandas DataFrame [rows = different models, columns = entities]\\n    \\\"\\\"\\\"\\n    # initialize DistanceMeasure with reference-model\\n    dm = DistanceMeasure(RELATION_MODELS_PATH, str(RELATION_MODELS[0]))\\n\\n    # extract top NO_ENTITIES entities\\n    top = dm.get_top_co_occurrences(\\n        TOPIC_OF_INTEREST, cutoff=NO_ENTITIES, e1_is_synset=0, e2_is_synset=0\\n    )\\n    # write first row of contingency_table\\n    contingency_table = pd.DataFrame(\\n        np.array([t[1] for t in top]),\\n        index=[t[0] for t in top],\\n        columns=[str(RELATION_MODELS[0])],\\n    )\\n\\n    # loop through all remaining models\\n    for model in RELATION_MODELS[1:]:\\n        # initialize db_handler()\\n        db_handler = DBQueryHandlerCoocc(RELATION_MODELS_PATH, model)\\n\\n        # buffer for cooccurrences\\n        co_occs = []\\n        # loop through all entities and get number of co-occurrences\\n        for row in contingency_table.index:\\n            co_occs.append(\\n                len(\\n                    list(\\n                        db_handler.select_relations(\\n                            e1=TOPIC_OF_INTEREST.lower(),\\n                            e2=row.lower(),\\n                            e1_is_synset=0,\\n                            e2_is_synset=0,\\n                        )\\n                    )\\n                )\\n            )\\n\\n        contingency_table[str(model)] = co_occs\\n\\n    # transpose the contingency table to get it into the right format\\n    contingency_table = contingency_table.transpose()\\n    return contingency_table\";\n",
       "                var nbb_cells = Jupyter.notebook.get_cells();\n",
       "                for (var i = 0; i < nbb_cells.length; ++i) {\n",
       "                    if (nbb_cells[i].input_prompt_number == nbb_cell_id) {\n",
       "                        if (nbb_cells[i].get_text() == nbb_unformatted_code) {\n",
       "                             nbb_cells[i].set_text(nbb_formatted_code);\n",
       "                        }\n",
       "                        break;\n",
       "                    }\n",
       "                }\n",
       "            }, 500);\n",
       "            "
      ],
      "text/plain": [
       "<IPython.core.display.Javascript object>"
      ]
     },
     "metadata": {},
     "output_type": "display_data"
    }
   ],
   "source": [
    "def build_contingency_table(\n",
    "    RELATION_MODELS_PATH, RELATION_MODELS, TOPIC_OF_INTEREST, NO_ENTITIES=10\n",
    "):\n",
    "    \"\"\"\n",
    "    This function builds a contingency table from a input list of relation models generated with relation_miner.py in regards to predetermined topic TOPIC_OF_INTEREST.\n",
    "    The first model in RELATION_MODELS is the reference model all other models will be compared with.\n",
    "    The function extracts the top NO_ENTITIES entities from the model and builds the contingency table.\n",
    "    \n",
    "    input:  RELATION_MODELS = list\n",
    "            RELATION_MODEL_PATHS = str \n",
    "            TOPIC_OF_INTEREST = str           \n",
    "            NO_ENTITIES = int (standard 10)\n",
    "            \n",
    "    output: contingency_table = pandas DataFrame [rows = different models, columns = entities]\n",
    "    \"\"\"\n",
    "    # initialize DistanceMeasure with reference-model\n",
    "    dm = DistanceMeasure(RELATION_MODELS_PATH, str(RELATION_MODELS[0]))\n",
    "\n",
    "    # extract top NO_ENTITIES entities\n",
    "    top = dm.get_top_co_occurrences(\n",
    "        TOPIC_OF_INTEREST, cutoff=NO_ENTITIES, e1_is_synset=0, e2_is_synset=0\n",
    "    )\n",
    "    # write first row of contingency_table\n",
    "    contingency_table = pd.DataFrame(\n",
    "        np.array([t[1] for t in top]),\n",
    "        index=[t[0] for t in top],\n",
    "        columns=[str(RELATION_MODELS[0])],\n",
    "    )\n",
    "\n",
    "    # loop through all remaining models\n",
    "    for model in RELATION_MODELS[1:]:\n",
    "        # initialize db_handler()\n",
    "        db_handler = DBQueryHandlerCoocc(RELATION_MODELS_PATH, model)\n",
    "\n",
    "        # buffer for cooccurrences\n",
    "        co_occs = []\n",
    "        # loop through all entities and get number of co-occurrences\n",
    "        for row in contingency_table.index:\n",
    "            co_occs.append(\n",
    "                len(\n",
    "                    list(\n",
    "                        db_handler.select_relations(\n",
    "                            e1=TOPIC_OF_INTEREST.lower(),\n",
    "                            e2=row.lower(),\n",
    "                            e1_is_synset=0,\n",
    "                            e2_is_synset=0,\n",
    "                        )\n",
    "                    )\n",
    "                )\n",
    "            )\n",
    "\n",
    "        contingency_table[str(model)] = co_occs\n",
    "\n",
    "    # transpose the contingency table to get it into the right format\n",
    "    contingency_table = contingency_table.transpose()\n",
    "    return contingency_table"
   ]
  },
  {
   "cell_type": "code",
   "execution_count": 17,
   "metadata": {
    "scrolled": true
   },
   "outputs": [
    {
     "data": {
      "application/javascript": [
       "\n",
       "            setTimeout(function() {\n",
       "                var nbb_cell_id = 17;\n",
       "                var nbb_unformatted_code = \"contingency_table = build_contingency_table(\\n    RELATION_MODELS_PATH, RELATION_MODELS, TOPIC_OF_INTEREST, NO_ENTITIES\\n)\";\n",
       "                var nbb_formatted_code = \"contingency_table = build_contingency_table(\\n    RELATION_MODELS_PATH, RELATION_MODELS, TOPIC_OF_INTEREST, NO_ENTITIES\\n)\";\n",
       "                var nbb_cells = Jupyter.notebook.get_cells();\n",
       "                for (var i = 0; i < nbb_cells.length; ++i) {\n",
       "                    if (nbb_cells[i].input_prompt_number == nbb_cell_id) {\n",
       "                        if (nbb_cells[i].get_text() == nbb_unformatted_code) {\n",
       "                             nbb_cells[i].set_text(nbb_formatted_code);\n",
       "                        }\n",
       "                        break;\n",
       "                    }\n",
       "                }\n",
       "            }, 500);\n",
       "            "
      ],
      "text/plain": [
       "<IPython.core.display.Javascript object>"
      ]
     },
     "metadata": {},
     "output_type": "display_data"
    }
   ],
   "source": [
    "contingency_table = build_contingency_table(\n",
    "    RELATION_MODELS_PATH, RELATION_MODELS, TOPIC_OF_INTEREST, NO_ENTITIES\n",
    ")"
   ]
  },
  {
   "cell_type": "code",
   "execution_count": 18,
   "metadata": {},
   "outputs": [
    {
     "data": {
      "application/javascript": [
       "\n",
       "            setTimeout(function() {\n",
       "                var nbb_cell_id = 18;\n",
       "                var nbb_unformatted_code = \"def chi_squared(contingency_table):\\n    \\\"\\\"\\\"\\n    This function conducts a chi-squared test of independence between the different rows of a contingency table\\n    \\n    input: contingency_table\\n    \\n    ouput: \\n    \\\"\\\"\\\"\\n    contingency_table = sm.stats.Table(contingency_table)\\n    results = contingency_table.test_nominal_association()\\n    \\n    # orig contingency table\\n    print(\\\"Original contingency table:\\\")\\n    print(contingency_table.table_orig)\\n    # expected values\\n    print(\\\"\\\\nExpected values:\\\")\\n    print(contingency_table.fittedvalues)\\n    # residual \\n    print(\\\"\\\\nChi-square contributions:\\\")\\n    print(contingency_table.chi2_contribs)\\n    print(\\\"\\\\nResults:\\\")\\n    print(results)\\n    \\n    \\n    results = contingency_table.test_ordinal_association()\\n    print(\\\"\\\\nOrdinal test results:\\\")\\n    print(results)\\n    \\n    return\";\n",
       "                var nbb_formatted_code = \"def chi_squared(contingency_table):\\n    \\\"\\\"\\\"\\n    This function conducts a chi-squared test of independence between the different rows of a contingency table\\n    \\n    input: contingency_table\\n    \\n    ouput: \\n    \\\"\\\"\\\"\\n    contingency_table = sm.stats.Table(contingency_table)\\n    results = contingency_table.test_nominal_association()\\n\\n    # orig contingency table\\n    print(\\\"Original contingency table:\\\")\\n    print(contingency_table.table_orig)\\n    # expected values\\n    print(\\\"\\\\nExpected values:\\\")\\n    print(contingency_table.fittedvalues)\\n    # residual\\n    print(\\\"\\\\nChi-square contributions:\\\")\\n    print(contingency_table.chi2_contribs)\\n    print(\\\"\\\\nResults:\\\")\\n    print(results)\\n\\n    results = contingency_table.test_ordinal_association()\\n    print(\\\"\\\\nOrdinal test results:\\\")\\n    print(results)\\n\\n    return\";\n",
       "                var nbb_cells = Jupyter.notebook.get_cells();\n",
       "                for (var i = 0; i < nbb_cells.length; ++i) {\n",
       "                    if (nbb_cells[i].input_prompt_number == nbb_cell_id) {\n",
       "                        if (nbb_cells[i].get_text() == nbb_unformatted_code) {\n",
       "                             nbb_cells[i].set_text(nbb_formatted_code);\n",
       "                        }\n",
       "                        break;\n",
       "                    }\n",
       "                }\n",
       "            }, 500);\n",
       "            "
      ],
      "text/plain": [
       "<IPython.core.display.Javascript object>"
      ]
     },
     "metadata": {},
     "output_type": "display_data"
    }
   ],
   "source": [
    "def chi_squared(contingency_table):\n",
    "    \"\"\"\n",
    "    This function conducts a chi-squared test of independence between the different rows of a contingency table\n",
    "    \n",
    "    input: contingency_table\n",
    "    \n",
    "    ouput: None\n",
    "    \"\"\"\n",
    "    contingency_table = sm.stats.Table(contingency_table)\n",
    "    results = contingency_table.test_nominal_association()\n",
    "    \n",
    "    # orig contingency table\n",
    "    print(\"Original contingency table:\")\n",
    "    print(contingency_table.table_orig)\n",
    "    # expected values\n",
    "    print(\"\\nExpected values:\")\n",
    "    print(contingency_table.fittedvalues)\n",
    "    # residual \n",
    "    print(\"\\nChi-square contributions:\")\n",
    "    print(contingency_table.chi2_contribs)\n",
    "    print(\"\\nResults:\")\n",
    "    print(results)\n",
    "    \n",
    "    \n",
    "    results = contingency_table.test_ordinal_association()\n",
    "    print(\"\\nOrdinal test results:\")\n",
    "    print(results)\n",
    "    \n",
    "    return\n"
   ]
  },
  {
   "cell_type": "code",
   "execution_count": 19,
   "metadata": {},
   "outputs": [
    {
     "name": "stdout",
     "output_type": "stream",
     "text": [
      "Original contingency table:\n",
      "                                         washington  u.s.  bush\n",
      "RMadvanced_2008_politics_nytimes.sqlite         524   416   406\n",
      "RM_2008_politics_nytimes.sqlite                 489   411   379\n",
      "RM_2008-2010_politics_foxnews.sqlite             82   129    53\n",
      "\n",
      "Expected values:\n",
      "                                         washington        u.s.        bush\n",
      "RMadvanced_2008_politics_nytimes.sqlite  510.166147  445.405331  390.428522\n",
      "RM_2008_politics_nytimes.sqlite          484.771547  423.234337  370.994116\n",
      "RM_2008-2010_politics_foxnews.sqlite     100.062305   87.360332   76.577362\n",
      "\n",
      "Chi-square contributions:\n",
      "                                         washington       u.s.      bush\n",
      "RMadvanced_2008_politics_nytimes.sqlite    0.375124   1.941318  0.621038\n",
      "RM_2008_politics_nytimes.sqlite            0.036883   0.353655  0.172763\n",
      "RM_2008-2010_politics_foxnews.sqlite       3.260437  19.847245  7.259221\n",
      "\n",
      "Results:\n",
      "df          4\n",
      "pvalue      7.932297215740292e-07\n",
      "statistic   33.86768508659168\n",
      "\n",
      "Ordinal test results:\n",
      "null_mean   1646.2526825891312\n",
      "null_sd     28.228312508278144\n",
      "pvalue      0.7972332963668533\n",
      "statistic   1639.0\n",
      "zscore      -0.2569293714246736\n"
     ]
    },
    {
     "data": {
      "application/javascript": [
       "\n",
       "            setTimeout(function() {\n",
       "                var nbb_cell_id = 19;\n",
       "                var nbb_unformatted_code = \"chi_squared(contingency_table)\";\n",
       "                var nbb_formatted_code = \"chi_squared(contingency_table)\";\n",
       "                var nbb_cells = Jupyter.notebook.get_cells();\n",
       "                for (var i = 0; i < nbb_cells.length; ++i) {\n",
       "                    if (nbb_cells[i].input_prompt_number == nbb_cell_id) {\n",
       "                        if (nbb_cells[i].get_text() == nbb_unformatted_code) {\n",
       "                             nbb_cells[i].set_text(nbb_formatted_code);\n",
       "                        }\n",
       "                        break;\n",
       "                    }\n",
       "                }\n",
       "            }, 500);\n",
       "            "
      ],
      "text/plain": [
       "<IPython.core.display.Javascript object>"
      ]
     },
     "metadata": {},
     "output_type": "display_data"
    }
   ],
   "source": [
    "chi_squared(contingency_table)"
   ]
  },
  {
   "cell_type": "code",
   "execution_count": null,
   "metadata": {},
   "outputs": [],
   "source": []
  }
 ],
 "metadata": {
  "kernelspec": {
   "display_name": "Python 3",
   "language": "python",
   "name": "python3"
  },
  "language_info": {
   "codemirror_mode": {
    "name": "ipython",
    "version": 3
   },
   "file_extension": ".py",
   "mimetype": "text/x-python",
   "name": "python",
   "nbconvert_exporter": "python",
   "pygments_lexer": "ipython3",
   "version": "3.7.6"
  }
 },
 "nbformat": 4,
 "nbformat_minor": 4
}
