{
 "cells": [
  {
   "cell_type": "code",
   "execution_count": 19,
   "metadata": {},
   "outputs": [
    {
     "name": "stdout",
     "output_type": "stream",
     "text": [
      "The nb_black extension is already loaded. To reload it, use:\n",
      "  %reload_ext nb_black\n"
     ]
    },
    {
     "data": {
      "application/javascript": [
       "\n",
       "            setTimeout(function() {\n",
       "                var nbb_cell_id = 19;\n",
       "                var nbb_unformatted_code = \"# for pretty code\\n%load_ext nb_black\\n%matplotlib inline\";\n",
       "                var nbb_formatted_code = \"# for pretty code\\n%load_ext nb_black\\n%matplotlib inline\";\n",
       "                var nbb_cells = Jupyter.notebook.get_cells();\n",
       "                for (var i = 0; i < nbb_cells.length; ++i) {\n",
       "                    if (nbb_cells[i].input_prompt_number == nbb_cell_id) {\n",
       "                        if (nbb_cells[i].get_text() == nbb_unformatted_code) {\n",
       "                             nbb_cells[i].set_text(nbb_formatted_code);\n",
       "                        }\n",
       "                        break;\n",
       "                    }\n",
       "                }\n",
       "            }, 500);\n",
       "            "
      ],
      "text/plain": [
       "<IPython.core.display.Javascript object>"
      ]
     },
     "metadata": {},
     "output_type": "display_data"
    }
   ],
   "source": [
    "# for pretty code\n",
    "%load_ext nb_black\n",
    "%matplotlib inline"
   ]
  },
  {
   "cell_type": "markdown",
   "metadata": {},
   "source": [
    "# Imports and functions"
   ]
  },
  {
   "cell_type": "code",
   "execution_count": 20,
   "metadata": {},
   "outputs": [
    {
     "data": {
      "application/javascript": [
       "\n",
       "            setTimeout(function() {\n",
       "                var nbb_cell_id = 20;\n",
       "                var nbb_unformatted_code = \"# imports\\nimport numpy as np\\nimport pandas as pd\\nimport statsmodels.api as sm\\nimport matplotlib.pyplot as plt\\nimport multiprocessing as mp\\n\\nfrom tqdm import tqdm_notebook, tnrange, tqdm\\nfrom matplotlib.pyplot import figure\\nfrom newsrelations.query_db.relation_query import DBQueryHandlerCoocc\\nfrom newsrelations.helper_classes.synonym_handler import SynonymHandler\\nfrom newsrelations.metrics.distances import DistanceMeasure\";\n",
       "                var nbb_formatted_code = \"# imports\\nimport numpy as np\\nimport pandas as pd\\nimport statsmodels.api as sm\\nimport matplotlib.pyplot as plt\\nimport multiprocessing as mp\\n\\nfrom tqdm import tqdm_notebook, tnrange, tqdm\\nfrom matplotlib.pyplot import figure\\nfrom newsrelations.query_db.relation_query import DBQueryHandlerCoocc\\nfrom newsrelations.helper_classes.synonym_handler import SynonymHandler\\nfrom newsrelations.metrics.distances import DistanceMeasure\";\n",
       "                var nbb_cells = Jupyter.notebook.get_cells();\n",
       "                for (var i = 0; i < nbb_cells.length; ++i) {\n",
       "                    if (nbb_cells[i].input_prompt_number == nbb_cell_id) {\n",
       "                        if (nbb_cells[i].get_text() == nbb_unformatted_code) {\n",
       "                             nbb_cells[i].set_text(nbb_formatted_code);\n",
       "                        }\n",
       "                        break;\n",
       "                    }\n",
       "                }\n",
       "            }, 500);\n",
       "            "
      ],
      "text/plain": [
       "<IPython.core.display.Javascript object>"
      ]
     },
     "metadata": {},
     "output_type": "display_data"
    }
   ],
   "source": [
    "# imports\n",
    "import numpy as np\n",
    "import pandas as pd\n",
    "import statsmodels.api as sm\n",
    "import matplotlib.pyplot as plt\n",
    "import multiprocessing as mp\n",
    "\n",
    "from tqdm import tqdm_notebook, tnrange, tqdm\n",
    "from matplotlib.pyplot import figure\n",
    "from newsrelations.query_db.relation_query import DBQueryHandlerCoocc\n",
    "from newsrelations.helper_classes.synonym_handler import SynonymHandler\n",
    "from newsrelations.metrics.distances import DistanceMeasure"
   ]
  },
  {
   "cell_type": "code",
   "execution_count": 21,
   "metadata": {},
   "outputs": [
    {
     "data": {
      "application/javascript": [
       "\n",
       "            setTimeout(function() {\n",
       "                var nbb_cell_id = 21;\n",
       "                var nbb_unformatted_code = \"def build_contingency_table_from_single_topic(\\n    relation_models_path, relation_models, topic_of_interest, no_entities=10\\n):\\n    \\\"\\\"\\\"\\n    This function builds a contingency table from a input list of relation models generated with relation_miner.py \\n    in regards to predetermined topic [TOPIC_OF_INTEREST].\\n    The first model in [RELATION_MODELS] is the reference model all other models will be compared with.\\n    The function extracts the top [NO_ENTITIES] co_occuring entities from the model and builds a contingency table.\\n    \\n    input:  relation_models = list\\n            relation_models_path = str \\n            topic_of_interest = str           \\n            no_entities = int (standard 10)\\n            \\n    output: contingency_table = pandas DataFrame [rows = different models, columns = entities]\\n    \\\"\\\"\\\"\\n    E1_SYNSET = 0\\n    E2_SYNSET = 1\\n\\n    # initialize DistanceMeasure with reference-model\\n    dm = DistanceMeasure(relation_models_path, str(relation_models[0]))\\n\\n    # extract top NO_ENTITIES entities\\n    top = dm.get_top_co_occurrences(\\n        topic_of_interest,\\n        cutoff=no_entities,\\n        e1_is_synset=E1_SYNSET,\\n        e2_is_synset=E2_SYNSET,\\n    )\\n    # write first row of contingency_table\\n    contingency_table = pd.DataFrame(\\n        np.array([t[1] for t in top]),\\n        index=[t[0] for t in top],\\n        columns=[str(relation_models[0])],\\n    )\\n\\n    # loop through all remaining models\\n    for model in relation_models[1:]:\\n        # initialize db_handler()\\n        db_handler = DBQueryHandlerCoocc(relation_models_path, model)\\n\\n        # buffer for cooccurrences\\n        co_occs = []\\n        # loop through all entities and get number of co-occurrences\\n        for row in contingency_table.index:\\n            co_occs.append(\\n                len(\\n                    list(\\n                        db_handler.select_relations(\\n                            e1=topic_of_interest.lower(),\\n                            e2=row.lower(),\\n                            e1_is_synset=E1_SYNSET,\\n                            e2_is_synset=E2_SYNSET,\\n                        )\\n                    )\\n                )\\n            )\\n\\n        contingency_table[str(model)] = co_occs\\n\\n    # transpose the contingency table to get it into the right format\\n    contingency_table = contingency_table.transpose()\\n    return contingency_table\";\n",
       "                var nbb_formatted_code = \"def build_contingency_table_from_single_topic(\\n    relation_models_path, relation_models, topic_of_interest, no_entities=10\\n):\\n    \\\"\\\"\\\"\\n    This function builds a contingency table from a input list of relation models generated with relation_miner.py \\n    in regards to predetermined topic [TOPIC_OF_INTEREST].\\n    The first model in [RELATION_MODELS] is the reference model all other models will be compared with.\\n    The function extracts the top [NO_ENTITIES] co_occuring entities from the model and builds a contingency table.\\n    \\n    input:  relation_models = list\\n            relation_models_path = str \\n            topic_of_interest = str           \\n            no_entities = int (standard 10)\\n            \\n    output: contingency_table = pandas DataFrame [rows = different models, columns = entities]\\n    \\\"\\\"\\\"\\n    E1_SYNSET = 0\\n    E2_SYNSET = 1\\n\\n    # initialize DistanceMeasure with reference-model\\n    dm = DistanceMeasure(relation_models_path, str(relation_models[0]))\\n\\n    # extract top NO_ENTITIES entities\\n    top = dm.get_top_co_occurrences(\\n        topic_of_interest,\\n        cutoff=no_entities,\\n        e1_is_synset=E1_SYNSET,\\n        e2_is_synset=E2_SYNSET,\\n    )\\n    # write first row of contingency_table\\n    contingency_table = pd.DataFrame(\\n        np.array([t[1] for t in top]),\\n        index=[t[0] for t in top],\\n        columns=[str(relation_models[0])],\\n    )\\n\\n    # loop through all remaining models\\n    for model in relation_models[1:]:\\n        # initialize db_handler()\\n        db_handler = DBQueryHandlerCoocc(relation_models_path, model)\\n\\n        # buffer for cooccurrences\\n        co_occs = []\\n        # loop through all entities and get number of co-occurrences\\n        for row in contingency_table.index:\\n            co_occs.append(\\n                len(\\n                    list(\\n                        db_handler.select_relations(\\n                            e1=topic_of_interest.lower(),\\n                            e2=row.lower(),\\n                            e1_is_synset=E1_SYNSET,\\n                            e2_is_synset=E2_SYNSET,\\n                        )\\n                    )\\n                )\\n            )\\n\\n        contingency_table[str(model)] = co_occs\\n\\n    # transpose the contingency table to get it into the right format\\n    contingency_table = contingency_table.transpose()\\n    return contingency_table\";\n",
       "                var nbb_cells = Jupyter.notebook.get_cells();\n",
       "                for (var i = 0; i < nbb_cells.length; ++i) {\n",
       "                    if (nbb_cells[i].input_prompt_number == nbb_cell_id) {\n",
       "                        if (nbb_cells[i].get_text() == nbb_unformatted_code) {\n",
       "                             nbb_cells[i].set_text(nbb_formatted_code);\n",
       "                        }\n",
       "                        break;\n",
       "                    }\n",
       "                }\n",
       "            }, 500);\n",
       "            "
      ],
      "text/plain": [
       "<IPython.core.display.Javascript object>"
      ]
     },
     "metadata": {},
     "output_type": "display_data"
    }
   ],
   "source": [
    "def build_contingency_table_from_single_topic(\n",
    "    relation_models_path, relation_models, topic_of_interest, no_entities=10\n",
    "):\n",
    "    \"\"\"\n",
    "    This function builds a contingency table from a input list of relation models generated with relation_miner.py \n",
    "    in regards to predetermined topic [TOPIC_OF_INTEREST].\n",
    "    The first model in [RELATION_MODELS] is the reference model all other models will be compared with.\n",
    "    The function extracts the top [NO_ENTITIES] co_occuring entities from the model and builds a contingency table.\n",
    "    \n",
    "    input:  relation_models = list\n",
    "            relation_models_path = str \n",
    "            topic_of_interest = str           \n",
    "            no_entities = int (standard 10)\n",
    "            \n",
    "    output: contingency_table = pandas DataFrame [rows = different models, columns = entities]\n",
    "    \"\"\"\n",
    "    E1_SYNSET = 0\n",
    "    E2_SYNSET = 1\n",
    "\n",
    "    # initialize DistanceMeasure with reference-model\n",
    "    dm = DistanceMeasure(relation_models_path, str(relation_models[0]))\n",
    "\n",
    "    # extract top NO_ENTITIES entities\n",
    "    top = dm.get_top_co_occurrences(\n",
    "        topic_of_interest,\n",
    "        cutoff=no_entities,\n",
    "        e1_is_synset=E1_SYNSET,\n",
    "        e2_is_synset=E2_SYNSET,\n",
    "    )\n",
    "    # write first row of contingency_table\n",
    "    contingency_table = pd.DataFrame(\n",
    "        np.array([t[1] for t in top]),\n",
    "        index=[t[0] for t in top],\n",
    "        columns=[str(relation_models[0])],\n",
    "    )\n",
    "\n",
    "    # loop through all remaining models\n",
    "    for model in relation_models[1:]:\n",
    "        # initialize db_handler()\n",
    "        db_handler = DBQueryHandlerCoocc(relation_models_path, model)\n",
    "\n",
    "        # buffer for cooccurrences\n",
    "        co_occs = []\n",
    "        # loop through all entities and get number of co-occurrences\n",
    "        for row in contingency_table.index:\n",
    "            co_occs.append(\n",
    "                len(\n",
    "                    list(\n",
    "                        db_handler.select_relations(\n",
    "                            e1=topic_of_interest.lower(),\n",
    "                            e2=row.lower(),\n",
    "                            e1_is_synset=E1_SYNSET,\n",
    "                            e2_is_synset=E2_SYNSET,\n",
    "                        )\n",
    "                    )\n",
    "                )\n",
    "            )\n",
    "\n",
    "        contingency_table[str(model)] = co_occs\n",
    "\n",
    "    # transpose the contingency table to get it into the right format\n",
    "    contingency_table = contingency_table.transpose()\n",
    "    return contingency_table"
   ]
  },
  {
   "cell_type": "code",
   "execution_count": 22,
   "metadata": {},
   "outputs": [
    {
     "data": {
      "application/javascript": [
       "\n",
       "            setTimeout(function() {\n",
       "                var nbb_cell_id = 22;\n",
       "                var nbb_unformatted_code = \"def explain_models(relation_models):\\n    \\\"\\\"\\\"\\n    This function lists the models from the relation_models list and their counter index\\n    \\n    Input: relation_models = list\\n    \\n    Output: None\\n    \\\"\\\"\\\"\\n    i = 0\\n    for model in relation_models:\\n        print(\\\"model(\\\" + str(i) + \\\"): \\\" + str(model))\\n        i += 1\\n    return\";\n",
       "                var nbb_formatted_code = \"def explain_models(relation_models):\\n    \\\"\\\"\\\"\\n    This function lists the models from the relation_models list and their counter index\\n    \\n    Input: relation_models = list\\n    \\n    Output: None\\n    \\\"\\\"\\\"\\n    i = 0\\n    for model in relation_models:\\n        print(\\\"model(\\\" + str(i) + \\\"): \\\" + str(model))\\n        i += 1\\n    return\";\n",
       "                var nbb_cells = Jupyter.notebook.get_cells();\n",
       "                for (var i = 0; i < nbb_cells.length; ++i) {\n",
       "                    if (nbb_cells[i].input_prompt_number == nbb_cell_id) {\n",
       "                        if (nbb_cells[i].get_text() == nbb_unformatted_code) {\n",
       "                             nbb_cells[i].set_text(nbb_formatted_code);\n",
       "                        }\n",
       "                        break;\n",
       "                    }\n",
       "                }\n",
       "            }, 500);\n",
       "            "
      ],
      "text/plain": [
       "<IPython.core.display.Javascript object>"
      ]
     },
     "metadata": {},
     "output_type": "display_data"
    }
   ],
   "source": [
    "def explain_models(relation_models):\n",
    "    \"\"\"\n",
    "    This function lists the models from the relation_models list and their counter index\n",
    "    \n",
    "    Input: relation_models = list\n",
    "    \n",
    "    Output: None\n",
    "    \"\"\"\n",
    "    i = 0\n",
    "    for model in relation_models:\n",
    "        print(\"model(\" + str(i) + \"): \" + str(model))\n",
    "        i += 1\n",
    "    return"
   ]
  },
  {
   "cell_type": "code",
   "execution_count": 23,
   "metadata": {},
   "outputs": [
    {
     "data": {
      "application/javascript": [
       "\n",
       "            setTimeout(function() {\n",
       "                var nbb_cell_id = 23;\n",
       "                var nbb_unformatted_code = \"def build_contingency_table_from_topic_list(\\n    relation_models_path, relation_models, topic_of_interest_list, no_entities=10\\n):\\n    \\\"\\\"\\\"\\n    This function builds a contingency table from a input list of relation models generated with relation_miner.py \\n    in regards to predetermined topic list [topic_of_interest_list].\\n    The first model in [relation_models] is the reference model all other models will be compared with.\\n    The function extracts the top [no_entities] co-occuring entities for the first [topic_of_interest] from the \\n    model and builds a contingency table.\\n    \\n    \\n    input:  relation_models = list\\n            relation_models_path = str \\n            topic_of_interest_list = list           \\n            no_entities = int (standard 10)\\n            \\n    output: contingency_table = pandas DataFrame [rows = different models, columns = entities]\\n    \\\"\\\"\\\"\\n    # identifier for models in relation_models_list\\n    i = 0\\n    # print models with idx\\n    explain_models(relation_models)\\n\\n    # initialize DistanceMeasure with reference-model\\n    dm = DistanceMeasure(relation_models_path, str(relation_models[0]))\\n\\n    # extract top NO_ENTITIES entities\\n    top = dm.get_top_co_occurrences(\\n        topic_of_interest_list[0], cutoff=no_entities, e1_is_synset=0, e2_is_synset=0\\n    )\\n    # write first row of contingency_table\\n    contingency_table = pd.DataFrame(\\n        np.array([t[1] for t in top]),\\n        index=[t[0] for t in top],\\n        columns=[str(topic_of_interest_list[0]) + \\\" (\\\" + str(i) + \\\")\\\"],\\n    )\\n\\n    # loop through the models\\n    for model in relation_models[:]:\\n        # initialize db_handler()\\n        db_handler = DBQueryHandlerCoocc(relation_models_path, model)\\n\\n        for topic in topic_of_interest_list:\\n            # buffer for co-occurrencces\\n            co_occs = []\\n\\n            # loop through all all entities and get number of co-occurrences\\n            for row in contingency_table.index:\\n                co_occs.append(\\n                    len(\\n                        list(\\n                            db_handler.select_relations(\\n                                e1=topic.lower(),\\n                                e2=row.lower(),\\n                                e1_is_synset=0,\\n                                e2_is_synset=0,\\n                            )\\n                        )\\n                    )\\n                )\\n            contingency_table[str(topic) + \\\" (\\\" + str(i) + \\\")\\\"] = co_occs\\n\\n        i += 1\\n\\n    # transpose the contingency table to get it into the right format\\n    contingency_table = contingency_table.transpose()\\n\\n    return contingency_table\";\n",
       "                var nbb_formatted_code = \"def build_contingency_table_from_topic_list(\\n    relation_models_path, relation_models, topic_of_interest_list, no_entities=10\\n):\\n    \\\"\\\"\\\"\\n    This function builds a contingency table from a input list of relation models generated with relation_miner.py \\n    in regards to predetermined topic list [topic_of_interest_list].\\n    The first model in [relation_models] is the reference model all other models will be compared with.\\n    The function extracts the top [no_entities] co-occuring entities for the first [topic_of_interest] from the \\n    model and builds a contingency table.\\n    \\n    \\n    input:  relation_models = list\\n            relation_models_path = str \\n            topic_of_interest_list = list           \\n            no_entities = int (standard 10)\\n            \\n    output: contingency_table = pandas DataFrame [rows = different models, columns = entities]\\n    \\\"\\\"\\\"\\n    # identifier for models in relation_models_list\\n    i = 0\\n    # print models with idx\\n    explain_models(relation_models)\\n\\n    # initialize DistanceMeasure with reference-model\\n    dm = DistanceMeasure(relation_models_path, str(relation_models[0]))\\n\\n    # extract top NO_ENTITIES entities\\n    top = dm.get_top_co_occurrences(\\n        topic_of_interest_list[0], cutoff=no_entities, e1_is_synset=0, e2_is_synset=0\\n    )\\n    # write first row of contingency_table\\n    contingency_table = pd.DataFrame(\\n        np.array([t[1] for t in top]),\\n        index=[t[0] for t in top],\\n        columns=[str(topic_of_interest_list[0]) + \\\" (\\\" + str(i) + \\\")\\\"],\\n    )\\n\\n    # loop through the models\\n    for model in relation_models[:]:\\n        # initialize db_handler()\\n        db_handler = DBQueryHandlerCoocc(relation_models_path, model)\\n\\n        for topic in topic_of_interest_list:\\n            # buffer for co-occurrencces\\n            co_occs = []\\n\\n            # loop through all all entities and get number of co-occurrences\\n            for row in contingency_table.index:\\n                co_occs.append(\\n                    len(\\n                        list(\\n                            db_handler.select_relations(\\n                                e1=topic.lower(),\\n                                e2=row.lower(),\\n                                e1_is_synset=0,\\n                                e2_is_synset=0,\\n                            )\\n                        )\\n                    )\\n                )\\n            contingency_table[str(topic) + \\\" (\\\" + str(i) + \\\")\\\"] = co_occs\\n\\n        i += 1\\n\\n    # transpose the contingency table to get it into the right format\\n    contingency_table = contingency_table.transpose()\\n\\n    return contingency_table\";\n",
       "                var nbb_cells = Jupyter.notebook.get_cells();\n",
       "                for (var i = 0; i < nbb_cells.length; ++i) {\n",
       "                    if (nbb_cells[i].input_prompt_number == nbb_cell_id) {\n",
       "                        if (nbb_cells[i].get_text() == nbb_unformatted_code) {\n",
       "                             nbb_cells[i].set_text(nbb_formatted_code);\n",
       "                        }\n",
       "                        break;\n",
       "                    }\n",
       "                }\n",
       "            }, 500);\n",
       "            "
      ],
      "text/plain": [
       "<IPython.core.display.Javascript object>"
      ]
     },
     "metadata": {},
     "output_type": "display_data"
    }
   ],
   "source": [
    "def build_contingency_table_from_topic_list(\n",
    "    relation_models_path, relation_models, topic_of_interest_list, no_entities=10\n",
    "):\n",
    "    \"\"\"\n",
    "    This function builds a contingency table from a input list of relation models generated with relation_miner.py \n",
    "    in regards to predetermined topic list [topic_of_interest_list].\n",
    "    The first model in [relation_models] is the reference model all other models will be compared with.\n",
    "    The function extracts the top [no_entities] co-occuring entities for the first [topic_of_interest] from the \n",
    "    model and builds a contingency table.\n",
    "    \n",
    "    \n",
    "    input:  relation_models = list\n",
    "            relation_models_path = str \n",
    "            topic_of_interest_list = list           \n",
    "            no_entities = int (standard 10)\n",
    "            \n",
    "    output: contingency_table = pandas DataFrame [rows = different models, columns = entities]\n",
    "    \"\"\"\n",
    "    # identifier for models in relation_models_list\n",
    "    i = 0\n",
    "    # print models with idx\n",
    "    explain_models(relation_models)\n",
    "\n",
    "    # initialize DistanceMeasure with reference-model\n",
    "    dm = DistanceMeasure(relation_models_path, str(relation_models[0]))\n",
    "\n",
    "    # extract top NO_ENTITIES entities\n",
    "    top = dm.get_top_co_occurrences(\n",
    "        topic_of_interest_list[0], cutoff=no_entities, e1_is_synset=0, e2_is_synset=0\n",
    "    )\n",
    "    # write first row of contingency_table\n",
    "    contingency_table = pd.DataFrame(\n",
    "        np.array([t[1] for t in top]),\n",
    "        index=[t[0] for t in top],\n",
    "        columns=[str(topic_of_interest_list[0]) + \" (\" + str(i) + \")\"],\n",
    "    )\n",
    "\n",
    "    # loop through the models\n",
    "    for model in relation_models[:]:\n",
    "        # initialize db_handler()\n",
    "        db_handler = DBQueryHandlerCoocc(relation_models_path, model)\n",
    "\n",
    "        for topic in topic_of_interest_list:\n",
    "            # buffer for co-occurrencces\n",
    "            co_occs = []\n",
    "\n",
    "            # loop through all all entities and get number of co-occurrences\n",
    "            for row in contingency_table.index:\n",
    "                co_occs.append(\n",
    "                    len(\n",
    "                        list(\n",
    "                            db_handler.select_relations(\n",
    "                                e1=topic.lower(),\n",
    "                                e2=row.lower(),\n",
    "                                e1_is_synset=0,\n",
    "                                e2_is_synset=0,\n",
    "                            )\n",
    "                        )\n",
    "                    )\n",
    "                )\n",
    "            contingency_table[str(topic) + \" (\" + str(i) + \")\"] = co_occs\n",
    "\n",
    "        i += 1\n",
    "\n",
    "    # transpose the contingency table to get it into the right format\n",
    "    contingency_table = contingency_table.transpose()\n",
    "\n",
    "    return contingency_table"
   ]
  },
  {
   "cell_type": "code",
   "execution_count": 24,
   "metadata": {},
   "outputs": [
    {
     "data": {
      "application/javascript": [
       "\n",
       "            setTimeout(function() {\n",
       "                var nbb_cell_id = 24;\n",
       "                var nbb_unformatted_code = \"def compare_entity_lists(\\n    relation_models_path, relation_models, topic_list1, topic_list2\\n):\\n    \\\"\\\"\\\"\\n    This function creates a contingency table from a two input lists of entities [topic_list1][topic_list2]\\n    from a list of relation models \\n    \\n    input:  relation_models = list\\n            relation_models_path = str \\n            topic_list1 = list           \\n            topic_list2 = list\\n            \\n    output: contingency_table = pandas DataFrame [rows = different models, columns = entities]\\n    \\\"\\\"\\\"\\n    # idx for models\\n    i = 0\\n\\n    # print models with idx\\n    explain_models(relation_models)\\n\\n    # initialize contingency_table\\n    contingency_table = pd.DataFrame(index=topic_list2)\\n\\n    # loop through the models\\n    for model in relation_models:\\n        # initialize db_handler()\\n        db_handler = DBQueryHandlerCoocc(relation_models_path, model)\\n\\n        for topic1 in topic_list1:\\n            # buffer for co-occurrencces\\n            co_occs = []\\n\\n            # loop through all all entities and get number of co-occurrences\\n            for topic2 in topic_list2:\\n                co_occs.append(\\n                    len(\\n                        list(\\n                            db_handler.select_relations(\\n                                e1=topic1.lower(),\\n                                e2=topic2.lower(),\\n                                e1_is_synset=0,\\n                                e2_is_synset=0,\\n                            )\\n                        )\\n                    )\\n                )\\n            contingency_table[str(topic1) + \\\" (\\\" + str(i) + \\\")\\\"] = co_occs\\n\\n        i += 1\\n\\n    # transpose the contingency table to get it into the right format\\n    contingency_table = contingency_table.transpose()\\n\\n    return contingency_table\";\n",
       "                var nbb_formatted_code = \"def compare_entity_lists(\\n    relation_models_path, relation_models, topic_list1, topic_list2\\n):\\n    \\\"\\\"\\\"\\n    This function creates a contingency table from a two input lists of entities [topic_list1][topic_list2]\\n    from a list of relation models \\n    \\n    input:  relation_models = list\\n            relation_models_path = str \\n            topic_list1 = list           \\n            topic_list2 = list\\n            \\n    output: contingency_table = pandas DataFrame [rows = different models, columns = entities]\\n    \\\"\\\"\\\"\\n    # idx for models\\n    i = 0\\n\\n    # print models with idx\\n    explain_models(relation_models)\\n\\n    # initialize contingency_table\\n    contingency_table = pd.DataFrame(index=topic_list2)\\n\\n    # loop through the models\\n    for model in relation_models:\\n        # initialize db_handler()\\n        db_handler = DBQueryHandlerCoocc(relation_models_path, model)\\n\\n        for topic1 in topic_list1:\\n            # buffer for co-occurrencces\\n            co_occs = []\\n\\n            # loop through all all entities and get number of co-occurrences\\n            for topic2 in topic_list2:\\n                co_occs.append(\\n                    len(\\n                        list(\\n                            db_handler.select_relations(\\n                                e1=topic1.lower(),\\n                                e2=topic2.lower(),\\n                                e1_is_synset=0,\\n                                e2_is_synset=0,\\n                            )\\n                        )\\n                    )\\n                )\\n            contingency_table[str(topic1) + \\\" (\\\" + str(i) + \\\")\\\"] = co_occs\\n\\n        i += 1\\n\\n    # transpose the contingency table to get it into the right format\\n    contingency_table = contingency_table.transpose()\\n\\n    return contingency_table\";\n",
       "                var nbb_cells = Jupyter.notebook.get_cells();\n",
       "                for (var i = 0; i < nbb_cells.length; ++i) {\n",
       "                    if (nbb_cells[i].input_prompt_number == nbb_cell_id) {\n",
       "                        if (nbb_cells[i].get_text() == nbb_unformatted_code) {\n",
       "                             nbb_cells[i].set_text(nbb_formatted_code);\n",
       "                        }\n",
       "                        break;\n",
       "                    }\n",
       "                }\n",
       "            }, 500);\n",
       "            "
      ],
      "text/plain": [
       "<IPython.core.display.Javascript object>"
      ]
     },
     "metadata": {},
     "output_type": "display_data"
    }
   ],
   "source": [
    "def compare_entity_lists(\n",
    "    relation_models_path, relation_models, topic_list1, topic_list2\n",
    "):\n",
    "    \"\"\"\n",
    "    This function creates a contingency table from a two input lists of entities [topic_list1][topic_list2]\n",
    "    from a list of relation models \n",
    "    \n",
    "    input:  relation_models = list\n",
    "            relation_models_path = str \n",
    "            topic_list1 = list           \n",
    "            topic_list2 = list\n",
    "            \n",
    "    output: contingency_table = pandas DataFrame [rows = different models, columns = entities]\n",
    "    \"\"\"\n",
    "    # idx for models\n",
    "    i = 0\n",
    "\n",
    "    # print models with idx\n",
    "    explain_models(relation_models)\n",
    "\n",
    "    # initialize contingency_table\n",
    "    contingency_table = pd.DataFrame(index=topic_list2)\n",
    "\n",
    "    # loop through the models\n",
    "    for model in relation_models:\n",
    "        # initialize db_handler()\n",
    "        db_handler = DBQueryHandlerCoocc(relation_models_path, model)\n",
    "\n",
    "        for topic1 in topic_list1:\n",
    "            # buffer for co-occurrencces\n",
    "            co_occs = []\n",
    "\n",
    "            # loop through all all entities and get number of co-occurrences\n",
    "            for topic2 in topic_list2:\n",
    "                co_occs.append(\n",
    "                    len(\n",
    "                        list(\n",
    "                            db_handler.select_relations(\n",
    "                                e1=topic1.lower(),\n",
    "                                e2=topic2.lower(),\n",
    "                                e1_is_synset=0,\n",
    "                                e2_is_synset=0,\n",
    "                            )\n",
    "                        )\n",
    "                    )\n",
    "                )\n",
    "            contingency_table[str(topic1) + \" (\" + str(i) + \")\"] = co_occs\n",
    "\n",
    "        i += 1\n",
    "\n",
    "    # transpose the contingency table to get it into the right format\n",
    "    contingency_table = contingency_table.transpose()\n",
    "\n",
    "    return contingency_table"
   ]
  },
  {
   "cell_type": "code",
   "execution_count": 25,
   "metadata": {},
   "outputs": [
    {
     "data": {
      "application/javascript": [
       "\n",
       "            setTimeout(function() {\n",
       "                var nbb_cell_id = 25;\n",
       "                var nbb_unformatted_code = \"def chi_squared(contingency_table, print_orig = False, print_expect = False, print_chi_contr = False):\\n    \\\"\\\"\\\"\\n    This function conducts a chi-squared test of independence between the different rows of a contingency table\\n    \\n    input: contingency_table\\n    \\n    ouput: None\\n    \\\"\\\"\\\"\\n    contingency_table = sm.stats.Table(contingency_table)\\n    results = contingency_table.test_nominal_association()\\n    \\n    \\n    # orig contingency table\\n    if print_orig == True:\\n        print(\\\"Original contingency table:\\\")\\n        print(contingency_table.table_orig)\\n    # expected values\\n    if print_expect == True:\\n        print(\\\"\\\\nExpected values:\\\")\\n        print(contingency_table.fittedvalues)\\n    # chi-squared contributions\\n    if print_chi_contr == True:\\n        print(\\\"\\\\nChi-square contributions:\\\")\\n        print(contingency_table.chi2_contribs)\\n    \\n    # results\\n    print(\\\"\\\\nResults:\\\")\\n    print(results)\\n\\n   \\n    return\";\n",
       "                var nbb_formatted_code = \"def chi_squared(\\n    contingency_table, print_orig=False, print_expect=False, print_chi_contr=False\\n):\\n    \\\"\\\"\\\"\\n    This function conducts a chi-squared test of independence between the different rows of a contingency table\\n    \\n    input: contingency_table\\n    \\n    ouput: None\\n    \\\"\\\"\\\"\\n    contingency_table = sm.stats.Table(contingency_table)\\n    results = contingency_table.test_nominal_association()\\n\\n    # orig contingency table\\n    if print_orig == True:\\n        print(\\\"Original contingency table:\\\")\\n        print(contingency_table.table_orig)\\n    # expected values\\n    if print_expect == True:\\n        print(\\\"\\\\nExpected values:\\\")\\n        print(contingency_table.fittedvalues)\\n    # chi-squared contributions\\n    if print_chi_contr == True:\\n        print(\\\"\\\\nChi-square contributions:\\\")\\n        print(contingency_table.chi2_contribs)\\n\\n    # results\\n    print(\\\"\\\\nResults:\\\")\\n    print(results)\\n\\n    return\";\n",
       "                var nbb_cells = Jupyter.notebook.get_cells();\n",
       "                for (var i = 0; i < nbb_cells.length; ++i) {\n",
       "                    if (nbb_cells[i].input_prompt_number == nbb_cell_id) {\n",
       "                        if (nbb_cells[i].get_text() == nbb_unformatted_code) {\n",
       "                             nbb_cells[i].set_text(nbb_formatted_code);\n",
       "                        }\n",
       "                        break;\n",
       "                    }\n",
       "                }\n",
       "            }, 500);\n",
       "            "
      ],
      "text/plain": [
       "<IPython.core.display.Javascript object>"
      ]
     },
     "metadata": {},
     "output_type": "display_data"
    }
   ],
   "source": [
    "def chi_squared(contingency_table, print_orig = False, print_expect = False, print_chi_contr = False):\n",
    "    \"\"\"\n",
    "    This function conducts a chi-squared test of independence between the different rows of a contingency table\n",
    "    \n",
    "    input: contingency_table\n",
    "    \n",
    "    ouput: None\n",
    "    \"\"\"\n",
    "    contingency_table = sm.stats.Table(contingency_table)\n",
    "    results = contingency_table.test_nominal_association()\n",
    "    \n",
    "    \n",
    "    # orig contingency table\n",
    "    if print_orig == True:\n",
    "        print(\"Original contingency table:\")\n",
    "        print(contingency_table.table_orig)\n",
    "    # expected values\n",
    "    if print_expect == True:\n",
    "        print(\"\\nExpected values:\")\n",
    "        print(contingency_table.fittedvalues)\n",
    "    # chi-squared contributions\n",
    "    if print_chi_contr == True:\n",
    "        print(\"\\nChi-square contributions:\")\n",
    "        print(contingency_table.chi2_contribs)\n",
    "    \n",
    "    # results\n",
    "    print(\"\\nResults:\")\n",
    "    print(results)\n",
    "\n",
    "   \n",
    "    return\n"
   ]
  },
  {
   "cell_type": "code",
   "execution_count": 26,
   "metadata": {},
   "outputs": [
    {
     "data": {
      "application/javascript": [
       "\n",
       "            setTimeout(function() {\n",
       "                var nbb_cell_id = 26;\n",
       "                var nbb_unformatted_code = \"def do_chi_squared_comparison(\\n    relation_models_path, relation_models, topic_of_interest, no_entities\\n):\\n    \\\"\\\"\\\"\\n    This function extracts chi-squared test results for all combinations of news-outlets\\n    \\n    input: contingency_table\\n    \\n    ouput: None\\n    \\\"\\\"\\\"\\n\\n    # extracting a contingency table from a single reference entity\\n    i = 0\\n    j = 0\\n\\n    df_results = pd.DataFrame()\\n\\n    for i in range(len(relation_models)):\\n        for j in range(len(relation_models)):\\n            models = []\\n            models = [relation_models[i]] + [relation_models[j]]\\n\\n            contingency_table = build_contingency_table_from_single_topic(\\n                relation_models_path, models, topic_of_interest, no_entities\\n            )\\n\\n            contingency_table = sm.stats.Table(contingency_table)\\n            results = contingency_table.test_nominal_association()\\n\\n            df_results[\\n                str(relation_models[i][-10:-7])\\n                + \\\" - \\\"\\n                + str(relation_models[j][-10:-7])\\n            ] = [\\n                results.statistic,\\n                results.pvalue,\\n            ]\\n\\n    df_results = df_results.transpose()\\n    df_results = df_results.rename(columns={0: \\\"chi_sq\\\", 1: \\\"p_value\\\"})\\n    df_results\\n\\n    return df_results\";\n",
       "                var nbb_formatted_code = \"def do_chi_squared_comparison(\\n    relation_models_path, relation_models, topic_of_interest, no_entities\\n):\\n    \\\"\\\"\\\"\\n    This function extracts chi-squared test results for all combinations of news-outlets\\n    \\n    input: contingency_table\\n    \\n    ouput: None\\n    \\\"\\\"\\\"\\n\\n    # extracting a contingency table from a single reference entity\\n    i = 0\\n    j = 0\\n\\n    df_results = pd.DataFrame()\\n\\n    for i in range(len(relation_models)):\\n        for j in range(len(relation_models)):\\n            models = []\\n            models = [relation_models[i]] + [relation_models[j]]\\n\\n            contingency_table = build_contingency_table_from_single_topic(\\n                relation_models_path, models, topic_of_interest, no_entities\\n            )\\n\\n            contingency_table = sm.stats.Table(contingency_table)\\n            results = contingency_table.test_nominal_association()\\n\\n            df_results[\\n                str(relation_models[i][-10:-7])\\n                + \\\" - \\\"\\n                + str(relation_models[j][-10:-7])\\n            ] = [\\n                results.statistic,\\n                results.pvalue,\\n            ]\\n\\n    df_results = df_results.transpose()\\n    df_results = df_results.rename(columns={0: \\\"chi_sq\\\", 1: \\\"p_value\\\"})\\n    df_results\\n\\n    return df_results\";\n",
       "                var nbb_cells = Jupyter.notebook.get_cells();\n",
       "                for (var i = 0; i < nbb_cells.length; ++i) {\n",
       "                    if (nbb_cells[i].input_prompt_number == nbb_cell_id) {\n",
       "                        if (nbb_cells[i].get_text() == nbb_unformatted_code) {\n",
       "                             nbb_cells[i].set_text(nbb_formatted_code);\n",
       "                        }\n",
       "                        break;\n",
       "                    }\n",
       "                }\n",
       "            }, 500);\n",
       "            "
      ],
      "text/plain": [
       "<IPython.core.display.Javascript object>"
      ]
     },
     "metadata": {},
     "output_type": "display_data"
    }
   ],
   "source": [
    "def do_chi_squared_comparison(\n",
    "    relation_models_path, relation_models, topic_of_interest, no_entities\n",
    "):\n",
    "    \"\"\"\n",
    "    This function extracts chi-squared test results for all combinations of news-outlets\n",
    "    \n",
    "    input: contingency_table\n",
    "    \n",
    "    ouput: None\n",
    "    \"\"\"\n",
    "\n",
    "    # extracting a contingency table from a single reference entity\n",
    "    i = 0\n",
    "    j = 0\n",
    "\n",
    "    df_results = pd.DataFrame()\n",
    "\n",
    "    for i in range(len(relation_models)):\n",
    "        for j in range(len(relation_models)):\n",
    "            models = []\n",
    "            models = [relation_models[i]] + [relation_models[j]]\n",
    "\n",
    "            contingency_table = build_contingency_table_from_single_topic(\n",
    "                relation_models_path, models, topic_of_interest, no_entities\n",
    "            )\n",
    "\n",
    "            contingency_table = sm.stats.Table(contingency_table)\n",
    "            results = contingency_table.test_nominal_association()\n",
    "\n",
    "            df_results[\n",
    "                str(relation_models[i][-10:-7])\n",
    "                + \" - \"\n",
    "                + str(relation_models[j][-10:-7])\n",
    "            ] = [\n",
    "                results.statistic,\n",
    "                results.pvalue,\n",
    "            ]\n",
    "\n",
    "    df_results = df_results.transpose()\n",
    "    df_results = df_results.rename(columns={0: \"chi_sq\", 1: \"p_value\"})\n",
    "    df_results\n",
    "\n",
    "    return df_results"
   ]
  },
  {
   "cell_type": "markdown",
   "metadata": {},
   "source": [
    "# Datasets\n",
    "\n",
    "Variable setups for different runs of models (all scraped from commoncrawl.com)"
   ]
  },
  {
   "cell_type": "code",
   "execution_count": null,
   "metadata": {},
   "outputs": [],
   "source": [
    "# First Try\n",
    "# general tryout on the NewsRelations Library\n",
    "\n",
    "# directory path of relation models\n",
    "RELATION_MODELS_PATH = \"/home/jonas/Documents/GitHub/MasterThesis/models/firstTry\"\n",
    "\n",
    "# model name\n",
    "RELATION_MODELS = [\n",
    "    \"model.sqlite\",\n",
    "]"
   ]
  },
  {
   "cell_type": "code",
   "execution_count": null,
   "metadata": {},
   "outputs": [],
   "source": [
    "# Second Try\n",
    "# models from newssources with different biases \n",
    "#\n",
    "# -year:    2008 (for foxnews 2o08-2010)\n",
    "# -domain:  politics\n",
    "# -sources: NYT & foxnews \n",
    "\n",
    "# directory path of relation models \n",
    "RELATION_MODELS_PATH = \"/home/jonas/Documents/GitHub/MasterThesis/models/secondTry\"\n",
    "\n",
    "# model nameslf, path_or_b\n",
    "RELATION_MODELS = [\n",
    "    \"RMadvanced_2008_politics_nytimes.sqlite\",\n",
    "    \"RM_2009_politics_nytimes.sqlite\",\n",
    "    \"RM_2008-2010_politics_foxnews.sqlite\",\n",
    "]\n",
    "\n"
   ]
  },
  {
   "cell_type": "code",
   "execution_count": null,
   "metadata": {},
   "outputs": [],
   "source": [
    "# Third Try\n",
    "# models from newssources with different biases \n",
    "#\n",
    "# -year:    2011\n",
    "# -domain:  news\n",
    "# -sources: reuters & national public radio\n",
    "\n",
    "# directory path of relation models \n",
    "RELATION_MODELS_PATH = \"/home/jonas/Documents/GitHub/MasterThesis/models/thirdTry\"\n",
    "\n",
    "# model names\n",
    "RELATION_MODELS = [\n",
    "    \"RM_2011_news_reuters.sqlite\",\n",
    "    \"RM_2011_news_npr.sqlite\",\n",
    "]\n",
    "\n"
   ]
  },
  {
   "cell_type": "code",
   "execution_count": null,
   "metadata": {},
   "outputs": [],
   "source": [
    "# Fourth try\n",
    "# two models from newssources with different biases each, for comparing slant coherence within\n",
    "# different directions. Timeslots with gapless news reporting were chosen.\n",
    "#\n",
    "# -year:    2011-01-01 - 2011-03-31\n",
    "# -domain:  news\n",
    "# -sources(left):    New York Times (NYT) 637, Washington Post (WP) 508\n",
    "#         (center):  National Public Radio (NPR) 109, Reuters (RET) 300\n",
    "#         (right):   FoxNews (FN) 2735, Newsmax (NM) 180\n",
    "\n",
    "# directory path of relation models\n",
    "RELATION_MODELS_PATH = \"/home/jonas/Documents/GitHub/MasterThesis/models/fourthTry\"\n",
    "\n",
    "# model names\n",
    "RELATION_MODELS = [\n",
    "    \"RM_2011_news_NYT.sqlite\",\n",
    "    \"RM_2011_news_WPO.sqlite\",\n",
    "    \"RM_2011_news_NPR.sqlite\",\n",
    "    \"RM_2011_news_RET.sqlite\",\n",
    "    \"RM_2011_news_FXN.sqlite\",\n",
    "    \"RM_2011_news_NMX.sqlite\",\n",
    "]\n"
   ]
  },
  {
   "cell_type": "markdown",
   "metadata": {},
   "source": [
    "# Final datasets\n",
    "\n",
    "Final datasets used in the paper"
   ]
  },
  {
   "cell_type": "code",
   "execution_count": null,
   "metadata": {},
   "outputs": [],
   "source": [
    "# Dataset for parameter estimation\n",
    "# for the estiation of parameters number of entities and topic_of_interest\n",
    "#\n",
    "# -year:    2012\n",
    "# -domain:  news\n",
    "# -sources(left):    Huffington Post (HFP) 4909, New York Times (NYT) 2541,\n",
    "#         (center):  CNN (CNN) 2491, Reuters (RET) 2135\n",
    "#         (right):   FoxNews (FXN) 3784, (WSJ) 1215\n",
    "\n",
    "# directory path of relation models\n",
    "RELATION_MODELS_PATH = \"/home/jonas/Documents/GitHub/MasterThesis/models/calibrationDataset\"\n",
    "\n",
    "# model names\n",
    "RELATION_MODELS = [\n",
    "    \"RM_2012_news_HFP.sqlite\",\n",
    "    \"RM_2012_news_NYT.sqlite\",\n",
    "    \"RM_2012_news_CNN.sqlite\",\n",
    "    \"RM_2012_news_RET.sqlite\",\n",
    "    \"RM_2012_news_FXN.sqlite\",\n",
    "    \"RM_2012_news_WSJ.sqlite\",\n",
    "]"
   ]
  },
  {
   "cell_type": "code",
   "execution_count": null,
   "metadata": {},
   "outputs": [],
   "source": [
    "# Final Dataset\n",
    "# final daset based on works of Budak (2016) Flaxmann (2016) and Groseclose (2015)\n",
    "#\n",
    "# -year:    2011\n",
    "# -domain:  news\n",
    "# -sources(left):    Huffington Post (HFP) 14876, LA Times (LAT) 445, New York Times (NYT) 11281,\n",
    "#                    Washington Post (WP) 14814, Daily KOS (DKO) 123\n",
    "#         (center):  BBC (BBC) 52, CNN (CNN) 2652, Reuters (RET) 16767, Yahoo News (YHN) 211\n",
    "#         (right):   Chicago Tribune (CTB) 2843, FoxNews (FXN) 6508, NBC (NBC) 3958, USA Today (UST) 171\n",
    "#                    Wall Street Journal (WSJ) 2522, Breitbart (BBT) 76\n",
    "\n",
    "# directory path of relation models\n",
    "RELATION_MODELS_PATH = \"/home/jonas/Documents/GitHub/MasterThesis/models/finalDataset\"\n",
    "\n",
    "# model names\n",
    "RELATION_MODELS = [\n",
    "    \"RM_2011_news_BBC.sqlite\",\n",
    "    \"RM_2011_news_BBT.sqlite\",\n",
    "    \"RM_2011_news_CNN.sqlite\",\n",
    "    \"RM_2011_news_CTB.sqlite\",\n",
    "    \"RM_2011_news_DKO.sqlite\",\n",
    "    \"RM_2011_news_FXN.sqlite\",\n",
    "    \"RM_2011_news_HFP.sqlite\",\n",
    "    \"RM_2011_news_LAT.sqlite\",\n",
    "    \"RM_2011_news_NBC.sqlite\",\n",
    "    \"RM_2011_news_NYT.sqlite\",\n",
    "    \"RM_2011_news_RET.sqlite\",\n",
    "    \"RM_2011_news_UST.sqlite\",\n",
    "    \"RM_2011_news_WPO.sqlite\",\n",
    "    \"RM_2011_news_WSJ.sqlite\",\n",
    "    \"RM_2011_news_YHN.sqlite\",\n",
    "]\n"
   ]
  },
  {
   "cell_type": "markdown",
   "metadata": {},
   "source": [
    "general global variables "
   ]
  },
  {
   "cell_type": "code",
   "execution_count": null,
   "metadata": {},
   "outputs": [],
   "source": [
    "# path to results folder\n",
    "RESULTS_PATH = \"/home/jonas/Documents/GitHub/MasterThesis/results\"\n",
    "\n",
    "# number of entities you want to compare\n",
    "NO_ENTITIES = 41\n",
    "\n",
    "\n",
    "# reference entity\n",
    "TOPIC_OF_INTEREST = \"united_states\"\n",
    "\n",
    "# reference entity list\n",
    "TOPIC_OF_INTEREST_LIST2 = [\n",
    "    \"united_states\",\n",
    "    \"germany\",\n",
    "    \"russia\",\n",
    "    \"india\",\n",
    "    \"china\",\n",
    "]"
   ]
  },
  {
   "cell_type": "markdown",
   "metadata": {},
   "source": [
    "# Parameter estimation\n",
    "\n",
    "## Estimation of \"n\" - number of entities \n",
    "\n",
    "To estimate the optimal n, I examine the stability of the p-value during chi-square tests with different n's, within same slant and between different slant groups\n"
   ]
  },
  {
   "cell_type": "code",
   "execution_count": 27,
   "metadata": {},
   "outputs": [
    {
     "data": {
      "application/javascript": [
       "\n",
       "            setTimeout(function() {\n",
       "                var nbb_cell_id = 27;\n",
       "                var nbb_unformatted_code = \"# hyper-parameters\\n# directory path of relation models\\nRELATION_MODELS_PATH = (\\n    \\\"/home/jonas/Documents/GitHub/MasterThesis/models/calibrationDataset\\\"\\n)\\n\\n# model names\\nRELATION_MODELS = [\\n    \\\"RM_2012_news_HFP.sqlite\\\",\\n    \\\"RM_2012_news_NYT.sqlite\\\",\\n    \\\"RM_2012_news_CNN.sqlite\\\",\\n    \\\"RM_2012_news_RET.sqlite\\\",\\n    \\\"RM_2012_news_FXN.sqlite\\\",\\n    \\\"RM_2012_news_WSJ.sqlite\\\",\\n]\\n\\n# path to results folder\\nRESULTS_PATH = \\\"/home/jonas/Documents/GitHub/MasterThesis/results/\\\"\\n\\n# max number of entities + 1, to compare with the reference entity\\nNO_ENTITIES = 41\\n\\n# reference entity -\\nTOPIC_OF_INTEREST = \\\"united_states\\\"\";\n",
       "                var nbb_formatted_code = \"# hyper-parameters\\n# directory path of relation models\\nRELATION_MODELS_PATH = (\\n    \\\"/home/jonas/Documents/GitHub/MasterThesis/models/calibrationDataset\\\"\\n)\\n\\n# model names\\nRELATION_MODELS = [\\n    \\\"RM_2012_news_HFP.sqlite\\\",\\n    \\\"RM_2012_news_NYT.sqlite\\\",\\n    \\\"RM_2012_news_CNN.sqlite\\\",\\n    \\\"RM_2012_news_RET.sqlite\\\",\\n    \\\"RM_2012_news_FXN.sqlite\\\",\\n    \\\"RM_2012_news_WSJ.sqlite\\\",\\n]\\n\\n# path to results folder\\nRESULTS_PATH = \\\"/home/jonas/Documents/GitHub/MasterThesis/results/\\\"\\n\\n# max number of entities + 1, to compare with the reference entity\\nNO_ENTITIES = 41\\n\\n# reference entity -\\nTOPIC_OF_INTEREST = \\\"united_states\\\"\";\n",
       "                var nbb_cells = Jupyter.notebook.get_cells();\n",
       "                for (var i = 0; i < nbb_cells.length; ++i) {\n",
       "                    if (nbb_cells[i].input_prompt_number == nbb_cell_id) {\n",
       "                        if (nbb_cells[i].get_text() == nbb_unformatted_code) {\n",
       "                             nbb_cells[i].set_text(nbb_formatted_code);\n",
       "                        }\n",
       "                        break;\n",
       "                    }\n",
       "                }\n",
       "            }, 500);\n",
       "            "
      ],
      "text/plain": [
       "<IPython.core.display.Javascript object>"
      ]
     },
     "metadata": {},
     "output_type": "display_data"
    }
   ],
   "source": [
    "# hyper-parameters\n",
    "# directory path of relation models\n",
    "RELATION_MODELS_PATH = (\n",
    "    \"/home/jonas/Documents/GitHub/MasterThesis/models/calibrationDataset\"\n",
    ")\n",
    "\n",
    "# model names\n",
    "RELATION_MODELS = [\n",
    "    \"RM_2012_news_HFP.sqlite\",\n",
    "    \"RM_2012_news_NYT.sqlite\",\n",
    "    \"RM_2012_news_CNN.sqlite\",\n",
    "    \"RM_2012_news_RET.sqlite\",\n",
    "    \"RM_2012_news_FXN.sqlite\",\n",
    "    \"RM_2012_news_WSJ.sqlite\",\n",
    "]\n",
    "\n",
    "# path to results folder\n",
    "RESULTS_PATH = \"/home/jonas/Documents/GitHub/MasterThesis/results/\"\n",
    "\n",
    "# max number of entities + 1, to compare with the reference entity\n",
    "NO_ENTITIES = 41\n",
    "\n",
    "# reference entity -\n",
    "TOPIC_OF_INTEREST = \"united_states\""
   ]
  },
  {
   "cell_type": "code",
   "execution_count": 10,
   "metadata": {
    "scrolled": true
   },
   "outputs": [
    {
     "name": "stderr",
     "output_type": "stream",
     "text": [
      "100%|██████████| 6/6 [4:37:23<00:00, 2773.96s/it]  \n"
     ]
    },
    {
     "data": {
      "application/javascript": [
       "\n",
       "            setTimeout(function() {\n",
       "                var nbb_cell_id = 10;\n",
       "                var nbb_unformatted_code = \"# estimate optimal n - within same slant groups\\nmodels = [\\n    [RELATION_MODELS[0], RELATION_MODELS[1]],\\n    [RELATION_MODELS[1], RELATION_MODELS[0]],\\n    [RELATION_MODELS[2], RELATION_MODELS[3]],\\n    [RELATION_MODELS[3], RELATION_MODELS[2]],\\n    [RELATION_MODELS[4], RELATION_MODELS[5]],\\n    [RELATION_MODELS[5], RELATION_MODELS[4]],\\n]\\n\\n# initialize dataframes and counter for columns\\ndf = pd.DataFrame()\\n\\n# loop through model constellation in models list\\nfor constellation in tqdm(models):\\n    df_results = pd.DataFrame()\\n\\n    # loop through entity numbers until max entity is reached\\n    for n in range(1, NO_ENTITIES):\\n        # create SQL query and build contingency table for sm.stats\\n        contingency_table = build_contingency_table_from_single_topic(\\n            RELATION_MODELS_PATH, constellation, TOPIC_OF_INTEREST, n\\n        )\\n        contingency_table = sm.stats.Table(contingency_table)\\n        # calculate results + add them to dataframe\\n        results = contingency_table.test_nominal_association()\\n        df_results[n] = [results.pvalue]\\n\\n    df_results = df_results.transpose()\\n    df_results = df_results.rename(\\n        columns={\\n            0: str(str(constellation[0][-10:-7]) + \\\"-\\\" + str(constellation[1][-10:-7]))\\n        }\\n    )\\n    \\\"\\\"\\\"\\n    # initialize path for backup save of dataframe\\n    path = (\\n        \\\"/home/jonas/Documents/GitHub/MasterThesis/results/nSameSlant_\\\"\\n        + str(constellation[0][-10:-7])\\n        + \\\"_\\\"\\n        + str(constellation[1][-10:-7])\\n        + \\\".csv\\\"\\n    )\\n\\n    # save results to csv\\n    df_results.to_csv(path)\\n    \\\"\\\"\\\"\\n    # concat all results to one big dataframe\\n    df = pd.concat([df, df_results], axis=1)\\n\\n# save results to csv\\ndf.to_csv(\\n    \\\"/home/jonas/Documents/GitHub/MasterThesis/results/nSameSlant_All.csv\\\", index=False\\n)\";\n",
       "                var nbb_formatted_code = \"# estimate optimal n - within same slant groups\\nmodels = [\\n    [RELATION_MODELS[0], RELATION_MODELS[1]],\\n    [RELATION_MODELS[1], RELATION_MODELS[0]],\\n    [RELATION_MODELS[2], RELATION_MODELS[3]],\\n    [RELATION_MODELS[3], RELATION_MODELS[2]],\\n    [RELATION_MODELS[4], RELATION_MODELS[5]],\\n    [RELATION_MODELS[5], RELATION_MODELS[4]],\\n]\\n\\n# initialize dataframes and counter for columns\\ndf = pd.DataFrame()\\n\\n# loop through model constellation in models list\\nfor constellation in tqdm(models):\\n    df_results = pd.DataFrame()\\n\\n    # loop through entity numbers until max entity is reached\\n    for n in range(1, NO_ENTITIES):\\n        # create SQL query and build contingency table for sm.stats\\n        contingency_table = build_contingency_table_from_single_topic(\\n            RELATION_MODELS_PATH, constellation, TOPIC_OF_INTEREST, n\\n        )\\n        contingency_table = sm.stats.Table(contingency_table)\\n        # calculate results + add them to dataframe\\n        results = contingency_table.test_nominal_association()\\n        df_results[n] = [results.pvalue]\\n\\n    df_results = df_results.transpose()\\n    df_results = df_results.rename(\\n        columns={\\n            0: str(str(constellation[0][-10:-7]) + \\\"-\\\" + str(constellation[1][-10:-7]))\\n        }\\n    )\\n    \\\"\\\"\\\"\\n    # initialize path for backup save of dataframe\\n    path = (\\n        \\\"/home/jonas/Documents/GitHub/MasterThesis/results/nSameSlant_\\\"\\n        + str(constellation[0][-10:-7])\\n        + \\\"_\\\"\\n        + str(constellation[1][-10:-7])\\n        + \\\".csv\\\"\\n    )\\n\\n    # save results to csv\\n    df_results.to_csv(path)\\n    \\\"\\\"\\\"\\n    # concat all results to one big dataframe\\n    df = pd.concat([df, df_results], axis=1)\\n\\n# save results to csv\\ndf.to_csv(\\n    \\\"/home/jonas/Documents/GitHub/MasterThesis/results/nSameSlant_All.csv\\\", index=False\\n)\";\n",
       "                var nbb_cells = Jupyter.notebook.get_cells();\n",
       "                for (var i = 0; i < nbb_cells.length; ++i) {\n",
       "                    if (nbb_cells[i].input_prompt_number == nbb_cell_id) {\n",
       "                        if (nbb_cells[i].get_text() == nbb_unformatted_code) {\n",
       "                             nbb_cells[i].set_text(nbb_formatted_code);\n",
       "                        }\n",
       "                        break;\n",
       "                    }\n",
       "                }\n",
       "            }, 500);\n",
       "            "
      ],
      "text/plain": [
       "<IPython.core.display.Javascript object>"
      ]
     },
     "metadata": {},
     "output_type": "display_data"
    }
   ],
   "source": [
    "# estimate optimal n - within same slant groups\n",
    "models = [\n",
    "    [RELATION_MODELS[0], RELATION_MODELS[1]],\n",
    "    [RELATION_MODELS[1], RELATION_MODELS[0]],\n",
    "    [RELATION_MODELS[2], RELATION_MODELS[3]],\n",
    "    [RELATION_MODELS[3], RELATION_MODELS[2]],\n",
    "    [RELATION_MODELS[4], RELATION_MODELS[5]],\n",
    "    [RELATION_MODELS[5], RELATION_MODELS[4]],\n",
    "]\n",
    "\n",
    "# initialize dataframes and counter for columns\n",
    "df = pd.DataFrame()\n",
    "\n",
    "# loop through model constellation in models list\n",
    "for constellation in tqdm(models):\n",
    "    df_results = pd.DataFrame()\n",
    "\n",
    "    # loop through entity numbers until max entity is reached\n",
    "    for n in range(1, NO_ENTITIES):\n",
    "        # create SQL query and build contingency table for sm.stats\n",
    "        contingency_table = build_contingency_table_from_single_topic(\n",
    "            RELATION_MODELS_PATH, constellation, TOPIC_OF_INTEREST, n\n",
    "        )\n",
    "        contingency_table = sm.stats.Table(contingency_table)\n",
    "        # calculate results + add them to dataframe\n",
    "        results = contingency_table.test_nominal_association()\n",
    "        df_results[n] = [results.pvalue]\n",
    "\n",
    "    df_results = df_results.transpose()\n",
    "    df_results = df_results.rename(\n",
    "        columns={\n",
    "            0: str(str(constellation[0][-10:-7]) + \"-\" + str(constellation[1][-10:-7]))\n",
    "        }\n",
    "    )\n",
    "    \"\"\"\n",
    "    # initialize path for backup save of dataframe\n",
    "    path = (\n",
    "        \"/home/jonas/Documents/GitHub/MasterThesis/results/nSameSlant_\"\n",
    "        + str(constellation[0][-10:-7])\n",
    "        + \"_\"\n",
    "        + str(constellation[1][-10:-7])\n",
    "        + \".csv\"\n",
    "    )\n",
    "\n",
    "    # save results to csv\n",
    "    df_results.to_csv(path)\n",
    "    \"\"\"\n",
    "    # concat all results to one big dataframe\n",
    "    df = pd.concat([df, df_results], axis=1)\n",
    "\n",
    "# save results to csv\n",
    "df.to_csv(\n",
    "    \"/home/jonas/Documents/GitHub/MasterThesis/results/nSameSlant_All.csv\", index=False\n",
    ")"
   ]
  },
  {
   "cell_type": "code",
   "execution_count": 11,
   "metadata": {},
   "outputs": [
    {
     "data": {
      "text/html": [
       "<div>\n",
       "<style scoped>\n",
       "    .dataframe tbody tr th:only-of-type {\n",
       "        vertical-align: middle;\n",
       "    }\n",
       "\n",
       "    .dataframe tbody tr th {\n",
       "        vertical-align: top;\n",
       "    }\n",
       "\n",
       "    .dataframe thead th {\n",
       "        text-align: right;\n",
       "    }\n",
       "</style>\n",
       "<table border=\"1\" class=\"dataframe\">\n",
       "  <thead>\n",
       "    <tr style=\"text-align: right;\">\n",
       "      <th></th>\n",
       "      <th>HFP-NYT</th>\n",
       "      <th>NYT-HFP</th>\n",
       "      <th>CNN-RET</th>\n",
       "      <th>RET-CNN</th>\n",
       "      <th>FXN-WSJ</th>\n",
       "      <th>WSJ-FXN</th>\n",
       "    </tr>\n",
       "  </thead>\n",
       "  <tbody>\n",
       "    <tr>\n",
       "      <th>0</th>\n",
       "      <td>NaN</td>\n",
       "      <td>NaN</td>\n",
       "      <td>NaN</td>\n",
       "      <td>NaN</td>\n",
       "      <td>NaN</td>\n",
       "      <td>NaN</td>\n",
       "    </tr>\n",
       "    <tr>\n",
       "      <th>1</th>\n",
       "      <td>0.573154</td>\n",
       "      <td>0.573154</td>\n",
       "      <td>4.850782e-01</td>\n",
       "      <td>4.850782e-01</td>\n",
       "      <td>0.934906</td>\n",
       "      <td>9.349057e-01</td>\n",
       "    </tr>\n",
       "    <tr>\n",
       "      <th>2</th>\n",
       "      <td>0.630095</td>\n",
       "      <td>0.630095</td>\n",
       "      <td>3.826018e-01</td>\n",
       "      <td>1.110223e-16</td>\n",
       "      <td>0.937965</td>\n",
       "      <td>1.048223e-03</td>\n",
       "    </tr>\n",
       "    <tr>\n",
       "      <th>3</th>\n",
       "      <td>0.694229</td>\n",
       "      <td>0.694229</td>\n",
       "      <td>3.320035e-01</td>\n",
       "      <td>4.440892e-16</td>\n",
       "      <td>0.986044</td>\n",
       "      <td>3.163078e-03</td>\n",
       "    </tr>\n",
       "    <tr>\n",
       "      <th>4</th>\n",
       "      <td>0.763736</td>\n",
       "      <td>0.763736</td>\n",
       "      <td>3.305130e-01</td>\n",
       "      <td>2.220446e-15</td>\n",
       "      <td>0.997067</td>\n",
       "      <td>7.631293e-03</td>\n",
       "    </tr>\n",
       "    <tr>\n",
       "      <th>5</th>\n",
       "      <td>0.826311</td>\n",
       "      <td>0.826311</td>\n",
       "      <td>3.501798e-01</td>\n",
       "      <td>9.769963e-15</td>\n",
       "      <td>0.999357</td>\n",
       "      <td>1.570725e-02</td>\n",
       "    </tr>\n",
       "    <tr>\n",
       "      <th>6</th>\n",
       "      <td>0.877784</td>\n",
       "      <td>0.877784</td>\n",
       "      <td>3.824194e-01</td>\n",
       "      <td>4.019007e-14</td>\n",
       "      <td>0.999866</td>\n",
       "      <td>2.899173e-02</td>\n",
       "    </tr>\n",
       "    <tr>\n",
       "      <th>7</th>\n",
       "      <td>0.842546</td>\n",
       "      <td>0.288280</td>\n",
       "      <td>2.271163e-01</td>\n",
       "      <td>1.445510e-13</td>\n",
       "      <td>0.999973</td>\n",
       "      <td>4.940053e-02</td>\n",
       "    </tr>\n",
       "    <tr>\n",
       "      <th>8</th>\n",
       "      <td>0.699306</td>\n",
       "      <td>0.053244</td>\n",
       "      <td>2.514631e-06</td>\n",
       "      <td>0.000000e+00</td>\n",
       "      <td>0.999578</td>\n",
       "      <td>6.728253e-02</td>\n",
       "    </tr>\n",
       "    <tr>\n",
       "      <th>9</th>\n",
       "      <td>0.718812</td>\n",
       "      <td>0.010498</td>\n",
       "      <td>2.616815e-06</td>\n",
       "      <td>0.000000e+00</td>\n",
       "      <td>0.999108</td>\n",
       "      <td>3.260135e-02</td>\n",
       "    </tr>\n",
       "    <tr>\n",
       "      <th>10</th>\n",
       "      <td>0.778879</td>\n",
       "      <td>0.015495</td>\n",
       "      <td>2.808968e-06</td>\n",
       "      <td>0.000000e+00</td>\n",
       "      <td>0.998840</td>\n",
       "      <td>1.800234e-02</td>\n",
       "    </tr>\n",
       "    <tr>\n",
       "      <th>11</th>\n",
       "      <td>0.786774</td>\n",
       "      <td>0.016674</td>\n",
       "      <td>3.098955e-06</td>\n",
       "      <td>0.000000e+00</td>\n",
       "      <td>0.998782</td>\n",
       "      <td>1.086329e-02</td>\n",
       "    </tr>\n",
       "    <tr>\n",
       "      <th>12</th>\n",
       "      <td>0.422150</td>\n",
       "      <td>0.024170</td>\n",
       "      <td>7.734437e-07</td>\n",
       "      <td>0.000000e+00</td>\n",
       "      <td>0.968997</td>\n",
       "      <td>1.527029e-07</td>\n",
       "    </tr>\n",
       "    <tr>\n",
       "      <th>13</th>\n",
       "      <td>0.454796</td>\n",
       "      <td>0.033045</td>\n",
       "      <td>6.374793e-07</td>\n",
       "      <td>0.000000e+00</td>\n",
       "      <td>0.969832</td>\n",
       "      <td>1.441549e-07</td>\n",
       "    </tr>\n",
       "    <tr>\n",
       "      <th>14</th>\n",
       "      <td>0.488934</td>\n",
       "      <td>0.043512</td>\n",
       "      <td>5.425868e-07</td>\n",
       "      <td>0.000000e+00</td>\n",
       "      <td>0.971465</td>\n",
       "      <td>1.410233e-07</td>\n",
       "    </tr>\n",
       "    <tr>\n",
       "      <th>15</th>\n",
       "      <td>0.524130</td>\n",
       "      <td>0.056337</td>\n",
       "      <td>4.770291e-07</td>\n",
       "      <td>0.000000e+00</td>\n",
       "      <td>0.972219</td>\n",
       "      <td>1.424078e-07</td>\n",
       "    </tr>\n",
       "    <tr>\n",
       "      <th>16</th>\n",
       "      <td>0.237212</td>\n",
       "      <td>0.077978</td>\n",
       "      <td>4.320055e-07</td>\n",
       "      <td>0.000000e+00</td>\n",
       "      <td>0.960116</td>\n",
       "      <td>5.020584e-10</td>\n",
       "    </tr>\n",
       "    <tr>\n",
       "      <th>17</th>\n",
       "      <td>0.097044</td>\n",
       "      <td>0.097044</td>\n",
       "      <td>4.429130e-08</td>\n",
       "      <td>0.000000e+00</td>\n",
       "      <td>0.949183</td>\n",
       "      <td>5.319284e-10</td>\n",
       "    </tr>\n",
       "    <tr>\n",
       "      <th>18</th>\n",
       "      <td>0.103607</td>\n",
       "      <td>0.103607</td>\n",
       "      <td>8.877694e-10</td>\n",
       "      <td>0.000000e+00</td>\n",
       "      <td>0.959411</td>\n",
       "      <td>4.755796e-10</td>\n",
       "    </tr>\n",
       "    <tr>\n",
       "      <th>19</th>\n",
       "      <td>0.068515</td>\n",
       "      <td>0.069115</td>\n",
       "      <td>0.000000e+00</td>\n",
       "      <td>0.000000e+00</td>\n",
       "      <td>0.967755</td>\n",
       "      <td>9.954634e-10</td>\n",
       "    </tr>\n",
       "    <tr>\n",
       "      <th>20</th>\n",
       "      <td>0.046059</td>\n",
       "      <td>0.046674</td>\n",
       "      <td>0.000000e+00</td>\n",
       "      <td>0.000000e+00</td>\n",
       "      <td>0.975850</td>\n",
       "      <td>2.031940e-09</td>\n",
       "    </tr>\n",
       "    <tr>\n",
       "      <th>21</th>\n",
       "      <td>0.054766</td>\n",
       "      <td>0.043701</td>\n",
       "      <td>0.000000e+00</td>\n",
       "      <td>0.000000e+00</td>\n",
       "      <td>0.768781</td>\n",
       "      <td>2.099066e-10</td>\n",
       "    </tr>\n",
       "    <tr>\n",
       "      <th>22</th>\n",
       "      <td>0.059541</td>\n",
       "      <td>0.041378</td>\n",
       "      <td>0.000000e+00</td>\n",
       "      <td>0.000000e+00</td>\n",
       "      <td>0.778201</td>\n",
       "      <td>2.345757e-11</td>\n",
       "    </tr>\n",
       "    <tr>\n",
       "      <th>23</th>\n",
       "      <td>0.052993</td>\n",
       "      <td>0.047647</td>\n",
       "      <td>0.000000e+00</td>\n",
       "      <td>0.000000e+00</td>\n",
       "      <td>0.790923</td>\n",
       "      <td>7.120415e-12</td>\n",
       "    </tr>\n",
       "    <tr>\n",
       "      <th>24</th>\n",
       "      <td>0.047753</td>\n",
       "      <td>0.058485</td>\n",
       "      <td>0.000000e+00</td>\n",
       "      <td>0.000000e+00</td>\n",
       "      <td>0.803137</td>\n",
       "      <td>1.594624e-11</td>\n",
       "    </tr>\n",
       "    <tr>\n",
       "      <th>25</th>\n",
       "      <td>0.062708</td>\n",
       "      <td>0.047960</td>\n",
       "      <td>0.000000e+00</td>\n",
       "      <td>0.000000e+00</td>\n",
       "      <td>0.837116</td>\n",
       "      <td>3.486866e-11</td>\n",
       "    </tr>\n",
       "    <tr>\n",
       "      <th>26</th>\n",
       "      <td>0.080816</td>\n",
       "      <td>0.039722</td>\n",
       "      <td>0.000000e+00</td>\n",
       "      <td>0.000000e+00</td>\n",
       "      <td>0.866614</td>\n",
       "      <td>1.035616e-12</td>\n",
       "    </tr>\n",
       "    <tr>\n",
       "      <th>27</th>\n",
       "      <td>0.102315</td>\n",
       "      <td>0.033227</td>\n",
       "      <td>0.000000e+00</td>\n",
       "      <td>0.000000e+00</td>\n",
       "      <td>0.874917</td>\n",
       "      <td>1.915579e-12</td>\n",
       "    </tr>\n",
       "    <tr>\n",
       "      <th>28</th>\n",
       "      <td>0.127362</td>\n",
       "      <td>0.028065</td>\n",
       "      <td>0.000000e+00</td>\n",
       "      <td>0.000000e+00</td>\n",
       "      <td>0.898726</td>\n",
       "      <td>3.497758e-12</td>\n",
       "    </tr>\n",
       "    <tr>\n",
       "      <th>29</th>\n",
       "      <td>0.091190</td>\n",
       "      <td>0.023933</td>\n",
       "      <td>0.000000e+00</td>\n",
       "      <td>0.000000e+00</td>\n",
       "      <td>0.918802</td>\n",
       "      <td>7.568834e-12</td>\n",
       "    </tr>\n",
       "    <tr>\n",
       "      <th>30</th>\n",
       "      <td>0.065491</td>\n",
       "      <td>0.009828</td>\n",
       "      <td>0.000000e+00</td>\n",
       "      <td>0.000000e+00</td>\n",
       "      <td>0.935524</td>\n",
       "      <td>8.659740e-14</td>\n",
       "    </tr>\n",
       "    <tr>\n",
       "      <th>31</th>\n",
       "      <td>0.045436</td>\n",
       "      <td>0.010092</td>\n",
       "      <td>0.000000e+00</td>\n",
       "      <td>0.000000e+00</td>\n",
       "      <td>0.939824</td>\n",
       "      <td>1.851852e-13</td>\n",
       "    </tr>\n",
       "    <tr>\n",
       "      <th>32</th>\n",
       "      <td>0.031593</td>\n",
       "      <td>0.010399</td>\n",
       "      <td>0.000000e+00</td>\n",
       "      <td>0.000000e+00</td>\n",
       "      <td>0.943925</td>\n",
       "      <td>3.891332e-13</td>\n",
       "    </tr>\n",
       "    <tr>\n",
       "      <th>33</th>\n",
       "      <td>0.022056</td>\n",
       "      <td>0.002255</td>\n",
       "      <td>0.000000e+00</td>\n",
       "      <td>0.000000e+00</td>\n",
       "      <td>0.947828</td>\n",
       "      <td>2.661205e-13</td>\n",
       "    </tr>\n",
       "    <tr>\n",
       "      <th>34</th>\n",
       "      <td>0.026552</td>\n",
       "      <td>0.003151</td>\n",
       "      <td>0.000000e+00</td>\n",
       "      <td>0.000000e+00</td>\n",
       "      <td>0.951535</td>\n",
       "      <td>1.116884e-13</td>\n",
       "    </tr>\n",
       "    <tr>\n",
       "      <th>35</th>\n",
       "      <td>0.024381</td>\n",
       "      <td>0.004342</td>\n",
       "      <td>0.000000e+00</td>\n",
       "      <td>0.000000e+00</td>\n",
       "      <td>0.955048</td>\n",
       "      <td>4.862777e-14</td>\n",
       "    </tr>\n",
       "    <tr>\n",
       "      <th>36</th>\n",
       "      <td>0.022534</td>\n",
       "      <td>0.005904</td>\n",
       "      <td>0.000000e+00</td>\n",
       "      <td>0.000000e+00</td>\n",
       "      <td>0.958372</td>\n",
       "      <td>9.248158e-14</td>\n",
       "    </tr>\n",
       "    <tr>\n",
       "      <th>37</th>\n",
       "      <td>0.028402</td>\n",
       "      <td>0.007925</td>\n",
       "      <td>0.000000e+00</td>\n",
       "      <td>0.000000e+00</td>\n",
       "      <td>0.961510</td>\n",
       "      <td>1.738609e-13</td>\n",
       "    </tr>\n",
       "    <tr>\n",
       "      <th>38</th>\n",
       "      <td>0.005409</td>\n",
       "      <td>0.009951</td>\n",
       "      <td>0.000000e+00</td>\n",
       "      <td>0.000000e+00</td>\n",
       "      <td>0.964466</td>\n",
       "      <td>3.230749e-13</td>\n",
       "    </tr>\n",
       "    <tr>\n",
       "      <th>39</th>\n",
       "      <td>0.000884</td>\n",
       "      <td>0.012946</td>\n",
       "      <td>0.000000e+00</td>\n",
       "      <td>0.000000e+00</td>\n",
       "      <td>0.967937</td>\n",
       "      <td>5.931922e-13</td>\n",
       "    </tr>\n",
       "  </tbody>\n",
       "</table>\n",
       "</div>"
      ],
      "text/plain": [
       "     HFP-NYT   NYT-HFP       CNN-RET       RET-CNN   FXN-WSJ       WSJ-FXN\n",
       "0        NaN       NaN           NaN           NaN       NaN           NaN\n",
       "1   0.573154  0.573154  4.850782e-01  4.850782e-01  0.934906  9.349057e-01\n",
       "2   0.630095  0.630095  3.826018e-01  1.110223e-16  0.937965  1.048223e-03\n",
       "3   0.694229  0.694229  3.320035e-01  4.440892e-16  0.986044  3.163078e-03\n",
       "4   0.763736  0.763736  3.305130e-01  2.220446e-15  0.997067  7.631293e-03\n",
       "5   0.826311  0.826311  3.501798e-01  9.769963e-15  0.999357  1.570725e-02\n",
       "6   0.877784  0.877784  3.824194e-01  4.019007e-14  0.999866  2.899173e-02\n",
       "7   0.842546  0.288280  2.271163e-01  1.445510e-13  0.999973  4.940053e-02\n",
       "8   0.699306  0.053244  2.514631e-06  0.000000e+00  0.999578  6.728253e-02\n",
       "9   0.718812  0.010498  2.616815e-06  0.000000e+00  0.999108  3.260135e-02\n",
       "10  0.778879  0.015495  2.808968e-06  0.000000e+00  0.998840  1.800234e-02\n",
       "11  0.786774  0.016674  3.098955e-06  0.000000e+00  0.998782  1.086329e-02\n",
       "12  0.422150  0.024170  7.734437e-07  0.000000e+00  0.968997  1.527029e-07\n",
       "13  0.454796  0.033045  6.374793e-07  0.000000e+00  0.969832  1.441549e-07\n",
       "14  0.488934  0.043512  5.425868e-07  0.000000e+00  0.971465  1.410233e-07\n",
       "15  0.524130  0.056337  4.770291e-07  0.000000e+00  0.972219  1.424078e-07\n",
       "16  0.237212  0.077978  4.320055e-07  0.000000e+00  0.960116  5.020584e-10\n",
       "17  0.097044  0.097044  4.429130e-08  0.000000e+00  0.949183  5.319284e-10\n",
       "18  0.103607  0.103607  8.877694e-10  0.000000e+00  0.959411  4.755796e-10\n",
       "19  0.068515  0.069115  0.000000e+00  0.000000e+00  0.967755  9.954634e-10\n",
       "20  0.046059  0.046674  0.000000e+00  0.000000e+00  0.975850  2.031940e-09\n",
       "21  0.054766  0.043701  0.000000e+00  0.000000e+00  0.768781  2.099066e-10\n",
       "22  0.059541  0.041378  0.000000e+00  0.000000e+00  0.778201  2.345757e-11\n",
       "23  0.052993  0.047647  0.000000e+00  0.000000e+00  0.790923  7.120415e-12\n",
       "24  0.047753  0.058485  0.000000e+00  0.000000e+00  0.803137  1.594624e-11\n",
       "25  0.062708  0.047960  0.000000e+00  0.000000e+00  0.837116  3.486866e-11\n",
       "26  0.080816  0.039722  0.000000e+00  0.000000e+00  0.866614  1.035616e-12\n",
       "27  0.102315  0.033227  0.000000e+00  0.000000e+00  0.874917  1.915579e-12\n",
       "28  0.127362  0.028065  0.000000e+00  0.000000e+00  0.898726  3.497758e-12\n",
       "29  0.091190  0.023933  0.000000e+00  0.000000e+00  0.918802  7.568834e-12\n",
       "30  0.065491  0.009828  0.000000e+00  0.000000e+00  0.935524  8.659740e-14\n",
       "31  0.045436  0.010092  0.000000e+00  0.000000e+00  0.939824  1.851852e-13\n",
       "32  0.031593  0.010399  0.000000e+00  0.000000e+00  0.943925  3.891332e-13\n",
       "33  0.022056  0.002255  0.000000e+00  0.000000e+00  0.947828  2.661205e-13\n",
       "34  0.026552  0.003151  0.000000e+00  0.000000e+00  0.951535  1.116884e-13\n",
       "35  0.024381  0.004342  0.000000e+00  0.000000e+00  0.955048  4.862777e-14\n",
       "36  0.022534  0.005904  0.000000e+00  0.000000e+00  0.958372  9.248158e-14\n",
       "37  0.028402  0.007925  0.000000e+00  0.000000e+00  0.961510  1.738609e-13\n",
       "38  0.005409  0.009951  0.000000e+00  0.000000e+00  0.964466  3.230749e-13\n",
       "39  0.000884  0.012946  0.000000e+00  0.000000e+00  0.967937  5.931922e-13"
      ]
     },
     "execution_count": 11,
     "metadata": {},
     "output_type": "execute_result"
    },
    {
     "data": {
      "application/javascript": [
       "\n",
       "            setTimeout(function() {\n",
       "                var nbb_cell_id = 11;\n",
       "                var nbb_unformatted_code = \"df = pd.read_csv(\\\"/home/jonas/Documents/GitHub/MasterThesis/results/nSameSlant_All.csv\\\")\\ndf\";\n",
       "                var nbb_formatted_code = \"df = pd.read_csv(\\\"/home/jonas/Documents/GitHub/MasterThesis/results/nSameSlant_All.csv\\\")\\ndf\";\n",
       "                var nbb_cells = Jupyter.notebook.get_cells();\n",
       "                for (var i = 0; i < nbb_cells.length; ++i) {\n",
       "                    if (nbb_cells[i].input_prompt_number == nbb_cell_id) {\n",
       "                        if (nbb_cells[i].get_text() == nbb_unformatted_code) {\n",
       "                             nbb_cells[i].set_text(nbb_formatted_code);\n",
       "                        }\n",
       "                        break;\n",
       "                    }\n",
       "                }\n",
       "            }, 500);\n",
       "            "
      ],
      "text/plain": [
       "<IPython.core.display.Javascript object>"
      ]
     },
     "metadata": {},
     "output_type": "display_data"
    }
   ],
   "source": [
    "df = pd.read_csv(\"/home/jonas/Documents/GitHub/MasterThesis/results/nSameSlant_All.csv\")\n",
    "df"
   ]
  },
  {
   "cell_type": "code",
   "execution_count": 12,
   "metadata": {},
   "outputs": [
    {
     "data": {
      "image/png": "[encoded data removed]",
      "text/plain": [
       "<Figure size 432x288 with 1 Axes>"
      ]
     },
     "metadata": {
      "needs_background": "light"
     },
     "output_type": "display_data"
    },
    {
     "data": {
      "text/plain": [
       "<Figure size 1440x720 with 0 Axes>"
      ]
     },
     "metadata": {},
     "output_type": "display_data"
    },
    {
     "data": {
      "application/javascript": [
       "\n",
       "            setTimeout(function() {\n",
       "                var nbb_cell_id = 12;\n",
       "                var nbb_unformatted_code = \"# Visualze\\n\\ndf.plot(kind=\\\"line\\\")\\n\\nplt.ylabel(\\\"p-value\\\")\\nplt.xlabel(\\\"n\\\")\\nplt.title(\\n    \\\"Behavior of p-values in relation to number of examined entities\\\\n within same slant groups\\\"\\n)\\nplt.legend()\\nplt.figure(figsize=(20, 10))\\nplt.show()\";\n",
       "                var nbb_formatted_code = \"# Visualze\\n\\ndf.plot(kind=\\\"line\\\")\\n\\nplt.ylabel(\\\"p-value\\\")\\nplt.xlabel(\\\"n\\\")\\nplt.title(\\n    \\\"Behavior of p-values in relation to number of examined entities\\\\n within same slant groups\\\"\\n)\\nplt.legend()\\nplt.figure(figsize=(20, 10))\\nplt.show()\";\n",
       "                var nbb_cells = Jupyter.notebook.get_cells();\n",
       "                for (var i = 0; i < nbb_cells.length; ++i) {\n",
       "                    if (nbb_cells[i].input_prompt_number == nbb_cell_id) {\n",
       "                        if (nbb_cells[i].get_text() == nbb_unformatted_code) {\n",
       "                             nbb_cells[i].set_text(nbb_formatted_code);\n",
       "                        }\n",
       "                        break;\n",
       "                    }\n",
       "                }\n",
       "            }, 500);\n",
       "            "
      ],
      "text/plain": [
       "<IPython.core.display.Javascript object>"
      ]
     },
     "metadata": {},
     "output_type": "display_data"
    }
   ],
   "source": [
    "# Visualze\n",
    "\n",
    "df.plot(kind=\"line\")\n",
    "\n",
    "plt.ylabel(\"p-value\")\n",
    "plt.xlabel(\"n\")\n",
    "plt.title(\n",
    "    \"Behavior of p-values in relation to number of examined entities\\n within same slant groups\"\n",
    ")\n",
    "plt.legend()\n",
    "plt.figure(figsize=(20, 10))\n",
    "plt.show()"
   ]
  },
  {
   "cell_type": "code",
   "execution_count": null,
   "metadata": {},
   "outputs": [
    {
     "name": "stderr",
     "output_type": "stream",
     "text": [
      "/home/jonas/anaconda3/lib/python3.7/site-packages/ipykernel_launcher.py:39: TqdmDeprecationWarning: Please use `tqdm.notebook.trange` instead of `tqdm.tnrange`\n",
      "/home/jonas/anaconda3/lib/python3.7/site-packages/ipykernel_launcher.py:39: TqdmDeprecationWarning: Please use `tqdm.notebook.trange` instead of `tqdm.tnrange`\n",
      "/home/jonas/anaconda3/lib/python3.7/site-packages/ipykernel_launcher.py:39: TqdmDeprecationWarning: Please use `tqdm.notebook.trange` instead of `tqdm.tnrange`\n",
      "/home/jonas/anaconda3/lib/python3.7/site-packages/ipykernel_launcher.py:39: TqdmDeprecationWarning: Please use `tqdm.notebook.trange` instead of `tqdm.tnrange`\n",
      "/home/jonas/anaconda3/lib/python3.7/site-packages/ipykernel_launcher.py:39: TqdmDeprecationWarning: Please use `tqdm.notebook.trange` instead of `tqdm.tnrange`\n",
      "/home/jonas/anaconda3/lib/python3.7/site-packages/ipykernel_launcher.py:39: TqdmDeprecationWarning: Please use `tqdm.notebook.trange` instead of `tqdm.tnrange`\n",
      "/home/jonas/anaconda3/lib/python3.7/site-packages/ipykernel_launcher.py:39: TqdmDeprecationWarning: Please use `tqdm.notebook.trange` instead of `tqdm.tnrange`\n",
      "/home/jonas/anaconda3/lib/python3.7/site-packages/ipykernel_launcher.py:39: TqdmDeprecationWarning: Please use `tqdm.notebook.trange` instead of `tqdm.tnrange`\n"
     ]
    },
    {
     "data": {
      "application/vnd.jupyter.widget-view+json": {
       "model_id": "21e31ca2724f4a888fed5e8b313f7cd9",
       "version_major": 2,
       "version_minor": 0
      },
      "text/plain": [
       "HBox(children=(FloatProgress(value=0.0, max=40.0), HTML(value='')))"
      ]
     },
     "metadata": {},
     "output_type": "display_data"
    },
    {
     "data": {
      "application/vnd.jupyter.widget-view+json": {
       "model_id": "ac8acc6911244bef8ccd5ae3cdae0c74",
       "version_major": 2,
       "version_minor": 0
      },
      "text/plain": [
       "HBox(children=(FloatProgress(value=0.0, max=40.0), HTML(value='')))"
      ]
     },
     "metadata": {},
     "output_type": "display_data"
    },
    {
     "data": {
      "application/vnd.jupyter.widget-view+json": {
       "model_id": "852b8ff66d01464ebecc04c7bfd27189",
       "version_major": 2,
       "version_minor": 0
      },
      "text/plain": [
       "HBox(children=(FloatProgress(value=0.0, max=40.0), HTML(value='')))"
      ]
     },
     "metadata": {},
     "output_type": "display_data"
    },
    {
     "data": {
      "application/vnd.jupyter.widget-view+json": {
       "model_id": "a1ae7d0024f34624940a4a05075a1e87",
       "version_major": 2,
       "version_minor": 0
      },
      "text/plain": [
       "HBox(children=(FloatProgress(value=0.0, max=40.0), HTML(value='')))"
      ]
     },
     "metadata": {},
     "output_type": "display_data"
    },
    {
     "data": {
      "application/vnd.jupyter.widget-view+json": {
       "model_id": "7339a20cdbeb4e029c8dd6af2a642052",
       "version_major": 2,
       "version_minor": 0
      },
      "text/plain": [
       "HBox(children=(FloatProgress(value=0.0, max=40.0), HTML(value='')))"
      ]
     },
     "metadata": {},
     "output_type": "display_data"
    },
    {
     "data": {
      "application/vnd.jupyter.widget-view+json": {
       "model_id": "4aea7b95c725459bbabc245ae993847e",
       "version_major": 2,
       "version_minor": 0
      },
      "text/plain": [
       "HBox(children=(FloatProgress(value=0.0, max=40.0), HTML(value='')))"
      ]
     },
     "metadata": {},
     "output_type": "display_data"
    },
    {
     "data": {
      "application/vnd.jupyter.widget-view+json": {
       "model_id": "29e77e159bbc4ae4aa5b833e16f1cd11",
       "version_major": 2,
       "version_minor": 0
      },
      "text/plain": [
       "HBox(children=(FloatProgress(value=0.0, max=40.0), HTML(value='')))"
      ]
     },
     "metadata": {},
     "output_type": "display_data"
    },
    {
     "data": {
      "application/vnd.jupyter.widget-view+json": {
       "model_id": "4179ded8d4a44ef5a262198d85d45d3c",
       "version_major": 2,
       "version_minor": 0
      },
      "text/plain": [
       "HBox(children=(FloatProgress(value=0.0, max=40.0), HTML(value='')))"
      ]
     },
     "metadata": {},
     "output_type": "display_data"
    },
    {
     "name": "stdout",
     "output_type": "stream",
     "text": [
      "\n"
     ]
    },
    {
     "data": {
      "application/vnd.jupyter.widget-view+json": {
       "model_id": "328e66b3df4e40c381ac20afcaedcd40",
       "version_major": 2,
       "version_minor": 0
      },
      "text/plain": [
       "HBox(children=(FloatProgress(value=0.0, max=40.0), HTML(value='')))"
      ]
     },
     "metadata": {},
     "output_type": "display_data"
    },
    {
     "name": "stdout",
     "output_type": "stream",
     "text": [
      "\n"
     ]
    },
    {
     "data": {
      "application/vnd.jupyter.widget-view+json": {
       "model_id": "8246ea6296114e4bbcc963d63616f187",
       "version_major": 2,
       "version_minor": 0
      },
      "text/plain": [
       "HBox(children=(FloatProgress(value=0.0, max=40.0), HTML(value='')))"
      ]
     },
     "metadata": {},
     "output_type": "display_data"
    },
    {
     "name": "stdout",
     "output_type": "stream",
     "text": [
      "\n"
     ]
    },
    {
     "data": {
      "application/vnd.jupyter.widget-view+json": {
       "model_id": "09ac7a593e4e470cbc3dc15c89a9e7a7",
       "version_major": 2,
       "version_minor": 0
      },
      "text/plain": [
       "HBox(children=(FloatProgress(value=0.0, max=40.0), HTML(value='')))"
      ]
     },
     "metadata": {},
     "output_type": "display_data"
    },
    {
     "name": "stdout",
     "output_type": "stream",
     "text": [
      "\n"
     ]
    },
    {
     "data": {
      "application/vnd.jupyter.widget-view+json": {
       "model_id": "e340fccc6f5e442b9caf00e2adc7ee01",
       "version_major": 2,
       "version_minor": 0
      },
      "text/plain": [
       "HBox(children=(FloatProgress(value=0.0, max=40.0), HTML(value='')))"
      ]
     },
     "metadata": {},
     "output_type": "display_data"
    },
    {
     "name": "stdout",
     "output_type": "stream",
     "text": [
      "\n"
     ]
    },
    {
     "data": {
      "application/vnd.jupyter.widget-view+json": {
       "model_id": "afed16e49f744d91b3551088d7607089",
       "version_major": 2,
       "version_minor": 0
      },
      "text/plain": [
       "HBox(children=(FloatProgress(value=0.0, max=40.0), HTML(value='')))"
      ]
     },
     "metadata": {},
     "output_type": "display_data"
    },
    {
     "name": "stdout",
     "output_type": "stream",
     "text": [
      "\n"
     ]
    },
    {
     "data": {
      "application/vnd.jupyter.widget-view+json": {
       "model_id": "1526268bbc5541c082583f28aa0422b2",
       "version_major": 2,
       "version_minor": 0
      },
      "text/plain": [
       "HBox(children=(FloatProgress(value=0.0, max=40.0), HTML(value='')))"
      ]
     },
     "metadata": {},
     "output_type": "display_data"
    },
    {
     "name": "stdout",
     "output_type": "stream",
     "text": [
      "\n"
     ]
    },
    {
     "data": {
      "application/vnd.jupyter.widget-view+json": {
       "model_id": "29b2f56cd6094f959ae121cea6422b4d",
       "version_major": 2,
       "version_minor": 0
      },
      "text/plain": [
       "HBox(children=(FloatProgress(value=0.0, max=40.0), HTML(value='')))"
      ]
     },
     "metadata": {},
     "output_type": "display_data"
    },
    {
     "name": "stdout",
     "output_type": "stream",
     "text": [
      "\n"
     ]
    },
    {
     "data": {
      "application/vnd.jupyter.widget-view+json": {
       "model_id": "67d14cd8ff654da4af64aec58fad79f8",
       "version_major": 2,
       "version_minor": 0
      },
      "text/plain": [
       "HBox(children=(FloatProgress(value=0.0, max=40.0), HTML(value='')))"
      ]
     },
     "metadata": {},
     "output_type": "display_data"
    },
    {
     "name": "stdout",
     "output_type": "stream",
     "text": [
      "\n"
     ]
    },
    {
     "data": {
      "application/vnd.jupyter.widget-view+json": {
       "model_id": "1d29ba473b48487f89228cc4b1c97ed7",
       "version_major": 2,
       "version_minor": 0
      },
      "text/plain": [
       "HBox(children=(FloatProgress(value=0.0, max=40.0), HTML(value='')))"
      ]
     },
     "metadata": {},
     "output_type": "display_data"
    },
    {
     "name": "stdout",
     "output_type": "stream",
     "text": [
      "\n"
     ]
    },
    {
     "data": {
      "application/vnd.jupyter.widget-view+json": {
       "model_id": "5763e7291ac8408c9e0be75aa1097bbb",
       "version_major": 2,
       "version_minor": 0
      },
      "text/plain": [
       "HBox(children=(FloatProgress(value=0.0, max=40.0), HTML(value='')))"
      ]
     },
     "metadata": {},
     "output_type": "display_data"
    },
    {
     "name": "stdout",
     "output_type": "stream",
     "text": [
      "\n"
     ]
    },
    {
     "data": {
      "application/vnd.jupyter.widget-view+json": {
       "model_id": "b5a29225db8545e284c9e4411b2a96ff",
       "version_major": 2,
       "version_minor": 0
      },
      "text/plain": [
       "HBox(children=(FloatProgress(value=0.0, max=40.0), HTML(value='')))"
      ]
     },
     "metadata": {},
     "output_type": "display_data"
    }
   ],
   "source": [
    "# estimate optimal n - within different slant groups\n",
    "models = [\n",
    "    [RELATION_MODELS[0], RELATION_MODELS[2]],\n",
    "    [RELATION_MODELS[0], RELATION_MODELS[3]],\n",
    "    [RELATION_MODELS[0], RELATION_MODELS[4]],\n",
    "    [RELATION_MODELS[0], RELATION_MODELS[5]],\n",
    "    [RELATION_MODELS[1], RELATION_MODELS[2]],\n",
    "    [RELATION_MODELS[1], RELATION_MODELS[3]],\n",
    "    [RELATION_MODELS[1], RELATION_MODELS[4]],\n",
    "    [RELATION_MODELS[1], RELATION_MODELS[5]],\n",
    "    [RELATION_MODELS[2], RELATION_MODELS[0]],\n",
    "    [RELATION_MODELS[2], RELATION_MODELS[1]],\n",
    "    [RELATION_MODELS[2], RELATION_MODELS[4]],\n",
    "    [RELATION_MODELS[2], RELATION_MODELS[5]],\n",
    "    [RELATION_MODELS[3], RELATION_MODELS[0]],\n",
    "    [RELATION_MODELS[3], RELATION_MODELS[1]],\n",
    "    [RELATION_MODELS[3], RELATION_MODELS[4]],\n",
    "    [RELATION_MODELS[3], RELATION_MODELS[5]],\n",
    "    [RELATION_MODELS[4], RELATION_MODELS[0]],\n",
    "    [RELATION_MODELS[4], RELATION_MODELS[1]],\n",
    "    [RELATION_MODELS[4], RELATION_MODELS[2]],\n",
    "    [RELATION_MODELS[4], RELATION_MODELS[3]],\n",
    "    [RELATION_MODELS[5], RELATION_MODELS[0]],\n",
    "    [RELATION_MODELS[5], RELATION_MODELS[1]],\n",
    "    [RELATION_MODELS[5], RELATION_MODELS[2]],\n",
    "    [RELATION_MODELS[5], RELATION_MODELS[3]],\n",
    "]\n",
    "\n",
    "# initialize dataframes and counter for column name\n",
    "df = pd.DataFrame()\n",
    "\n",
    "\n",
    "def looping_louie(models):\n",
    "    # loop through model constellation in models list\n",
    "    # for constellation in tqdm(models):\n",
    "    df_results = pd.DataFrame()\n",
    "\n",
    "    # loop through entity numbers until max entity is reached\n",
    "    for n in tnrange(1, NO_ENTITIES):\n",
    "\n",
    "        # create SQL query and build contingency table for sm.stats\n",
    "        contingency_table = build_contingency_table_from_single_topic(\n",
    "            RELATION_MODELS_PATH, models, TOPIC_OF_INTEREST, n\n",
    "        )\n",
    "        contingency_table = sm.stats.Table(contingency_table)\n",
    "        # calculate results + add them to dataframe\n",
    "        results = contingency_table.test_nominal_association()\n",
    "        df_results[n] = [results.pvalue]\n",
    "\n",
    "    df_results = df_results.transpose()\n",
    "    df_results = df_results.rename(\n",
    "        columns={\n",
    "            0: str(str(constellation[0][-10:-7]) + \"-\" + str(constellation[1][-10:-7]))\n",
    "        }\n",
    "    )\n",
    "    \"\"\"\n",
    "    # initialize path for backup save of dataframe\n",
    "    path = (\n",
    "        \"/home/jonas/Documents/GitHub/MasterThesis/results/nDiffSlant_\"\n",
    "        + str(constellation[0][-10:-7])\n",
    "        + \"_\"\n",
    "        + str(constellation[1][-10:-7])\n",
    "        + \".csv\"\n",
    "    )\n",
    "\n",
    "    # save results to csv\n",
    "    df_results.to_csv(path)\n",
    "    \"\"\"\n",
    "    return df_results\n",
    "\n",
    "\n",
    "# Init multiprocessing.Pool()\n",
    "pool = mp.Pool(mp.cpu_count())\n",
    "\n",
    "# concat the pool-parallelized dataframes from pathlist\n",
    "df = pd.concat(pool.map(looping_louie, [model for model in models]), axis=1)\n",
    "\n",
    "# don't forget to close\n",
    "pool.close()\n",
    "\n",
    "# concat all results to one big dataframe\n",
    "# df = pd.concat([df, df_results], axis=1)\n",
    "\n",
    "# save results to csv\n",
    "df.to_csv(\n",
    "    \"/home/jonas/Documents/GitHub/MasterThesis/results/nDiffSlant_All.csv\", index=False\n",
    ")\n",
    "df"
   ]
  },
  {
   "cell_type": "code",
   "execution_count": null,
   "metadata": {},
   "outputs": [],
   "source": [
    "df = pd.read_csv(\"/home/jonas/Documents/GitHub/MasterThesis/results/nDiffSlant_All.csv\")"
   ]
  },
  {
   "cell_type": "code",
   "execution_count": null,
   "metadata": {},
   "outputs": [],
   "source": [
    "# Visualze\n",
    "\n",
    "df.plot(kind=\"line\")\n",
    "\n",
    "plt.xlabel(\"n\")\n",
    "plt.ylabel(\"p-value\")\n",
    "plt.title(\n",
    "    \"Behavior of p-values in relation to number of examined entities \\nbetween different slant groups\"\n",
    ")\n",
    "plt.figure(figsize=(20, 10))\n",
    "plt.show()"
   ]
  },
  {
   "cell_type": "markdown",
   "metadata": {},
   "source": [
    "## Estimation of optimal number of \"topic_of_interest\"\n",
    "\n",
    "To estimate the optimal number of different reference-entities, I examine the behavior of the p-value witin and between different slant groups, under varying reference entities. The entities are derived from XXXX (XXXX) and represent controverse topics and non-controvers topics"
   ]
  },
  {
   "cell_type": "code",
   "execution_count": null,
   "metadata": {},
   "outputs": [],
   "source": [
    "# hyper-parameters\n",
    "# directory path of relation models\n",
    "RELATION_MODELS_PATH = \"/home/jonas/Documents/GitHub/MasterThesis/models/calibrationDataset\"\n",
    "\n",
    "# model names\n",
    "RELATION_MODELS = [\n",
    "    \"RM_2012_news_HFP.sqlite\",\n",
    "    \"RM_2012_news_NYT.sqlite\",\n",
    "    \"RM_2012_news_CNN.sqlite\",\n",
    "    \"RM_2012_news_RET.sqlite\",\n",
    "    \"RM_2012_news_FXN.sqlite\",\n",
    "    \"RM_2012_news_WSJ.sqlite\",\n",
    "]\n",
    "\n",
    "# path to results folder\n",
    "RESULTS_PATH = \"/home/jonas/Documents/GitHub/MasterThesis/results/\"\n",
    "\n",
    "# number of entities to compare with the reference entitiy\n",
    "NO_ENTITIES = 41 \n",
    "\n",
    "# reference entities \n",
    "TOPIC_OF_INTEREST_LIST = [\n",
    "    \"white_house\",\n",
    "    \"obama\",\n",
    "    \"bush\",\n",
    "    \"NRA\",\n",
    "    \"white_house\",\n",
    "    \"united_states\",\n",
    "    \n",
    "    \n",
    "    \"terrorism\",\n",
    "    \"health_care\",\n",
    "    \"insurance\",\n",
    "    \n",
    "]"
   ]
  },
  {
   "cell_type": "code",
   "execution_count": null,
   "metadata": {},
   "outputs": [],
   "source": [
    "# initialize dataframes and counter for column name\n",
    "df = pd.DataFrame()\n",
    "# NPR and NMX (center - conservative)\n",
    "constellation = [RELATION_MODELS[2], RELATION_MODELS[5]]\n",
    "\n",
    "# loop through topics in topic list\n",
    "for topic in tqdm(TOPIC_OF_INTEREST_LIST):\n",
    "    df_results = pd.DataFrame()\n",
    "\n",
    "    # create SQL query and build contingency table for sm.stats\n",
    "    contingency_table = build_contingency_table_from_single_topic(\n",
    "        RELATION_MODELS_PATH, constellation, topic, NO_ENTITIES\n",
    "    )\n",
    "    contingency_table = sm.stats.Table(contingency_table)\n",
    "    # calculate results + add them to dataframe\n",
    "    results = contingency_table.test_nominal_association()\n",
    "    df_results[n] = [results.pvalue]\n",
    "\n",
    "    df_results = df_results.transpose()\n",
    "    df_results = df_results.rename(columns={topic})\n",
    "\n",
    "    # concat all results to one big dataframe\n",
    "    df = pd.concat([df, df_results], axis=1)\n",
    "\n",
    "# save results to csv\n",
    "df.to_csv(\n",
    "    \"/home/jonas/Documents/GitHub/MasterThesis/results/diffTopic.csv\", index=False\n",
    ")\n",
    "df"
   ]
  },
  {
   "cell_type": "code",
   "execution_count": null,
   "metadata": {},
   "outputs": [],
   "source": [
    "df = pd.read_csv(\"/home/jonas/Documents/GitHub/MasterThesis/results/diffTopic.csv\")"
   ]
  },
  {
   "cell_type": "code",
   "execution_count": null,
   "metadata": {},
   "outputs": [],
   "source": [
    "# Visualze\n",
    "\n",
    "df.plot(kind=\"line\")\n",
    "\n",
    "plt.xlabel(\"n\")\n",
    "plt.ylabel(\"p-value\")\n",
    "plt.title(\n",
    "    \"Behavior of p-values in relation to the chosen reference entity\"\n",
    ")\n",
    "plt.figure(figsize=(20, 10))\n",
    "plt.show()"
   ]
  },
  {
   "cell_type": "markdown",
   "metadata": {},
   "source": [
    "# Hypothesis testing \n",
    "\n",
    "## Hypothesis 1\n",
    "\n",
    "1.1 Within same slant groups the co-occurring entities are independent from the\n",
    "    news-outlet\n",
    "\n",
    "1.2 Between different slant groups the co-occurring entities are dependent from\n",
    "    the news-outlet"
   ]
  },
  {
   "cell_type": "code",
   "execution_count": null,
   "metadata": {},
   "outputs": [],
   "source": [
    "# directory path of relation models\n",
    "RELATION_MODELS_PATH = \"/home/jonas/Documents/GitHub/MasterThesis/models/finalDataset\"\n",
    "\n",
    "# model names\n",
    "RELATION_MODELS = [\n",
    "    \"RM_2011_news_BBC.sqlite\",\n",
    "    \"RM_2011_news_BBT.sqlite\",\n",
    "    \"RM_2011_news_CNN.sqlite\",\n",
    "    \"RM_2011_news_CTB.sqlite\",\n",
    "    \"RM_2011_news_DKO.sqlite\",\n",
    "    \"RM_2011_news_FXN.sqlite\",\n",
    "    \"RM_2011_news_HFP.sqlite\",\n",
    "    \"RM_2011_news_LAT.sqlite\",\n",
    "    \"RM_2011_news_NBC.sqlite\",\n",
    "    \"RM_2011_news_NYT.sqlite\",\n",
    "    \"RM_2011_news_RET.sqlite\",\n",
    "    \"RM_2011_news_UST.sqlite\",\n",
    "    \"RM_2011_news_WPO.sqlite\",\n",
    "    \"RM_2011_news_WSJ.sqlite\",\n",
    "    \"RM_2011_news_YHN.sqlite\",\n",
    "]\n",
    "\n",
    "TOPIC_OF_INTEREST = \"\"\n",
    "\n",
    "NO_ENTITIES = "
   ]
  },
  {
   "cell_type": "code",
   "execution_count": null,
   "metadata": {},
   "outputs": [],
   "source": [
    "# compare everything with everything\n",
    "\n",
    "df = do_chi_squared_comparison(\n",
    "    RELATION_MODELS_PATH, RELATION_MODELS, TOPIC_OF_INTEREST, NO_ENTITIES\n",
    ")\n",
    "\n",
    "# save to csv\n",
    "df.to_csv(\"/home/jonas/Documents/GitHub/MasterThesis/results/hyp1.csv\")\n",
    "df"
   ]
  },
  {
   "cell_type": "markdown",
   "metadata": {},
   "source": [
    "## Hypothesis 2\n",
    "\n",
    "It is possible to cluster same slant news-outlets via their co-occurrences into same slant groups "
   ]
  },
  {
   "cell_type": "code",
   "execution_count": null,
   "metadata": {},
   "outputs": [],
   "source": []
  },
  {
   "cell_type": "code",
   "execution_count": null,
   "metadata": {},
   "outputs": [],
   "source": []
  },
  {
   "cell_type": "markdown",
   "metadata": {},
   "source": [
    "## Hypothesis 3\n",
    "\n",
    "A combination of residual analysis, sentiment analysis and co-occurrences can help to identify slant "
   ]
  },
  {
   "cell_type": "code",
   "execution_count": null,
   "metadata": {},
   "outputs": [],
   "source": []
  }
 ],
 "metadata": {
  "kernelspec": {
   "display_name": "Python 3",
   "language": "python",
   "name": "python3"
  },
  "language_info": {
   "codemirror_mode": {
    "name": "ipython",
    "version": 3
   },
   "file_extension": ".py",
   "mimetype": "text/x-python",
   "name": "python",
   "nbconvert_exporter": "python",
   "pygments_lexer": "ipython3",
   "version": "3.7.6"
  }
 },
 "nbformat": 4,
 "nbformat_minor": 4
}
