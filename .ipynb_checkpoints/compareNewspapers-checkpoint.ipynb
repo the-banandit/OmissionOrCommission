      "application/javascript": [
       "\n",
       "            setTimeout(function() {\n",
       "                var nbb_cell_id = 78;\n",
       "                var nbb_unformatted_code = \"def chi_squared(contingency_table):\\n    \\\"\\\"\\\"\\n    This function conducts a chi-squared test of independence between the different rows of a contingency table\\n    \\n    input: contingency_table\\n    \\n    ouput: None\\n    \\\"\\\"\\\"\\n    contingency_table = sm.stats.Table(contingency_table)\\n    results = contingency_table.test_nominal_association()\\n    \\n    \\\"\\\"\\\"\\n    # orig contingency table\\n    print(\\\"Original contingency table:\\\")\\n    print(contingency_table.table_orig)\\n    # expected values\\n    print(\\\"\\\\nExpected values:\\\")\\n    print(contingency_table.fittedvalues)\\n    # residual \\n    print(\\\"\\\\nChi-square contributions:\\\")\\n    print(contingency_table.chi2_contribs)\\n    print(\\\"\\\\nResults:\\\")\\n    \\\"\\\"\\\"\\n    print(results)\\n    \\n    \\n    results = contingency_table.test_ordinal_association()\\n    #print(\\\"\\\\nOrdinal test results:\\\")\\n    #print(results)\\n    \\n    return\";\n",
       "                var nbb_formatted_code = \"def chi_squared(contingency_table):\\n    \\\"\\\"\\\"\\n    This function conducts a chi-squared test of independence between the different rows of a contingency table\\n    \\n    input: contingency_table\\n    \\n    ouput: None\\n    \\\"\\\"\\\"\\n    contingency_table = sm.stats.Table(contingency_table)\\n    results = contingency_table.test_nominal_association()\\n\\n    \\\"\\\"\\\"\\n    # orig contingency table\\n    print(\\\"Original contingency table:\\\")\\n    print(contingency_table.table_orig)\\n    # expected values\\n    print(\\\"\\\\nExpected values:\\\")\\n    print(contingency_table.fittedvalues)\\n    # residual \\n    print(\\\"\\\\nChi-square contributions:\\\")\\n    print(contingency_table.chi2_contribs)\\n    print(\\\"\\\\nResults:\\\")\\n    \\\"\\\"\\\"\\n    print(results)\\n\\n    results = contingency_table.test_ordinal_association()\\n    # print(\\\"\\\\nOrdinal test results:\\\")\\n    # print(results)\\n\\n    return\";\n",
       "                var nbb_cells = Jupyter.notebook.get_cells();\n",
       "                for (var i = 0; i < nbb_cells.length; ++i) {\n",
       "                    if (nbb_cells[i].input_prompt_number == nbb_cell_id) {\n",
       "                        if (nbb_cells[i].get_text() == nbb_unformatted_code) {\n",
       "                             nbb_cells[i].set_text(nbb_formatted_code);\n",
       "                        }\n",
       "                        break;\n",
       "                    }\n",
       "                }\n",
       "            }, 500);\n",
       "            "
      ],
      "text/plain": [
       "<IPython.core.display.Javascript object>"
      ]
     },
     "metadata": {},
     "output_type": "display_data"
    }
   ],
   "source": [
    "def chi_squared(contingency_table):\n",
    "    \"\"\"\n",
    "    This function conducts a chi-squared test of independence between the different rows of a contingency table\n",
    "    \n",
    "    input: contingency_table\n",
    "    \n",
    "    ouput: None\n",
    "    \"\"\"\n",
    "    contingency_table = sm.stats.Table(contingency_table)\n",
    "    results = contingency_table.test_nominal_association()\n",
    "    \n",
    "    \"\"\"\n",
    "    # orig contingency table\n",
    "    print(\"Original contingency table:\")\n",
    "    print(contingency_table.table_orig)\n",
    "    # expected values\n",
    "    print(\"\\nExpected values:\")\n",
    "    print(contingency_table.fittedvalues)\n",
    "    # residual \n",
    "    print(\"\\nChi-square contributions:\")\n",
    "    print(contingency_table.chi2_contribs)\n",
    "    print(\"\\nResults:\")\n",
    "    \"\"\"\n",
    "    print(results)\n",
    "    \n",
    "    \n",
    "    results = contingency_table.test_ordinal_association()\n",
    "    #print(\"\\nOrdinal test results:\")\n",
    "    #print(results)\n",
    "    \n",
    "    return\n"
   ]
  },
  {
   "cell_type": "code",
   "execution_count": 79,
   "metadata": {},
   "outputs": [
    {
     "name": "stdout",
     "output_type": "stream",
     "text": [
      "df          8\n",
      "pvalue      1.1324274851176597e-14\n",
      "statistic   83.14424052352445\n"
     ]
    },
    {
     "data": {
      "application/javascript": [
       "\n",
       "            setTimeout(function() {\n",
       "                var nbb_cell_id = 79;\n",
       "                var nbb_unformatted_code = \"chi_squared(contingency_table)\";\n",
       "                var nbb_formatted_code = \"chi_squared(contingency_table)\";\n",
       "                var nbb_cells = Jupyter.notebook.get_cells();\n",
       "                for (var i = 0; i < nbb_cells.length; ++i) {\n",
       "                    if (nbb_cells[i].input_prompt_number == nbb_cell_id) {\n",
       "                        if (nbb_cells[i].get_text() == nbb_unformatted_code) {\n",
       "                             nbb_cells[i].set_text(nbb_formatted_code);\n",
       "                        }\n",
       "                        break;\n",
       "                    }\n",
       "                }\n",
       "            }, 500);\n",
       "            "
      ],
      "text/plain": [
       "<IPython.core.display.Javascript object>"
      ]
     },
     "metadata": {},
     "output_type": "display_data"
    }
   ],
   "source": [
    "chi_squared(contingency_table)"
   ]
  },
  {
   "cell_type": "code",
   "execution_count": 81,
   "metadata": {},
   "outputs": [
    {
     "name": "stdout",
     "output_type": "stream",
     "text": [
      "df          56\n",
      "pvalue      0.0\n",
      "statistic   594.3758628363591\n"
     ]
    },
    {
     "data": {
      "application/javascript": [
       "\n",
       "            setTimeout(function() {\n",
       "                var nbb_cell_id = 81;\n",
       "                var nbb_unformatted_code = \"chi_squared(contingency_table_from_list)\";\n",
       "                var nbb_formatted_code = \"chi_squared(contingency_table_from_list)\";\n",
       "                var nbb_cells = Jupyter.notebook.get_cells();\n",
       "                for (var i = 0; i < nbb_cells.length; ++i) {\n",
       "                    if (nbb_cells[i].input_prompt_number == nbb_cell_id) {\n",
       "                        if (nbb_cells[i].get_text() == nbb_unformatted_code) {\n",
       "                             nbb_cells[i].set_text(nbb_formatted_code);\n",
       "                        }\n",
       "                        break;\n",
       "                    }\n",
       "                }\n",
       "            }, 500);\n",
       "            "
      ],
      "text/plain": [
       "<IPython.core.display.Javascript object>"
      ]
     },
     "metadata": {},
     "output_type": "display_data"
    }
   ],
   "source": [
    "chi_squared(contingency_table_from_list)"
   ]
  },
  {
   "cell_type": "code",
   "execution_count": 34,
   "metadata": {},
   "outputs": [
    {
     "name": "stdout",
     "output_type": "stream",
     "text": [
      "                                         washington  u.s.\n",
      "RMadvanced_2008_politics_nytimes.sqlite         524   416\n",
      "RM_2008_politics_nytimes.sqlite                 489   411\n"
     ]
    },
    {
     "data": {
      "application/javascript": [
       "\n",
       "            setTimeout(function() {\n",
       "                var nbb_cell_id = 34;\n",
       "                var nbb_unformatted_code = \"print(contingency_table_test)\";\n",
       "                var nbb_formatted_code = \"print(contingency_table_test)\";\n",
       "                var nbb_cells = Jupyter.notebook.get_cells();\n",
       "                for (var i = 0; i < nbb_cells.length; ++i) {\n",
       "                    if (nbb_cells[i].input_prompt_number == nbb_cell_id) {\n",
       "                        if (nbb_cells[i].get_text() == nbb_unformatted_code) {\n",
       "                             nbb_cells[i].set_text(nbb_formatted_code);\n",
       "                        }\n",
       "                        break;\n",
       "                    }\n",
       "                }\n",
       "            }, 500);\n",
       "            "
      ],
      "text/plain": [
       "<IPython.core.display.Javascript object>"
      ]
     },
     "metadata": {},
     "output_type": "display_data"
    }
   ],
   "source": []
  },
  {
   "cell_type": "code",
   "execution_count": null,
   "metadata": {},
   "outputs": [],
   "source": []
  }
 ],
 "metadata": {
  "kernelspec": {
   "display_name": "Python 3",
   "language": "python",
   "name": "python3"
  },
  "language_info": {
   "codemirror_mode": {
    "name": "ipython",
    "version": 3
   },
   "file_extension": ".py",
   "mimetype": "text/x-python",
   "name": "python",
   "nbconvert_exporter": "python",
   "pygments_lexer": "ipython3",
   "version": "3.7.6"
  }
 },
 "nbformat": 4,
 "nbformat_minor": 4
}
