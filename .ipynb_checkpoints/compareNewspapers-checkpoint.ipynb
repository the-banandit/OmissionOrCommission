{
 "cells": [
  {
   "cell_type": "code",
   "execution_count": 1,
   "metadata": {},
   "outputs": [
    {
     "data": {
      "application/javascript": [
       "\n",
       "            setTimeout(function() {\n",
       "                var nbb_cell_id = 1;\n",
       "                var nbb_unformatted_code = \"# for pretty code\\n%load_ext nb_black\";\n",
       "                var nbb_formatted_code = \"# for pretty code\\n%load_ext nb_black\";\n",
       "                var nbb_cells = Jupyter.notebook.get_cells();\n",
       "                for (var i = 0; i < nbb_cells.length; ++i) {\n",
       "                    if (nbb_cells[i].input_prompt_number == nbb_cell_id) {\n",
       "                        if (nbb_cells[i].get_text() == nbb_unformatted_code) {\n",
       "                             nbb_cells[i].set_text(nbb_formatted_code);\n",
       "                        }\n",
       "                        break;\n",
       "                    }\n",
       "                }\n",
       "            }, 500);\n",
       "            "
      ],
      "text/plain": [
       "<IPython.core.display.Javascript object>"
      ]
     },
     "metadata": {},
     "output_type": "display_data"
    }
   ],
   "source": [
    "# for pretty code\n",
    "%load_ext nb_black"
   ]
  },
  {
   "cell_type": "markdown",
   "metadata": {},
   "source": [
    "# Imports and functions"
   ]
  },
  {
   "cell_type": "code",
   "execution_count": 2,
   "metadata": {},
   "outputs": [
    {
     "data": {
      "application/javascript": [
       "\n",
       "            setTimeout(function() {\n",
       "                var nbb_cell_id = 2;\n",
       "                var nbb_unformatted_code = \"# imports\\nimport numpy as np\\nimport pandas as pd\\nimport statsmodels.api as sm\\nimport multiprocessing as mp\\n\\nfrom newsrelations.query_db.relation_query import DBQueryHandlerCoocc\\nfrom newsrelations.helper_classes.synonym_handler import SynonymHandler\\nfrom newsrelations.metrics.distances import DistanceMeasure\";\n",
       "                var nbb_formatted_code = \"# imports\\nimport numpy as np\\nimport pandas as pd\\nimport statsmodels.api as sm\\nimport multiprocessing as mp\\n\\nfrom newsrelations.query_db.relation_query import DBQueryHandlerCoocc\\nfrom newsrelations.helper_classes.synonym_handler import SynonymHandler\\nfrom newsrelations.metrics.distances import DistanceMeasure\";\n",
       "                var nbb_cells = Jupyter.notebook.get_cells();\n",
       "                for (var i = 0; i < nbb_cells.length; ++i) {\n",
       "                    if (nbb_cells[i].input_prompt_number == nbb_cell_id) {\n",
       "                        if (nbb_cells[i].get_text() == nbb_unformatted_code) {\n",
       "                             nbb_cells[i].set_text(nbb_formatted_code);\n",
       "                        }\n",
       "                        break;\n",
       "                    }\n",
       "                }\n",
       "            }, 500);\n",
       "            "
      ],
      "text/plain": [
       "<IPython.core.display.Javascript object>"
      ]
     },
     "metadata": {},
     "output_type": "display_data"
    }
   ],
   "source": [
    "# imports\n",
    "import numpy as np\n",
    "import pandas as pd\n",
    "import statsmodels.api as sm\n",
    "import multiprocessing as mp\n",
    "\n",
    "from newsrelations.query_db.relation_query import DBQueryHandlerCoocc\n",
    "from newsrelations.helper_classes.synonym_handler import SynonymHandler\n",
    "from newsrelations.metrics.distances import DistanceMeasure"
   ]
  },
  {
   "cell_type": "code",
   "execution_count": 117,
   "metadata": {},
   "outputs": [
    {
     "data": {
      "application/javascript": [
       "\n",
       "            setTimeout(function() {\n",
       "                var nbb_cell_id = 117;\n",
       "                var nbb_unformatted_code = \"def build_contingency_table_from_single_topic(\\n    relation_models_path, relation_models, topic_of_interest, no_entities=10\\n):\\n    \\\"\\\"\\\"\\n    This function builds a contingency table from a input list of relation models generated with relation_miner.py \\n    in regards to predetermined topic [TOPIC_OF_INTEREST].\\n    The first model in [RELATION_MODELS] is the reference model all other models will be compared with.\\n    The function extracts the top [NO_ENTITIES] co_occuring entities from the model and builds a contingency table.\\n    \\n    input:  relation_models = list\\n            relation_models_path = str \\n            topic_of_interest = str           \\n            no_entities = int (standard 10)\\n            \\n    output: contingency_table = pandas DataFrame [rows = different models, columns = entities]\\n    \\\"\\\"\\\"\\n    E1_SYNSET = 0\\n    E2_SYNSET = 1\\n\\n    # initialize DistanceMeasure with reference-model\\n    dm = DistanceMeasure(relation_models_path, str(relation_models[0]))\\n\\n    # extract top NO_ENTITIES entities\\n    top = dm.get_top_co_occurrences(\\n        topic_of_interest,\\n        cutoff=no_entities,\\n        e1_is_synset=E1_SYNSET,\\n        e2_is_synset=E2_SYNSET,\\n    )\\n    # write first row of contingency_table\\n    contingency_table = pd.DataFrame(\\n        np.array([t[1] for t in top]),\\n        index=[t[0] for t in top],\\n        columns=[str(relation_models[0])],\\n    )\\n\\n    # loop through all remaining models\\n    for model in relation_models[1:]:\\n        # initialize db_handler()\\n        db_handler = DBQueryHandlerCoocc(relation_models_path, model)\\n\\n        # buffer for cooccurrences\\n        co_occs = []\\n        # loop through all entities and get number of co-occurrences\\n        for row in contingency_table.index:\\n            co_occs.append(\\n                len(\\n                    list(\\n                        db_handler.select_relations(\\n                            e1=topic_of_interest.lower(),\\n                            e2=row.lower(),\\n                            e1_is_synset=E1_SYNSET,\\n                            e2_is_synset=E2_SYNSET,\\n                        )\\n                    )\\n                )\\n            )\\n\\n        contingency_table[str(model)] = co_occs\\n\\n    # transpose the contingency table to get it into the right format\\n    contingency_table = contingency_table.transpose()\\n    return contingency_table\";\n",
       "                var nbb_formatted_code = \"def build_contingency_table_from_single_topic(\\n    relation_models_path, relation_models, topic_of_interest, no_entities=10\\n):\\n    \\\"\\\"\\\"\\n    This function builds a contingency table from a input list of relation models generated with relation_miner.py \\n    in regards to predetermined topic [TOPIC_OF_INTEREST].\\n    The first model in [RELATION_MODELS] is the reference model all other models will be compared with.\\n    The function extracts the top [NO_ENTITIES] co_occuring entities from the model and builds a contingency table.\\n    \\n    input:  relation_models = list\\n            relation_models_path = str \\n            topic_of_interest = str           \\n            no_entities = int (standard 10)\\n            \\n    output: contingency_table = pandas DataFrame [rows = different models, columns = entities]\\n    \\\"\\\"\\\"\\n    E1_SYNSET = 0\\n    E2_SYNSET = 1\\n\\n    # initialize DistanceMeasure with reference-model\\n    dm = DistanceMeasure(relation_models_path, str(relation_models[0]))\\n\\n    # extract top NO_ENTITIES entities\\n    top = dm.get_top_co_occurrences(\\n        topic_of_interest,\\n        cutoff=no_entities,\\n        e1_is_synset=E1_SYNSET,\\n        e2_is_synset=E2_SYNSET,\\n    )\\n    # write first row of contingency_table\\n    contingency_table = pd.DataFrame(\\n        np.array([t[1] for t in top]),\\n        index=[t[0] for t in top],\\n        columns=[str(relation_models[0])],\\n    )\\n\\n    # loop through all remaining models\\n    for model in relation_models[1:]:\\n        # initialize db_handler()\\n        db_handler = DBQueryHandlerCoocc(relation_models_path, model)\\n\\n        # buffer for cooccurrences\\n        co_occs = []\\n        # loop through all entities and get number of co-occurrences\\n        for row in contingency_table.index:\\n            co_occs.append(\\n                len(\\n                    list(\\n                        db_handler.select_relations(\\n                            e1=topic_of_interest.lower(),\\n                            e2=row.lower(),\\n                            e1_is_synset=E1_SYNSET,\\n                            e2_is_synset=E2_SYNSET,\\n                        )\\n                    )\\n                )\\n            )\\n\\n        contingency_table[str(model)] = co_occs\\n\\n    # transpose the contingency table to get it into the right format\\n    contingency_table = contingency_table.transpose()\\n    return contingency_table\";\n",
       "                var nbb_cells = Jupyter.notebook.get_cells();\n",
       "                for (var i = 0; i < nbb_cells.length; ++i) {\n",
       "                    if (nbb_cells[i].input_prompt_number == nbb_cell_id) {\n",
       "                        if (nbb_cells[i].get_text() == nbb_unformatted_code) {\n",
       "                             nbb_cells[i].set_text(nbb_formatted_code);\n",
       "                        }\n",
       "                        break;\n",
       "                    }\n",
       "                }\n",
       "            }, 500);\n",
       "            "
      ],
      "text/plain": [
       "<IPython.core.display.Javascript object>"
      ]
     },
     "metadata": {},
     "output_type": "display_data"
    }
   ],
   "source": [
    "def build_contingency_table_from_single_topic(\n",
    "    relation_models_path, relation_models, topic_of_interest, no_entities=10\n",
    "):\n",
    "    \"\"\"\n",
    "    This function builds a contingency table from a input list of relation models generated with relation_miner.py \n",
    "    in regards to predetermined topic [TOPIC_OF_INTEREST].\n",
    "    The first model in [RELATION_MODELS] is the reference model all other models will be compared with.\n",
    "    The function extracts the top [NO_ENTITIES] co_occuring entities from the model and builds a contingency table.\n",
    "    \n",
    "    input:  relation_models = list\n",
    "            relation_models_path = str \n",
    "            topic_of_interest = str           \n",
    "            no_entities = int (standard 10)\n",
    "            \n",
    "    output: contingency_table = pandas DataFrame [rows = different models, columns = entities]\n",
    "    \"\"\"\n",
    "    E1_SYNSET = 0\n",
    "    E2_SYNSET = 1\n",
    "\n",
    "    # initialize DistanceMeasure with reference-model\n",
    "    dm = DistanceMeasure(relation_models_path, str(relation_models[0]))\n",
    "\n",
    "    # extract top NO_ENTITIES entities\n",
    "    top = dm.get_top_co_occurrences(\n",
    "        topic_of_interest,\n",
    "        cutoff=no_entities,\n",
    "        e1_is_synset=E1_SYNSET,\n",
    "        e2_is_synset=E2_SYNSET,\n",
    "    )\n",
    "    # write first row of contingency_table\n",
    "    contingency_table = pd.DataFrame(\n",
    "        np.array([t[1] for t in top]),\n",
    "        index=[t[0] for t in top],\n",
    "        columns=[str(relation_models[0])],\n",
    "    )\n",
    "\n",
    "    # loop through all remaining models\n",
    "    for model in relation_models[1:]:\n",
    "        # initialize db_handler()\n",
    "        db_handler = DBQueryHandlerCoocc(relation_models_path, model)\n",
    "\n",
    "        # buffer for cooccurrences\n",
    "        co_occs = []\n",
    "        # loop through all entities and get number of co-occurrences\n",
    "        for row in contingency_table.index:\n",
    "            co_occs.append(\n",
    "                len(\n",
    "                    list(\n",
    "                        db_handler.select_relations(\n",
    "                            e1=topic_of_interest.lower(),\n",
    "                            e2=row.lower(),\n",
    "                            e1_is_synset=E1_SYNSET,\n",
    "                            e2_is_synset=E2_SYNSET,\n",
    "                        )\n",
    "                    )\n",
    "                )\n",
    "            )\n",
    "\n",
    "        contingency_table[str(model)] = co_occs\n",
    "\n",
    "    # transpose the contingency table to get it into the right format\n",
    "    contingency_table = contingency_table.transpose()\n",
    "    return contingency_table"
   ]
  },
  {
   "cell_type": "code",
   "execution_count": 4,
   "metadata": {},
   "outputs": [
    {
     "data": {
      "application/javascript": [
       "\n",
       "            setTimeout(function() {\n",
       "                var nbb_cell_id = 4;\n",
       "                var nbb_unformatted_code = \"def explain_models(relation_models):\\n    \\\"\\\"\\\"\\n    This function lists the models from the relation_models list and their counter index\\n    \\n    Input: relation_models = list\\n    \\n    Output: None\\n    \\\"\\\"\\\"\\n    i = 0\\n    for model in relation_models:\\n        print(\\\"model(\\\" + str(i) + \\\"): \\\" + str(model))\\n        i += 1\\n    return\";\n",
       "                var nbb_formatted_code = \"def explain_models(relation_models):\\n    \\\"\\\"\\\"\\n    This function lists the models from the relation_models list and their counter index\\n    \\n    Input: relation_models = list\\n    \\n    Output: None\\n    \\\"\\\"\\\"\\n    i = 0\\n    for model in relation_models:\\n        print(\\\"model(\\\" + str(i) + \\\"): \\\" + str(model))\\n        i += 1\\n    return\";\n",
       "                var nbb_cells = Jupyter.notebook.get_cells();\n",
       "                for (var i = 0; i < nbb_cells.length; ++i) {\n",
       "                    if (nbb_cells[i].input_prompt_number == nbb_cell_id) {\n",
       "                        if (nbb_cells[i].get_text() == nbb_unformatted_code) {\n",
       "                             nbb_cells[i].set_text(nbb_formatted_code);\n",
       "                        }\n",
       "                        break;\n",
       "                    }\n",
       "                }\n",
       "            }, 500);\n",
       "            "
      ],
      "text/plain": [
       "<IPython.core.display.Javascript object>"
      ]
     },
     "metadata": {},
     "output_type": "display_data"
    }
   ],
   "source": [
    "def explain_models(relation_models):\n",
    "    \"\"\"\n",
    "    This function lists the models from the relation_models list and their counter index\n",
    "    \n",
    "    Input: relation_models = list\n",
    "    \n",
    "    Output: None\n",
    "    \"\"\"\n",
    "    i = 0\n",
    "    for model in relation_models:\n",
    "        print(\"model(\" + str(i) + \"): \" + str(model))\n",
    "        i += 1\n",
    "    return"
   ]
  },
  {
   "cell_type": "code",
   "execution_count": 5,
   "metadata": {},
   "outputs": [
    {
     "data": {
      "application/javascript": [
       "\n",
       "            setTimeout(function() {\n",
       "                var nbb_cell_id = 5;\n",
       "                var nbb_unformatted_code = \"def build_contingency_table_from_topic_list(\\n    relation_models_path, relation_models, topic_of_interest_list, no_entities=10\\n):\\n    \\\"\\\"\\\"\\n    This function builds a contingency table from a input list of relation models generated with relation_miner.py \\n    in regards to predetermined topic list [topic_of_interest_list].\\n    The first model in [relation_models] is the reference model all other models will be compared with.\\n    The function extracts the top [no_entities] co-occuring entities for the first [topic_of_interest] from the \\n    model and builds a contingency table.\\n    \\n    \\n    input:  relation_models = list\\n            relation_models_path = str \\n            topic_of_interest_list = list           \\n            no_entities = int (standard 10)\\n            \\n    output: contingency_table = pandas DataFrame [rows = different models, columns = entities]\\n    \\\"\\\"\\\"\\n    # identifier for models in relation_models_list\\n    i = 0\\n    # print models with idx\\n    explain_models(relation_models)\\n\\n    # initialize DistanceMeasure with reference-model\\n    dm = DistanceMeasure(relation_models_path, str(relation_models[0]))\\n\\n    # extract top NO_ENTITIES entities\\n    top = dm.get_top_co_occurrences(\\n        topic_of_interest_list[0], cutoff=no_entities, e1_is_synset=0, e2_is_synset=0\\n    )\\n    # write first row of contingency_table\\n    contingency_table = pd.DataFrame(\\n        np.array([t[1] for t in top]),\\n        index=[t[0] for t in top],\\n        columns=[str(topic_of_interest_list[0]) + \\\" (\\\" + str(i) + \\\")\\\"],\\n    )\\n\\n    # loop through the models\\n    for model in relation_models[:]:\\n        # initialize db_handler()\\n        db_handler = DBQueryHandlerCoocc(relation_models_path, model)\\n\\n        for topic in topic_of_interest_list:\\n            # buffer for co-occurrencces\\n            co_occs = []\\n\\n            # loop through all all entities and get number of co-occurrences\\n            for row in contingency_table.index:\\n                co_occs.append(\\n                    len(\\n                        list(\\n                            db_handler.select_relations(\\n                                e1=topic.lower(),\\n                                e2=row.lower(),\\n                                e1_is_synset=0,\\n                                e2_is_synset=0,\\n                            )\\n                        )\\n                    )\\n                )\\n            contingency_table[str(topic) + \\\" (\\\" + str(i) + \\\")\\\"] = co_occs\\n\\n        i += 1\\n\\n    # transpose the contingency table to get it into the right format\\n    contingency_table = contingency_table.transpose()\\n\\n    return contingency_table\";\n",
       "                var nbb_formatted_code = \"def build_contingency_table_from_topic_list(\\n    relation_models_path, relation_models, topic_of_interest_list, no_entities=10\\n):\\n    \\\"\\\"\\\"\\n    This function builds a contingency table from a input list of relation models generated with relation_miner.py \\n    in regards to predetermined topic list [topic_of_interest_list].\\n    The first model in [relation_models] is the reference model all other models will be compared with.\\n    The function extracts the top [no_entities] co-occuring entities for the first [topic_of_interest] from the \\n    model and builds a contingency table.\\n    \\n    \\n    input:  relation_models = list\\n            relation_models_path = str \\n            topic_of_interest_list = list           \\n            no_entities = int (standard 10)\\n            \\n    output: contingency_table = pandas DataFrame [rows = different models, columns = entities]\\n    \\\"\\\"\\\"\\n    # identifier for models in relation_models_list\\n    i = 0\\n    # print models with idx\\n    explain_models(relation_models)\\n\\n    # initialize DistanceMeasure with reference-model\\n    dm = DistanceMeasure(relation_models_path, str(relation_models[0]))\\n\\n    # extract top NO_ENTITIES entities\\n    top = dm.get_top_co_occurrences(\\n        topic_of_interest_list[0], cutoff=no_entities, e1_is_synset=0, e2_is_synset=0\\n    )\\n    # write first row of contingency_table\\n    contingency_table = pd.DataFrame(\\n        np.array([t[1] for t in top]),\\n        index=[t[0] for t in top],\\n        columns=[str(topic_of_interest_list[0]) + \\\" (\\\" + str(i) + \\\")\\\"],\\n    )\\n\\n    # loop through the models\\n    for model in relation_models[:]:\\n        # initialize db_handler()\\n        db_handler = DBQueryHandlerCoocc(relation_models_path, model)\\n\\n        for topic in topic_of_interest_list:\\n            # buffer for co-occurrencces\\n            co_occs = []\\n\\n            # loop through all all entities and get number of co-occurrences\\n            for row in contingency_table.index:\\n                co_occs.append(\\n                    len(\\n                        list(\\n                            db_handler.select_relations(\\n                                e1=topic.lower(),\\n                                e2=row.lower(),\\n                                e1_is_synset=0,\\n                                e2_is_synset=0,\\n                            )\\n                        )\\n                    )\\n                )\\n            contingency_table[str(topic) + \\\" (\\\" + str(i) + \\\")\\\"] = co_occs\\n\\n        i += 1\\n\\n    # transpose the contingency table to get it into the right format\\n    contingency_table = contingency_table.transpose()\\n\\n    return contingency_table\";\n",
       "                var nbb_cells = Jupyter.notebook.get_cells();\n",
       "                for (var i = 0; i < nbb_cells.length; ++i) {\n",
       "                    if (nbb_cells[i].input_prompt_number == nbb_cell_id) {\n",
       "                        if (nbb_cells[i].get_text() == nbb_unformatted_code) {\n",
       "                             nbb_cells[i].set_text(nbb_formatted_code);\n",
       "                        }\n",
       "                        break;\n",
       "                    }\n",
       "                }\n",
       "            }, 500);\n",
       "            "
      ],
      "text/plain": [
       "<IPython.core.display.Javascript object>"
      ]
     },
     "metadata": {},
     "output_type": "display_data"
    }
   ],
   "source": [
    "def build_contingency_table_from_topic_list(\n",
    "    relation_models_path, relation_models, topic_of_interest_list, no_entities=10\n",
    "):\n",
    "    \"\"\"\n",
    "    This function builds a contingency table from a input list of relation models generated with relation_miner.py \n",
    "    in regards to predetermined topic list [topic_of_interest_list].\n",
    "    The first model in [relation_models] is the reference model all other models will be compared with.\n",
    "    The function extracts the top [no_entities] co-occuring entities for the first [topic_of_interest] from the \n",
    "    model and builds a contingency table.\n",
    "    \n",
    "    \n",
    "    input:  relation_models = list\n",
    "            relation_models_path = str \n",
    "            topic_of_interest_list = list           \n",
    "            no_entities = int (standard 10)\n",
    "            \n",
    "    output: contingency_table = pandas DataFrame [rows = different models, columns = entities]\n",
    "    \"\"\"\n",
    "    # identifier for models in relation_models_list\n",
    "    i = 0\n",
    "    # print models with idx\n",
    "    explain_models(relation_models)\n",
    "\n",
    "    # initialize DistanceMeasure with reference-model\n",
    "    dm = DistanceMeasure(relation_models_path, str(relation_models[0]))\n",
    "\n",
    "    # extract top NO_ENTITIES entities\n",
    "    top = dm.get_top_co_occurrences(\n",
    "        topic_of_interest_list[0], cutoff=no_entities, e1_is_synset=0, e2_is_synset=0\n",
    "    )\n",
    "    # write first row of contingency_table\n",
    "    contingency_table = pd.DataFrame(\n",
    "        np.array([t[1] for t in top]),\n",
    "        index=[t[0] for t in top],\n",
    "        columns=[str(topic_of_interest_list[0]) + \" (\" + str(i) + \")\"],\n",
    "    )\n",
    "\n",
    "    # loop through the models\n",
    "    for model in relation_models[:]:\n",
    "        # initialize db_handler()\n",
    "        db_handler = DBQueryHandlerCoocc(relation_models_path, model)\n",
    "\n",
    "        for topic in topic_of_interest_list:\n",
    "            # buffer for co-occurrencces\n",
    "            co_occs = []\n",
    "\n",
    "            # loop through all all entities and get number of co-occurrences\n",
    "            for row in contingency_table.index:\n",
    "                co_occs.append(\n",
    "                    len(\n",
    "                        list(\n",
    "                            db_handler.select_relations(\n",
    "                                e1=topic.lower(),\n",
    "                                e2=row.lower(),\n",
    "                                e1_is_synset=0,\n",
    "                                e2_is_synset=0,\n",
    "                            )\n",
    "                        )\n",
    "                    )\n",
    "                )\n",
    "            contingency_table[str(topic) + \" (\" + str(i) + \")\"] = co_occs\n",
    "\n",
    "        i += 1\n",
    "\n",
    "    # transpose the contingency table to get it into the right format\n",
    "    contingency_table = contingency_table.transpose()\n",
    "\n",
    "    return contingency_table"
   ]
  },
  {
   "cell_type": "code",
   "execution_count": 6,
   "metadata": {},
   "outputs": [
    {
     "data": {
      "application/javascript": [
       "\n",
       "            setTimeout(function() {\n",
       "                var nbb_cell_id = 6;\n",
       "                var nbb_unformatted_code = \"def compare_entity_lists(\\n    relation_models_path, relation_models, topic_list1, topic_list2\\n):\\n    \\\"\\\"\\\"\\n    This function creates a contingency table from a two input lists of entities [topic_list1][topic_list2]\\n    from a list of relation models \\n    \\n    input:  relation_models = list\\n            relation_models_path = str \\n            topic_list1 = list           \\n            topic_list2 = list\\n            \\n    output: contingency_table = pandas DataFrame [rows = different models, columns = entities]\\n    \\\"\\\"\\\"\\n    # idx for models\\n    i = 0\\n\\n    # print models with idx\\n    explain_models(relation_models)\\n\\n    # initialize contingency_table\\n    contingency_table = pd.DataFrame(index=topic_list2)\\n\\n    # loop through the models\\n    for model in relation_models:\\n        # initialize db_handler()\\n        db_handler = DBQueryHandlerCoocc(relation_models_path, model)\\n\\n        for topic1 in topic_list1:\\n            # buffer for co-occurrencces\\n            co_occs = []\\n\\n            # loop through all all entities and get number of co-occurrences\\n            for topic2 in topic_list2:\\n                co_occs.append(\\n                    len(\\n                        list(\\n                            db_handler.select_relations(\\n                                e1=topic1.lower(),\\n                                e2=topic2.lower(),\\n                                e1_is_synset=0,\\n                                e2_is_synset=0,\\n                            )\\n                        )\\n                    )\\n                )\\n            contingency_table[str(topic1) + \\\" (\\\" + str(i) + \\\")\\\"] = co_occs\\n\\n        i += 1\\n\\n    # transpose the contingency table to get it into the right format\\n    contingency_table = contingency_table.transpose()\\n\\n    return contingency_table\";\n",
       "                var nbb_formatted_code = \"def compare_entity_lists(\\n    relation_models_path, relation_models, topic_list1, topic_list2\\n):\\n    \\\"\\\"\\\"\\n    This function creates a contingency table from a two input lists of entities [topic_list1][topic_list2]\\n    from a list of relation models \\n    \\n    input:  relation_models = list\\n            relation_models_path = str \\n            topic_list1 = list           \\n            topic_list2 = list\\n            \\n    output: contingency_table = pandas DataFrame [rows = different models, columns = entities]\\n    \\\"\\\"\\\"\\n    # idx for models\\n    i = 0\\n\\n    # print models with idx\\n    explain_models(relation_models)\\n\\n    # initialize contingency_table\\n    contingency_table = pd.DataFrame(index=topic_list2)\\n\\n    # loop through the models\\n    for model in relation_models:\\n        # initialize db_handler()\\n        db_handler = DBQueryHandlerCoocc(relation_models_path, model)\\n\\n        for topic1 in topic_list1:\\n            # buffer for co-occurrencces\\n            co_occs = []\\n\\n            # loop through all all entities and get number of co-occurrences\\n            for topic2 in topic_list2:\\n                co_occs.append(\\n                    len(\\n                        list(\\n                            db_handler.select_relations(\\n                                e1=topic1.lower(),\\n                                e2=topic2.lower(),\\n                                e1_is_synset=0,\\n                                e2_is_synset=0,\\n                            )\\n                        )\\n                    )\\n                )\\n            contingency_table[str(topic1) + \\\" (\\\" + str(i) + \\\")\\\"] = co_occs\\n\\n        i += 1\\n\\n    # transpose the contingency table to get it into the right format\\n    contingency_table = contingency_table.transpose()\\n\\n    return contingency_table\";\n",
       "                var nbb_cells = Jupyter.notebook.get_cells();\n",
       "                for (var i = 0; i < nbb_cells.length; ++i) {\n",
       "                    if (nbb_cells[i].input_prompt_number == nbb_cell_id) {\n",
       "                        if (nbb_cells[i].get_text() == nbb_unformatted_code) {\n",
       "                             nbb_cells[i].set_text(nbb_formatted_code);\n",
       "                        }\n",
       "                        break;\n",
       "                    }\n",
       "                }\n",
       "            }, 500);\n",
       "            "
      ],
      "text/plain": [
       "<IPython.core.display.Javascript object>"
      ]
     },
     "metadata": {},
     "output_type": "display_data"
    }
   ],
   "source": [
    "def compare_entity_lists(\n",
    "    relation_models_path, relation_models, topic_list1, topic_list2\n",
    "):\n",
    "    \"\"\"\n",
    "    This function creates a contingency table from a two input lists of entities [topic_list1][topic_list2]\n",
    "    from a list of relation models \n",
    "    \n",
    "    input:  relation_models = list\n",
    "            relation_models_path = str \n",
    "            topic_list1 = list           \n",
    "            topic_list2 = list\n",
    "            \n",
    "    output: contingency_table = pandas DataFrame [rows = different models, columns = entities]\n",
    "    \"\"\"\n",
    "    # idx for models\n",
    "    i = 0\n",
    "\n",
    "    # print models with idx\n",
    "    explain_models(relation_models)\n",
    "\n",
    "    # initialize contingency_table\n",
    "    contingency_table = pd.DataFrame(index=topic_list2)\n",
    "\n",
    "    # loop through the models\n",
    "    for model in relation_models:\n",
    "        # initialize db_handler()\n",
    "        db_handler = DBQueryHandlerCoocc(relation_models_path, model)\n",
    "\n",
    "        for topic1 in topic_list1:\n",
    "            # buffer for co-occurrencces\n",
    "            co_occs = []\n",
    "\n",
    "            # loop through all all entities and get number of co-occurrences\n",
    "            for topic2 in topic_list2:\n",
    "                co_occs.append(\n",
    "                    len(\n",
    "                        list(\n",
    "                            db_handler.select_relations(\n",
    "                                e1=topic1.lower(),\n",
    "                                e2=topic2.lower(),\n",
    "                                e1_is_synset=0,\n",
    "                                e2_is_synset=0,\n",
    "                            )\n",
    "                        )\n",
    "                    )\n",
    "                )\n",
    "            contingency_table[str(topic1) + \" (\" + str(i) + \")\"] = co_occs\n",
    "\n",
    "        i += 1\n",
    "\n",
    "    # transpose the contingency table to get it into the right format\n",
    "    contingency_table = contingency_table.transpose()\n",
    "\n",
    "    return contingency_table"
   ]
  },
  {
   "cell_type": "code",
   "execution_count": 124,
   "metadata": {},
   "outputs": [
    {
     "data": {
      "application/javascript": [
       "\n",
       "            setTimeout(function() {\n",
       "                var nbb_cell_id = 124;\n",
       "                var nbb_unformatted_code = \"def chi_squared(contingency_table, print_orig = False, print_expect = False, print_chi_contr = False):\\n    \\\"\\\"\\\"\\n    This function conducts a chi-squared test of independence between the different rows of a contingency table\\n    \\n    input: contingency_table\\n    \\n    ouput: None\\n    \\\"\\\"\\\"\\n    contingency_table = sm.stats.Table(contingency_table)\\n    results = contingency_table.test_nominal_association()\\n    \\n    \\n    # orig contingency table\\n    if print_orig == True:\\n        print(\\\"Original contingency table:\\\")\\n        print(contingency_table.table_orig)\\n    # expected values\\n    if print_expect == True:\\n        print(\\\"\\\\nExpected values:\\\")\\n        print(contingency_table.fittedvalues)\\n    # chi-squared contributions\\n    if print_chi_contr == True:\\n        print(\\\"\\\\nChi-square contributions:\\\")\\n        print(contingency_table.chi2_contribs)\\n    \\n    # results\\n    print(\\\"\\\\nResults:\\\")\\n    print(results)\\n\\n   \\n    return\";\n",
       "                var nbb_formatted_code = \"def chi_squared(\\n    contingency_table, print_orig=False, print_expect=False, print_chi_contr=False\\n):\\n    \\\"\\\"\\\"\\n    This function conducts a chi-squared test of independence between the different rows of a contingency table\\n    \\n    input: contingency_table\\n    \\n    ouput: None\\n    \\\"\\\"\\\"\\n    contingency_table = sm.stats.Table(contingency_table)\\n    results = contingency_table.test_nominal_association()\\n\\n    # orig contingency table\\n    if print_orig == True:\\n        print(\\\"Original contingency table:\\\")\\n        print(contingency_table.table_orig)\\n    # expected values\\n    if print_expect == True:\\n        print(\\\"\\\\nExpected values:\\\")\\n        print(contingency_table.fittedvalues)\\n    # chi-squared contributions\\n    if print_chi_contr == True:\\n        print(\\\"\\\\nChi-square contributions:\\\")\\n        print(contingency_table.chi2_contribs)\\n\\n    # results\\n    print(\\\"\\\\nResults:\\\")\\n    print(results)\\n\\n    return\";\n",
       "                var nbb_cells = Jupyter.notebook.get_cells();\n",
       "                for (var i = 0; i < nbb_cells.length; ++i) {\n",
       "                    if (nbb_cells[i].input_prompt_number == nbb_cell_id) {\n",
       "                        if (nbb_cells[i].get_text() == nbb_unformatted_code) {\n",
       "                             nbb_cells[i].set_text(nbb_formatted_code);\n",
       "                        }\n",
       "                        break;\n",
       "                    }\n",
       "                }\n",
       "            }, 500);\n",
       "            "
      ],
      "text/plain": [
       "<IPython.core.display.Javascript object>"
      ]
     },
     "metadata": {},
     "output_type": "display_data"
    }
   ],
   "source": [
    "def chi_squared(contingency_table, print_orig = False, print_expect = False, print_chi_contr = False):\n",
    "    \"\"\"\n",
    "    This function conducts a chi-squared test of independence between the different rows of a contingency table\n",
    "    \n",
    "    input: contingency_table\n",
    "    \n",
    "    ouput: None\n",
    "    \"\"\"\n",
    "    contingency_table = sm.stats.Table(contingency_table)\n",
    "    results = contingency_table.test_nominal_association()\n",
    "    \n",
    "    \n",
    "    # orig contingency table\n",
    "    if print_orig == True:\n",
    "        print(\"Original contingency table:\")\n",
    "        print(contingency_table.table_orig)\n",
    "    # expected values\n",
    "    if print_expect == True:\n",
    "        print(\"\\nExpected values:\")\n",
    "        print(contingency_table.fittedvalues)\n",
    "    # chi-squared contributions\n",
    "    if print_chi_contr == True:\n",
    "        print(\"\\nChi-square contributions:\")\n",
    "        print(contingency_table.chi2_contribs)\n",
    "    \n",
    "    # results\n",
    "    print(\"\\nResults:\")\n",
    "    print(results)\n",
    "\n",
    "   \n",
    "    return\n"
   ]
  },
  {
   "cell_type": "code",
   "execution_count": 138,
   "metadata": {},
   "outputs": [
    {
     "data": {
      "application/javascript": [
       "\n",
       "            setTimeout(function() {\n",
       "                var nbb_cell_id = 138;\n",
       "                var nbb_unformatted_code = \"def do_chi_squared_comparison():\\n\\n    # extracting a contingency table from a single reference entity\\n    i = 0\\n    j = 0\\n\\n    df_results = pd.DataFrame()\\n\\n    for i in range(len(RELATION_MODELS)):\\n        for j in range(len(RELATION_MODELS)):\\n            relation_models = []\\n            relation_models = [RELATION_MODELS[i]] + [RELATION_MODELS[j]]\\n\\n            contingency_table = build_contingency_table_from_single_topic(\\n                RELATION_MODELS_PATH, relation_models, TOPIC_OF_INTEREST, NO_ENTITIES\\n            )\\n\\n            contingency_table = sm.stats.Table(contingency_table)\\n            results = contingency_table.test_nominal_association()\\n\\n            df_results[str(RELATION_MODELS[i]) + str(RELATION_MODELS[j])] = [\\n                results.statistic,\\n                results.pvalue,\\n            ]\\n\\n    df_results = df_results.transpose()\\n    df_results\\n\\n    return df_results\";\n",
       "                var nbb_formatted_code = \"def do_chi_squared_comparison():\\n\\n    # extracting a contingency table from a single reference entity\\n    i = 0\\n    j = 0\\n\\n    df_results = pd.DataFrame()\\n\\n    for i in range(len(RELATION_MODELS)):\\n        for j in range(len(RELATION_MODELS)):\\n            relation_models = []\\n            relation_models = [RELATION_MODELS[i]] + [RELATION_MODELS[j]]\\n\\n            contingency_table = build_contingency_table_from_single_topic(\\n                RELATION_MODELS_PATH, relation_models, TOPIC_OF_INTEREST, NO_ENTITIES\\n            )\\n\\n            contingency_table = sm.stats.Table(contingency_table)\\n            results = contingency_table.test_nominal_association()\\n\\n            df_results[str(RELATION_MODELS[i]) + str(RELATION_MODELS[j])] = [\\n                results.statistic,\\n                results.pvalue,\\n            ]\\n\\n    df_results = df_results.transpose()\\n    df_results\\n\\n    return df_results\";\n",
       "                var nbb_cells = Jupyter.notebook.get_cells();\n",
       "                for (var i = 0; i < nbb_cells.length; ++i) {\n",
       "                    if (nbb_cells[i].input_prompt_number == nbb_cell_id) {\n",
       "                        if (nbb_cells[i].get_text() == nbb_unformatted_code) {\n",
       "                             nbb_cells[i].set_text(nbb_formatted_code);\n",
       "                        }\n",
       "                        break;\n",
       "                    }\n",
       "                }\n",
       "            }, 500);\n",
       "            "
      ],
      "text/plain": [
       "<IPython.core.display.Javascript object>"
      ]
     },
     "metadata": {},
     "output_type": "display_data"
    }
   ],
   "source": [
    "def do_chi_squared_comparison():\n",
    "\n",
    "    # extracting a contingency table from a single reference entity\n",
    "    i = 0\n",
    "    j = 0\n",
    "\n",
    "    df_results = pd.DataFrame()\n",
    "\n",
    "    for i in range(len(RELATION_MODELS)):\n",
    "        for j in range(len(RELATION_MODELS)):\n",
    "            relation_models = []\n",
    "            relation_models = [RELATION_MODELS[i]] + [RELATION_MODELS[j]]\n",
    "\n",
    "            contingency_table = build_contingency_table_from_single_topic(\n",
    "                RELATION_MODELS_PATH, relation_models, TOPIC_OF_INTEREST, NO_ENTITIES\n",
    "            )\n",
    "\n",
    "            contingency_table = sm.stats.Table(contingency_table)\n",
    "            results = contingency_table.test_nominal_association()\n",
    "\n",
    "            df_results[str(RELATION_MODELS[i][:-10]) + str(RELATION_MODELS[j][:-10])] = [\n",
    "                results.statistic,\n",
    "                results.pvalue,\n",
    "            ]\n",
    "\n",
    "    df_results = df_results.transpose()\n",
    "    df_results\n",
    "\n",
    "    return df_results"
   ]
  },
  {
   "cell_type": "markdown",
   "metadata": {},
   "source": []
  },
  {
   "cell_type": "raw",
   "metadata": {},
   "source": []
  },
  {
   "cell_type": "code",
   "execution_count": 139,
   "metadata": {},
   "outputs": [
    {
     "data": {
      "text/html": [
       "<div>\n",
       "<style scoped>\n",
       "    .dataframe tbody tr th:only-of-type {\n",
       "        vertical-align: middle;\n",
       "    }\n",
       "\n",
       "    .dataframe tbody tr th {\n",
       "        vertical-align: top;\n",
       "    }\n",
       "\n",
       "    .dataframe thead th {\n",
       "        text-align: right;\n",
       "    }\n",
       "</style>\n",
       "<table border=\"1\" class=\"dataframe\">\n",
       "  <thead>\n",
       "    <tr style=\"text-align: right;\">\n",
       "      <th></th>\n",
       "      <th>0</th>\n",
       "      <th>1</th>\n",
       "    </tr>\n",
       "  </thead>\n",
       "  <tbody>\n",
       "    <tr>\n",
       "      <th>RM_2011_news_NYT.sqliteRM_2011_news_NYT.sqlite</th>\n",
       "      <td>0.000000</td>\n",
       "      <td>NaN</td>\n",
       "    </tr>\n",
       "    <tr>\n",
       "      <th>RM_2011_news_NYT.sqliteRM_2011_news_WP.sqlite</th>\n",
       "      <td>5.051064</td>\n",
       "      <td>0.080016</td>\n",
       "    </tr>\n",
       "    <tr>\n",
       "      <th>RM_2011_news_NYT.sqliteRM_2011_news_NPR.sqlite</th>\n",
       "      <td>1.124811</td>\n",
       "      <td>0.569837</td>\n",
       "    </tr>\n",
       "    <tr>\n",
       "      <th>RM_2011_news_NYT.sqliteRM_2011_news_RET.sqlite</th>\n",
       "      <td>1.378658</td>\n",
       "      <td>0.501913</td>\n",
       "    </tr>\n",
       "    <tr>\n",
       "      <th>RM_2011_news_NYT.sqliteRM_2011_news_FN.sqlite</th>\n",
       "      <td>6.942685</td>\n",
       "      <td>0.031075</td>\n",
       "    </tr>\n",
       "    <tr>\n",
       "      <th>RM_2011_news_NYT.sqliteRM_2011_news_NM.sqlite</th>\n",
       "      <td>4.115039</td>\n",
       "      <td>0.127771</td>\n",
       "    </tr>\n",
       "    <tr>\n",
       "      <th>RM_2011_news_WP.sqliteRM_2011_news_NYT.sqlite</th>\n",
       "      <td>4.814933</td>\n",
       "      <td>0.090043</td>\n",
       "    </tr>\n",
       "    <tr>\n",
       "      <th>RM_2011_news_WP.sqliteRM_2011_news_WP.sqlite</th>\n",
       "      <td>0.000000</td>\n",
       "      <td>NaN</td>\n",
       "    </tr>\n",
       "    <tr>\n",
       "      <th>RM_2011_news_WP.sqliteRM_2011_news_NPR.sqlite</th>\n",
       "      <td>3.961985</td>\n",
       "      <td>0.137932</td>\n",
       "    </tr>\n",
       "    <tr>\n",
       "      <th>RM_2011_news_WP.sqliteRM_2011_news_RET.sqlite</th>\n",
       "      <td>9.947162</td>\n",
       "      <td>0.006918</td>\n",
       "    </tr>\n",
       "    <tr>\n",
       "      <th>RM_2011_news_WP.sqliteRM_2011_news_FN.sqlite</th>\n",
       "      <td>6.364518</td>\n",
       "      <td>0.041492</td>\n",
       "    </tr>\n",
       "    <tr>\n",
       "      <th>RM_2011_news_WP.sqliteRM_2011_news_NM.sqlite</th>\n",
       "      <td>7.982278</td>\n",
       "      <td>0.018479</td>\n",
       "    </tr>\n",
       "    <tr>\n",
       "      <th>RM_2011_news_NPR.sqliteRM_2011_news_NYT.sqlite</th>\n",
       "      <td>2.914113</td>\n",
       "      <td>0.232921</td>\n",
       "    </tr>\n",
       "    <tr>\n",
       "      <th>RM_2011_news_NPR.sqliteRM_2011_news_WP.sqlite</th>\n",
       "      <td>3.264380</td>\n",
       "      <td>0.195501</td>\n",
       "    </tr>\n",
       "    <tr>\n",
       "      <th>RM_2011_news_NPR.sqliteRM_2011_news_NPR.sqlite</th>\n",
       "      <td>0.000000</td>\n",
       "      <td>NaN</td>\n",
       "    </tr>\n",
       "    <tr>\n",
       "      <th>RM_2011_news_NPR.sqliteRM_2011_news_RET.sqlite</th>\n",
       "      <td>13.215610</td>\n",
       "      <td>0.001350</td>\n",
       "    </tr>\n",
       "    <tr>\n",
       "      <th>RM_2011_news_NPR.sqliteRM_2011_news_FN.sqlite</th>\n",
       "      <td>0.448899</td>\n",
       "      <td>0.798956</td>\n",
       "    </tr>\n",
       "    <tr>\n",
       "      <th>RM_2011_news_NPR.sqliteRM_2011_news_NM.sqlite</th>\n",
       "      <td>0.188691</td>\n",
       "      <td>0.909968</td>\n",
       "    </tr>\n",
       "    <tr>\n",
       "      <th>RM_2011_news_RET.sqliteRM_2011_news_NYT.sqlite</th>\n",
       "      <td>1.378658</td>\n",
       "      <td>0.501913</td>\n",
       "    </tr>\n",
       "    <tr>\n",
       "      <th>RM_2011_news_RET.sqliteRM_2011_news_WP.sqlite</th>\n",
       "      <td>1.875521</td>\n",
       "      <td>0.391504</td>\n",
       "    </tr>\n",
       "    <tr>\n",
       "      <th>RM_2011_news_RET.sqliteRM_2011_news_NPR.sqlite</th>\n",
       "      <td>1.146880</td>\n",
       "      <td>0.563583</td>\n",
       "    </tr>\n",
       "    <tr>\n",
       "      <th>RM_2011_news_RET.sqliteRM_2011_news_RET.sqlite</th>\n",
       "      <td>0.000000</td>\n",
       "      <td>NaN</td>\n",
       "    </tr>\n",
       "    <tr>\n",
       "      <th>RM_2011_news_RET.sqliteRM_2011_news_FN.sqlite</th>\n",
       "      <td>3.571762</td>\n",
       "      <td>0.167649</td>\n",
       "    </tr>\n",
       "    <tr>\n",
       "      <th>RM_2011_news_RET.sqliteRM_2011_news_NM.sqlite</th>\n",
       "      <td>2.692627</td>\n",
       "      <td>0.260198</td>\n",
       "    </tr>\n",
       "    <tr>\n",
       "      <th>RM_2011_news_FN.sqliteRM_2011_news_NYT.sqlite</th>\n",
       "      <td>6.284235</td>\n",
       "      <td>0.043191</td>\n",
       "    </tr>\n",
       "    <tr>\n",
       "      <th>RM_2011_news_FN.sqliteRM_2011_news_WP.sqlite</th>\n",
       "      <td>1.085230</td>\n",
       "      <td>0.581226</td>\n",
       "    </tr>\n",
       "    <tr>\n",
       "      <th>RM_2011_news_FN.sqliteRM_2011_news_NPR.sqlite</th>\n",
       "      <td>0.138151</td>\n",
       "      <td>0.933256</td>\n",
       "    </tr>\n",
       "    <tr>\n",
       "      <th>RM_2011_news_FN.sqliteRM_2011_news_RET.sqlite</th>\n",
       "      <td>3.333618</td>\n",
       "      <td>0.188849</td>\n",
       "    </tr>\n",
       "    <tr>\n",
       "      <th>RM_2011_news_FN.sqliteRM_2011_news_FN.sqlite</th>\n",
       "      <td>0.000000</td>\n",
       "      <td>NaN</td>\n",
       "    </tr>\n",
       "    <tr>\n",
       "      <th>RM_2011_news_FN.sqliteRM_2011_news_NM.sqlite</th>\n",
       "      <td>0.108465</td>\n",
       "      <td>0.947212</td>\n",
       "    </tr>\n",
       "    <tr>\n",
       "      <th>RM_2011_news_NM.sqliteRM_2011_news_NYT.sqlite</th>\n",
       "      <td>3.184039</td>\n",
       "      <td>0.203514</td>\n",
       "    </tr>\n",
       "    <tr>\n",
       "      <th>RM_2011_news_NM.sqliteRM_2011_news_WP.sqlite</th>\n",
       "      <td>3.641983</td>\n",
       "      <td>0.161865</td>\n",
       "    </tr>\n",
       "    <tr>\n",
       "      <th>RM_2011_news_NM.sqliteRM_2011_news_NPR.sqlite</th>\n",
       "      <td>0.188691</td>\n",
       "      <td>0.909968</td>\n",
       "    </tr>\n",
       "    <tr>\n",
       "      <th>RM_2011_news_NM.sqliteRM_2011_news_RET.sqlite</th>\n",
       "      <td>15.498172</td>\n",
       "      <td>0.000431</td>\n",
       "    </tr>\n",
       "    <tr>\n",
       "      <th>RM_2011_news_NM.sqliteRM_2011_news_FN.sqlite</th>\n",
       "      <td>0.101051</td>\n",
       "      <td>0.950730</td>\n",
       "    </tr>\n",
       "    <tr>\n",
       "      <th>RM_2011_news_NM.sqliteRM_2011_news_NM.sqlite</th>\n",
       "      <td>0.000000</td>\n",
       "      <td>NaN</td>\n",
       "    </tr>\n",
       "  </tbody>\n",
       "</table>\n",
       "</div>"
      ],
      "text/plain": [
       "                                                        0         1\n",
       "RM_2011_news_NYT.sqliteRM_2011_news_NYT.sqlite   0.000000       NaN\n",
       "RM_2011_news_NYT.sqliteRM_2011_news_WP.sqlite    5.051064  0.080016\n",
       "RM_2011_news_NYT.sqliteRM_2011_news_NPR.sqlite   1.124811  0.569837\n",
       "RM_2011_news_NYT.sqliteRM_2011_news_RET.sqlite   1.378658  0.501913\n",
       "RM_2011_news_NYT.sqliteRM_2011_news_FN.sqlite    6.942685  0.031075\n",
       "RM_2011_news_NYT.sqliteRM_2011_news_NM.sqlite    4.115039  0.127771\n",
       "RM_2011_news_WP.sqliteRM_2011_news_NYT.sqlite    4.814933  0.090043\n",
       "RM_2011_news_WP.sqliteRM_2011_news_WP.sqlite     0.000000       NaN\n",
       "RM_2011_news_WP.sqliteRM_2011_news_NPR.sqlite    3.961985  0.137932\n",
       "RM_2011_news_WP.sqliteRM_2011_news_RET.sqlite    9.947162  0.006918\n",
       "RM_2011_news_WP.sqliteRM_2011_news_FN.sqlite     6.364518  0.041492\n",
       "RM_2011_news_WP.sqliteRM_2011_news_NM.sqlite     7.982278  0.018479\n",
       "RM_2011_news_NPR.sqliteRM_2011_news_NYT.sqlite   2.914113  0.232921\n",
       "RM_2011_news_NPR.sqliteRM_2011_news_WP.sqlite    3.264380  0.195501\n",
       "RM_2011_news_NPR.sqliteRM_2011_news_NPR.sqlite   0.000000       NaN\n",
       "RM_2011_news_NPR.sqliteRM_2011_news_RET.sqlite  13.215610  0.001350\n",
       "RM_2011_news_NPR.sqliteRM_2011_news_FN.sqlite    0.448899  0.798956\n",
       "RM_2011_news_NPR.sqliteRM_2011_news_NM.sqlite    0.188691  0.909968\n",
       "RM_2011_news_RET.sqliteRM_2011_news_NYT.sqlite   1.378658  0.501913\n",
       "RM_2011_news_RET.sqliteRM_2011_news_WP.sqlite    1.875521  0.391504\n",
       "RM_2011_news_RET.sqliteRM_2011_news_NPR.sqlite   1.146880  0.563583\n",
       "RM_2011_news_RET.sqliteRM_2011_news_RET.sqlite   0.000000       NaN\n",
       "RM_2011_news_RET.sqliteRM_2011_news_FN.sqlite    3.571762  0.167649\n",
       "RM_2011_news_RET.sqliteRM_2011_news_NM.sqlite    2.692627  0.260198\n",
       "RM_2011_news_FN.sqliteRM_2011_news_NYT.sqlite    6.284235  0.043191\n",
       "RM_2011_news_FN.sqliteRM_2011_news_WP.sqlite     1.085230  0.581226\n",
       "RM_2011_news_FN.sqliteRM_2011_news_NPR.sqlite    0.138151  0.933256\n",
       "RM_2011_news_FN.sqliteRM_2011_news_RET.sqlite    3.333618  0.188849\n",
       "RM_2011_news_FN.sqliteRM_2011_news_FN.sqlite     0.000000       NaN\n",
       "RM_2011_news_FN.sqliteRM_2011_news_NM.sqlite     0.108465  0.947212\n",
       "RM_2011_news_NM.sqliteRM_2011_news_NYT.sqlite    3.184039  0.203514\n",
       "RM_2011_news_NM.sqliteRM_2011_news_WP.sqlite     3.641983  0.161865\n",
       "RM_2011_news_NM.sqliteRM_2011_news_NPR.sqlite    0.188691  0.909968\n",
       "RM_2011_news_NM.sqliteRM_2011_news_RET.sqlite   15.498172  0.000431\n",
       "RM_2011_news_NM.sqliteRM_2011_news_FN.sqlite     0.101051  0.950730\n",
       "RM_2011_news_NM.sqliteRM_2011_news_NM.sqlite     0.000000       NaN"
      ]
     },
     "execution_count": 139,
     "metadata": {},
     "output_type": "execute_result"
    },
    {
     "data": {
      "application/javascript": [
       "\n",
       "            setTimeout(function() {\n",
       "                var nbb_cell_id = 139;\n",
       "                var nbb_unformatted_code = \"do_chi_squared_comparison()\";\n",
       "                var nbb_formatted_code = \"do_chi_squared_comparison()\";\n",
       "                var nbb_cells = Jupyter.notebook.get_cells();\n",
       "                for (var i = 0; i < nbb_cells.length; ++i) {\n",
       "                    if (nbb_cells[i].input_prompt_number == nbb_cell_id) {\n",
       "                        if (nbb_cells[i].get_text() == nbb_unformatted_code) {\n",
       "                             nbb_cells[i].set_text(nbb_formatted_code);\n",
       "                        }\n",
       "                        break;\n",
       "                    }\n",
       "                }\n",
       "            }, 500);\n",
       "            "
      ],
      "text/plain": [
       "<IPython.core.display.Javascript object>"
      ]
     },
     "metadata": {},
     "output_type": "display_data"
    }
   ],
   "source": [
    "do_chi_squared_comparison()"
   ]
  },
  {
   "cell_type": "markdown",
   "metadata": {},
   "source": [
    "# Variables\n",
    "\n",
    "Variable setups for different runs of models (all scraped from commoncrawl.com)"
   ]
  },
  {
   "cell_type": "code",
   "execution_count": 8,
   "metadata": {},
   "outputs": [
    {
     "data": {
      "application/javascript": [
       "\n",
       "            setTimeout(function() {\n",
       "                var nbb_cell_id = 8;\n",
       "                var nbb_unformatted_code = \"# First Try \\n# general tryout on the NewsRelations Library\\n\\n# directory path of relation models \\nRELATION_MODELS_PATH = \\\"/home/jonas/Documents/GitHub/MasterThesis/models/firstTry\\\"\\n\\n# model name\\nRELATION_MODELS = [\\n    \\\"model.sqlite\\\",\\n]\";\n",
       "                var nbb_formatted_code = \"# First Try\\n# general tryout on the NewsRelations Library\\n\\n# directory path of relation models\\nRELATION_MODELS_PATH = \\\"/home/jonas/Documents/GitHub/MasterThesis/models/firstTry\\\"\\n\\n# model name\\nRELATION_MODELS = [\\n    \\\"model.sqlite\\\",\\n]\";\n",
       "                var nbb_cells = Jupyter.notebook.get_cells();\n",
       "                for (var i = 0; i < nbb_cells.length; ++i) {\n",
       "                    if (nbb_cells[i].input_prompt_number == nbb_cell_id) {\n",
       "                        if (nbb_cells[i].get_text() == nbb_unformatted_code) {\n",
       "                             nbb_cells[i].set_text(nbb_formatted_code);\n",
       "                        }\n",
       "                        break;\n",
       "                    }\n",
       "                }\n",
       "            }, 500);\n",
       "            "
      ],
      "text/plain": [
       "<IPython.core.display.Javascript object>"
      ]
     },
     "metadata": {},
     "output_type": "display_data"
    }
   ],
   "source": [
    "# First Try\n",
    "# general tryout on the NewsRelations Library\n",
    "\n",
    "# directory path of relation models\n",
    "RELATION_MODELS_PATH = \"/home/jonas/Documents/GitHub/MasterThesis/models/firstTry\"\n",
    "\n",
    "# model name\n",
    "RELATION_MODELS = [\n",
    "    \"model.sqlite\",\n",
    "]"
   ]
  },
  {
   "cell_type": "code",
   "execution_count": null,
   "metadata": {},
   "outputs": [],
   "source": [
    "# Second Try\n",
    "# models from newssources with different biases \n",
    "#\n",
    "# -year:    2008 (for foxnews 2o08-2010)\n",
    "# -domain:  politics\n",
    "# -sources: NYT & foxnews \n",
    "\n",
    "# directory path of relation models \n",
    "RELATION_MODELS_PATH = \"/home/jonas/Documents/GitHub/MasterThesis/models/secondTry\"\n",
    "\n",
    "# model names\n",
    "RELATION_MODELS = [\n",
    "    \"RMadvanced_2008_politics_nytimes.sqlite\",\n",
    "    \"RM_2009_politics_nytimes.sqlite\",\n",
    "    \"RM_2008-2010_politics_foxnews.sqlite\",\n",
    "]\n",
    "\n"
   ]
  },
  {
   "cell_type": "code",
   "execution_count": null,
   "metadata": {},
   "outputs": [],
   "source": [
    "# Third Try\n",
    "# models from newssources with different biases \n",
    "#\n",
    "# -year:    2011\n",
    "# -domain:  news\n",
    "# -sources: reuters & national public radio\n",
    "\n",
    "# directory path of relation models \n",
    "RELATION_MODELS_PATH = \"/home/jonas/Documents/GitHub/MasterThesis/models/thirdTry\"\n",
    "\n",
    "# model names\n",
    "RELATION_MODELS = [\n",
    "    \"RM_2011_news_reuters.sqlite\",\n",
    "    \"RM_2011_news_npr.sqlite\",\n",
    "]\n",
    "\n"
   ]
  },
  {
   "cell_type": "code",
   "execution_count": 64,
   "metadata": {},
   "outputs": [
    {
     "data": {
      "application/javascript": [
       "\n",
       "            setTimeout(function() {\n",
       "                var nbb_cell_id = 64;\n",
       "                var nbb_unformatted_code = \"# Fourth try\\n# two models from newssources with different biases each, for comparing slant coherence within\\n# different directions. Timeslots with gapless news reporting were chosen.\\n#\\n# -year:    2011-01-01 - 2011-03-31\\n# -domain:  news\\n# -sources(left):    New York Times (NYT) 637, Washington Post (WP) 508\\n#         (center):  National Public Radio (NPR) 109, Reuters (RET) 300\\n#         (right):   FoxNews (FN) 2735, Newsmax (NM) 180\\n\\n# directory path of relation models\\nRELATION_MODELS_PATH = \\\"/home/jonas/Documents/GitHub/MasterThesis/models/fourthTry\\\"\\n\\n# model names\\nRELATION_MODELS = [\\n    \\\"RM_2011_news_NYT.sqlite\\\",\\n    \\\"RM_2011_news_WP.sqlite\\\",\\n    \\\"RM_2011_news_NPR.sqlite\\\",\\n    \\\"RM_2011_news_RET.sqlite\\\",\\n    \\\"RM_2011_news_FN.sqlite\\\",\\n    \\\"RM_2011_news_NM.sqlite\\\",\\n]\";\n",
       "                var nbb_formatted_code = \"# Fourth try\\n# two models from newssources with different biases each, for comparing slant coherence within\\n# different directions. Timeslots with gapless news reporting were chosen.\\n#\\n# -year:    2011-01-01 - 2011-03-31\\n# -domain:  news\\n# -sources(left):    New York Times (NYT) 637, Washington Post (WP) 508\\n#         (center):  National Public Radio (NPR) 109, Reuters (RET) 300\\n#         (right):   FoxNews (FN) 2735, Newsmax (NM) 180\\n\\n# directory path of relation models\\nRELATION_MODELS_PATH = \\\"/home/jonas/Documents/GitHub/MasterThesis/models/fourthTry\\\"\\n\\n# model names\\nRELATION_MODELS = [\\n    \\\"RM_2011_news_NYT.sqlite\\\",\\n    \\\"RM_2011_news_WP.sqlite\\\",\\n    \\\"RM_2011_news_NPR.sqlite\\\",\\n    \\\"RM_2011_news_RET.sqlite\\\",\\n    \\\"RM_2011_news_FN.sqlite\\\",\\n    \\\"RM_2011_news_NM.sqlite\\\",\\n]\";\n",
       "                var nbb_cells = Jupyter.notebook.get_cells();\n",
       "                for (var i = 0; i < nbb_cells.length; ++i) {\n",
       "                    if (nbb_cells[i].input_prompt_number == nbb_cell_id) {\n",
       "                        if (nbb_cells[i].get_text() == nbb_unformatted_code) {\n",
       "                             nbb_cells[i].set_text(nbb_formatted_code);\n",
       "                        }\n",
       "                        break;\n",
       "                    }\n",
       "                }\n",
       "            }, 500);\n",
       "            "
      ],
      "text/plain": [
       "<IPython.core.display.Javascript object>"
      ]
     },
     "metadata": {},
     "output_type": "display_data"
    }
   ],
   "source": [
    "# Fourth try\n",
    "# two models from newssources with different biases each, for comparing slant coherence within\n",
    "# different directions. Timeslots with gapless news reporting were chosen.\n",
    "#\n",
    "# -year:    2011-01-01 - 2011-03-31\n",
    "# -domain:  news\n",
    "# -sources(left):    New York Times (NYT) 637, Washington Post (WP) 508\n",
    "#         (center):  National Public Radio (NPR) 109, Reuters (RET) 300\n",
    "#         (right):   FoxNews (FN) 2735, Newsmax (NM) 180\n",
    "\n",
    "# directory path of relation models\n",
    "RELATION_MODELS_PATH = \"/home/jonas/Documents/GitHub/MasterThesis/models/fourthTry\"\n",
    "\n",
    "# model names\n",
    "RELATION_MODELS = [\n",
    "    \"RM_2011_news_NYT.sqlite\",\n",
    "    \"RM_2011_news_WP.sqlite\",\n",
    "    \"RM_2011_news_NPR.sqlite\",\n",
    "    \"RM_2011_news_RET.sqlite\",\n",
    "    \"RM_2011_news_FN.sqlite\",\n",
    "    \"RM_2011_news_NM.sqlite\",\n",
    "]\n"
   ]
  },
  {
   "cell_type": "markdown",
   "metadata": {},
   "source": [
    "general global variables "
   ]
  },
  {
   "cell_type": "code",
   "execution_count": 135,
   "metadata": {},
   "outputs": [
    {
     "data": {
      "application/javascript": [
       "\n",
       "            setTimeout(function() {\n",
       "                var nbb_cell_id = 135;\n",
       "                var nbb_unformatted_code = \"# number of entities you want to compare\\nNO_ENTITIES = 3\\n\\n# reference entity\\nTOPIC_OF_INTEREST = \\\"united_states\\\"\\n\\n# reference entity list\\nTOPIC_OF_INTEREST_LIST2 = [\\n    \\\"united_states\\\",\\n    \\\"germany\\\",\\n    \\\"russia\\\",\\n    \\\"india\\\",\\n    \\\"china\\\",\\n]\\n\\n# co-occurrence entity list\\nTOPIC_OF_INTEREST_LIST = [\\n    \\\"united_states\\\",\\n]\";\n",
       "                var nbb_formatted_code = \"# number of entities you want to compare\\nNO_ENTITIES = 3\\n\\n# reference entity\\nTOPIC_OF_INTEREST = \\\"united_states\\\"\\n\\n# reference entity list\\nTOPIC_OF_INTEREST_LIST2 = [\\n    \\\"united_states\\\",\\n    \\\"germany\\\",\\n    \\\"russia\\\",\\n    \\\"india\\\",\\n    \\\"china\\\",\\n]\\n\\n# co-occurrence entity list\\nTOPIC_OF_INTEREST_LIST = [\\n    \\\"united_states\\\",\\n]\";\n",
       "                var nbb_cells = Jupyter.notebook.get_cells();\n",
       "                for (var i = 0; i < nbb_cells.length; ++i) {\n",
       "                    if (nbb_cells[i].input_prompt_number == nbb_cell_id) {\n",
       "                        if (nbb_cells[i].get_text() == nbb_unformatted_code) {\n",
       "                             nbb_cells[i].set_text(nbb_formatted_code);\n",
       "                        }\n",
       "                        break;\n",
       "                    }\n",
       "                }\n",
       "            }, 500);\n",
       "            "
      ],
      "text/plain": [
       "<IPython.core.display.Javascript object>"
      ]
     },
     "metadata": {},
     "output_type": "display_data"
    }
   ],
   "source": [
    "# number of entities you want to compare\n",
    "NO_ENTITIES = 3\n",
    "\n",
    "# reference entity\n",
    "TOPIC_OF_INTEREST = \"united_states\"\n",
    "\n",
    "# reference entity list\n",
    "TOPIC_OF_INTEREST_LIST2 = [\n",
    "    \"united_states\",\n",
    "    \"germany\",\n",
    "    \"russia\",\n",
    "    \"india\",\n",
    "    \"china\",\n",
    "]\n",
    "\n",
    "# co-occurrence entity list\n",
    "TOPIC_OF_INTEREST_LIST = [\n",
    "    \"united_states\",\n",
    "]"
   ]
  },
  {
   "cell_type": "markdown",
   "metadata": {},
   "source": [
    "# Tests"
   ]
  },
  {
   "cell_type": "code",
   "execution_count": 122,
   "metadata": {},
   "outputs": [
    {
     "name": "stdout",
     "output_type": "stream",
     "text": [
      "\n",
      "Results:\n",
      "df          145\n",
      "pvalue      0.0\n",
      "statistic   514.215803894336\n"
     ]
    },
    {
     "data": {
      "application/javascript": [
       "\n",
       "            setTimeout(function() {\n",
       "                var nbb_cell_id = 122;\n",
       "                var nbb_unformatted_code = \"contingency_table = build_contingency_table_from_single_topic(\\n        RELATION_MODELS_PATH, RELATION_MODELS, TOPIC_OF_INTEREST, NO_ENTITIES\\n)\\n\\nchi_squared(contingency_table)\";\n",
       "                var nbb_formatted_code = \"contingency_table = build_contingency_table_from_single_topic(\\n    RELATION_MODELS_PATH, RELATION_MODELS, TOPIC_OF_INTEREST, NO_ENTITIES\\n)\\n\\nchi_squared(contingency_table)\";\n",
       "                var nbb_cells = Jupyter.notebook.get_cells();\n",
       "                for (var i = 0; i < nbb_cells.length; ++i) {\n",
       "                    if (nbb_cells[i].input_prompt_number == nbb_cell_id) {\n",
       "                        if (nbb_cells[i].get_text() == nbb_unformatted_code) {\n",
       "                             nbb_cells[i].set_text(nbb_formatted_code);\n",
       "                        }\n",
       "                        break;\n",
       "                    }\n",
       "                }\n",
       "            }, 500);\n",
       "            "
      ],
      "text/plain": [
       "<IPython.core.display.Javascript object>"
      ]
     },
     "metadata": {},
     "output_type": "display_data"
    }
   ],
   "source": [
    "contingency_table = build_contingency_table_from_single_topic(\n",
    "    RELATION_MODELS_PATH, RELATION_MODELS, TOPIC_OF_INTEREST, NO_ENTITIES\n",
    ")\n",
    "\n",
    "chi_squared(contingency_table)"
   ]
  },
  {
   "cell_type": "code",
   "execution_count": 128,
   "metadata": {},
   "outputs": [
    {
     "name": "stdout",
     "output_type": "stream",
     "text": [
      "\n",
      "Results:\n",
      "df          0\n",
      "pvalue      nan\n",
      "statistic   4.207258161178729e-31\n",
      "['RM_2011_news_NYT.sqlite', 'RM_2011_news_NYT.sqlite']\n",
      "\n",
      "Results:\n",
      "df          29\n",
      "pvalue      7.028834627664793e-07\n",
      "statistic   81.47645949443238\n",
      "['RM_2011_news_NYT.sqlite', 'RM_2011_news_WP.sqlite']\n",
      "\n",
      "Results:\n",
      "df          29\n",
      "pvalue      0.00650771214433743\n",
      "statistic   51.30603995723389\n",
      "['RM_2011_news_NYT.sqlite', 'RM_2011_news_NPR.sqlite']\n",
      "\n",
      "Results:\n",
      "df          29\n",
      "pvalue      1.1964873536385312e-12\n",
      "statistic   117.71455530793567\n",
      "['RM_2011_news_NYT.sqlite', 'RM_2011_news_RET.sqlite']\n",
      "\n",
      "Results:\n",
      "df          29\n",
      "pvalue      0.0\n",
      "statistic   287.7139810628922\n",
      "['RM_2011_news_NYT.sqlite', 'RM_2011_news_FN.sqlite']\n",
      "\n",
      "Results:\n",
      "df          29\n",
      "pvalue      2.220446049250313e-16\n",
      "statistic   139.74778797341187\n",
      "['RM_2011_news_NYT.sqlite', 'RM_2011_news_NM.sqlite']\n",
      "\n",
      "Results:\n",
      "df          29\n",
      "pvalue      7.292777493006497e-11\n",
      "statistic   106.96653617037201\n",
      "['RM_2011_news_WP.sqlite', 'RM_2011_news_NYT.sqlite']\n",
      "\n",
      "Results:\n",
      "df          0\n",
      "pvalue      nan\n",
      "statistic   0.0\n",
      "['RM_2011_news_WP.sqlite', 'RM_2011_news_WP.sqlite']\n",
      "\n",
      "Results:\n",
      "df          29\n",
      "pvalue      0.15680678591366926\n",
      "statistic   36.59731390206503\n",
      "['RM_2011_news_WP.sqlite', 'RM_2011_news_NPR.sqlite']\n",
      "\n",
      "Results:\n",
      "df          29\n",
      "pvalue      9.736655925962623e-14\n",
      "statistic   124.13662855937416\n",
      "['RM_2011_news_WP.sqlite', 'RM_2011_news_RET.sqlite']\n",
      "\n",
      "Results:\n",
      "df          29\n",
      "pvalue      0.0\n",
      "statistic   230.90058338370818\n",
      "['RM_2011_news_WP.sqlite', 'RM_2011_news_FN.sqlite']\n",
      "\n",
      "Results:\n",
      "df          29\n",
      "pvalue      2.681485078426249e-08\n",
      "statistic   90.86101076683235\n",
      "['RM_2011_news_WP.sqlite', 'RM_2011_news_NM.sqlite']\n"
     ]
    },
    {
     "ename": "KeyboardInterrupt",
     "evalue": "",
     "output_type": "error",
     "traceback": [
      "\u001b[0;31m---------------------------------------------------------------------------\u001b[0m",
      "\u001b[0;31mKeyboardInterrupt\u001b[0m                         Traceback (most recent call last)",
      "\u001b[0;32m<ipython-input-128-23253d667be9>\u001b[0m in \u001b[0;36m<module>\u001b[0;34m\u001b[0m\n\u001b[1;32m     10\u001b[0m \u001b[0;34m\u001b[0m\u001b[0m\n\u001b[1;32m     11\u001b[0m         contingency_table = build_contingency_table_from_single_topic(\n\u001b[0;32m---> 12\u001b[0;31m             \u001b[0mRELATION_MODELS_PATH\u001b[0m\u001b[0;34m,\u001b[0m \u001b[0mrelation_models\u001b[0m\u001b[0;34m,\u001b[0m \u001b[0mTOPIC_OF_INTEREST\u001b[0m\u001b[0;34m,\u001b[0m \u001b[0mNO_ENTITIES\u001b[0m\u001b[0;34m\u001b[0m\u001b[0;34m\u001b[0m\u001b[0m\n\u001b[0m\u001b[1;32m     13\u001b[0m         )\n\u001b[1;32m     14\u001b[0m \u001b[0;34m\u001b[0m\u001b[0m\n",
      "\u001b[0;32m<ipython-input-117-0538b57ed046>\u001b[0m in \u001b[0;36mbuild_contingency_table_from_single_topic\u001b[0;34m(relation_models_path, relation_models, topic_of_interest, no_entities)\u001b[0m\n\u001b[1;32m     51\u001b[0m                             \u001b[0me2\u001b[0m\u001b[0;34m=\u001b[0m\u001b[0mrow\u001b[0m\u001b[0;34m.\u001b[0m\u001b[0mlower\u001b[0m\u001b[0;34m(\u001b[0m\u001b[0;34m)\u001b[0m\u001b[0;34m,\u001b[0m\u001b[0;34m\u001b[0m\u001b[0;34m\u001b[0m\u001b[0m\n\u001b[1;32m     52\u001b[0m                             \u001b[0me1_is_synset\u001b[0m\u001b[0;34m=\u001b[0m\u001b[0mE1_SYNSET\u001b[0m\u001b[0;34m,\u001b[0m\u001b[0;34m\u001b[0m\u001b[0;34m\u001b[0m\u001b[0m\n\u001b[0;32m---> 53\u001b[0;31m                             \u001b[0me2_is_synset\u001b[0m\u001b[0;34m=\u001b[0m\u001b[0mE2_SYNSET\u001b[0m\u001b[0;34m,\u001b[0m\u001b[0;34m\u001b[0m\u001b[0;34m\u001b[0m\u001b[0m\n\u001b[0m\u001b[1;32m     54\u001b[0m                         )\n\u001b[1;32m     55\u001b[0m                     )\n",
      "\u001b[0;32m~/.local/lib/python3.7/site-packages/newsrelations/query_db/relation_query.py\u001b[0m in \u001b[0;36mselect_relations\u001b[0;34m(self, e1, e2, e1_label, e2_label, e1_is_synset, e2_is_synset, start_date, end_date, min_dist)\u001b[0m\n\u001b[1;32m    232\u001b[0m                         \u001b[0me1_is_synset\u001b[0m\u001b[0;34m,\u001b[0m \u001b[0me1_is_synset\u001b[0m\u001b[0;34m,\u001b[0m\u001b[0;34m\u001b[0m\u001b[0;34m\u001b[0m\u001b[0m\n\u001b[1;32m    233\u001b[0m                         \u001b[0me2_is_synset\u001b[0m\u001b[0;34m,\u001b[0m \u001b[0me2_is_synset\u001b[0m\u001b[0;34m,\u001b[0m\u001b[0;34m\u001b[0m\u001b[0;34m\u001b[0m\u001b[0m\n\u001b[0;32m--> 234\u001b[0;31m                         \u001b[0mmin_dist\u001b[0m\u001b[0;34m,\u001b[0m \u001b[0mmin_dist\u001b[0m\u001b[0;34m\u001b[0m\u001b[0;34m\u001b[0m\u001b[0m\n\u001b[0m\u001b[1;32m    235\u001b[0m                     )\n\u001b[1;32m    236\u001b[0m                 ):\n",
      "\u001b[0;31mKeyboardInterrupt\u001b[0m: "
     ]
    },
    {
     "data": {
      "application/javascript": [
       "\n",
       "            setTimeout(function() {\n",
       "                var nbb_cell_id = 128;\n",
       "                var nbb_unformatted_code = \"# extracting a contingency table from a single reference entity\\ni = 0\\nj = 0\\n\\n\\nfor i in range(len(RELATION_MODELS)):\\n    for j in range(len(RELATION_MODELS)):\\n        relation_models = []\\n        relation_models = [RELATION_MODELS[i]] + [RELATION_MODELS[j]]\\n\\n        contingency_table = build_contingency_table_from_single_topic(\\n            RELATION_MODELS_PATH, relation_models, TOPIC_OF_INTEREST, NO_ENTITIES\\n        )\\n\\n        chi_squared(contingency_table)\\n        print(relation_models)\";\n",
       "                var nbb_formatted_code = \"# extracting a contingency table from a single reference entity\\ni = 0\\nj = 0\\n\\n\\nfor i in range(len(RELATION_MODELS)):\\n    for j in range(len(RELATION_MODELS)):\\n        relation_models = []\\n        relation_models = [RELATION_MODELS[i]] + [RELATION_MODELS[j]]\\n\\n        contingency_table = build_contingency_table_from_single_topic(\\n            RELATION_MODELS_PATH, relation_models, TOPIC_OF_INTEREST, NO_ENTITIES\\n        )\\n\\n        chi_squared(contingency_table)\\n        print(relation_models)\";\n",
       "                var nbb_cells = Jupyter.notebook.get_cells();\n",
       "                for (var i = 0; i < nbb_cells.length; ++i) {\n",
       "                    if (nbb_cells[i].input_prompt_number == nbb_cell_id) {\n",
       "                        if (nbb_cells[i].get_text() == nbb_unformatted_code) {\n",
       "                             nbb_cells[i].set_text(nbb_formatted_code);\n",
       "                        }\n",
       "                        break;\n",
       "                    }\n",
       "                }\n",
       "            }, 500);\n",
       "            "
      ],
      "text/plain": [
       "<IPython.core.display.Javascript object>"
      ]
     },
     "metadata": {},
     "output_type": "display_data"
    }
   ],
   "source": [
    "# extracting a contingency table from a single reference entity\n",
    "i = 0\n",
    "j = 0\n",
    "\n",
    "\n",
    "for i in range(len(RELATION_MODELS)):\n",
    "    for j in range(len(RELATION_MODELS)):\n",
    "        relation_models = []\n",
    "        relation_models = [RELATION_MODELS[i]] + [RELATION_MODELS[j]]\n",
    "\n",
    "        contingency_table = build_contingency_table_from_single_topic(\n",
    "            RELATION_MODELS_PATH, relation_models, TOPIC_OF_INTEREST, NO_ENTITIES\n",
    "        )\n",
    "\n",
    "        chi_squared(contingency_table)\n",
    "        print(relation_models)"
   ]
  },
  {
   "cell_type": "code",
   "execution_count": 39,
   "metadata": {},
   "outputs": [
    {
     "name": "stdout",
     "output_type": "stream",
     "text": [
      "\n",
      "Results:\n",
      "df          45\n",
      "pvalue      0.0\n",
      "statistic   254.06312702634767\n",
      "254.06312702634767\n"
     ]
    },
    {
     "data": {
      "application/javascript": [
       "\n",
       "            setTimeout(function() {\n",
       "                var nbb_cell_id = 39;\n",
       "                var nbb_unformatted_code = \"contingency_table = build_contingency_table_from_single_topic(\\n    RELATION_MODELS_PATH, RELATION_MODELS, TOPIC_OF_INTEREST, NO_ENTITIES\\n)\\n\\nchi_squared(contingency_table)\";\n",
       "                var nbb_formatted_code = \"contingency_table = build_contingency_table_from_single_topic(\\n    RELATION_MODELS_PATH, RELATION_MODELS, TOPIC_OF_INTEREST, NO_ENTITIES\\n)\\n\\nchi_squared(contingency_table)\";\n",
       "                var nbb_cells = Jupyter.notebook.get_cells();\n",
       "                for (var i = 0; i < nbb_cells.length; ++i) {\n",
       "                    if (nbb_cells[i].input_prompt_number == nbb_cell_id) {\n",
       "                        if (nbb_cells[i].get_text() == nbb_unformatted_code) {\n",
       "                             nbb_cells[i].set_text(nbb_formatted_code);\n",
       "                        }\n",
       "                        break;\n",
       "                    }\n",
       "                }\n",
       "            }, 500);\n",
       "            "
      ],
      "text/plain": [
       "<IPython.core.display.Javascript object>"
      ]
     },
     "metadata": {},
     "output_type": "display_data"
    }
   ],
   "source": [
    "contingency_table = build_contingency_table_from_single_topic(\n",
    "    RELATION_MODELS_PATH, RELATION_MODELS, TOPIC_OF_INTEREST, NO_ENTITIES\n",
    ")\n",
    "\n",
    "chi_squared(contingency_table)"
   ]
  },
  {
   "cell_type": "markdown",
   "metadata": {},
   "source": [
    "### Test coherence of cooccurrences within same slant group"
   ]
  },
  {
   "cell_type": "code",
   "execution_count": 125,
   "metadata": {
    "scrolled": false
   },
   "outputs": [
    {
     "name": "stdout",
     "output_type": "stream",
     "text": [
      "Original contingency table:\n",
      "                         united_states.n.01  united_states_government.n.01  \\\n",
      "RM_2011_news_NYT.sqlite                 118                             98   \n",
      "RM_2011_news_WP.sqlite                  110                             93   \n",
      "\n",
      "                         capital.n.06  washington.n.01  washington.n.02  \\\n",
      "RM_2011_news_NYT.sqlite            48               48               48   \n",
      "RM_2011_news_WP.sqlite             25               25               25   \n",
      "\n",
      "                         washington.n.04  washington.n.05  japan.n.01  \\\n",
      "RM_2011_news_NYT.sqlite               48               48          39   \n",
      "RM_2011_news_WP.sqlite                26               25          11   \n",
      "\n",
      "                         japan.n.02  japan.n.03  ...  america.n.02  \\\n",
      "RM_2011_news_NYT.sqlite          39          39  ...            19   \n",
      "RM_2011_news_WP.sqlite           11          11  ...            17   \n",
      "\n",
      "                         france.n.01  france.n.02  white_house.n.01  \\\n",
      "RM_2011_news_NYT.sqlite           19           19                19   \n",
      "RM_2011_news_WP.sqlite            10           10                15   \n",
      "\n",
      "                         white_house.n.02  department_of_state.n.01  \\\n",
      "RM_2011_news_NYT.sqlite                19                        18   \n",
      "RM_2011_news_WP.sqlite                 15                        33   \n",
      "\n",
      "                         north_atlantic_treaty_organization.n.01  \\\n",
      "RM_2011_news_NYT.sqlite                                       18   \n",
      "RM_2011_news_WP.sqlite                                        13   \n",
      "\n",
      "                         california.n.01  united_nations.n.01  \\\n",
      "RM_2011_news_NYT.sqlite               17                   17   \n",
      "RM_2011_news_WP.sqlite                 5                   11   \n",
      "\n",
      "                         european_union.n.01  \n",
      "RM_2011_news_NYT.sqlite                   16  \n",
      "RM_2011_news_WP.sqlite                     6  \n",
      "\n",
      "[2 rows x 30 columns]\n",
      "\n",
      "Results:\n",
      "df          29\n",
      "pvalue      7.028834627664793e-07\n",
      "statistic   81.47645949443238\n"
     ]
    },
    {
     "data": {
      "application/javascript": [
       "\n",
       "            setTimeout(function() {\n",
       "                var nbb_cell_id = 125;\n",
       "                var nbb_unformatted_code = \"# liberal\\n\\ncontingency_table = build_contingency_table_from_single_topic(\\n    RELATION_MODELS_PATH, RELATION_MODELS[:2], TOPIC_OF_INTEREST, NO_ENTITIES,\\n)\\n\\nchi_squared(contingency_table, True)\";\n",
       "                var nbb_formatted_code = \"# liberal\\n\\ncontingency_table = build_contingency_table_from_single_topic(\\n    RELATION_MODELS_PATH, RELATION_MODELS[:2], TOPIC_OF_INTEREST, NO_ENTITIES,\\n)\\n\\nchi_squared(contingency_table, True)\";\n",
       "                var nbb_cells = Jupyter.notebook.get_cells();\n",
       "                for (var i = 0; i < nbb_cells.length; ++i) {\n",
       "                    if (nbb_cells[i].input_prompt_number == nbb_cell_id) {\n",
       "                        if (nbb_cells[i].get_text() == nbb_unformatted_code) {\n",
       "                             nbb_cells[i].set_text(nbb_formatted_code);\n",
       "                        }\n",
       "                        break;\n",
       "                    }\n",
       "                }\n",
       "            }, 500);\n",
       "            "
      ],
      "text/plain": [
       "<IPython.core.display.Javascript object>"
      ]
     },
     "metadata": {},
     "output_type": "display_data"
    }
   ],
   "source": [
    "# liberal\n",
    "\n",
    "contingency_table = build_contingency_table_from_single_topic(\n",
    "    RELATION_MODELS_PATH, RELATION_MODELS[:2], TOPIC_OF_INTEREST, NO_ENTITIES,\n",
    ")\n",
    "\n",
    "chi_squared(contingency_table, True)"
   ]
  },
  {
   "cell_type": "code",
   "execution_count": 126,
   "metadata": {},
   "outputs": [
    {
     "name": "stdout",
     "output_type": "stream",
     "text": [
      "\n",
      "Results:\n",
      "df          29\n",
      "pvalue      7.53742953244485e-05\n",
      "statistic   67.0748827371323\n"
     ]
    },
    {
     "data": {
      "application/javascript": [
       "\n",
       "            setTimeout(function() {\n",
       "                var nbb_cell_id = 126;\n",
       "                var nbb_unformatted_code = \"# center\\n\\ncontingency_table = build_contingency_table_from_single_topic(\\n    RELATION_MODELS_PATH, RELATION_MODELS[2:4], TOPIC_OF_INTEREST, NO_ENTITIES,\\n)\\n\\nchi_squared(contingency_table)\";\n",
       "                var nbb_formatted_code = \"# center\\n\\ncontingency_table = build_contingency_table_from_single_topic(\\n    RELATION_MODELS_PATH, RELATION_MODELS[2:4], TOPIC_OF_INTEREST, NO_ENTITIES,\\n)\\n\\nchi_squared(contingency_table)\";\n",
       "                var nbb_cells = Jupyter.notebook.get_cells();\n",
       "                for (var i = 0; i < nbb_cells.length; ++i) {\n",
       "                    if (nbb_cells[i].input_prompt_number == nbb_cell_id) {\n",
       "                        if (nbb_cells[i].get_text() == nbb_unformatted_code) {\n",
       "                             nbb_cells[i].set_text(nbb_formatted_code);\n",
       "                        }\n",
       "                        break;\n",
       "                    }\n",
       "                }\n",
       "            }, 500);\n",
       "            "
      ],
      "text/plain": [
       "<IPython.core.display.Javascript object>"
      ]
     },
     "metadata": {},
     "output_type": "display_data"
    }
   ],
   "source": [
    "# center\n",
    "\n",
    "contingency_table = build_contingency_table_from_single_topic(\n",
    "    RELATION_MODELS_PATH, RELATION_MODELS[2:4], TOPIC_OF_INTEREST, NO_ENTITIES,\n",
    ")\n",
    "\n",
    "chi_squared(contingency_table)"
   ]
  },
  {
   "cell_type": "code",
   "execution_count": 127,
   "metadata": {},
   "outputs": [
    {
     "name": "stdout",
     "output_type": "stream",
     "text": [
      "\n",
      "Results:\n",
      "df          29\n",
      "pvalue      0.8908121552968822\n",
      "statistic   20.06763593336106\n"
     ]
    },
    {
     "data": {
      "application/javascript": [
       "\n",
       "            setTimeout(function() {\n",
       "                var nbb_cell_id = 127;\n",
       "                var nbb_unformatted_code = \"# conservative\\n\\ncontingency_table = build_contingency_table_from_single_topic(\\n    RELATION_MODELS_PATH, RELATION_MODELS[4:], TOPIC_OF_INTEREST, NO_ENTITIES,\\n)\\n\\nchi_squared(contingency_table)\";\n",
       "                var nbb_formatted_code = \"# conservative\\n\\ncontingency_table = build_contingency_table_from_single_topic(\\n    RELATION_MODELS_PATH, RELATION_MODELS[4:], TOPIC_OF_INTEREST, NO_ENTITIES,\\n)\\n\\nchi_squared(contingency_table)\";\n",
       "                var nbb_cells = Jupyter.notebook.get_cells();\n",
       "                for (var i = 0; i < nbb_cells.length; ++i) {\n",
       "                    if (nbb_cells[i].input_prompt_number == nbb_cell_id) {\n",
       "                        if (nbb_cells[i].get_text() == nbb_unformatted_code) {\n",
       "                             nbb_cells[i].set_text(nbb_formatted_code);\n",
       "                        }\n",
       "                        break;\n",
       "                    }\n",
       "                }\n",
       "            }, 500);\n",
       "            "
      ],
      "text/plain": [
       "<IPython.core.display.Javascript object>"
      ]
     },
     "metadata": {},
     "output_type": "display_data"
    }
   ],
   "source": [
    "# conservative\n",
    "\n",
    "contingency_table = build_contingency_table_from_single_topic(\n",
    "    RELATION_MODELS_PATH, RELATION_MODELS[4:], TOPIC_OF_INTEREST, NO_ENTITIES,\n",
    ")\n",
    "\n",
    "chi_squared(contingency_table)"
   ]
  },
  {
   "cell_type": "code",
   "execution_count": null,
   "metadata": {},
   "outputs": [],
   "source": []
  },
  {
   "cell_type": "code",
   "execution_count": null,
   "metadata": {},
   "outputs": [],
   "source": []
  },
  {
   "cell_type": "code",
   "execution_count": 121,
   "metadata": {},
   "outputs": [
    {
     "name": "stdout",
     "output_type": "stream",
     "text": [
      "\n",
      "Results:\n",
      "df          29\n",
      "pvalue      2.220446049250313e-16\n",
      "statistic   139.74778797341187\n"
     ]
    },
    {
     "data": {
      "application/javascript": [
       "\n",
       "            setTimeout(function() {\n",
       "                var nbb_cell_id = 121;\n",
       "                var nbb_unformatted_code = \"# conservative\\n\\ncontingency_table = build_contingency_table_from_single_topic(\\n    RELATION_MODELS_PATH,\\n    [\\\"RM_2011_news_NYT.sqlite\\\", \\\"RM_2011_news_NM.sqlite\\\"],\\n    TOPIC_OF_INTEREST,\\n    NO_ENTITIES,\\n)\\n\\nchi_squared(contingency_table)\";\n",
       "                var nbb_formatted_code = \"# conservative\\n\\ncontingency_table = build_contingency_table_from_single_topic(\\n    RELATION_MODELS_PATH,\\n    [\\\"RM_2011_news_NYT.sqlite\\\", \\\"RM_2011_news_NM.sqlite\\\"],\\n    TOPIC_OF_INTEREST,\\n    NO_ENTITIES,\\n)\\n\\nchi_squared(contingency_table)\";\n",
       "                var nbb_cells = Jupyter.notebook.get_cells();\n",
       "                for (var i = 0; i < nbb_cells.length; ++i) {\n",
       "                    if (nbb_cells[i].input_prompt_number == nbb_cell_id) {\n",
       "                        if (nbb_cells[i].get_text() == nbb_unformatted_code) {\n",
       "                             nbb_cells[i].set_text(nbb_formatted_code);\n",
       "                        }\n",
       "                        break;\n",
       "                    }\n",
       "                }\n",
       "            }, 500);\n",
       "            "
      ],
      "text/plain": [
       "<IPython.core.display.Javascript object>"
      ]
     },
     "metadata": {},
     "output_type": "display_data"
    }
   ],
   "source": [
    "# conservative\n",
    "\n",
    "contingency_table = build_contingency_table_from_single_topic(\n",
    "    RELATION_MODELS_PATH,\n",
    "    [\"RM_2011_news_NYT.sqlite\", \"RM_2011_news_NM.sqlite\"],\n",
    "    TOPIC_OF_INTEREST,\n",
    "    NO_ENTITIES,\n",
    ")\n",
    "\n",
    "chi_squared(contingency_table)"
   ]
  },
  {
   "cell_type": "code",
   "execution_count": null,
   "metadata": {},
   "outputs": [],
   "source": []
  },
  {
   "cell_type": "code",
   "execution_count": null,
   "metadata": {},
   "outputs": [],
   "source": []
  },
  {
   "cell_type": "code",
   "execution_count": null,
   "metadata": {},
   "outputs": [],
   "source": []
  },
  {
   "cell_type": "code",
   "execution_count": null,
   "metadata": {},
   "outputs": [],
   "source": [
    "# liberal\n",
    "\n",
    "contingency_table = compare_entity_lists(\n",
    "    RELATION_MODELS_PATH,\n",
    "    RELATION_MODELS[:2],\n",
    "    TOPIC_OF_INTEREST_LIST,\n",
    "    TOPIC_OF_INTEREST_LIST2,\n",
    ")\n",
    "\n",
    "chi_squared(contingency_table, True, False, False)"
   ]
  },
  {
   "cell_type": "code",
   "execution_count": null,
   "metadata": {},
   "outputs": [],
   "source": [
    "# center\n",
    "contingency_table = compare_entity_lists(\n",
    "    RELATION_MODELS_PATH,\n",
    "    RELATION_MODELS[2:4],\n",
    "    TOPIC_OF_INTEREST_LIST,\n",
    "    TOPIC_OF_INTEREST_LIST2,\n",
    ")\n",
    "\n",
    "chi_squared(contingency_table, True, False, False)"
   ]
  },
  {
   "cell_type": "code",
   "execution_count": null,
   "metadata": {},
   "outputs": [],
   "source": [
    "# conservative\n",
    "contingency_table = compare_entity_lists(\n",
    "    RELATION_MODELS_PATH,\n",
    "    RELATION_MODELS[4:],\n",
    "    TOPIC_OF_INTEREST_LIST,\n",
    "    TOPIC_OF_INTEREST_LIST2,\n",
    ")\n",
    "\n",
    "chi_squared(contingency_table, True, False, False)"
   ]
  },
  {
   "cell_type": "code",
   "execution_count": null,
   "metadata": {},
   "outputs": [],
   "source": []
  },
  {
   "cell_type": "code",
   "execution_count": null,
   "metadata": {},
   "outputs": [],
   "source": [
    "# extract a contingency table from a list of reference entities \n",
    "contingency_table = build_contingency_table_from_topic_list(\n",
    "    RELATION_MODELS_PATH, RELATION_MODELS, TOPIC_OF_INTEREST_LIST, NO_ENTITIES)\n",
    "\n",
    "chi_squared(contingency_table)"
   ]
  },
  {
   "cell_type": "code",
   "execution_count": null,
   "metadata": {},
   "outputs": [],
   "source": [
    "# extract a contingency table from two lists of entities\n",
    "\n",
    "contingency_table = compare_entity_lists(\n",
    "    RELATION_MODELS_PATH,\n",
    "    RELATION_MODELS,\n",
    "    TOPIC_OF_INTEREST_LIST,\n",
    "    TOPIC_OF_INTEREST_LIST2,\n",
    ")\n",
    "\n",
    "chi_squared(contingency_table)"
   ]
  },
  {
   "cell_type": "code",
   "execution_count": null,
   "metadata": {},
   "outputs": [],
   "source": []
  },
  {
   "cell_type": "code",
   "execution_count": null,
   "metadata": {},
   "outputs": [],
   "source": []
  },
  {
   "cell_type": "code",
   "execution_count": null,
   "metadata": {},
   "outputs": [],
   "source": []
  },
  {
   "cell_type": "code",
   "execution_count": null,
   "metadata": {},
   "outputs": [],
   "source": []
  },
  {
   "cell_type": "code",
   "execution_count": null,
   "metadata": {},
   "outputs": [],
   "source": []
  },
  {
   "cell_type": "code",
   "execution_count": null,
   "metadata": {},
   "outputs": [],
   "source": []
  },
  {
   "cell_type": "code",
   "execution_count": null,
   "metadata": {},
   "outputs": [],
   "source": []
  },
  {
   "cell_type": "code",
   "execution_count": null,
   "metadata": {},
   "outputs": [],
   "source": [
    "    # initialize DistanceMeasure with reference-model\n",
    "dm = DistanceMeasure(RELATION_MODELS_PATH, str(RELATION_MODELS[0]))\n",
    "\n",
    "    # extract top NO_ENTITIES entities\n",
    "topNYT = dm.get_top_co_occurrences(\n",
    "    TOPIC_OF_INTEREST, cutoff=10, e1_is_synset=0, e2_is_synset=0\n",
    ")\n",
    "\n",
    "dm = DistanceMeasure(RELATION_MODELS_PATH, str(RELATION_MODELS[1]))\n",
    "\n",
    "    # extract top NO_ENTITIES entities\n",
    "topFN = dm.get_top_co_occurrences(\n",
    "    TOPIC_OF_INTEREST, cutoff=10, e1_is_synset=0, e2_is_synset=0\n",
    ")\n",
    "\n",
    "\n",
    "print(topNYT)\n",
    "print(topFN)\n"
   ]
  },
  {
   "cell_type": "code",
   "execution_count": null,
   "metadata": {},
   "outputs": [],
   "source": []
  }
 ],
 "metadata": {
  "kernelspec": {
   "display_name": "Python 3",
   "language": "python",
   "name": "python3"
  },
  "language_info": {
   "codemirror_mode": {
    "name": "ipython",
    "version": 3
   },
   "file_extension": ".py",
   "mimetype": "text/x-python",
   "name": "python",
   "nbconvert_exporter": "python",
   "pygments_lexer": "ipython3",
   "version": "3.7.6"
  }
 },
 "nbformat": 4,
 "nbformat_minor": 4
}
