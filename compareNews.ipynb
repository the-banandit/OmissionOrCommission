{
 "cells": [
  {
   "cell_type": "markdown",
   "metadata": {},
   "source": [
    "# Master Thesis "
   ]
  },
  {
   "cell_type": "markdown",
   "metadata": {},
   "source": [
    "The following notebook can be understood as a walkthrough through the experiments I ran for my master thesis.\n",
    "To keep it somewhat clear I pushed large functions beyond the imports."
   ]
  },
  {
   "cell_type": "markdown",
   "metadata": {},
   "source": [
    "### 1. [Imports & functions](#imports&functions)\n",
    "### 2. [Tryout-datasets](#datasets)\n",
    "### 3. [Final datasets](#finalDatasets)\n",
    "### 4. [Parameter tuning](#parameterTuning)\n",
    "#### 4.1 [n - entity estimation](#nEntity)\n",
    "#### 4.2 [reference entity estimation](#refEntity)\n",
    "### 5. [Hypothesis testing](#hypothesisTesting)\n",
    "#### 5.1 [Hypothesis 1](#hyp1)\n",
    "#### 5.2 [Hypothesis 2](#hyp2)\n",
    "#### 5.3 [Hypothesis 3](#hyp3)"
   ]
  },
  {
   "cell_type": "markdown",
   "metadata": {},
   "source": [
    "# Imports and functions <a class=\"anchor\" id=\"imports&functions\"></a>"
   ]
  },
  {
   "cell_type": "code",
   "execution_count": 1,
   "metadata": {},
   "outputs": [
    {
     "data": {
      "application/javascript": [
       "\n",
       "            setTimeout(function() {\n",
       "                var nbb_cell_id = 1;\n",
       "                var nbb_unformatted_code = \"# for pretty code\\n%load_ext nb_black\\n%matplotlib inline\";\n",
       "                var nbb_formatted_code = \"# for pretty code\\n%load_ext nb_black\\n%matplotlib inline\";\n",
       "                var nbb_cells = Jupyter.notebook.get_cells();\n",
       "                for (var i = 0; i < nbb_cells.length; ++i) {\n",
       "                    if (nbb_cells[i].input_prompt_number == nbb_cell_id) {\n",
       "                        if (nbb_cells[i].get_text() == nbb_unformatted_code) {\n",
       "                             nbb_cells[i].set_text(nbb_formatted_code);\n",
       "                        }\n",
       "                        break;\n",
       "                    }\n",
       "                }\n",
       "            }, 500);\n",
       "            "
      ],
      "text/plain": [
       "<IPython.core.display.Javascript object>"
      ]
     },
     "metadata": {},
     "output_type": "display_data"
    }
   ],
   "source": [
    "# for pretty code\n",
    "%load_ext nb_black\n",
    "%matplotlib inline"
   ]
  },
  {
   "cell_type": "code",
   "execution_count": 2,
   "metadata": {},
   "outputs": [
    {
     "name": "stderr",
     "output_type": "stream",
     "text": [
      "[nltk_data] Error loading brown: <urlopen error [Errno -3] Temporary\n",
      "[nltk_data]     failure in name resolution>\n",
      "[nltk_data] Downloading package vader_lexicon to\n",
      "[nltk_data]     /home/jonas/anaconda3/nltk_data...\n",
      "[nltk_data]   Package vader_lexicon is already up-to-date!\n"
     ]
    },
    {
     "data": {
      "application/javascript": [
       "\n",
       "            setTimeout(function() {\n",
       "                var nbb_cell_id = 2;\n",
       "                var nbb_unformatted_code = \"import numpy as np\\nimport pandas as pd\\nimport statsmodels.api as sm\\nimport matplotlib.pyplot as plt\\nimport multiprocessing as mp\\nimport nltk.data\\nimport statistics\\nimport networkx as nx\\nimport math\\nimport warnings\\n\\nfrom tqdm import tqdm_notebook, tnrange, tqdm\\nfrom matplotlib.pyplot import figure\\nfrom newsrelations.query_db.relation_query import DBQueryHandlerCoocc\\nfrom newsrelations.helper_classes.synonym_handler import SynonymHandler\\nfrom newsrelations.metrics.distances import DistanceMeasure\\nfrom nltk.sentiment.vader import SentimentIntensityAnalyzer\\nfrom sklearn.metrics import classification_report\\nfrom sklearn.cluster import KMeans\\n\\nnltk.download(\\\"brown\\\")\\nnltk.download(\\\"vader_lexicon\\\")\\n\\n\\ntokenizer = nltk.data.load(\\n    \\\"/home/jonas/anaconda3/lib/python3.7/nltk_data/punkt/english.pickle\\\"\\n)\\n\\nwarnings.filterwarnings(\\\"ignore\\\")\\npd.set_option(\\\"display.max_rows\\\", None)\";\n",
       "                var nbb_formatted_code = \"import numpy as np\\nimport pandas as pd\\nimport statsmodels.api as sm\\nimport matplotlib.pyplot as plt\\nimport multiprocessing as mp\\nimport nltk.data\\nimport statistics\\nimport networkx as nx\\nimport math\\nimport warnings\\n\\nfrom tqdm import tqdm_notebook, tnrange, tqdm\\nfrom matplotlib.pyplot import figure\\nfrom newsrelations.query_db.relation_query import DBQueryHandlerCoocc\\nfrom newsrelations.helper_classes.synonym_handler import SynonymHandler\\nfrom newsrelations.metrics.distances import DistanceMeasure\\nfrom nltk.sentiment.vader import SentimentIntensityAnalyzer\\nfrom sklearn.metrics import classification_report\\nfrom sklearn.cluster import KMeans\\n\\nnltk.download(\\\"brown\\\")\\nnltk.download(\\\"vader_lexicon\\\")\\n\\n\\ntokenizer = nltk.data.load(\\n    \\\"/home/jonas/anaconda3/lib/python3.7/nltk_data/punkt/english.pickle\\\"\\n)\\n\\nwarnings.filterwarnings(\\\"ignore\\\")\\npd.set_option(\\\"display.max_rows\\\", None)\";\n",
       "                var nbb_cells = Jupyter.notebook.get_cells();\n",
       "                for (var i = 0; i < nbb_cells.length; ++i) {\n",
       "                    if (nbb_cells[i].input_prompt_number == nbb_cell_id) {\n",
       "                        if (nbb_cells[i].get_text() == nbb_unformatted_code) {\n",
       "                             nbb_cells[i].set_text(nbb_formatted_code);\n",
       "                        }\n",
       "                        break;\n",
       "                    }\n",
       "                }\n",
       "            }, 500);\n",
       "            "
      ],
      "text/plain": [
       "<IPython.core.display.Javascript object>"
      ]
     },
     "metadata": {},
     "output_type": "display_data"
    }
   ],
   "source": [
    "import numpy as np\n",
    "import pandas as pd\n",
    "import statsmodels.api as sm\n",
    "import matplotlib.pyplot as plt\n",
    "import multiprocessing as mp\n",
    "import nltk.data\n",
    "import statistics\n",
    "import networkx as nx\n",
    "import math\n",
    "import warnings\n",
    "\n",
    "from tqdm import tqdm_notebook, tnrange, tqdm\n",
    "from matplotlib.pyplot import figure\n",
    "from newsrelations.query_db.relation_query import DBQueryHandlerCoocc\n",
    "from newsrelations.helper_classes.synonym_handler import SynonymHandler\n",
    "from newsrelations.metrics.distances import DistanceMeasure\n",
    "from nltk.sentiment.vader import SentimentIntensityAnalyzer\n",
    "from sklearn.metrics import classification_report\n",
    "from sklearn.cluster import KMeans\n",
    "\n",
    "nltk.download(\"brown\")\n",
    "nltk.download(\"vader_lexicon\")\n",
    "\n",
    "\n",
    "tokenizer = nltk.data.load(\n",
    "    \"/home/jonas/anaconda3/lib/python3.7/nltk_data/punkt/english.pickle\"\n",
    ")\n",
    "\n",
    "warnings.filterwarnings(\"ignore\")\n",
    "pd.set_option(\"display.max_rows\", None)"
   ]
  },
  {
   "cell_type": "code",
   "execution_count": 3,
   "metadata": {},
   "outputs": [
    {
     "data": {
      "application/javascript": [
       "\n",
       "            setTimeout(function() {\n",
       "                var nbb_cell_id = 3;\n",
       "                var nbb_unformatted_code = \"def build_contingency_table_from_single_topic(\\n    relation_models_path, relation_models, topic_of_interest, no_entities=10\\n):\\n    \\\"\\\"\\\"\\n    This function builds a contingency table from a input list of relation models generated with relation_miner.py \\n    in regards to predetermined topic [TOPIC_OF_INTEREST].\\n    The first model in [RELATION_MODELS] is the reference model all other models will be compared with.\\n    The function extracts the top [NO_ENTITIES] co_occuring entities from the model and builds a contingency table.\\n    \\n    input:  relation_models = list\\n            relation_models_path = str \\n            topic_of_interest = str           \\n            no_entities = int (standard 10)\\n            \\n    output: contingency_table = pandas DataFrame [rows = different models, columns = entities]\\n    \\\"\\\"\\\"\\n    E1_SYNSET = 0\\n    E2_SYNSET = 1\\n\\n    # initialize DistanceMeasure with reference-model\\n    dm = DistanceMeasure(relation_models_path, str(relation_models[0]))\\n\\n    # extract top NO_ENTITIES entities\\n    top = dm.get_top_co_occurrences(\\n        topic_of_interest,\\n        cutoff=no_entities,\\n        e1_is_synset=E1_SYNSET,\\n        e2_is_synset=E2_SYNSET,\\n    )\\n    # write first row of contingency_table\\n    contingency_table = pd.DataFrame(\\n        np.array([t[1] for t in top]),\\n        index=[t[0] for t in top],\\n        columns=[str(relation_models[0])],\\n    )\\n\\n    # loop through all remaining models\\n    for model in relation_models[1:]:\\n        # initialize db_handler()\\n        db_handler = DBQueryHandlerCoocc(relation_models_path, model)\\n\\n        # buffer for cooccurrences\\n        co_occs = []\\n        # loop through all entities and get number of co-occurrences\\n        for row in contingency_table.index:\\n            co_occs.append(\\n                len(\\n                    list(\\n                        db_handler.select_relations(\\n                            e1=topic_of_interest.lower(),\\n                            e2=row.lower(),\\n                            e1_is_synset=E1_SYNSET,\\n                            e2_is_synset=E2_SYNSET,\\n                        )\\n                    )\\n                )\\n            )\\n\\n        contingency_table[str(model)] = co_occs\\n\\n    # transpose the contingency table to get it into the right format\\n    contingency_table = contingency_table.transpose()\\n    return contingency_table\";\n",
       "                var nbb_formatted_code = \"def build_contingency_table_from_single_topic(\\n    relation_models_path, relation_models, topic_of_interest, no_entities=10\\n):\\n    \\\"\\\"\\\"\\n    This function builds a contingency table from a input list of relation models generated with relation_miner.py \\n    in regards to predetermined topic [TOPIC_OF_INTEREST].\\n    The first model in [RELATION_MODELS] is the reference model all other models will be compared with.\\n    The function extracts the top [NO_ENTITIES] co_occuring entities from the model and builds a contingency table.\\n    \\n    input:  relation_models = list\\n            relation_models_path = str \\n            topic_of_interest = str           \\n            no_entities = int (standard 10)\\n            \\n    output: contingency_table = pandas DataFrame [rows = different models, columns = entities]\\n    \\\"\\\"\\\"\\n    E1_SYNSET = 0\\n    E2_SYNSET = 1\\n\\n    # initialize DistanceMeasure with reference-model\\n    dm = DistanceMeasure(relation_models_path, str(relation_models[0]))\\n\\n    # extract top NO_ENTITIES entities\\n    top = dm.get_top_co_occurrences(\\n        topic_of_interest,\\n        cutoff=no_entities,\\n        e1_is_synset=E1_SYNSET,\\n        e2_is_synset=E2_SYNSET,\\n    )\\n    # write first row of contingency_table\\n    contingency_table = pd.DataFrame(\\n        np.array([t[1] for t in top]),\\n        index=[t[0] for t in top],\\n        columns=[str(relation_models[0])],\\n    )\\n\\n    # loop through all remaining models\\n    for model in relation_models[1:]:\\n        # initialize db_handler()\\n        db_handler = DBQueryHandlerCoocc(relation_models_path, model)\\n\\n        # buffer for cooccurrences\\n        co_occs = []\\n        # loop through all entities and get number of co-occurrences\\n        for row in contingency_table.index:\\n            co_occs.append(\\n                len(\\n                    list(\\n                        db_handler.select_relations(\\n                            e1=topic_of_interest.lower(),\\n                            e2=row.lower(),\\n                            e1_is_synset=E1_SYNSET,\\n                            e2_is_synset=E2_SYNSET,\\n                        )\\n                    )\\n                )\\n            )\\n\\n        contingency_table[str(model)] = co_occs\\n\\n    # transpose the contingency table to get it into the right format\\n    contingency_table = contingency_table.transpose()\\n    return contingency_table\";\n",
       "                var nbb_cells = Jupyter.notebook.get_cells();\n",
       "                for (var i = 0; i < nbb_cells.length; ++i) {\n",
       "                    if (nbb_cells[i].input_prompt_number == nbb_cell_id) {\n",
       "                        if (nbb_cells[i].get_text() == nbb_unformatted_code) {\n",
       "                             nbb_cells[i].set_text(nbb_formatted_code);\n",
       "                        }\n",
       "                        break;\n",
       "                    }\n",
       "                }\n",
       "            }, 500);\n",
       "            "
      ],
      "text/plain": [
       "<IPython.core.display.Javascript object>"
      ]
     },
     "metadata": {},
     "output_type": "display_data"
    }
   ],
   "source": [
    "def build_contingency_table_from_single_topic(\n",
    "    relation_models_path, relation_models, topic_of_interest, no_entities=10\n",
    "):\n",
    "    \"\"\"\n",
    "    This function builds a contingency table from a input list of relation models generated with relation_miner.py \n",
    "    in regards to predetermined topic [TOPIC_OF_INTEREST].\n",
    "    The first model in [RELATION_MODELS] is the reference model all other models will be compared with.\n",
    "    The function extracts the top [NO_ENTITIES] co_occuring entities from the model and builds a contingency table.\n",
    "    \n",
    "    input:  relation_models = list\n",
    "            relation_models_path = str \n",
    "            topic_of_interest = str           \n",
    "            no_entities = int (standard 10)\n",
    "            \n",
    "    output: contingency_table = pandas DataFrame [rows = different models, columns = entities]\n",
    "    \"\"\"\n",
    "    E1_SYNSET = 0\n",
    "    E2_SYNSET = 1\n",
    "\n",
    "    # initialize DistanceMeasure with reference-model\n",
    "    dm = DistanceMeasure(relation_models_path, str(relation_models[0]))\n",
    "\n",
    "    # extract top NO_ENTITIES entities\n",
    "    top = dm.get_top_co_occurrences(\n",
    "        topic_of_interest,\n",
    "        cutoff=no_entities,\n",
    "        e1_is_synset=E1_SYNSET,\n",
    "        e2_is_synset=E2_SYNSET,\n",
    "    )\n",
    "    # write first row of contingency_table\n",
    "    contingency_table = pd.DataFrame(\n",
    "        np.array([t[1] for t in top]),\n",
    "        index=[t[0] for t in top],\n",
    "        columns=[str(relation_models[0])],\n",
    "    )\n",
    "\n",
    "    # loop through all remaining models\n",
    "    for model in relation_models[1:]:\n",
    "        # initialize db_handler()\n",
    "        db_handler = DBQueryHandlerCoocc(relation_models_path, model)\n",
    "\n",
    "        # buffer for cooccurrences\n",
    "        co_occs = []\n",
    "        # loop through all entities and get number of co-occurrences\n",
    "        for row in contingency_table.index:\n",
    "            co_occs.append(\n",
    "                len(\n",
    "                    list(\n",
    "                        db_handler.select_relations(\n",
    "                            e1=topic_of_interest.lower(),\n",
    "                            e2=row.lower(),\n",
    "                            e1_is_synset=E1_SYNSET,\n",
    "                            e2_is_synset=E2_SYNSET,\n",
    "                        )\n",
    "                    )\n",
    "                )\n",
    "            )\n",
    "\n",
    "        contingency_table[str(model)] = co_occs\n",
    "\n",
    "    # transpose the contingency table to get it into the right format\n",
    "    contingency_table = contingency_table.transpose()\n",
    "    return contingency_table"
   ]
  },
  {
   "cell_type": "code",
   "execution_count": 4,
   "metadata": {},
   "outputs": [
    {
     "data": {
      "application/javascript": [
       "\n",
       "            setTimeout(function() {\n",
       "                var nbb_cell_id = 4;\n",
       "                var nbb_unformatted_code = \"def explain_models(relation_models):\\n    \\\"\\\"\\\"\\n    This function lists the models from the relation_models list and their counter index\\n    \\n    Input: relation_models = list\\n    \\n    Output: None\\n    \\\"\\\"\\\"\\n    i = 0\\n    for model in relation_models:\\n        print(\\\"model(\\\" + str(i) + \\\"): \\\" + str(model))\\n        i += 1\\n    return\";\n",
       "                var nbb_formatted_code = \"def explain_models(relation_models):\\n    \\\"\\\"\\\"\\n    This function lists the models from the relation_models list and their counter index\\n    \\n    Input: relation_models = list\\n    \\n    Output: None\\n    \\\"\\\"\\\"\\n    i = 0\\n    for model in relation_models:\\n        print(\\\"model(\\\" + str(i) + \\\"): \\\" + str(model))\\n        i += 1\\n    return\";\n",
       "                var nbb_cells = Jupyter.notebook.get_cells();\n",
       "                for (var i = 0; i < nbb_cells.length; ++i) {\n",
       "                    if (nbb_cells[i].input_prompt_number == nbb_cell_id) {\n",
       "                        if (nbb_cells[i].get_text() == nbb_unformatted_code) {\n",
       "                             nbb_cells[i].set_text(nbb_formatted_code);\n",
       "                        }\n",
       "                        break;\n",
       "                    }\n",
       "                }\n",
       "            }, 500);\n",
       "            "
      ],
      "text/plain": [
       "<IPython.core.display.Javascript object>"
      ]
     },
     "metadata": {},
     "output_type": "display_data"
    }
   ],
   "source": [
    "def explain_models(relation_models):\n",
    "    \"\"\"\n",
    "    This function lists the models from the relation_models list and their counter index\n",
    "    \n",
    "    Input: relation_models = list\n",
    "    \n",
    "    Output: None\n",
    "    \"\"\"\n",
    "    i = 0\n",
    "    for model in relation_models:\n",
    "        print(\"model(\" + str(i) + \"): \" + str(model))\n",
    "        i += 1\n",
    "    return"
   ]
  },
  {
   "cell_type": "code",
   "execution_count": 5,
   "metadata": {},
   "outputs": [
    {
     "data": {
      "application/javascript": [
       "\n",
       "            setTimeout(function() {\n",
       "                var nbb_cell_id = 5;\n",
       "                var nbb_unformatted_code = \"def build_contingency_table_from_topic_list(\\n    relation_models_path, relation_models, topic_of_interest_list, no_entities=10\\n):\\n    \\\"\\\"\\\"\\n    This function builds a contingency table from a input list of relation models generated with relation_miner.py \\n    in regards to predetermined topic list [topic_of_interest_list].\\n    The first model in [relation_models] is the reference model all other models will be compared with.\\n    The function extracts the top [no_entities] co-occuring entities for the first [topic_of_interest] from the \\n    model and builds a contingency table.\\n    \\n    \\n    input:  relation_models = list\\n            relation_models_path = str \\n            topic_of_interest_list = list           \\n            no_entities = int (standard 10)\\n            \\n    output: contingency_table = pandas DataFrame [rows = different models, columns = entities]\\n    \\\"\\\"\\\"\\n    # identifier for models in relation_models_list\\n    i = 0\\n    # print models with idx\\n    explain_models(relation_models)\\n\\n    # initialize DistanceMeasure with reference-model\\n    dm = DistanceMeasure(relation_models_path, str(relation_models[0]))\\n\\n    # extract top NO_ENTITIES entities\\n    top = dm.get_top_co_occurrences(\\n        topic_of_interest_list[0], cutoff=no_entities, e1_is_synset=0, e2_is_synset=0\\n    )\\n    # write first row of contingency_table\\n    contingency_table = pd.DataFrame(\\n        np.array([t[1] for t in top]),\\n        index=[t[0] for t in top],\\n        columns=[str(topic_of_interest_list[0]) + \\\" (\\\" + str(i) + \\\")\\\"],\\n    )\\n\\n    # loop through the models\\n    for model in relation_models[:]:\\n        # initialize db_handler()\\n        db_handler = DBQueryHandlerCoocc(relation_models_path, model)\\n\\n        for topic in topic_of_interest_list:\\n            # buffer for co-occurrencces\\n            co_occs = []\\n\\n            # loop through all all entities and get number of co-occurrences\\n            for row in contingency_table.index:\\n                co_occs.append(\\n                    len(\\n                        list(\\n                            db_handler.select_relations(\\n                                e1=topic.lower(),\\n                                e2=row.lower(),\\n                                e1_is_synset=0,\\n                                e2_is_synset=0,\\n                            )\\n                        )\\n                    )\\n                )\\n            contingency_table[str(topic) + \\\" (\\\" + str(i) + \\\")\\\"] = co_occs\\n\\n        i += 1\\n\\n    # transpose the contingency table to get it into the right format\\n    contingency_table = contingency_table.transpose()\\n\\n    return contingency_table\";\n",
       "                var nbb_formatted_code = \"def build_contingency_table_from_topic_list(\\n    relation_models_path, relation_models, topic_of_interest_list, no_entities=10\\n):\\n    \\\"\\\"\\\"\\n    This function builds a contingency table from a input list of relation models generated with relation_miner.py \\n    in regards to predetermined topic list [topic_of_interest_list].\\n    The first model in [relation_models] is the reference model all other models will be compared with.\\n    The function extracts the top [no_entities] co-occuring entities for the first [topic_of_interest] from the \\n    model and builds a contingency table.\\n    \\n    \\n    input:  relation_models = list\\n            relation_models_path = str \\n            topic_of_interest_list = list           \\n            no_entities = int (standard 10)\\n            \\n    output: contingency_table = pandas DataFrame [rows = different models, columns = entities]\\n    \\\"\\\"\\\"\\n    # identifier for models in relation_models_list\\n    i = 0\\n    # print models with idx\\n    explain_models(relation_models)\\n\\n    # initialize DistanceMeasure with reference-model\\n    dm = DistanceMeasure(relation_models_path, str(relation_models[0]))\\n\\n    # extract top NO_ENTITIES entities\\n    top = dm.get_top_co_occurrences(\\n        topic_of_interest_list[0], cutoff=no_entities, e1_is_synset=0, e2_is_synset=0\\n    )\\n    # write first row of contingency_table\\n    contingency_table = pd.DataFrame(\\n        np.array([t[1] for t in top]),\\n        index=[t[0] for t in top],\\n        columns=[str(topic_of_interest_list[0]) + \\\" (\\\" + str(i) + \\\")\\\"],\\n    )\\n\\n    # loop through the models\\n    for model in relation_models[:]:\\n        # initialize db_handler()\\n        db_handler = DBQueryHandlerCoocc(relation_models_path, model)\\n\\n        for topic in topic_of_interest_list:\\n            # buffer for co-occurrencces\\n            co_occs = []\\n\\n            # loop through all all entities and get number of co-occurrences\\n            for row in contingency_table.index:\\n                co_occs.append(\\n                    len(\\n                        list(\\n                            db_handler.select_relations(\\n                                e1=topic.lower(),\\n                                e2=row.lower(),\\n                                e1_is_synset=0,\\n                                e2_is_synset=0,\\n                            )\\n                        )\\n                    )\\n                )\\n            contingency_table[str(topic) + \\\" (\\\" + str(i) + \\\")\\\"] = co_occs\\n\\n        i += 1\\n\\n    # transpose the contingency table to get it into the right format\\n    contingency_table = contingency_table.transpose()\\n\\n    return contingency_table\";\n",
       "                var nbb_cells = Jupyter.notebook.get_cells();\n",
       "                for (var i = 0; i < nbb_cells.length; ++i) {\n",
       "                    if (nbb_cells[i].input_prompt_number == nbb_cell_id) {\n",
       "                        if (nbb_cells[i].get_text() == nbb_unformatted_code) {\n",
       "                             nbb_cells[i].set_text(nbb_formatted_code);\n",
       "                        }\n",
       "                        break;\n",
       "                    }\n",
       "                }\n",
       "            }, 500);\n",
       "            "
      ],
      "text/plain": [
       "<IPython.core.display.Javascript object>"
      ]
     },
     "metadata": {},
     "output_type": "display_data"
    }
   ],
   "source": [
    "def build_contingency_table_from_topic_list(\n",
    "    relation_models_path, relation_models, topic_of_interest_list, no_entities=10\n",
    "):\n",
    "    \"\"\"\n",
    "    This function builds a contingency table from a input list of relation models generated with relation_miner.py \n",
    "    in regards to predetermined topic list [topic_of_interest_list].\n",
    "    The first model in [relation_models] is the reference model all other models will be compared with.\n",
    "    The function extracts the top [no_entities] co-occuring entities for the first [topic_of_interest] from the \n",
    "    model and builds a contingency table.\n",
    "    \n",
    "    \n",
    "    input:  relation_models = list\n",
    "            relation_models_path = str \n",
    "            topic_of_interest_list = list           \n",
    "            no_entities = int (standard 10)\n",
    "            \n",
    "    output: contingency_table = pandas DataFrame [rows = different models, columns = entities]\n",
    "    \"\"\"\n",
    "    # identifier for models in relation_models_list\n",
    "    i = 0\n",
    "    # print models with idx\n",
    "    explain_models(relation_models)\n",
    "\n",
    "    # initialize DistanceMeasure with reference-model\n",
    "    dm = DistanceMeasure(relation_models_path, str(relation_models[0]))\n",
    "\n",
    "    # extract top NO_ENTITIES entities\n",
    "    top = dm.get_top_co_occurrences(\n",
    "        topic_of_interest_list[0], cutoff=no_entities, e1_is_synset=0, e2_is_synset=0\n",
    "    )\n",
    "    # write first row of contingency_table\n",
    "    contingency_table = pd.DataFrame(\n",
    "        np.array([t[1] for t in top]),\n",
    "        index=[t[0] for t in top],\n",
    "        columns=[str(topic_of_interest_list[0]) + \" (\" + str(i) + \")\"],\n",
    "    )\n",
    "\n",
    "    # loop through the models\n",
    "    for model in relation_models[:]:\n",
    "        # initialize db_handler()\n",
    "        db_handler = DBQueryHandlerCoocc(relation_models_path, model)\n",
    "\n",
    "        for topic in topic_of_interest_list:\n",
    "            # buffer for co-occurrencces\n",
    "            co_occs = []\n",
    "\n",
    "            # loop through all all entities and get number of co-occurrences\n",
    "            for row in contingency_table.index:\n",
    "                co_occs.append(\n",
    "                    len(\n",
    "                        list(\n",
    "                            db_handler.select_relations(\n",
    "                                e1=topic.lower(),\n",
    "                                e2=row.lower(),\n",
    "                                e1_is_synset=0,\n",
    "                                e2_is_synset=0,\n",
    "                            )\n",
    "                        )\n",
    "                    )\n",
    "                )\n",
    "            contingency_table[str(topic) + \" (\" + str(i) + \")\"] = co_occs\n",
    "\n",
    "        i += 1\n",
    "\n",
    "    # transpose the contingency table to get it into the right format\n",
    "    contingency_table = contingency_table.transpose()\n",
    "\n",
    "    return contingency_table"
   ]
  },
  {
   "cell_type": "code",
   "execution_count": 6,
   "metadata": {},
   "outputs": [
    {
     "data": {
      "application/javascript": [
       "\n",
       "            setTimeout(function() {\n",
       "                var nbb_cell_id = 6;\n",
       "                var nbb_unformatted_code = \"def compare_entity_lists(\\n    relation_models_path, relation_models, topic_list1, topic_list2\\n):\\n    \\\"\\\"\\\"\\n    This function creates a contingency table from a two input lists of entities [topic_list1][topic_list2]\\n    from a list of relation models \\n    \\n    input:  relation_models = list\\n            relation_models_path = str \\n            topic_list1 = list           \\n            topic_list2 = list\\n            \\n    output: contingency_table = pandas DataFrame [rows = different models, columns = entities]\\n    \\\"\\\"\\\"\\n    # idx for models\\n    i = 0\\n\\n    # print models with idx\\n    explain_models(relation_models)\\n\\n    # initialize contingency_table\\n    contingency_table = pd.DataFrame(index=topic_list2)\\n\\n    # loop through the models\\n    for model in relation_models:\\n        # initialize db_handler()\\n        db_handler = DBQueryHandlerCoocc(relation_models_path, model)\\n\\n        for topic1 in topic_list1:\\n            # buffer for co-occurrencces\\n            co_occs = []\\n\\n            # loop through all all entities and get number of co-occurrences\\n            for topic2 in topic_list2:\\n                co_occs.append(\\n                    len(\\n                        list(\\n                            db_handler.select_relations(\\n                                e1=topic1.lower(),\\n                                e2=topic2.lower(),\\n                                e1_is_synset=0,\\n                                e2_is_synset=0,\\n                            )\\n                        )\\n                    )\\n                )\\n            contingency_table[str(topic1) + \\\" (\\\" + str(i) + \\\")\\\"] = co_occs\\n\\n        i += 1\\n\\n    # transpose the contingency table to get it into the right format\\n    contingency_table = contingency_table.transpose()\\n\\n    return contingency_table\";\n",
       "                var nbb_formatted_code = \"def compare_entity_lists(\\n    relation_models_path, relation_models, topic_list1, topic_list2\\n):\\n    \\\"\\\"\\\"\\n    This function creates a contingency table from a two input lists of entities [topic_list1][topic_list2]\\n    from a list of relation models \\n    \\n    input:  relation_models = list\\n            relation_models_path = str \\n            topic_list1 = list           \\n            topic_list2 = list\\n            \\n    output: contingency_table = pandas DataFrame [rows = different models, columns = entities]\\n    \\\"\\\"\\\"\\n    # idx for models\\n    i = 0\\n\\n    # print models with idx\\n    explain_models(relation_models)\\n\\n    # initialize contingency_table\\n    contingency_table = pd.DataFrame(index=topic_list2)\\n\\n    # loop through the models\\n    for model in relation_models:\\n        # initialize db_handler()\\n        db_handler = DBQueryHandlerCoocc(relation_models_path, model)\\n\\n        for topic1 in topic_list1:\\n            # buffer for co-occurrencces\\n            co_occs = []\\n\\n            # loop through all all entities and get number of co-occurrences\\n            for topic2 in topic_list2:\\n                co_occs.append(\\n                    len(\\n                        list(\\n                            db_handler.select_relations(\\n                                e1=topic1.lower(),\\n                                e2=topic2.lower(),\\n                                e1_is_synset=0,\\n                                e2_is_synset=0,\\n                            )\\n                        )\\n                    )\\n                )\\n            contingency_table[str(topic1) + \\\" (\\\" + str(i) + \\\")\\\"] = co_occs\\n\\n        i += 1\\n\\n    # transpose the contingency table to get it into the right format\\n    contingency_table = contingency_table.transpose()\\n\\n    return contingency_table\";\n",
       "                var nbb_cells = Jupyter.notebook.get_cells();\n",
       "                for (var i = 0; i < nbb_cells.length; ++i) {\n",
       "                    if (nbb_cells[i].input_prompt_number == nbb_cell_id) {\n",
       "                        if (nbb_cells[i].get_text() == nbb_unformatted_code) {\n",
       "                             nbb_cells[i].set_text(nbb_formatted_code);\n",
       "                        }\n",
       "                        break;\n",
       "                    }\n",
       "                }\n",
       "            }, 500);\n",
       "            "
      ],
      "text/plain": [
       "<IPython.core.display.Javascript object>"
      ]
     },
     "metadata": {},
     "output_type": "display_data"
    }
   ],
   "source": [
    "def compare_entity_lists(\n",
    "    relation_models_path, relation_models, topic_list1, topic_list2\n",
    "):\n",
    "    \"\"\"\n",
    "    This function creates a contingency table from a two input lists of entities [topic_list1][topic_list2]\n",
    "    from a list of relation models \n",
    "    \n",
    "    input:  relation_models = list\n",
    "            relation_models_path = str \n",
    "            topic_list1 = list           \n",
    "            topic_list2 = list\n",
    "            \n",
    "    output: contingency_table = pandas DataFrame [rows = different models, columns = entities]\n",
    "    \"\"\"\n",
    "    # idx for models\n",
    "    i = 0\n",
    "\n",
    "    # print models with idx\n",
    "    explain_models(relation_models)\n",
    "\n",
    "    # initialize contingency_table\n",
    "    contingency_table = pd.DataFrame(index=topic_list2)\n",
    "\n",
    "    # loop through the models\n",
    "    for model in relation_models:\n",
    "        # initialize db_handler()\n",
    "        db_handler = DBQueryHandlerCoocc(relation_models_path, model)\n",
    "\n",
    "        for topic1 in topic_list1:\n",
    "            # buffer for co-occurrencces\n",
    "            co_occs = []\n",
    "\n",
    "            # loop through all all entities and get number of co-occurrences\n",
    "            for topic2 in topic_list2:\n",
    "                co_occs.append(\n",
    "                    len(\n",
    "                        list(\n",
    "                            db_handler.select_relations(\n",
    "                                e1=topic1.lower(),\n",
    "                                e2=topic2.lower(),\n",
    "                                e1_is_synset=0,\n",
    "                                e2_is_synset=0,\n",
    "                            )\n",
    "                        )\n",
    "                    )\n",
    "                )\n",
    "            contingency_table[str(topic1) + \" (\" + str(i) + \")\"] = co_occs\n",
    "\n",
    "        i += 1\n",
    "\n",
    "    # transpose the contingency table to get it into the right format\n",
    "    contingency_table = contingency_table.transpose()\n",
    "\n",
    "    return contingency_table"
   ]
  },
  {
   "cell_type": "code",
   "execution_count": 7,
   "metadata": {},
   "outputs": [
    {
     "data": {
      "application/javascript": [
       "\n",
       "            setTimeout(function() {\n",
       "                var nbb_cell_id = 7;\n",
       "                var nbb_unformatted_code = \"def chi_squared(contingency_table, print_orig = False, print_expect = False, print_chi_contr = False):\\n    \\\"\\\"\\\"\\n    This function conducts a chi-squared test of independence between the different rows of a contingency table\\n    \\n    input: contingency_table\\n    \\n    ouput: None\\n    \\\"\\\"\\\"\\n    contingency_table = sm.stats.Table(contingency_table)\\n    results = contingency_table.test_nominal_association()\\n    \\n    \\n    # orig contingency table\\n    if print_orig == True:\\n        print(\\\"Original contingency table:\\\")\\n        print(contingency_table.table_orig)\\n    # expected values\\n    if print_expect == True:\\n        print(\\\"\\\\nExpected values:\\\")\\n        print(contingency_table.fittedvalues)\\n    # chi-squared contributions\\n    if print_chi_contr == True:\\n        print(\\\"\\\\nChi-square contributions:\\\")\\n        print(contingency_table.chi2_contribs)\\n    \\n    # results\\n    print(\\\"\\\\nResults:\\\")\\n    print(results)\\n\\n   \\n    return\";\n",
       "                var nbb_formatted_code = \"def chi_squared(\\n    contingency_table, print_orig=False, print_expect=False, print_chi_contr=False\\n):\\n    \\\"\\\"\\\"\\n    This function conducts a chi-squared test of independence between the different rows of a contingency table\\n    \\n    input: contingency_table\\n    \\n    ouput: None\\n    \\\"\\\"\\\"\\n    contingency_table = sm.stats.Table(contingency_table)\\n    results = contingency_table.test_nominal_association()\\n\\n    # orig contingency table\\n    if print_orig == True:\\n        print(\\\"Original contingency table:\\\")\\n        print(contingency_table.table_orig)\\n    # expected values\\n    if print_expect == True:\\n        print(\\\"\\\\nExpected values:\\\")\\n        print(contingency_table.fittedvalues)\\n    # chi-squared contributions\\n    if print_chi_contr == True:\\n        print(\\\"\\\\nChi-square contributions:\\\")\\n        print(contingency_table.chi2_contribs)\\n\\n    # results\\n    print(\\\"\\\\nResults:\\\")\\n    print(results)\\n\\n    return\";\n",
       "                var nbb_cells = Jupyter.notebook.get_cells();\n",
       "                for (var i = 0; i < nbb_cells.length; ++i) {\n",
       "                    if (nbb_cells[i].input_prompt_number == nbb_cell_id) {\n",
       "                        if (nbb_cells[i].get_text() == nbb_unformatted_code) {\n",
       "                             nbb_cells[i].set_text(nbb_formatted_code);\n",
       "                        }\n",
       "                        break;\n",
       "                    }\n",
       "                }\n",
       "            }, 500);\n",
       "            "
      ],
      "text/plain": [
       "<IPython.core.display.Javascript object>"
      ]
     },
     "metadata": {},
     "output_type": "display_data"
    }
   ],
   "source": [
    "def chi_squared(contingency_table, print_orig = False, print_expect = False, print_chi_contr = False):\n",
    "    \"\"\"\n",
    "    This function conducts a chi-squared test of independence between the different rows of a contingency table\n",
    "    \n",
    "    input: contingency_table\n",
    "    \n",
    "    ouput: None\n",
    "    \"\"\"\n",
    "    contingency_table = sm.stats.Table(contingency_table)\n",
    "    results = contingency_table.test_nominal_association()\n",
    "    \n",
    "    \n",
    "    # orig contingency table\n",
    "    if print_orig == True:\n",
    "        print(\"Original contingency table:\")\n",
    "        print(contingency_table.table_orig)\n",
    "    # expected values\n",
    "    if print_expect == True:\n",
    "        print(\"\\nExpected values:\")\n",
    "        print(contingency_table.fittedvalues)\n",
    "    # chi-squared contributions\n",
    "    if print_chi_contr == True:\n",
    "        print(\"\\nChi-square contributions:\")\n",
    "        print(contingency_table.chi2_contribs)\n",
    "    \n",
    "    # results\n",
    "    print(\"\\nResults:\")\n",
    "    print(results)\n",
    "\n",
    "   \n",
    "    return\n"
   ]
  },
  {
   "cell_type": "code",
   "execution_count": 8,
   "metadata": {},
   "outputs": [
    {
     "data": {
      "application/javascript": [
       "\n",
       "            setTimeout(function() {\n",
       "                var nbb_cell_id = 8;\n",
       "                var nbb_unformatted_code = \"def do_chi_squared_comparison(\\n    relation_models_path, relation_models, topic_of_interest, no_entities\\n):\\n    \\\"\\\"\\\"\\n    This function extracts chi-squared test results for all combinations of news-outlets\\n    \\n    input: contingency_table\\n    \\n    ouput: None\\n    \\\"\\\"\\\"\\n\\n    # extracting a contingency table from a single reference entity\\n    i = 0\\n    j = 0\\n\\n    df_results = pd.DataFrame()\\n\\n    for i in range(len(relation_models)):\\n        for j in range(len(relation_models)):\\n            models = []\\n            models = [relation_models[i]] + [relation_models[j]]\\n\\n            contingency_table = build_contingency_table_from_single_topic(\\n                relation_models_path, models, topic_of_interest, no_entities\\n            )\\n\\n            contingency_table = sm.stats.Table(contingency_table)\\n            results = contingency_table.test_nominal_association()\\n\\n            df_results[\\n                str(relation_models[i][-10:-7])\\n                + \\\" - \\\"\\n                + str(relation_models[j][-10:-7])\\n            ] = [\\n                results.statistic,\\n                results.pvalue,\\n            ]\\n\\n    df_results = df_results.transpose()\\n    df_results = df_results.rename(columns={0: \\\"chi_sq\\\", 1: \\\"p_value\\\"})\\n    df_results\\n\\n    return df_results\";\n",
       "                var nbb_formatted_code = \"def do_chi_squared_comparison(\\n    relation_models_path, relation_models, topic_of_interest, no_entities\\n):\\n    \\\"\\\"\\\"\\n    This function extracts chi-squared test results for all combinations of news-outlets\\n    \\n    input: contingency_table\\n    \\n    ouput: None\\n    \\\"\\\"\\\"\\n\\n    # extracting a contingency table from a single reference entity\\n    i = 0\\n    j = 0\\n\\n    df_results = pd.DataFrame()\\n\\n    for i in range(len(relation_models)):\\n        for j in range(len(relation_models)):\\n            models = []\\n            models = [relation_models[i]] + [relation_models[j]]\\n\\n            contingency_table = build_contingency_table_from_single_topic(\\n                relation_models_path, models, topic_of_interest, no_entities\\n            )\\n\\n            contingency_table = sm.stats.Table(contingency_table)\\n            results = contingency_table.test_nominal_association()\\n\\n            df_results[\\n                str(relation_models[i][-10:-7])\\n                + \\\" - \\\"\\n                + str(relation_models[j][-10:-7])\\n            ] = [\\n                results.statistic,\\n                results.pvalue,\\n            ]\\n\\n    df_results = df_results.transpose()\\n    df_results = df_results.rename(columns={0: \\\"chi_sq\\\", 1: \\\"p_value\\\"})\\n    df_results\\n\\n    return df_results\";\n",
       "                var nbb_cells = Jupyter.notebook.get_cells();\n",
       "                for (var i = 0; i < nbb_cells.length; ++i) {\n",
       "                    if (nbb_cells[i].input_prompt_number == nbb_cell_id) {\n",
       "                        if (nbb_cells[i].get_text() == nbb_unformatted_code) {\n",
       "                             nbb_cells[i].set_text(nbb_formatted_code);\n",
       "                        }\n",
       "                        break;\n",
       "                    }\n",
       "                }\n",
       "            }, 500);\n",
       "            "
      ],
      "text/plain": [
       "<IPython.core.display.Javascript object>"
      ]
     },
     "metadata": {},
     "output_type": "display_data"
    }
   ],
   "source": [
    "def do_chi_squared_comparison(\n",
    "    relation_models_path, relation_models, topic_of_interest, no_entities\n",
    "):\n",
    "    \"\"\"\n",
    "    This function extracts chi-squared test results for all combinations of news-outlets\n",
    "    \n",
    "    input: contingency_table\n",
    "    \n",
    "    ouput: None\n",
    "    \"\"\"\n",
    "\n",
    "    # extracting a contingency table from a single reference entity\n",
    "    i = 0\n",
    "    j = 0\n",
    "\n",
    "    df_results = pd.DataFrame()\n",
    "\n",
    "    for i in range(len(relation_models)):\n",
    "        for j in range(len(relation_models)):\n",
    "            models = []\n",
    "            models = [relation_models[i]] + [relation_models[j]]\n",
    "\n",
    "            contingency_table = build_contingency_table_from_single_topic(\n",
    "                relation_models_path, models, topic_of_interest, no_entities\n",
    "            )\n",
    "\n",
    "            contingency_table = sm.stats.Table(contingency_table)\n",
    "            results = contingency_table.test_nominal_association()\n",
    "\n",
    "            df_results[\n",
    "                str(relation_models[i][-10:-7])\n",
    "                + \" - \"\n",
    "                + str(relation_models[j][-10:-7])\n",
    "            ] = [\n",
    "                results.statistic,\n",
    "                results.pvalue,\n",
    "            ]\n",
    "\n",
    "    df_results = df_results.transpose()\n",
    "    df_results = df_results.rename(columns={0: \"chi_sq\", 1: \"p_value\"})\n",
    "    df_results\n",
    "\n",
    "    return df_results"
   ]
  },
  {
   "cell_type": "code",
   "execution_count": 9,
   "metadata": {},
   "outputs": [
    {
     "data": {
      "application/javascript": [
       "\n",
       "            setTimeout(function() {\n",
       "                var nbb_cell_id = 9;\n",
       "                var nbb_unformatted_code = \"def entity_sentiment(reference_model):\\n    \\\"\\\"\\\"\\n    This function calculates the sentiment of the top co-occurring entities between a reference news outlet \\n    [reference_model] and other models. The sentiment is calculated of sentences which contain the co-occurring entity\\n    and neighbouring sentences within the scope of [SCOPE] sentences.\\n    Returns a dataframe with all necessary information\\n    \\n    Input:    reference_model (string)\\n              models (list)\\n              topic_of_interest (string)\\n    \\n    Output:   df_results (df)\\n    \\\"\\\"\\\"\\n    models = RELATION_MODELS\\n    topic_of_interest = TOPIC_OF_INTEREST\\n\\n    # initialize sentiment ananlyzer\\n    sid = SentimentIntensityAnalyzer()\\n    # extract list of top co-occurring entities\\n    dm = DistanceMeasure(RELATION_MODELS_PATH, str(reference_model))\\n    top = dm.get_top_co_occurrences(\\n        topic_of_interest, cutoff=NO_ENTITIES, e1_is_synset=0, e2_is_synset=1,\\n    )\\n    for i in range(len(top)):\\n        top[i] = top[i][0][:-5]\\n        top[i] = top[i].replace(\\\"_\\\", \\\" \\\")\\n\\n    df_results = pd.DataFrame()\\n\\n    # loop through all models\\n    for model in tqdm(models):\\n        if model == reference_model:\\n            continue\\n        else:\\n            # initialize db_handler\\n            description = str(str(reference_model[-10:-7]) + \\\"-\\\" + str(model[-10:-7]))\\n            db_handler = DBQueryHandlerCoocc(RELATION_MODELS_PATH, model)\\n            for topic in top:\\n                # retrieve co-occurrences without synsets\\n                articles = db_handler.get_articles_by_substring_text(topic)\\n                # convert generator (for count)\\n                articles = list(articles)\\n\\n                sentiment_of_topic = []\\n                try:\\n                    for single_article in articles:\\n                        # get text, lower it and tokenize it into sentences\\n                        article = single_article.text\\n                        article = article.lower()\\n                        article_tokenized = tokenizer.tokenize(article)\\n\\n                        # append buffers in the beginning and the end, in case the scope is overflowing\\n                        for i in range(0, SCOPE):\\n                            article_tokenized.append(\\\"buffer\\\")\\n                            article_tokenized.insert(0, \\\"buffer\\\")\\n\\n                        # extract compound sentiment score of each sector in a scope around the sentence\\n                        # in which the entity is mentioned\\n                        for line in range(0, len(article_tokenized)):\\n                            if TOPIC_OF_INTEREST in article_tokenized[line]:\\n                                sector = []\\n                                for i in range(line - SCOPE, line + 1 + SCOPE):\\n                                    sentiment = sid.polarity_scores(\\n                                        article_tokenized[i]\\n                                    )\\n                                    sector.append(sentiment[\\\"compound\\\"])\\n\\n                                # final sentiment as mean for the sector\\n                                final_sentiment = statistics.mean(sector)\\n                                # sentiment of topic as list for all final sentiments\\n                                sentiment_of_topic.append(final_sentiment)\\n\\n                    # extract parameters and print\\n                    mean_sentiment = statistics.mean(sentiment_of_topic)\\n                    median_sentiment = statistics.median(sentiment_of_topic)\\n                    \\\"\\\"\\\"\\n                    print(\\\"=\\\" * 100)\\n                    print(\\\"outlet: \\\" + description)\\n                    print(\\\"topic: \\\" + topic)\\n                    print(\\\"mean sentiment: \\\" + str(mean_sentiment))\\n                    print(\\\"median sentiment: \\\" + str(median_sentiment))\\n                    print(\\\"\\\\n\\\")\\n                    \\\"\\\"\\\"\\n                    results = [\\n                        [\\n                            str(reference_model[-10:-7]),\\n                            str(model[-10:-7]),\\n                            topic,\\n                            mean_sentiment,\\n                            median_sentiment,\\n                        ]\\n                    ]\\n                    df_results = df_results.append(results)\\n                except:\\n                    fail = [\\n                        [\\n                            str(reference_model[-10:-7]),\\n                            str(model[-10:-7]),\\n                            topic,\\n                            \\\"NaN\\\",\\n                            \\\"NaN\\\",\\n                        ]\\n                    ]\\n                    df_results = df_results.append(fail)\\n    df_results = df_results.rename(\\n        columns={\\n            0: \\\"reference\\\",\\n            1: \\\"comparison\\\",\\n            2: \\\"topic\\\",\\n            3: \\\"mean_sentiment\\\",\\n            4: \\\"median_sentiment\\\",\\n        }\\n    )\\n    df_results.reset_index()\\n    return df_results\";\n",
       "                var nbb_formatted_code = \"def entity_sentiment(reference_model):\\n    \\\"\\\"\\\"\\n    This function calculates the sentiment of the top co-occurring entities between a reference news outlet \\n    [reference_model] and other models. The sentiment is calculated of sentences which contain the co-occurring entity\\n    and neighbouring sentences within the scope of [SCOPE] sentences.\\n    Returns a dataframe with all necessary information\\n    \\n    Input:    reference_model (string)\\n              models (list)\\n              topic_of_interest (string)\\n    \\n    Output:   df_results (df)\\n    \\\"\\\"\\\"\\n    models = RELATION_MODELS\\n    topic_of_interest = TOPIC_OF_INTEREST\\n\\n    # initialize sentiment ananlyzer\\n    sid = SentimentIntensityAnalyzer()\\n    # extract list of top co-occurring entities\\n    dm = DistanceMeasure(RELATION_MODELS_PATH, str(reference_model))\\n    top = dm.get_top_co_occurrences(\\n        topic_of_interest, cutoff=NO_ENTITIES, e1_is_synset=0, e2_is_synset=1,\\n    )\\n    for i in range(len(top)):\\n        top[i] = top[i][0][:-5]\\n        top[i] = top[i].replace(\\\"_\\\", \\\" \\\")\\n\\n    df_results = pd.DataFrame()\\n\\n    # loop through all models\\n    for model in tqdm(models):\\n        if model == reference_model:\\n            continue\\n        else:\\n            # initialize db_handler\\n            description = str(str(reference_model[-10:-7]) + \\\"-\\\" + str(model[-10:-7]))\\n            db_handler = DBQueryHandlerCoocc(RELATION_MODELS_PATH, model)\\n            for topic in top:\\n                # retrieve co-occurrences without synsets\\n                articles = db_handler.get_articles_by_substring_text(topic)\\n                # convert generator (for count)\\n                articles = list(articles)\\n\\n                sentiment_of_topic = []\\n                try:\\n                    for single_article in articles:\\n                        # get text, lower it and tokenize it into sentences\\n                        article = single_article.text\\n                        article = article.lower()\\n                        article_tokenized = tokenizer.tokenize(article)\\n\\n                        # append buffers in the beginning and the end, in case the scope is overflowing\\n                        for i in range(0, SCOPE):\\n                            article_tokenized.append(\\\"buffer\\\")\\n                            article_tokenized.insert(0, \\\"buffer\\\")\\n\\n                        # extract compound sentiment score of each sector in a scope around the sentence\\n                        # in which the entity is mentioned\\n                        for line in range(0, len(article_tokenized)):\\n                            if TOPIC_OF_INTEREST in article_tokenized[line]:\\n                                sector = []\\n                                for i in range(line - SCOPE, line + 1 + SCOPE):\\n                                    sentiment = sid.polarity_scores(\\n                                        article_tokenized[i]\\n                                    )\\n                                    sector.append(sentiment[\\\"compound\\\"])\\n\\n                                # final sentiment as mean for the sector\\n                                final_sentiment = statistics.mean(sector)\\n                                # sentiment of topic as list for all final sentiments\\n                                sentiment_of_topic.append(final_sentiment)\\n\\n                    # extract parameters and print\\n                    mean_sentiment = statistics.mean(sentiment_of_topic)\\n                    median_sentiment = statistics.median(sentiment_of_topic)\\n                    \\\"\\\"\\\"\\n                    print(\\\"=\\\" * 100)\\n                    print(\\\"outlet: \\\" + description)\\n                    print(\\\"topic: \\\" + topic)\\n                    print(\\\"mean sentiment: \\\" + str(mean_sentiment))\\n                    print(\\\"median sentiment: \\\" + str(median_sentiment))\\n                    print(\\\"\\\\n\\\")\\n                    \\\"\\\"\\\"\\n                    results = [\\n                        [\\n                            str(reference_model[-10:-7]),\\n                            str(model[-10:-7]),\\n                            topic,\\n                            mean_sentiment,\\n                            median_sentiment,\\n                        ]\\n                    ]\\n                    df_results = df_results.append(results)\\n                except:\\n                    fail = [\\n                        [\\n                            str(reference_model[-10:-7]),\\n                            str(model[-10:-7]),\\n                            topic,\\n                            \\\"NaN\\\",\\n                            \\\"NaN\\\",\\n                        ]\\n                    ]\\n                    df_results = df_results.append(fail)\\n    df_results = df_results.rename(\\n        columns={\\n            0: \\\"reference\\\",\\n            1: \\\"comparison\\\",\\n            2: \\\"topic\\\",\\n            3: \\\"mean_sentiment\\\",\\n            4: \\\"median_sentiment\\\",\\n        }\\n    )\\n    df_results.reset_index()\\n    return df_results\";\n",
       "                var nbb_cells = Jupyter.notebook.get_cells();\n",
       "                for (var i = 0; i < nbb_cells.length; ++i) {\n",
       "                    if (nbb_cells[i].input_prompt_number == nbb_cell_id) {\n",
       "                        if (nbb_cells[i].get_text() == nbb_unformatted_code) {\n",
       "                             nbb_cells[i].set_text(nbb_formatted_code);\n",
       "                        }\n",
       "                        break;\n",
       "                    }\n",
       "                }\n",
       "            }, 500);\n",
       "            "
      ],
      "text/plain": [
       "<IPython.core.display.Javascript object>"
      ]
     },
     "metadata": {},
     "output_type": "display_data"
    }
   ],
   "source": [
    "def entity_sentiment(reference_model):\n",
    "    \"\"\"\n",
    "    This function calculates the sentiment of the top co-occurring entities between a reference news outlet \n",
    "    [reference_model] and other models. The sentiment is calculated of sentences which contain the co-occurring entity\n",
    "    and neighbouring sentences within the scope of [SCOPE] sentences.\n",
    "    Returns a dataframe with all necessary information\n",
    "    \n",
    "    Input:    reference_model (string)\n",
    "              models (list)\n",
    "              topic_of_interest (string)\n",
    "    \n",
    "    Output:   df_results (df)\n",
    "    \"\"\"\n",
    "    models = RELATION_MODELS\n",
    "    topic_of_interest = TOPIC_OF_INTEREST\n",
    "\n",
    "    # initialize sentiment ananlyzer\n",
    "    sid = SentimentIntensityAnalyzer()\n",
    "    # extract list of top co-occurring entities\n",
    "    dm = DistanceMeasure(RELATION_MODELS_PATH, str(reference_model))\n",
    "    top = dm.get_top_co_occurrences(\n",
    "        topic_of_interest, cutoff=NO_ENTITIES, e1_is_synset=0, e2_is_synset=1,\n",
    "    )\n",
    "    for i in range(len(top)):\n",
    "        top[i] = top[i][0][:-5]\n",
    "        top[i] = top[i].replace(\"_\", \" \")\n",
    "\n",
    "    df_results = pd.DataFrame()\n",
    "\n",
    "    # loop through all models\n",
    "    for model in tqdm(models):\n",
    "        if model == reference_model:\n",
    "            continue\n",
    "        else:\n",
    "            # initialize db_handler\n",
    "            description = str(str(reference_model[-10:-7]) + \"-\" + str(model[-10:-7]))\n",
    "            db_handler = DBQueryHandlerCoocc(RELATION_MODELS_PATH, model)\n",
    "            for topic in top:\n",
    "                # retrieve co-occurrences without synsets\n",
    "                articles = db_handler.get_articles_by_substring_text(topic)\n",
    "                # convert generator (for count)\n",
    "                articles = list(articles)\n",
    "\n",
    "                sentiment_of_topic = []\n",
    "                try:\n",
    "                    for single_article in articles:\n",
    "                        # get text, lower it and tokenize it into sentences\n",
    "                        article = single_article.text\n",
    "                        article = article.lower()\n",
    "                        article_tokenized = tokenizer.tokenize(article)\n",
    "\n",
    "                        # append buffers in the beginning and the end, in case the scope is overflowing\n",
    "                        for i in range(0, SCOPE):\n",
    "                            article_tokenized.append(\"buffer\")\n",
    "                            article_tokenized.insert(0, \"buffer\")\n",
    "\n",
    "                        # extract compound sentiment score of each sector in a scope around the sentence\n",
    "                        # in which the entity is mentioned\n",
    "                        for line in range(0, len(article_tokenized)):\n",
    "                            if TOPIC_OF_INTEREST in article_tokenized[line]:\n",
    "                                sector = []\n",
    "                                for i in range(line - SCOPE, line + 1 + SCOPE):\n",
    "                                    sentiment = sid.polarity_scores(\n",
    "                                        article_tokenized[i]\n",
    "                                    )\n",
    "                                    sector.append(sentiment[\"compound\"])\n",
    "\n",
    "                                # final sentiment as mean for the sector\n",
    "                                final_sentiment = statistics.mean(sector)\n",
    "                                # sentiment of topic as list for all final sentiments\n",
    "                                sentiment_of_topic.append(final_sentiment)\n",
    "\n",
    "                    # extract parameters and print\n",
    "                    mean_sentiment = statistics.mean(sentiment_of_topic)\n",
    "                    median_sentiment = statistics.median(sentiment_of_topic)\n",
    "                    \"\"\"\n",
    "                    print(\"=\" * 100)\n",
    "                    print(\"outlet: \" + description)\n",
    "                    print(\"topic: \" + topic)\n",
    "                    print(\"mean sentiment: \" + str(mean_sentiment))\n",
    "                    print(\"median sentiment: \" + str(median_sentiment))\n",
    "                    print(\"\\n\")\n",
    "                    \"\"\"\n",
    "                    results = [\n",
    "                        [\n",
    "                            str(reference_model[-10:-7]),\n",
    "                            str(model[-10:-7]),\n",
    "                            topic,\n",
    "                            mean_sentiment,\n",
    "                            median_sentiment,\n",
    "                        ]\n",
    "                    ]\n",
    "                    df_results = df_results.append(results)\n",
    "                except:\n",
    "                    fail = [\n",
    "                        [\n",
    "                            str(reference_model[-10:-7]),\n",
    "                            str(model[-10:-7]),\n",
    "                            topic,\n",
    "                            \"NaN\",\n",
    "                            \"NaN\",\n",
    "                        ]\n",
    "                    ]\n",
    "                    df_results = df_results.append(fail)\n",
    "    df_results = df_results.rename(\n",
    "        columns={\n",
    "            0: \"reference\",\n",
    "            1: \"comparison\",\n",
    "            2: \"topic\",\n",
    "            3: \"mean_sentiment\",\n",
    "            4: \"median_sentiment\",\n",
    "        }\n",
    "    )\n",
    "    df_results.reset_index()\n",
    "    return df_results"
   ]
  },
  {
   "cell_type": "code",
   "execution_count": 10,
   "metadata": {},
   "outputs": [
    {
     "data": {
      "application/javascript": [
       "\n",
       "            setTimeout(function() {\n",
       "                var nbb_cell_id = 10;\n",
       "                var nbb_unformatted_code = \"def run_kmeans_on_sentiment(df):\\n    \\\"\\\"\\\"\\n    This function runs a k-mean clustering on the sentiment vectors of each given input news-outlet from\\n    the input df and returns a dataframe with the labels of the calculated clusters per entity.\\n\\n    input: df(Dataframe)\\n    \\n    output: df_res(Dataframe)\\n    \\n    \\\"\\\"\\\"\\n\\n    # splitting the df into list of dfs containing only one reference\\n    df_list = [df.loc[i : i + 80 - 1, :] for i in range(0, len(df), 80)]\\n\\n    # list of dataframes, that contain the sorted mean_sentiments of comparisons per reference-news-outlet\\n    entity_frame_list = []\\n\\n    for df_sublist in df_list:\\n        df_sublist = df_sublist.drop(columns=[\\\"reference\\\", \\\"median_sentiment\\\"])\\n        df_sublist = df_sublist.reset_index(drop=True)\\n\\n        df_subsublist = [\\n            df_sublist.loc[j : j + 10 - 1, :] for j in range(0, len(df_sublist), 10)\\n        ]\\n\\n        entity = pd.DataFrame()\\n\\n        for k in range(len(df_subsublist)):\\n            df_subsublist[k] = df_subsublist[k].reset_index(drop=True)\\n            s = df_subsublist[k][\\\"comparison\\\"][0]\\n            df_subsublist[k].index = df_subsublist[k][\\\"topic\\\"]\\n            df_subsublist[k] = df_subsublist[k].transpose()\\n            df_subsublist[k] = df_subsublist[k].drop(\\\"topic\\\")\\n            df_subsublist[k] = df_subsublist[k].drop(\\\"comparison\\\")\\n            df_subsublist[k].index = [s]\\n            entity = entity.append(df_subsublist[k])\\n\\n        entity_frame_list.append(entity)\\n\\n    # run k-means on the the sentiment vectors for each news-outlet and cluster into three groups\\n    df_res = pd.DataFrame(\\n        index=[\\\"NYT\\\", \\\"HFP\\\", \\\"WPO\\\", \\\"CNN\\\", \\\"RET\\\", \\\"NBC\\\", \\\"CTB\\\", \\\"FXN\\\", \\\"WSJ\\\"]\\n    )\\n\\n    for df in entity_frame_list:\\n        # NaNs are taken as neutral sentiment 0\\n        df = df.fillna(0)\\n        # clustering\\n        kmeans = KMeans(n_clusters=3).fit(df)\\n        # centroids = kmeans.cluster_centers_\\n        df[\\\"labels\\\"] = kmeans.labels_\\n\\n        df_res = pd.concat([df_res, df.labels], axis=1, sort=False)\\n\\n    return df_res, entity_frame_list\";\n",
       "                var nbb_formatted_code = \"def run_kmeans_on_sentiment(df):\\n    \\\"\\\"\\\"\\n    This function runs a k-mean clustering on the sentiment vectors of each given input news-outlet from\\n    the input df and returns a dataframe with the labels of the calculated clusters per entity.\\n\\n    input: df(Dataframe)\\n    \\n    output: df_res(Dataframe)\\n    \\n    \\\"\\\"\\\"\\n\\n    # splitting the df into list of dfs containing only one reference\\n    df_list = [df.loc[i : i + 80 - 1, :] for i in range(0, len(df), 80)]\\n\\n    # list of dataframes, that contain the sorted mean_sentiments of comparisons per reference-news-outlet\\n    entity_frame_list = []\\n\\n    for df_sublist in df_list:\\n        df_sublist = df_sublist.drop(columns=[\\\"reference\\\", \\\"median_sentiment\\\"])\\n        df_sublist = df_sublist.reset_index(drop=True)\\n\\n        df_subsublist = [\\n            df_sublist.loc[j : j + 10 - 1, :] for j in range(0, len(df_sublist), 10)\\n        ]\\n\\n        entity = pd.DataFrame()\\n\\n        for k in range(len(df_subsublist)):\\n            df_subsublist[k] = df_subsublist[k].reset_index(drop=True)\\n            s = df_subsublist[k][\\\"comparison\\\"][0]\\n            df_subsublist[k].index = df_subsublist[k][\\\"topic\\\"]\\n            df_subsublist[k] = df_subsublist[k].transpose()\\n            df_subsublist[k] = df_subsublist[k].drop(\\\"topic\\\")\\n            df_subsublist[k] = df_subsublist[k].drop(\\\"comparison\\\")\\n            df_subsublist[k].index = [s]\\n            entity = entity.append(df_subsublist[k])\\n\\n        entity_frame_list.append(entity)\\n\\n    # run k-means on the the sentiment vectors for each news-outlet and cluster into three groups\\n    df_res = pd.DataFrame(\\n        index=[\\\"NYT\\\", \\\"HFP\\\", \\\"WPO\\\", \\\"CNN\\\", \\\"RET\\\", \\\"NBC\\\", \\\"CTB\\\", \\\"FXN\\\", \\\"WSJ\\\"]\\n    )\\n\\n    for df in entity_frame_list:\\n        # NaNs are taken as neutral sentiment 0\\n        df = df.fillna(0)\\n        # clustering\\n        kmeans = KMeans(n_clusters=3).fit(df)\\n        # centroids = kmeans.cluster_centers_\\n        df[\\\"labels\\\"] = kmeans.labels_\\n\\n        df_res = pd.concat([df_res, df.labels], axis=1, sort=False)\\n\\n    return df_res, entity_frame_list\";\n",
       "                var nbb_cells = Jupyter.notebook.get_cells();\n",
       "                for (var i = 0; i < nbb_cells.length; ++i) {\n",
       "                    if (nbb_cells[i].input_prompt_number == nbb_cell_id) {\n",
       "                        if (nbb_cells[i].get_text() == nbb_unformatted_code) {\n",
       "                             nbb_cells[i].set_text(nbb_formatted_code);\n",
       "                        }\n",
       "                        break;\n",
       "                    }\n",
       "                }\n",
       "            }, 500);\n",
       "            "
      ],
      "text/plain": [
       "<IPython.core.display.Javascript object>"
      ]
     },
     "metadata": {},
     "output_type": "display_data"
    }
   ],
   "source": [
    "def run_kmeans_on_sentiment(df):\n",
    "    \"\"\"\n",
    "    This function runs a k-mean clustering on the sentiment vectors of each given input news-outlet from\n",
    "    the input df and returns a dataframe with the labels of the calculated clusters per entity.\n",
    "\n",
    "    input: df(Dataframe)\n",
    "    \n",
    "    output: df_res(Dataframe)\n",
    "    \n",
    "    \"\"\"\n",
    "\n",
    "    # splitting the df into list of dfs containing only one reference\n",
    "    df_list = [df.loc[i : i + 80 - 1, :] for i in range(0, len(df), 80)]\n",
    "\n",
    "    # list of dataframes, that contain the sorted mean_sentiments of comparisons per reference-news-outlet\n",
    "    entity_frame_list = []\n",
    "\n",
    "    for df_sublist in df_list:\n",
    "        df_sublist = df_sublist.drop(columns=[\"reference\", \"median_sentiment\"])\n",
    "        df_sublist = df_sublist.reset_index(drop=True)\n",
    "\n",
    "        df_subsublist = [\n",
    "            df_sublist.loc[j : j + 10 - 1, :] for j in range(0, len(df_sublist), 10)\n",
    "        ]\n",
    "\n",
    "        entity = pd.DataFrame()\n",
    "\n",
    "        for k in range(len(df_subsublist)):\n",
    "            df_subsublist[k] = df_subsublist[k].reset_index(drop=True)\n",
    "            s = df_subsublist[k][\"comparison\"][0]\n",
    "            df_subsublist[k].index = df_subsublist[k][\"topic\"]\n",
    "            df_subsublist[k] = df_subsublist[k].transpose()\n",
    "            df_subsublist[k] = df_subsublist[k].drop(\"topic\")\n",
    "            df_subsublist[k] = df_subsublist[k].drop(\"comparison\")\n",
    "            df_subsublist[k].index = [s]\n",
    "            entity = entity.append(df_subsublist[k])\n",
    "\n",
    "        entity_frame_list.append(entity)\n",
    "\n",
    "    # run k-means on the the sentiment vectors for each news-outlet and cluster into three groups\n",
    "    df_res = pd.DataFrame(\n",
    "        index=[\"NYT\", \"HFP\", \"WPO\", \"CNN\", \"RET\", \"NBC\", \"CTB\", \"FXN\", \"WSJ\"]\n",
    "    )\n",
    "\n",
    "    for df in entity_frame_list:\n",
    "        # NaNs are taken as neutral sentiment 0\n",
    "        df = df.fillna(0)\n",
    "        # clustering\n",
    "        kmeans = KMeans(n_clusters=3).fit(df)\n",
    "        # centroids = kmeans.cluster_centers_\n",
    "        df[\"labels\"] = kmeans.labels_\n",
    "\n",
    "        df_res = pd.concat([df_res, df.labels], axis=1, sort=False)\n",
    "\n",
    "    return df_res, entity_frame_list"
   ]
  },
  {
   "cell_type": "code",
   "execution_count": 11,
   "metadata": {},
   "outputs": [
    {
     "name": "stdout",
     "output_type": "stream",
     "text": [
      "········\n"
     ]
    },
    {
     "data": {
      "application/javascript": [
       "\n",
       "            setTimeout(function() {\n",
       "                var nbb_cell_id = 11;\n",
       "                var nbb_unformatted_code = \"import smtplib, ssl\\nfrom getpass import getpass\\n\\nsmtp_server = \\\"smtp.gmail.com\\\"\\nport = 587  # For starttls\\nsender_email = \\\"pythonserver.jonas.m.ehrhardt@gmail.com\\\"\\npassword = getpass()\\n\\n# Create a secure SSL context\\ncontext = ssl.create_default_context()\\n\\n\\ndef message_me(calculation_ID):\\n    \\\"\\\"\\\"\\n    This function sends me an email, when called, with the calculation ID given in input ;) \\n    \\\"\\\"\\\"\\n    # Try to log in to server and send email\\n    try:\\n        server = smtplib.SMTP(smtp_server, port)\\n        server.ehlo()  # Can be omitted\\n        server.starttls(context=context)  # Secure the connection\\n        server.ehlo()  # Can be omitted\\n        server.login(sender_email, password)\\n\\n        sender = \\\"pythonserver.jonas.m.ehrhardt@gmail.com\\\"\\n        receivers = [\\\"jonas@xorentec.de\\\"]\\n\\n        message = (\\n            \\\"From: Jonas Pythonserver\\\\nSubject: Calculation finished\\\\nThe Calculation \\\"\\n            + calculation_ID\\n            + \\\" is finished...\\\"\\n        )\\n\\n        server.sendmail(sender, receivers, message)\\n\\n        print(\\\"Successfully sent email\\\")\\n\\n    except Exception as e:\\n        print(e)\\n    finally:\\n        server.quit()\\n\\n    return\";\n",
       "                var nbb_formatted_code = \"import smtplib, ssl\\nfrom getpass import getpass\\n\\nsmtp_server = \\\"smtp.gmail.com\\\"\\nport = 587  # For starttls\\nsender_email = \\\"pythonserver.jonas.m.ehrhardt@gmail.com\\\"\\npassword = getpass()\\n\\n# Create a secure SSL context\\ncontext = ssl.create_default_context()\\n\\n\\ndef message_me(calculation_ID):\\n    \\\"\\\"\\\"\\n    This function sends me an email, when called, with the calculation ID given in input ;) \\n    \\\"\\\"\\\"\\n    # Try to log in to server and send email\\n    try:\\n        server = smtplib.SMTP(smtp_server, port)\\n        server.ehlo()  # Can be omitted\\n        server.starttls(context=context)  # Secure the connection\\n        server.ehlo()  # Can be omitted\\n        server.login(sender_email, password)\\n\\n        sender = \\\"pythonserver.jonas.m.ehrhardt@gmail.com\\\"\\n        receivers = [\\\"jonas@xorentec.de\\\"]\\n\\n        message = (\\n            \\\"From: Jonas Pythonserver\\\\nSubject: Calculation finished\\\\nThe Calculation \\\"\\n            + calculation_ID\\n            + \\\" is finished...\\\"\\n        )\\n\\n        server.sendmail(sender, receivers, message)\\n\\n        print(\\\"Successfully sent email\\\")\\n\\n    except Exception as e:\\n        print(e)\\n    finally:\\n        server.quit()\\n\\n    return\";\n",
       "                var nbb_cells = Jupyter.notebook.get_cells();\n",
       "                for (var i = 0; i < nbb_cells.length; ++i) {\n",
       "                    if (nbb_cells[i].input_prompt_number == nbb_cell_id) {\n",
       "                        if (nbb_cells[i].get_text() == nbb_unformatted_code) {\n",
       "                             nbb_cells[i].set_text(nbb_formatted_code);\n",
       "                        }\n",
       "                        break;\n",
       "                    }\n",
       "                }\n",
       "            }, 500);\n",
       "            "
      ],
      "text/plain": [
       "<IPython.core.display.Javascript object>"
      ]
     },
     "metadata": {},
     "output_type": "display_data"
    }
   ],
   "source": [
    "import smtplib, ssl\n",
    "from getpass import getpass\n",
    "\n",
    "smtp_server = \"smtp.gmail.com\"\n",
    "port = 587  # For starttls\n",
    "sender_email = \"pythonserver.jonas.m.ehrhardt@gmail.com\"\n",
    "password = getpass()\n",
    "\n",
    "# Create a secure SSL context\n",
    "context = ssl.create_default_context()\n",
    "\n",
    "\n",
    "def message_me(calculation_ID):\n",
    "    \"\"\"\n",
    "    This function sends me an email, when called, with the calculation ID given in input ;) \n",
    "    \"\"\"\n",
    "    # Try to log in to server and send email\n",
    "    try:\n",
    "        server = smtplib.SMTP(smtp_server, port)\n",
    "        server.ehlo()  # Can be omitted\n",
    "        server.starttls(context=context)  # Secure the connection\n",
    "        server.ehlo()  # Can be omitted\n",
    "        server.login(sender_email, password)\n",
    "\n",
    "        sender = \"pythonserver.jonas.m.ehrhardt@gmail.com\"\n",
    "        receivers = [\"jonas@xorentec.de\"]\n",
    "\n",
    "        message = (\n",
    "            \"From: Jonas Pythonserver\\nSubject: Calculation finished\\nThe Calculation \"\n",
    "            + calculation_ID\n",
    "            + \" is finished...\"\n",
    "        )\n",
    "\n",
    "        server.sendmail(sender, receivers, message)\n",
    "\n",
    "        print(\"Successfully sent email\")\n",
    "\n",
    "    except Exception as e:\n",
    "        print(e)\n",
    "    finally:\n",
    "        server.quit()\n",
    "\n",
    "    return"
   ]
  },
  {
   "cell_type": "code",
   "execution_count": 12,
   "metadata": {},
   "outputs": [
    {
     "name": "stdout",
     "output_type": "stream",
     "text": [
      "Successfully sent email\n"
     ]
    },
    {
     "data": {
      "application/javascript": [
       "\n",
       "            setTimeout(function() {\n",
       "                var nbb_cell_id = 12;\n",
       "                var nbb_unformatted_code = \"message_me(\\\"test\\\")\";\n",
       "                var nbb_formatted_code = \"message_me(\\\"test\\\")\";\n",
       "                var nbb_cells = Jupyter.notebook.get_cells();\n",
       "                for (var i = 0; i < nbb_cells.length; ++i) {\n",
       "                    if (nbb_cells[i].input_prompt_number == nbb_cell_id) {\n",
       "                        if (nbb_cells[i].get_text() == nbb_unformatted_code) {\n",
       "                             nbb_cells[i].set_text(nbb_formatted_code);\n",
       "                        }\n",
       "                        break;\n",
       "                    }\n",
       "                }\n",
       "            }, 500);\n",
       "            "
      ],
      "text/plain": [
       "<IPython.core.display.Javascript object>"
      ]
     },
     "metadata": {},
     "output_type": "display_data"
    }
   ],
   "source": [
    "message_me(\"test\")"
   ]
  },
  {
   "cell_type": "markdown",
   "metadata": {},
   "source": [
    "# 2. Tryout-datasets <a class=\"anchor\" id=\"datasets\"></a>\n",
    "\n",
    "Different datasets scraped for testing purposes "
   ]
  },
  {
   "cell_type": "code",
   "execution_count": null,
   "metadata": {},
   "outputs": [],
   "source": [
    "# First Try\n",
    "# general tryout on the NewsRelations Library\n",
    "\n",
    "# directory path of relation models\n",
    "RELATION_MODELS_PATH = \"/home/jonas/Documents/GitHub/MasterThesis/models/firstTry\"\n",
    "\n",
    "# model name\n",
    "RELATION_MODELS = [\n",
    "    \"model.sqlite\",\n",
    "]"
   ]
  },
  {
   "cell_type": "code",
   "execution_count": null,
   "metadata": {},
   "outputs": [],
   "source": [
    "# Second Try\n",
    "# models from newssources with different biases \n",
    "#\n",
    "# -year:    2008 (for foxnews 2o08-2010)\n",
    "# -domain:  politics\n",
    "# -sources: NYT & foxnews \n",
    "\n",
    "# directory path of relation models \n",
    "RELATION_MODELS_PATH = \"/home/jonas/Documents/GitHub/MasterThesis/models/secondTry\"\n",
    "\n",
    "# model nameslf, path_or_b\n",
    "RELATION_MODELS = [\n",
    "    \"RMadvanced_2008_politics_nytimes.sqlite\",\n",
    "    \"RM_2009_politics_nytimes.sqlite\",\n",
    "    \"RM_2008-2010_politics_foxnews.sqlite\",\n",
    "]\n",
    "\n"
   ]
  },
  {
   "cell_type": "code",
   "execution_count": null,
   "metadata": {},
   "outputs": [],
   "source": [
    "# Third Try\n",
    "# models from newssources with different biases \n",
    "#\n",
    "# -year:    2011\n",
    "# -domain:  news\n",
    "# -sources: reuters & national public radio\n",
    "\n",
    "# directory path of relation models \n",
    "RELATION_MODELS_PATH = \"/home/jonas/Documents/GitHub/MasterThesis/models/thirdTry\"\n",
    "\n",
    "# model names\n",
    "RELATION_MODELS = [\n",
    "    \"RM_2011_news_reuters.sqlite\",\n",
    "    \"RM_2011_news_npr.sqlite\",\n",
    "]\n",
    "\n"
   ]
  },
  {
   "cell_type": "code",
   "execution_count": null,
   "metadata": {},
   "outputs": [],
   "source": [
    "# Fourth try\n",
    "# two models from newssources with different biases each, for comparing slant coherence within\n",
    "# different directions. Timeslots with gapless news reporting were chosen.\n",
    "#\n",
    "# -year:    2011-01-01 - 2011-03-31\n",
    "# -domain:  news\n",
    "# -sources(left):    New York Times (NYT) 637, Washington Post (WP) 508\n",
    "#         (center):  National Public Radio (NPR) 109, Reuters (RET) 300\n",
    "#         (right):   FoxNews (FN) 2735, Newsmax (NM) 180\n",
    "\n",
    "# directory path of relation models\n",
    "RELATION_MODELS_PATH = \"/home/jonas/Documents/GitHub/MasterThesis/models/fourthTry\"\n",
    "\n",
    "# model names\n",
    "RELATION_MODELS = [\n",
    "    \"RM_2011_news_NYT.sqlite\",\n",
    "    \"RM_2011_news_WPO.sqlite\",\n",
    "    \"RM_2011_news_NPR.sqlite\",\n",
    "    \"RM_2011_news_RET.sqlite\",\n",
    "    \"RM_2011_news_FXN.sqlite\",\n",
    "    \"RM_2011_news_NMX.sqlite\",\n",
    "]\n"
   ]
  },
  {
   "cell_type": "markdown",
   "metadata": {},
   "source": [
    "# 3. Final datasets <a class=\"anchor\" id=\"finalDatasets\"></a>\n",
    "\n",
    "Datasets used for the thesis"
   ]
  },
  {
   "cell_type": "code",
   "execution_count": null,
   "metadata": {},
   "outputs": [],
   "source": [
    "# Dataset for parameter tuning\n",
    "# for the estiation of parameters number of entities and topic_of_interest\n",
    "#\n",
    "# -year:    2012\n",
    "# -domain:  news\n",
    "# -sources(left):    Huffington Post (HFP) 4909, New York Times (NYT) 2541,\n",
    "#         (center):  CNN (CNN) 2491, Reuters (RET) 2135\n",
    "#         (right):   FoxNews (FXN) 3784, (WSJ) 1215\n",
    "\n",
    "# directory path of relation models\n",
    "RELATION_MODELS_PATH = (\n",
    "    \"/home/jonas/Documents/GitHub/MasterThesis/models/calibrationDataset\"\n",
    ")\n",
    "\n",
    "# model names\n",
    "RELATION_MODELS = [\n",
    "    \"RM_2012_news_HFP.sqlite\",\n",
    "    \"RM_2012_news_NYT.sqlite\",\n",
    "    \"RM_2012_news_CNN.sqlite\",\n",
    "    \"RM_2012_news_RET.sqlite\",\n",
    "    \"RM_2012_news_FXN.sqlite\",\n",
    "    \"RM_2012_news_WSJ.sqlite\",\n",
    "]"
   ]
  },
  {
   "cell_type": "code",
   "execution_count": null,
   "metadata": {},
   "outputs": [],
   "source": [
    "# Final Dataset\n",
    "# final daset based on works of Budak (2016) Flaxmann (2016) and Groseclose (2015)\n",
    "#\n",
    "# -year:    2011\n",
    "# -domain:  news\n",
    "# -sources(left):    Huffington Post (HFP) 14876, LA Times (LAT) 445, New York Times (NYT) 11281,\n",
    "#                    Washington Post (WP) 14814, Daily KOS (DKO) 123\n",
    "#         (center):  BBC (BBC) 52, CNN (CNN) 2652, Reuters (RET) 16767, Yahoo News (YHN) 211\n",
    "#         (right):   Chicago Tribune (CTB) 2843, FoxNews (FXN) 6508, NBC (NBC) 3958, USA Today (UST) 171\n",
    "#                    Wall Street Journal (WSJ) 2522, Breitbart (BBT) 76\n",
    "\n",
    "# directory path of relation models\n",
    "RELATION_MODELS_PATH = \"/home/jonas/Documents/GitHub/MasterThesis/models/finalDataset\"\n",
    "\n",
    "# model names\n",
    "RELATION_MODELS = [\n",
    "    \"RM_2011_news_BBC.sqlite\",\n",
    "    \"RM_2011_news_BBT.sqlite\",\n",
    "    \"RM_2011_news_CNN.sqlite\",\n",
    "    \"RM_2011_news_CTB.sqlite\",\n",
    "    \"RM_2011_news_DKO.sqlite\",\n",
    "    \"RM_2011_news_FXN.sqlite\",\n",
    "    \"RM_2011_news_HFP.sqlite\",\n",
    "    \"RM_2011_news_LAT.sqlite\",\n",
    "    \"RM_2011_news_NBC.sqlite\",\n",
    "    \"RM_2011_news_NYT.sqlite\",\n",
    "    \"RM_2011_news_RET.sqlite\",\n",
    "    \"RM_2011_news_UST.sqlite\",\n",
    "    \"RM_2011_news_WPO.sqlite\",\n",
    "    \"RM_2011_news_WSJ.sqlite\",\n",
    "    \"RM_2011_news_YHN.sqlite\",\n",
    "]\n"
   ]
  },
  {
   "cell_type": "markdown",
   "metadata": {},
   "source": [
    "# 4. Parameter tuning <a class=\"anchor\" id=\"parameterTuning\"></a>\n",
    "\n",
    "All parameter tuning is run with the [calibration dataset](#finalDatasets).\n",
    "The categorization in slant groups is derived from literature.\n",
    "\n",
    "\n",
    "## 4.1 n-entity estimation <a class=\"anchor\" id=\"nEntity\"></a>\n",
    "\n",
    "Here I estimated the number of co-occurring entities (n) with the calibration dataset. Therefore I observe the curve of the p-value of the chi-squared test over an increasing number of n. \n",
    "For same-slant group news-outlets the p-value is expected to be very low, for different-slant news-outlets it is expected to be high (check [hypothesis 1](#hyp1) for explanation). \n",
    "For a high n the p-value of the different-slant news-outlets is expected to decrease again. Hence the optimal n  has a high count for p-values below 0.05 for same-slant outlets and a high count for p-values above 0.05 for different-slant news-outlets."
   ]
  },
  {
   "cell_type": "code",
   "execution_count": 13,
   "metadata": {},
   "outputs": [
    {
     "data": {
      "application/javascript": [
       "\n",
       "            setTimeout(function() {\n",
       "                var nbb_cell_id = 13;\n",
       "                var nbb_unformatted_code = \"# Loading the dataset and set hyper-parameters\\n\\n# directory path of relation models\\nRELATION_MODELS_PATH = (\\n    \\\"/home/jonas/Documents/GitHub/MasterThesis/models/calibrationDataset\\\"\\n)\\n\\n# model names\\nRELATION_MODELS = [\\n    \\\"RM_2012_news_HFP.sqlite\\\",\\n    \\\"RM_2012_news_NYT.sqlite\\\",\\n    \\\"RM_2012_news_CNN.sqlite\\\",\\n    \\\"RM_2012_news_RET.sqlite\\\",\\n    \\\"RM_2012_news_FXN.sqlite\\\",\\n    \\\"RM_2012_news_WSJ.sqlite\\\",\\n]\\n\\n# path to results folder\\nRESULTS_PATH = \\\"/home/jonas/Documents/GitHub/MasterThesis/results/\\\"\\n\\n# max number of entities + 1, to compare with the reference entity\\nNO_ENTITIES = 31\\n\\n# reference entity -\\nTOPIC_OF_INTEREST = \\\"obama\\\"\";\n",
       "                var nbb_formatted_code = \"# Loading the dataset and set hyper-parameters\\n\\n# directory path of relation models\\nRELATION_MODELS_PATH = (\\n    \\\"/home/jonas/Documents/GitHub/MasterThesis/models/calibrationDataset\\\"\\n)\\n\\n# model names\\nRELATION_MODELS = [\\n    \\\"RM_2012_news_HFP.sqlite\\\",\\n    \\\"RM_2012_news_NYT.sqlite\\\",\\n    \\\"RM_2012_news_CNN.sqlite\\\",\\n    \\\"RM_2012_news_RET.sqlite\\\",\\n    \\\"RM_2012_news_FXN.sqlite\\\",\\n    \\\"RM_2012_news_WSJ.sqlite\\\",\\n]\\n\\n# path to results folder\\nRESULTS_PATH = \\\"/home/jonas/Documents/GitHub/MasterThesis/results/\\\"\\n\\n# max number of entities + 1, to compare with the reference entity\\nNO_ENTITIES = 31\\n\\n# reference entity -\\nTOPIC_OF_INTEREST = \\\"obama\\\"\";\n",
       "                var nbb_cells = Jupyter.notebook.get_cells();\n",
       "                for (var i = 0; i < nbb_cells.length; ++i) {\n",
       "                    if (nbb_cells[i].input_prompt_number == nbb_cell_id) {\n",
       "                        if (nbb_cells[i].get_text() == nbb_unformatted_code) {\n",
       "                             nbb_cells[i].set_text(nbb_formatted_code);\n",
       "                        }\n",
       "                        break;\n",
       "                    }\n",
       "                }\n",
       "            }, 500);\n",
       "            "
      ],
      "text/plain": [
       "<IPython.core.display.Javascript object>"
      ]
     },
     "metadata": {},
     "output_type": "display_data"
    }
   ],
   "source": [
    "# Loading the dataset and set hyper-parameters\n",
    "\n",
    "# directory path of relation models\n",
    "RELATION_MODELS_PATH = (\n",
    "    \"/home/jonas/Documents/GitHub/MasterThesis/models/calibrationDataset\"\n",
    ")\n",
    "\n",
    "# model names\n",
    "RELATION_MODELS = [\n",
    "    \"RM_2012_news_HFP.sqlite\",\n",
    "    \"RM_2012_news_NYT.sqlite\",\n",
    "    \"RM_2012_news_CNN.sqlite\",\n",
    "    \"RM_2012_news_RET.sqlite\",\n",
    "    \"RM_2012_news_FXN.sqlite\",\n",
    "    \"RM_2012_news_WSJ.sqlite\",\n",
    "]\n",
    "\n",
    "# path to results folder\n",
    "RESULTS_PATH = \"/home/jonas/Documents/GitHub/MasterThesis/results/\"\n",
    "\n",
    "# max number of entities + 1, to compare with the reference entity\n",
    "NO_ENTITIES = 31\n",
    "\n",
    "# reference entity -\n",
    "TOPIC_OF_INTEREST = \"obama\""
   ]
  },
  {
   "cell_type": "code",
   "execution_count": null,
   "metadata": {},
   "outputs": [],
   "source": [
    "# estimate optimal n - within same-slant-constellations\n",
    "models = [\n",
    "    [RELATION_MODELS[0], RELATION_MODELS[1]],\n",
    "    [RELATION_MODELS[1], RELATION_MODELS[0]],\n",
    "    [RELATION_MODELS[2], RELATION_MODELS[3]],\n",
    "    [RELATION_MODELS[3], RELATION_MODELS[2]],\n",
    "    [RELATION_MODELS[4], RELATION_MODELS[5]],\n",
    "    [RELATION_MODELS[5], RELATION_MODELS[4]],\n",
    "]\n",
    "\n",
    "# initialize dataframes\n",
    "df = pd.DataFrame()\n",
    "\n",
    "# loop through model constellation in models list\n",
    "def estimate_n_same_slant(models):\n",
    "    df_results = pd.DataFrame()\n",
    "    description = str(str(models[0][-10:-7]) + \"-\" + str(models[1][-10:-7]))\n",
    "    # loop through entity numbers until max entity is reached\n",
    "    for n in tnrange(1, NO_ENTITIES, desc=description):\n",
    "        # create SQL query and build contingency table for sm.stats\n",
    "        contingency_table = build_contingency_table_from_single_topic(\n",
    "            RELATION_MODELS_PATH, models, TOPIC_OF_INTEREST, n\n",
    "        )\n",
    "        contingency_table = sm.stats.Table(contingency_table)\n",
    "        # calculate results + add them to dataframe\n",
    "        results = contingency_table.test_nominal_association()\n",
    "        df_results[n] = [results.pvalue]\n",
    "\n",
    "    df_results = df_results.transpose()\n",
    "    df_results = df_results.rename(columns={0: description})\n",
    "    \n",
    "    return df_results\n",
    "\n",
    "\n",
    "# Init multiprocessing.Pool()\n",
    "pool = mp.Pool(mp.cpu_count())\n",
    "\n",
    "# concat the pool-parallelized dataframes from pathlist\n",
    "df = pd.concat(pool.map(estimate_n_same_slant, [model for model in models]), axis=1)\n",
    "\n",
    "# close loop\n",
    "pool.close()\n",
    "\n",
    "\n",
    "# save results to csv\n",
    "df.to_csv(\n",
    "    RESULTS_PATH + \"nSameSlant_\" + TOPIC_OF_INTEREST + \".csv\", index=False\n",
    ")\n",
    "\n",
    "message_me(\"nSameSlant\")"
   ]
  },
  {
   "cell_type": "code",
   "execution_count": 14,
   "metadata": {},
   "outputs": [
    {
     "data": {
      "image/png": "[encoded data removed]",
      "text/plain": [
       "<Figure size 540x504 with 1 Axes>"
      ]
     },
     "metadata": {
      "needs_background": "light"
     },
     "output_type": "display_data"
    },
    {
     "data": {
      "application/javascript": [
       "\n",
       "            setTimeout(function() {\n",
       "                var nbb_cell_id = 14;\n",
       "                var nbb_unformatted_code = \"# import dataset\\ndf_same = pd.read_csv(RESULTS_PATH + \\\"nSameSlant_\\\" + TOPIC_OF_INTEREST + \\\".csv\\\")\\n\\n# Visualze dataset\\ndf_same.plot(kind=\\\"line\\\", figsize=(7.5, 7))\\nplt.ylabel(\\\"p-value\\\")\\nplt.xlabel(\\\"n\\\")\\nplt.title(\\n    \\\"Behavior of p-values in relation to number of examined entities\\\\n within same slant groups - reference entitiy: \\\"\\n    + TOPIC_OF_INTEREST\\n)\\nplt.legend()\\nplt.show()\";\n",
       "                var nbb_formatted_code = \"# import dataset\\ndf_same = pd.read_csv(RESULTS_PATH + \\\"nSameSlant_\\\" + TOPIC_OF_INTEREST + \\\".csv\\\")\\n\\n# Visualze dataset\\ndf_same.plot(kind=\\\"line\\\", figsize=(7.5, 7))\\nplt.ylabel(\\\"p-value\\\")\\nplt.xlabel(\\\"n\\\")\\nplt.title(\\n    \\\"Behavior of p-values in relation to number of examined entities\\\\n within same slant groups - reference entitiy: \\\"\\n    + TOPIC_OF_INTEREST\\n)\\nplt.legend()\\nplt.show()\";\n",
       "                var nbb_cells = Jupyter.notebook.get_cells();\n",
       "                for (var i = 0; i < nbb_cells.length; ++i) {\n",
       "                    if (nbb_cells[i].input_prompt_number == nbb_cell_id) {\n",
       "                        if (nbb_cells[i].get_text() == nbb_unformatted_code) {\n",
       "                             nbb_cells[i].set_text(nbb_formatted_code);\n",
       "                        }\n",
       "                        break;\n",
       "                    }\n",
       "                }\n",
       "            }, 500);\n",
       "            "
      ],
      "text/plain": [
       "<IPython.core.display.Javascript object>"
      ]
     },
     "metadata": {},
     "output_type": "display_data"
    }
   ],
   "source": [
    "# import dataset\n",
    "df_same = pd.read_csv(RESULTS_PATH + \"nSameSlant_\" + TOPIC_OF_INTEREST + \".csv\")\n",
    "\n",
    "# Visualze dataset\n",
    "df_same.plot(kind=\"line\", figsize=(7.5, 7))\n",
    "plt.ylabel(\"p-value\")\n",
    "plt.xlabel(\"n\")\n",
    "plt.title(\n",
    "    \"Behavior of p-values in relation to number of examined entities\\n within same slant groups - reference entitiy: \"\n",
    "    + TOPIC_OF_INTEREST\n",
    ")\n",
    "plt.legend()\n",
    "plt.show()"
   ]
  },
  {
   "cell_type": "code",
   "execution_count": null,
   "metadata": {},
   "outputs": [],
   "source": [
    "# estimate optimal n - within different-slant-constellations\n",
    "models = [\n",
    "    [RELATION_MODELS[0], RELATION_MODELS[2]],\n",
    "    [RELATION_MODELS[0], RELATION_MODELS[3]],\n",
    "    [RELATION_MODELS[0], RELATION_MODELS[4]],\n",
    "    [RELATION_MODELS[0], RELATION_MODELS[5]],\n",
    "    [RELATION_MODELS[1], RELATION_MODELS[2]],\n",
    "    [RELATION_MODELS[1], RELATION_MODELS[3]],\n",
    "    [RELATION_MODELS[1], RELATION_MODELS[4]],\n",
    "    [RELATION_MODELS[1], RELATION_MODELS[5]],\n",
    "    [RELATION_MODELS[2], RELATION_MODELS[0]],\n",
    "    [RELATION_MODELS[2], RELATION_MODELS[1]],\n",
    "    [RELATION_MODELS[2], RELATION_MODELS[4]],\n",
    "    [RELATION_MODELS[2], RELATION_MODELS[5]],\n",
    "    [RELATION_MODELS[3], RELATION_MODELS[0]],\n",
    "    [RELATION_MODELS[3], RELATION_MODELS[1]],\n",
    "    [RELATION_MODELS[3], RELATION_MODELS[4]],\n",
    "    [RELATION_MODELS[3], RELATION_MODELS[5]],\n",
    "    [RELATION_MODELS[4], RELATION_MODELS[0]],\n",
    "    [RELATION_MODELS[4], RELATION_MODELS[1]],\n",
    "    [RELATION_MODELS[4], RELATION_MODELS[2]],\n",
    "    [RELATION_MODELS[4], RELATION_MODELS[3]],\n",
    "    [RELATION_MODELS[5], RELATION_MODELS[0]],\n",
    "    [RELATION_MODELS[5], RELATION_MODELS[1]],\n",
    "    [RELATION_MODELS[5], RELATION_MODELS[2]],\n",
    "    [RELATION_MODELS[5], RELATION_MODELS[3]],\n",
    "]\n",
    "\n",
    "# initialize dataframes and counter for column name\n",
    "df = pd.DataFrame()\n",
    "\n",
    "\n",
    "def estimate_n_diff_slant(models):\n",
    "    # loop through model constellation in models list\n",
    "    # for constellation in tqdm(models):\n",
    "    df_results = pd.DataFrame()\n",
    "    description = str(str(models[0][-10:-7]) + \"-\" + str(models[1][-10:-7]))\n",
    "    # loop through entity numbers until max entity is reached\n",
    "    for n in tnrange(1, NO_ENTITIES, desc=description):\n",
    "\n",
    "        # create SQL query and build contingency table for sm.stats\n",
    "        contingency_table = build_contingency_table_from_single_topic(\n",
    "            RELATION_MODELS_PATH, models, TOPIC_OF_INTEREST, n\n",
    "        )\n",
    "        contingency_table = sm.stats.Table(contingency_table)\n",
    "        # calculate results + add them to dataframe\n",
    "        results = contingency_table.test_nominal_association()\n",
    "        df_results[n] = [results.pvalue]\n",
    "\n",
    "    df_results = df_results.transpose()\n",
    "    df_results = df_results.rename(columns={0: description})\n",
    "\n",
    "    return df_results\n",
    "\n",
    "\n",
    "# Init multiprocessing.Pool()\n",
    "pool = mp.Pool(mp.cpu_count())\n",
    "\n",
    "# concat the pool-parallelized dataframes from pathlist\n",
    "df = pd.concat(pool.map(estimate_n_diff_slant, [model for model in models]), axis=1)\n",
    "\n",
    "# close loop\n",
    "pool.close()\n",
    "\n",
    "\n",
    "# save results to csv\n",
    "df.to_csv(\n",
    "    RESULTS_PATH + \"nDiffSlant_\" + TOPIC_OF_INTEREST + \".csv\", index=False\n",
    ")\n",
    "\n",
    "message_me(\"nDiffSlant_All\")"
   ]
  },
  {
   "cell_type": "code",
   "execution_count": 15,
   "metadata": {},
   "outputs": [
    {
     "data": {
      "image/png": "[encoded data removed]",
      "text/plain": [
       "<Figure size 540x504 with 1 Axes>"
      ]
     },
     "metadata": {
      "needs_background": "light"
     },
     "output_type": "display_data"
    },
    {
     "data": {
      "application/javascript": [
       "\n",
       "            setTimeout(function() {\n",
       "                var nbb_cell_id = 15;\n",
       "                var nbb_unformatted_code = \"# import dataset\\ndf_diff = pd.read_csv(RESULTS_PATH + \\\"nDiffSlant_\\\" + TOPIC_OF_INTEREST + \\\".csv\\\")\\n\\n# Visualze\\ndf_diff.plot(kind=\\\"line\\\", figsize=(7.5, 7.0))\\nplt.xlabel(\\\"n\\\")\\nplt.ylabel(\\\"p-value\\\")\\nplt.title(\\n    \\\"Behavior of p-values in relation to number of examined entities \\\\nbetween different slant groups - reference entity: \\\"\\n    + TOPIC_OF_INTEREST\\n)\\nplt.legend()\\nplt.show()\";\n",
       "                var nbb_formatted_code = \"# import dataset\\ndf_diff = pd.read_csv(RESULTS_PATH + \\\"nDiffSlant_\\\" + TOPIC_OF_INTEREST + \\\".csv\\\")\\n\\n# Visualze\\ndf_diff.plot(kind=\\\"line\\\", figsize=(7.5, 7.0))\\nplt.xlabel(\\\"n\\\")\\nplt.ylabel(\\\"p-value\\\")\\nplt.title(\\n    \\\"Behavior of p-values in relation to number of examined entities \\\\nbetween different slant groups - reference entity: \\\"\\n    + TOPIC_OF_INTEREST\\n)\\nplt.legend()\\nplt.show()\";\n",
       "                var nbb_cells = Jupyter.notebook.get_cells();\n",
       "                for (var i = 0; i < nbb_cells.length; ++i) {\n",
       "                    if (nbb_cells[i].input_prompt_number == nbb_cell_id) {\n",
       "                        if (nbb_cells[i].get_text() == nbb_unformatted_code) {\n",
       "                             nbb_cells[i].set_text(nbb_formatted_code);\n",
       "                        }\n",
       "                        break;\n",
       "                    }\n",
       "                }\n",
       "            }, 500);\n",
       "            "
      ],
      "text/plain": [
       "<IPython.core.display.Javascript object>"
      ]
     },
     "metadata": {},
     "output_type": "display_data"
    }
   ],
   "source": [
    "# import dataset\n",
    "df_diff = pd.read_csv(RESULTS_PATH + \"nDiffSlant_\" + TOPIC_OF_INTEREST + \".csv\")\n",
    "\n",
    "# Visualze\n",
    "df_diff.plot(kind=\"line\", figsize=(7.5, 7.0))\n",
    "plt.xlabel(\"n\")\n",
    "plt.ylabel(\"p-value\")\n",
    "plt.title(\n",
    "    \"Behavior of p-values in relation to number of examined entities \\nbetween different slant groups - reference entity: \"\n",
    "    + TOPIC_OF_INTEREST\n",
    ")\n",
    "plt.legend()\n",
    "plt.show()"
   ]
  },
  {
   "cell_type": "markdown",
   "metadata": {},
   "source": [
    "## 4.2 Reference entity estimation <a class=\"anchor\" id=\"refEntity\"></a>\n",
    "\n",
    "To estimate the optimal reference entity for the co-occurrences, the behavior of different and same-slant news-outlets are compared. A good reference entity gets high p-values for different-slant news-outlets and low p-values for same-slant news-outlets.\n",
    "The tested entities are derived from Gentzkow and Shapiro (2010)."
   ]
  },
  {
   "cell_type": "code",
   "execution_count": 16,
   "metadata": {},
   "outputs": [
    {
     "data": {
      "application/javascript": [
       "\n",
       "            setTimeout(function() {\n",
       "                var nbb_cell_id = 16;\n",
       "                var nbb_unformatted_code = \"# hyper-parameters\\n# directory path of relation models\\nRELATION_MODELS_PATH = (\\n    \\\"/home/jonas/Documents/GitHub/MasterThesis/models/calibrationDataset\\\"\\n)\\n\\n# model names\\nRELATION_MODELS = [\\n    \\\"RM_2012_news_HFP.sqlite\\\",\\n    \\\"RM_2012_news_NYT.sqlite\\\",\\n    \\\"RM_2012_news_CNN.sqlite\\\",\\n    \\\"RM_2012_news_RET.sqlite\\\",\\n    \\\"RM_2012_news_FXN.sqlite\\\",\\n    \\\"RM_2012_news_WSJ.sqlite\\\",\\n]\\n\\n# path to results folder\\nRESULTS_PATH = \\\"/home/jonas/Documents/GitHub/MasterThesis/results/\\\"\\n\\n# number of entities to compare with the reference entitiy\\nNO_ENTITIES = 16\\n\\n# reference entities\\nTOPIC_OF_INTEREST_LIST = [\\n    \\\"sport\\\",\\n    \\\"obama\\\",\\n    \\\"bush\\\",\\n    \\\"united_states\\\",\\n    \\\"healthcare\\\",\\n    \\\"insurance\\\",\\n    \\\"gun\\\",\\n    \\\"school\\\",\\n    \\\"death_tax\\\",\\n    \\\"terrorism\\\",\\n    \\\"Germany\\\",\\n    \\\"France\\\",\\n    \\\"health_care\\\",\\n]\";\n",
       "                var nbb_formatted_code = \"# hyper-parameters\\n# directory path of relation models\\nRELATION_MODELS_PATH = (\\n    \\\"/home/jonas/Documents/GitHub/MasterThesis/models/calibrationDataset\\\"\\n)\\n\\n# model names\\nRELATION_MODELS = [\\n    \\\"RM_2012_news_HFP.sqlite\\\",\\n    \\\"RM_2012_news_NYT.sqlite\\\",\\n    \\\"RM_2012_news_CNN.sqlite\\\",\\n    \\\"RM_2012_news_RET.sqlite\\\",\\n    \\\"RM_2012_news_FXN.sqlite\\\",\\n    \\\"RM_2012_news_WSJ.sqlite\\\",\\n]\\n\\n# path to results folder\\nRESULTS_PATH = \\\"/home/jonas/Documents/GitHub/MasterThesis/results/\\\"\\n\\n# number of entities to compare with the reference entitiy\\nNO_ENTITIES = 16\\n\\n# reference entities\\nTOPIC_OF_INTEREST_LIST = [\\n    \\\"sport\\\",\\n    \\\"obama\\\",\\n    \\\"bush\\\",\\n    \\\"united_states\\\",\\n    \\\"healthcare\\\",\\n    \\\"insurance\\\",\\n    \\\"gun\\\",\\n    \\\"school\\\",\\n    \\\"death_tax\\\",\\n    \\\"terrorism\\\",\\n    \\\"Germany\\\",\\n    \\\"France\\\",\\n    \\\"health_care\\\",\\n]\";\n",
       "                var nbb_cells = Jupyter.notebook.get_cells();\n",
       "                for (var i = 0; i < nbb_cells.length; ++i) {\n",
       "                    if (nbb_cells[i].input_prompt_number == nbb_cell_id) {\n",
       "                        if (nbb_cells[i].get_text() == nbb_unformatted_code) {\n",
       "                             nbb_cells[i].set_text(nbb_formatted_code);\n",
       "                        }\n",
       "                        break;\n",
       "                    }\n",
       "                }\n",
       "            }, 500);\n",
       "            "
      ],
      "text/plain": [
       "<IPython.core.display.Javascript object>"
      ]
     },
     "metadata": {},
     "output_type": "display_data"
    }
   ],
   "source": [
    "# hyper-parameters\n",
    "# directory path of relation models\n",
    "RELATION_MODELS_PATH = (\n",
    "    \"/home/jonas/Documents/GitHub/MasterThesis/models/calibrationDataset\"\n",
    ")\n",
    "\n",
    "# model names\n",
    "RELATION_MODELS = [\n",
    "    \"RM_2012_news_HFP.sqlite\",\n",
    "    \"RM_2012_news_NYT.sqlite\",\n",
    "    \"RM_2012_news_CNN.sqlite\",\n",
    "    \"RM_2012_news_RET.sqlite\",\n",
    "    \"RM_2012_news_FXN.sqlite\",\n",
    "    \"RM_2012_news_WSJ.sqlite\",\n",
    "]\n",
    "\n",
    "# path to results folder\n",
    "RESULTS_PATH = \"/home/jonas/Documents/GitHub/MasterThesis/results/\"\n",
    "\n",
    "# number of entities to compare with the reference entitiy\n",
    "NO_ENTITIES = 16\n",
    "\n",
    "# reference entities\n",
    "TOPIC_OF_INTEREST_LIST = [\n",
    "    \"sport\",\n",
    "    \"obama\",\n",
    "    \"bush\",\n",
    "    \"united_states\",\n",
    "    \"healthcare\",\n",
    "    \"insurance\",\n",
    "    \"gun\",\n",
    "    \"school\",\n",
    "    \"death_tax\",\n",
    "    \"terrorism\",\n",
    "    \"Germany\",\n",
    "    \"France\",\n",
    "    \"health_care\",\n",
    "]"
   ]
  },
  {
   "cell_type": "code",
   "execution_count": null,
   "metadata": {},
   "outputs": [],
   "source": [
    "# initialize dataframes and counter for column name\n",
    "df = pd.DataFrame()\n",
    "\n",
    "# same-slant news-outlets\n",
    "models = [RELATION_MODELS[0], RELATION_MODELS[1]]\n",
    "# different-slant news-outlets\n",
    "# models = [RELATION_MODELS[0], RELATION_MODELS[4]]\n",
    "\n",
    "def estimate_optimal_reference_entity(topic):\n",
    "    # loop through model constellation in models list\n",
    "    # for constellation in tqdm(models):\n",
    "    df_results = pd.DataFrame()\n",
    "    description = str(str(models[0][-10:-7]) + \"-\" + str(models[1][-10:-7]))\n",
    "    # loop through entity numbers until max entity is reached\n",
    "    for n in tnrange(1, NO_ENTITIES, desc=topic):\n",
    "        try:\n",
    "            # create SQL query and build contingency table for sm.stats\n",
    "            contingency_table = build_contingency_table_from_single_topic(\n",
    "                RELATION_MODELS_PATH, models, topic, n\n",
    "            )\n",
    "            contingency_table = sm.stats.Table(contingency_table)\n",
    "            # calculate results + add them to dataframe\n",
    "            results = contingency_table.test_nominal_association()\n",
    "            df_results[n] = [results.pvalue]\n",
    "        except:\n",
    "            print(\"There is too little data for \" + topic)\n",
    "            break\n",
    "\n",
    "    df_results = df_results.transpose()\n",
    "    df_results = df_results.rename(columns={0: topic})\n",
    "\n",
    "    return df_results\n",
    "\n",
    "\n",
    "# Init multiprocessing.Pool()\n",
    "pool = mp.Pool(mp.cpu_count())\n",
    "\n",
    "# concat the pool-parallelized dataframes from pathlist\n",
    "df = pd.concat(\n",
    "    pool.map(estimate_optimal_reference_entity, [topic for topic in TOPIC_OF_INTEREST_LIST]),\n",
    "    axis=1,\n",
    ")\n",
    "\n",
    "# close pool\n",
    "pool.close()\n",
    "\n",
    "# save results to csv\n",
    "df.to_csv(RESULTS_PATH + \"reference_entity_estimation_diff.csv\", index=False)\n",
    "# df.to_csv(RESULTS_PATH + \"reference_entity_estimation_same.csv\", index=False)\n",
    "\n",
    "message_me(\"reference_estimation\")"
   ]
  },
  {
   "cell_type": "code",
   "execution_count": 17,
   "metadata": {},
   "outputs": [
    {
     "data": {
      "image/png": "[encoded data removed]",
      "text/plain": [
       "<Figure size 540x288 with 1 Axes>"
      ]
     },
     "metadata": {
      "needs_background": "light"
     },
     "output_type": "display_data"
    },
    {
     "data": {
      "image/png": "[encoded data removed]",
      "text/plain": [
       "<Figure size 540x288 with 1 Axes>"
      ]
     },
     "metadata": {
      "needs_background": "light"
     },
     "output_type": "display_data"
    },
    {
     "data": {
      "application/javascript": [
       "\n",
       "            setTimeout(function() {\n",
       "                var nbb_cell_id = 17;\n",
       "                var nbb_unformatted_code = \"# Import and visualize - same-slant news-outlet\\ndf_same = pd.read_csv(RESULTS_PATH + \\\"reference_entity_estimation_same.csv\\\")\\n\\ndf_same.plot(kind=\\\"line\\\", figsize=(7.5, 4))\\nplt.xlabel(\\\"n\\\")\\nplt.ylabel(\\\"p-value\\\")\\nplt.title(\\n    \\\"Behavior of p-values in relation to the chosen\\\\nreference entity - same-slant newsoutlet\\\"\\n)\\nplt.show()\\n\\n# Import and visualize - diff-slant news-outlet\\ndf_diff = pd.read_csv(RESULTS_PATH + \\\"reference_entity_estimation_diff.csv\\\")\\n\\ndf_diff.plot(kind=\\\"line\\\", figsize=(7.5, 4))\\nplt.xlabel(\\\"n\\\")\\nplt.ylabel(\\\"p-value\\\")\\nplt.title(\\n    \\\"Behavior of p-values in relation to the chosen\\\\nreference entity - different-slant newsoutlet\\\"\\n)\\nplt.show()\";\n",
       "                var nbb_formatted_code = \"# Import and visualize - same-slant news-outlet\\ndf_same = pd.read_csv(RESULTS_PATH + \\\"reference_entity_estimation_same.csv\\\")\\n\\ndf_same.plot(kind=\\\"line\\\", figsize=(7.5, 4))\\nplt.xlabel(\\\"n\\\")\\nplt.ylabel(\\\"p-value\\\")\\nplt.title(\\n    \\\"Behavior of p-values in relation to the chosen\\\\nreference entity - same-slant newsoutlet\\\"\\n)\\nplt.show()\\n\\n# Import and visualize - diff-slant news-outlet\\ndf_diff = pd.read_csv(RESULTS_PATH + \\\"reference_entity_estimation_diff.csv\\\")\\n\\ndf_diff.plot(kind=\\\"line\\\", figsize=(7.5, 4))\\nplt.xlabel(\\\"n\\\")\\nplt.ylabel(\\\"p-value\\\")\\nplt.title(\\n    \\\"Behavior of p-values in relation to the chosen\\\\nreference entity - different-slant newsoutlet\\\"\\n)\\nplt.show()\";\n",
       "                var nbb_cells = Jupyter.notebook.get_cells();\n",
       "                for (var i = 0; i < nbb_cells.length; ++i) {\n",
       "                    if (nbb_cells[i].input_prompt_number == nbb_cell_id) {\n",
       "                        if (nbb_cells[i].get_text() == nbb_unformatted_code) {\n",
       "                             nbb_cells[i].set_text(nbb_formatted_code);\n",
       "                        }\n",
       "                        break;\n",
       "                    }\n",
       "                }\n",
       "            }, 500);\n",
       "            "
      ],
      "text/plain": [
       "<IPython.core.display.Javascript object>"
      ]
     },
     "metadata": {},
     "output_type": "display_data"
    }
   ],
   "source": [
    "# Import and visualize - same-slant news-outlet\n",
    "df_same = pd.read_csv(RESULTS_PATH + \"reference_entity_estimation_same.csv\")\n",
    "\n",
    "df_same.plot(kind=\"line\", figsize=(7.5, 4))\n",
    "plt.xlabel(\"n\")\n",
    "plt.ylabel(\"p-value\")\n",
    "plt.title(\n",
    "    \"Behavior of p-values in relation to the chosen\\nreference entity - same-slant newsoutlet\"\n",
    ")\n",
    "plt.show()\n",
    "\n",
    "# Import and visualize - diff-slant news-outlet\n",
    "df_diff = pd.read_csv(RESULTS_PATH + \"reference_entity_estimation_diff.csv\")\n",
    "\n",
    "df_diff.plot(kind=\"line\", figsize=(7.5, 4))\n",
    "plt.xlabel(\"n\")\n",
    "plt.ylabel(\"p-value\")\n",
    "plt.title(\n",
    "    \"Behavior of p-values in relation to the chosen\\nreference entity - different-slant newsoutlet\"\n",
    ")\n",
    "plt.show()"
   ]
  },
  {
   "cell_type": "markdown",
   "metadata": {},
   "source": [
    "\n",
    "# 5. Hypothesis testing <a class=\"anchor\" id=\"hypothesisTesting\"></a>\n",
    "\n",
    "## 5.1 Hypothesis 1<a class=\"anchor\" id=\"hyp1\"></a>\n",
    "\n",
    "1.1 Within same slant groups the co-occurring entities are independent from the news-outlet\n",
    "\n",
    "1.2 Between different slant groups the co-occurring entities are dependent from the news-outlet\n",
    "    \n",
    "To check hypothesis 1 I ran chi-squared tests for same (1.1) and different-slant (1.2) news-outlets.\n",
    "The results are matched with news-outlet groupings from literature. Accuracy, precision, recall and F1-score are estimated individually and combined.\n"
   ]
  },
  {
   "cell_type": "code",
   "execution_count": 18,
   "metadata": {},
   "outputs": [
    {
     "data": {
      "application/javascript": [
       "\n",
       "            setTimeout(function() {\n",
       "                var nbb_cell_id = 18;\n",
       "                var nbb_unformatted_code = \"# directory path of relation models\\nRELATION_MODELS_PATH = \\\"/home/jonas/Documents/GitHub/MasterThesis/models/finalDataset\\\"\\n\\n# model names\\nRELATION_MODELS = [\\n    \\\"RM_2011_news_CNN.sqlite\\\",\\n    \\\"RM_2011_news_CTB.sqlite\\\",\\n    \\\"RM_2011_news_FXN.sqlite\\\",\\n    \\\"RM_2011_news_HFP.sqlite\\\",\\n    \\\"RM_2011_news_NBC.sqlite\\\",\\n    \\\"RM_2011_news_NYT.sqlite\\\",\\n    \\\"RM_2011_news_RET.sqlite\\\",\\n    \\\"RM_2011_news_WPO.sqlite\\\",\\n    \\\"RM_2011_news_WSJ.sqlite\\\",\\n]\\n\\n# path to results folder\\nRESULTS_PATH = \\\"/home/jonas/Documents/GitHub/MasterThesis/results/\\\"\\n\\n# reference entity\\nTOPIC_OF_INTEREST = \\\"obama\\\"\\n\\n# number of co-occurring entities + 1\\nNO_ENTITIES = 11\";\n",
       "                var nbb_formatted_code = \"# directory path of relation models\\nRELATION_MODELS_PATH = \\\"/home/jonas/Documents/GitHub/MasterThesis/models/finalDataset\\\"\\n\\n# model names\\nRELATION_MODELS = [\\n    \\\"RM_2011_news_CNN.sqlite\\\",\\n    \\\"RM_2011_news_CTB.sqlite\\\",\\n    \\\"RM_2011_news_FXN.sqlite\\\",\\n    \\\"RM_2011_news_HFP.sqlite\\\",\\n    \\\"RM_2011_news_NBC.sqlite\\\",\\n    \\\"RM_2011_news_NYT.sqlite\\\",\\n    \\\"RM_2011_news_RET.sqlite\\\",\\n    \\\"RM_2011_news_WPO.sqlite\\\",\\n    \\\"RM_2011_news_WSJ.sqlite\\\",\\n]\\n\\n# path to results folder\\nRESULTS_PATH = \\\"/home/jonas/Documents/GitHub/MasterThesis/results/\\\"\\n\\n# reference entity\\nTOPIC_OF_INTEREST = \\\"obama\\\"\\n\\n# number of co-occurring entities + 1\\nNO_ENTITIES = 11\";\n",
       "                var nbb_cells = Jupyter.notebook.get_cells();\n",
       "                for (var i = 0; i < nbb_cells.length; ++i) {\n",
       "                    if (nbb_cells[i].input_prompt_number == nbb_cell_id) {\n",
       "                        if (nbb_cells[i].get_text() == nbb_unformatted_code) {\n",
       "                             nbb_cells[i].set_text(nbb_formatted_code);\n",
       "                        }\n",
       "                        break;\n",
       "                    }\n",
       "                }\n",
       "            }, 500);\n",
       "            "
      ],
      "text/plain": [
       "<IPython.core.display.Javascript object>"
      ]
     },
     "metadata": {},
     "output_type": "display_data"
    }
   ],
   "source": [
    "# directory path of relation models\n",
    "RELATION_MODELS_PATH = \"/home/jonas/Documents/GitHub/MasterThesis/models/finalDataset\"\n",
    "\n",
    "# model names\n",
    "RELATION_MODELS = [\n",
    "    \"RM_2011_news_CNN.sqlite\",\n",
    "    \"RM_2011_news_CTB.sqlite\",\n",
    "    \"RM_2011_news_FXN.sqlite\",\n",
    "    \"RM_2011_news_HFP.sqlite\",\n",
    "    \"RM_2011_news_NBC.sqlite\",\n",
    "    \"RM_2011_news_NYT.sqlite\",\n",
    "    \"RM_2011_news_RET.sqlite\",\n",
    "    \"RM_2011_news_WPO.sqlite\",\n",
    "    \"RM_2011_news_WSJ.sqlite\",\n",
    "]\n",
    "\n",
    "# path to results folder\n",
    "RESULTS_PATH = \"/home/jonas/Documents/GitHub/MasterThesis/results/\"\n",
    "\n",
    "# reference entity\n",
    "TOPIC_OF_INTEREST = \"obama\"\n",
    "\n",
    "# number of co-occurring entities + 1\n",
    "NO_ENTITIES = 11"
   ]
  },
  {
   "cell_type": "code",
   "execution_count": null,
   "metadata": {},
   "outputs": [],
   "source": [
    "# compare everything with everything\n",
    "models = []\n",
    "\n",
    "# set up list of model combinations\n",
    "for i in RELATION_MODELS:\n",
    "    for j in RELATION_MODELS:\n",
    "        if i == j:\n",
    "            continue\n",
    "        else:\n",
    "            models.append([i, j])\n",
    "\n",
    "# initialize dataframes and counter for column name\n",
    "df = pd.DataFrame()\n",
    "\n",
    "def hello_kitty_action_plan(models):\n",
    "    # loop through model constellation in models list\n",
    "    df_results = pd.DataFrame()\n",
    "    description = str(str(models[0][-10:-7]) + \"-\" + str(models[1][-10:-7]))\n",
    "    try:\n",
    "        # create SQL query and build contingency table for sm.stats\n",
    "        contingency_table = build_contingency_table_from_single_topic(\n",
    "            RELATION_MODELS_PATH, models, TOPIC_OF_INTEREST, NO_ENTITIES\n",
    "        )\n",
    "        contingency_table = sm.stats.Table(contingency_table)\n",
    "        # calculate results + add them to dataframe\n",
    "        results = contingency_table.test_nominal_association()\n",
    "        df_results[description] = [str(models[0][-10:-7]), str(models[1][-10:-7]), description, results.statistic, results.pvalue]\n",
    "    except:\n",
    "        print(\"There is too little data for \" + TOPIC_OF_INTEREST)\n",
    "\n",
    "    df_results = df_results.transpose()\n",
    "    df_results = df_results.rename(columns={0: \"reference\", 1:\"comparison\", 2: \"combination\", 3: str(\"chi_sq\"), 4: str(\"p_value\")})\n",
    "\n",
    "    return df_results\n",
    "\n",
    "\n",
    "# Init multiprocessing.Pool()\n",
    "pool = mp.Pool(mp.cpu_count())\n",
    "\n",
    "# concat the pool-parallelized dataframes from pathlist\n",
    "df = pd.concat(pool.map(hello_kitty_action_plan, [model for model in models]), axis=0)\n",
    "\n",
    "# close pool \n",
    "pool.close()\n",
    "\n",
    "# save results to csv\n",
    "df.to_csv(\n",
    "    RESULTS_PATH + \"hyp1_\" + TOPIC_OF_INTEREST + \".csv\", index=False\n",
    ")\n",
    "\n",
    "\n",
    "message_me(\"hyp1\")\n"
   ]
  },
  {
   "cell_type": "code",
   "execution_count": 19,
   "metadata": {},
   "outputs": [
    {
     "data": {
      "application/javascript": [
       "\n",
       "            setTimeout(function() {\n",
       "                var nbb_cell_id = 19;\n",
       "                var nbb_unformatted_code = \"df = pd.read_csv(RESULTS_PATH + \\\"hyp1_\\\" + TOPIC_OF_INTEREST + \\\".csv\\\")\";\n",
       "                var nbb_formatted_code = \"df = pd.read_csv(RESULTS_PATH + \\\"hyp1_\\\" + TOPIC_OF_INTEREST + \\\".csv\\\")\";\n",
       "                var nbb_cells = Jupyter.notebook.get_cells();\n",
       "                for (var i = 0; i < nbb_cells.length; ++i) {\n",
       "                    if (nbb_cells[i].input_prompt_number == nbb_cell_id) {\n",
       "                        if (nbb_cells[i].get_text() == nbb_unformatted_code) {\n",
       "                             nbb_cells[i].set_text(nbb_formatted_code);\n",
       "                        }\n",
       "                        break;\n",
       "                    }\n",
       "                }\n",
       "            }, 500);\n",
       "            "
      ],
      "text/plain": [
       "<IPython.core.display.Javascript object>"
      ]
     },
     "metadata": {},
     "output_type": "display_data"
    }
   ],
   "source": [
    "df = pd.read_csv(RESULTS_PATH + \"hyp1_\" + TOPIC_OF_INTEREST + \".csv\")\n"
   ]
  },
  {
   "cell_type": "code",
   "execution_count": 20,
   "metadata": {},
   "outputs": [
    {
     "data": {
      "application/javascript": [
       "\n",
       "            setTimeout(function() {\n",
       "                var nbb_cell_id = 20;\n",
       "                var nbb_unformatted_code = \"# only necessary to run, if result csv is imported.\\ndf[\\\"reference\\\"] = 1\\ndf[\\\"comparison\\\"] = 1\\ndf[\\\"ones\\\"] = 1\\nfor i in range(len(df)):\\n    df.reference[i] = df.combination[i][:3]\\n    df.comparison[i] = df.combination[i][-3:]\\ndf[\\\"same_chi\\\"] = 1\\ndf[\\\"same_lit\\\"] = 1\";\n",
       "                var nbb_formatted_code = \"# only necessary to run, if result csv is imported.\\ndf[\\\"reference\\\"] = 1\\ndf[\\\"comparison\\\"] = 1\\ndf[\\\"ones\\\"] = 1\\nfor i in range(len(df)):\\n    df.reference[i] = df.combination[i][:3]\\n    df.comparison[i] = df.combination[i][-3:]\\ndf[\\\"same_chi\\\"] = 1\\ndf[\\\"same_lit\\\"] = 1\";\n",
       "                var nbb_cells = Jupyter.notebook.get_cells();\n",
       "                for (var i = 0; i < nbb_cells.length; ++i) {\n",
       "                    if (nbb_cells[i].input_prompt_number == nbb_cell_id) {\n",
       "                        if (nbb_cells[i].get_text() == nbb_unformatted_code) {\n",
       "                             nbb_cells[i].set_text(nbb_formatted_code);\n",
       "                        }\n",
       "                        break;\n",
       "                    }\n",
       "                }\n",
       "            }, 500);\n",
       "            "
      ],
      "text/plain": [
       "<IPython.core.display.Javascript object>"
      ]
     },
     "metadata": {},
     "output_type": "display_data"
    }
   ],
   "source": [
    "# only necessary to run, if result csv is imported.\n",
    "df[\"reference\"] = 1\n",
    "df[\"comparison\"] = 1\n",
    "df[\"ones\"] = 1\n",
    "for i in range(len(df)):\n",
    "    df.reference[i] = df.combination[i][:3]\n",
    "    df.comparison[i] = df.combination[i][-3:]\n",
    "df[\"same_chi\"] = 1\n",
    "df[\"same_lit\"] = 1"
   ]
  },
  {
   "cell_type": "code",
   "execution_count": 21,
   "metadata": {},
   "outputs": [
    {
     "data": {
      "application/javascript": [
       "\n",
       "            setTimeout(function() {\n",
       "                var nbb_cell_id = 21;\n",
       "                var nbb_unformatted_code = \"# add labels for evaluating accuracy, precision and recall\\nliberal = [\\\"NYT\\\", \\\"HFP\\\", \\\"WPO\\\"]\\ncenter = [\\\"CNN\\\", \\\"RET\\\", \\\"NBC\\\"]\\nconservative = [\\\"CTB\\\", \\\"FXN\\\", \\\"WSJ\\\"]\\n\\n\\nfor i in range(len(df)):\\n    # adding labels, derived from the chi-test\\n    if df.p_value[i] <= 0.05:\\n        df.same_chi[i] = 1\\n    else:\\n        df.same_chi[i] = 0\\n    \\n    # adding labels, derived from literature\\n    if all(x in liberal for x in [df.reference[i], df.comparison[i]]) == True:\\n        df.same_lit[i] = 1\\n    elif all(x in center for x in [df.reference[i], df.comparison[i]]) == True:\\n        df.same_lit[i] = 1\\n    elif all(x in conservative for x in [df.reference[i], df.comparison[i]]) == True:\\n        df.same_lit[i] = 1\\n    else:\\n        df.same_lit[i] = 0\";\n",
       "                var nbb_formatted_code = \"# add labels for evaluating accuracy, precision and recall\\nliberal = [\\\"NYT\\\", \\\"HFP\\\", \\\"WPO\\\"]\\ncenter = [\\\"CNN\\\", \\\"RET\\\", \\\"NBC\\\"]\\nconservative = [\\\"CTB\\\", \\\"FXN\\\", \\\"WSJ\\\"]\\n\\n\\nfor i in range(len(df)):\\n    # adding labels, derived from the chi-test\\n    if df.p_value[i] <= 0.05:\\n        df.same_chi[i] = 1\\n    else:\\n        df.same_chi[i] = 0\\n\\n    # adding labels, derived from literature\\n    if all(x in liberal for x in [df.reference[i], df.comparison[i]]) == True:\\n        df.same_lit[i] = 1\\n    elif all(x in center for x in [df.reference[i], df.comparison[i]]) == True:\\n        df.same_lit[i] = 1\\n    elif all(x in conservative for x in [df.reference[i], df.comparison[i]]) == True:\\n        df.same_lit[i] = 1\\n    else:\\n        df.same_lit[i] = 0\";\n",
       "                var nbb_cells = Jupyter.notebook.get_cells();\n",
       "                for (var i = 0; i < nbb_cells.length; ++i) {\n",
       "                    if (nbb_cells[i].input_prompt_number == nbb_cell_id) {\n",
       "                        if (nbb_cells[i].get_text() == nbb_unformatted_code) {\n",
       "                             nbb_cells[i].set_text(nbb_formatted_code);\n",
       "                        }\n",
       "                        break;\n",
       "                    }\n",
       "                }\n",
       "            }, 500);\n",
       "            "
      ],
      "text/plain": [
       "<IPython.core.display.Javascript object>"
      ]
     },
     "metadata": {},
     "output_type": "display_data"
    }
   ],
   "source": [
    "# add labels for evaluating accuracy, precision and recall\n",
    "liberal = [\"NYT\", \"HFP\", \"WPO\"]\n",
    "center = [\"CNN\", \"RET\", \"NBC\"]\n",
    "conservative = [\"CTB\", \"FXN\", \"WSJ\"]\n",
    "\n",
    "\n",
    "for i in range(len(df)):\n",
    "    # adding labels, derived from the chi-test\n",
    "    if df.p_value[i] <= 0.05:\n",
    "        df.same_chi[i] = 1\n",
    "    else:\n",
    "        df.same_chi[i] = 0\n",
    "    \n",
    "    # adding labels, derived from literature\n",
    "    if all(x in liberal for x in [df.reference[i], df.comparison[i]]) == True:\n",
    "        df.same_lit[i] = 1\n",
    "    elif all(x in center for x in [df.reference[i], df.comparison[i]]) == True:\n",
    "        df.same_lit[i] = 1\n",
    "    elif all(x in conservative for x in [df.reference[i], df.comparison[i]]) == True:\n",
    "        df.same_lit[i] = 1\n",
    "    else:\n",
    "        df.same_lit[i] = 0\n",
    "\n"
   ]
  },
  {
   "cell_type": "markdown",
   "metadata": {},
   "source": [
    "### Results hypothesis 1.1"
   ]
  },
  {
   "cell_type": "code",
   "execution_count": 22,
   "metadata": {},
   "outputs": [
    {
     "data": {
      "application/javascript": [
       "\n",
       "            setTimeout(function() {\n",
       "                var nbb_cell_id = 22;\n",
       "                var nbb_unformatted_code = \"# split into two dataframes df_same and df_diff\\ndf_same = pd.DataFrame()\\ndf_diff = pd.DataFrame()\\n\\nfor i in range(len(df)):\\n    if all(x in liberal for x in [df.reference[i], df.comparison[i]]) == True:\\n        df_same = df_same.append(df.loc[i])\\n    elif all(x in center for x in [df.reference[i], df.comparison[i]]) == True:\\n        df_same = df_same.append(df.loc[i])\\n    elif all(x in conservative for x in [df.reference[i], df.comparison[i]]) == True:\\n        df_same = df_same.append(df.loc[i])\\n    else:\\n        df_diff = df_diff.append(df.loc[i])\\n\\ndf_same = df_same.reset_index()\\ndf_diff = df_diff.reset_index()\";\n",
       "                var nbb_formatted_code = \"# split into two dataframes df_same and df_diff\\ndf_same = pd.DataFrame()\\ndf_diff = pd.DataFrame()\\n\\nfor i in range(len(df)):\\n    if all(x in liberal for x in [df.reference[i], df.comparison[i]]) == True:\\n        df_same = df_same.append(df.loc[i])\\n    elif all(x in center for x in [df.reference[i], df.comparison[i]]) == True:\\n        df_same = df_same.append(df.loc[i])\\n    elif all(x in conservative for x in [df.reference[i], df.comparison[i]]) == True:\\n        df_same = df_same.append(df.loc[i])\\n    else:\\n        df_diff = df_diff.append(df.loc[i])\\n\\ndf_same = df_same.reset_index()\\ndf_diff = df_diff.reset_index()\";\n",
       "                var nbb_cells = Jupyter.notebook.get_cells();\n",
       "                for (var i = 0; i < nbb_cells.length; ++i) {\n",
       "                    if (nbb_cells[i].input_prompt_number == nbb_cell_id) {\n",
       "                        if (nbb_cells[i].get_text() == nbb_unformatted_code) {\n",
       "                             nbb_cells[i].set_text(nbb_formatted_code);\n",
       "                        }\n",
       "                        break;\n",
       "                    }\n",
       "                }\n",
       "            }, 500);\n",
       "            "
      ],
      "text/plain": [
       "<IPython.core.display.Javascript object>"
      ]
     },
     "metadata": {},
     "output_type": "display_data"
    }
   ],
   "source": [
    "# split into two dataframes df_same and df_diff\n",
    "df_same = pd.DataFrame()\n",
    "df_diff = pd.DataFrame()\n",
    "\n",
    "for i in range(len(df)):\n",
    "    if all(x in liberal for x in [df.reference[i], df.comparison[i]]) == True:\n",
    "        df_same = df_same.append(df.loc[i])\n",
    "    elif all(x in center for x in [df.reference[i], df.comparison[i]]) == True:\n",
    "        df_same = df_same.append(df.loc[i])\n",
    "    elif all(x in conservative for x in [df.reference[i], df.comparison[i]]) == True:\n",
    "        df_same = df_same.append(df.loc[i])\n",
    "    else:\n",
    "        df_diff = df_diff.append(df.loc[i])\n",
    "\n",
    "df_same = df_same.reset_index()\n",
    "df_diff = df_diff.reset_index()"
   ]
  },
  {
   "cell_type": "code",
   "execution_count": 23,
   "metadata": {
    "scrolled": false
   },
   "outputs": [
    {
     "name": "stdout",
     "output_type": "stream",
     "text": [
      "              precision    recall  f1-score   support\n",
      "\n",
      "        diff     0.0000    0.0000    0.0000         0\n",
      "        same     1.0000    0.7222    0.8387        18\n",
      "\n",
      "    accuracy                         0.7222        18\n",
      "   macro avg     0.5000    0.3611    0.4194        18\n",
      "weighted avg     1.0000    0.7222    0.8387        18\n",
      "\n"
     ]
    },
    {
     "data": {
      "application/javascript": [
       "\n",
       "            setTimeout(function() {\n",
       "                var nbb_cell_id = 23;\n",
       "                var nbb_unformatted_code = \"# Results for Hyp 1.1\\ny_true = df_same.same_lit\\ny_pred = df_same.same_chi\\n\\ntarget_names = [\\\"diff\\\", \\\"same\\\"]\\nprint(classification_report(y_true, y_pred, target_names=target_names, digits=4))\";\n",
       "                var nbb_formatted_code = \"# Results for Hyp 1.1\\ny_true = df_same.same_lit\\ny_pred = df_same.same_chi\\n\\ntarget_names = [\\\"diff\\\", \\\"same\\\"]\\nprint(classification_report(y_true, y_pred, target_names=target_names, digits=4))\";\n",
       "                var nbb_cells = Jupyter.notebook.get_cells();\n",
       "                for (var i = 0; i < nbb_cells.length; ++i) {\n",
       "                    if (nbb_cells[i].input_prompt_number == nbb_cell_id) {\n",
       "                        if (nbb_cells[i].get_text() == nbb_unformatted_code) {\n",
       "                             nbb_cells[i].set_text(nbb_formatted_code);\n",
       "                        }\n",
       "                        break;\n",
       "                    }\n",
       "                }\n",
       "            }, 500);\n",
       "            "
      ],
      "text/plain": [
       "<IPython.core.display.Javascript object>"
      ]
     },
     "metadata": {},
     "output_type": "display_data"
    }
   ],
   "source": [
    "# Results for Hyp 1.1\n",
    "y_true = df_same.same_lit\n",
    "y_pred = df_same.same_chi\n",
    "\n",
    "target_names = [\"diff\", \"same\"]\n",
    "print(classification_report(y_true, y_pred, target_names=target_names, digits=4))\n"
   ]
  },
  {
   "cell_type": "markdown",
   "metadata": {},
   "source": [
    "### Results hypothesis 1.2"
   ]
  },
  {
   "cell_type": "code",
   "execution_count": 24,
   "metadata": {
    "scrolled": true
   },
   "outputs": [
    {
     "name": "stdout",
     "output_type": "stream",
     "text": [
      "              precision    recall  f1-score   support\n",
      "\n",
      "        diff     1.0000    0.2593    0.4118        54\n",
      "        same     0.0000    0.0000    0.0000         0\n",
      "\n",
      "    accuracy                         0.2593        54\n",
      "   macro avg     0.5000    0.1296    0.2059        54\n",
      "weighted avg     1.0000    0.2593    0.4118        54\n",
      "\n"
     ]
    },
    {
     "data": {
      "application/javascript": [
       "\n",
       "            setTimeout(function() {\n",
       "                var nbb_cell_id = 24;\n",
       "                var nbb_unformatted_code = \"# Results for Hyp 1.2\\ny_true = df_diff.same_lit\\ny_pred = df_diff.same_chi\\n\\ntarget_names = [\\\"diff\\\", \\\"same\\\"]\\nprint(classification_report(y_true, y_pred, target_names=target_names, digits=4))\";\n",
       "                var nbb_formatted_code = \"# Results for Hyp 1.2\\ny_true = df_diff.same_lit\\ny_pred = df_diff.same_chi\\n\\ntarget_names = [\\\"diff\\\", \\\"same\\\"]\\nprint(classification_report(y_true, y_pred, target_names=target_names, digits=4))\";\n",
       "                var nbb_cells = Jupyter.notebook.get_cells();\n",
       "                for (var i = 0; i < nbb_cells.length; ++i) {\n",
       "                    if (nbb_cells[i].input_prompt_number == nbb_cell_id) {\n",
       "                        if (nbb_cells[i].get_text() == nbb_unformatted_code) {\n",
       "                             nbb_cells[i].set_text(nbb_formatted_code);\n",
       "                        }\n",
       "                        break;\n",
       "                    }\n",
       "                }\n",
       "            }, 500);\n",
       "            "
      ],
      "text/plain": [
       "<IPython.core.display.Javascript object>"
      ]
     },
     "metadata": {},
     "output_type": "display_data"
    }
   ],
   "source": [
    "# Results for Hyp 1.2\n",
    "y_true = df_diff.same_lit\n",
    "y_pred = df_diff.same_chi\n",
    "\n",
    "target_names = [\"diff\", \"same\"]\n",
    "print(classification_report(y_true, y_pred, target_names=target_names, digits=4))\n"
   ]
  },
  {
   "cell_type": "markdown",
   "metadata": {},
   "source": [
    "### Combined results"
   ]
  },
  {
   "cell_type": "code",
   "execution_count": 25,
   "metadata": {},
   "outputs": [
    {
     "name": "stdout",
     "output_type": "stream",
     "text": [
      "              precision    recall  f1-score   support\n",
      "\n",
      "        diff     0.7368    0.2593    0.3836        54\n",
      "        same     0.2453    0.7222    0.3662        18\n",
      "\n",
      "    accuracy                         0.3750        72\n",
      "   macro avg     0.4911    0.4907    0.3749        72\n",
      "weighted avg     0.6140    0.3750    0.3792        72\n",
      "\n"
     ]
    },
    {
     "data": {
      "application/javascript": [
       "\n",
       "            setTimeout(function() {\n",
       "                var nbb_cell_id = 25;\n",
       "                var nbb_unformatted_code = \"# Results for overall precision\\ny_true = df.same_lit\\ny_pred = df.same_chi\\n\\ntarget_names = [\\\"diff\\\", \\\"same\\\"]\\nprint(classification_report(y_true, y_pred, target_names=target_names, digits=4))\";\n",
       "                var nbb_formatted_code = \"# Results for overall precision\\ny_true = df.same_lit\\ny_pred = df.same_chi\\n\\ntarget_names = [\\\"diff\\\", \\\"same\\\"]\\nprint(classification_report(y_true, y_pred, target_names=target_names, digits=4))\";\n",
       "                var nbb_cells = Jupyter.notebook.get_cells();\n",
       "                for (var i = 0; i < nbb_cells.length; ++i) {\n",
       "                    if (nbb_cells[i].input_prompt_number == nbb_cell_id) {\n",
       "                        if (nbb_cells[i].get_text() == nbb_unformatted_code) {\n",
       "                             nbb_cells[i].set_text(nbb_formatted_code);\n",
       "                        }\n",
       "                        break;\n",
       "                    }\n",
       "                }\n",
       "            }, 500);\n",
       "            "
      ],
      "text/plain": [
       "<IPython.core.display.Javascript object>"
      ]
     },
     "metadata": {},
     "output_type": "display_data"
    }
   ],
   "source": [
    "# Results for overall precision\n",
    "y_true = df.same_lit\n",
    "y_pred = df.same_chi\n",
    "\n",
    "target_names = [\"diff\", \"same\"]\n",
    "print(classification_report(y_true, y_pred, target_names=target_names, digits=4))\n"
   ]
  },
  {
   "cell_type": "markdown",
   "metadata": {},
   "source": [
    "## 5.2 Hypothesis 2 <a class=\"anchor\" id=\"hyp2\"></a>\n",
    "\n",
    "Goal of hypothesis 2 estimates whether there are other possibilities to categorize news-outlets into similar slant groups. \n",
    "Therefore a graph is constructed from the news-outlets. The news-outlets are represented by nodes, the edges by the chi-value of the news-outlet tuples. The chi-statistic was chosen, since it respects differences in the number of articles of the compared news-outlets.\n",
    "\n",
    "The graphs were constructed as directed and undirected graphs.\n",
    "For each Version the local clustering coefficient of each node was calculated after Opsahl and Panzarasa (2009)."
   ]
  },
  {
   "cell_type": "code",
   "execution_count": 26,
   "metadata": {},
   "outputs": [
    {
     "data": {
      "image/png": "[encoded data removed]",
      "text/plain": [
       "<Figure size 432x432 with 1 Axes>"
      ]
     },
     "metadata": {},
     "output_type": "display_data"
    },
    {
     "data": {
      "application/javascript": [
       "\n",
       "            setTimeout(function() {\n",
       "                var nbb_cell_id = 26;\n",
       "                var nbb_unformatted_code = \"# visualize as directed weighted graph\\nG_weighted = nx.Graph()\\n\\nfor i in range(len(df)):\\n    G_weighted.add_edge(df.reference[i], df.comparison[i], weight=(df.chi_sq[i]))\\n\\nnx.spring_layout(G_weighted)\\nplt.figure(figsize=(6, 6))\\nnx.draw_networkx(G_weighted, with_labels=True, edge_color=\\\"gray\\\", node_color=\\\"white\\\")\";\n",
       "                var nbb_formatted_code = \"# visualize as directed weighted graph\\nG_weighted = nx.Graph()\\n\\nfor i in range(len(df)):\\n    G_weighted.add_edge(df.reference[i], df.comparison[i], weight=(df.chi_sq[i]))\\n\\nnx.spring_layout(G_weighted)\\nplt.figure(figsize=(6, 6))\\nnx.draw_networkx(G_weighted, with_labels=True, edge_color=\\\"gray\\\", node_color=\\\"white\\\")\";\n",
       "                var nbb_cells = Jupyter.notebook.get_cells();\n",
       "                for (var i = 0; i < nbb_cells.length; ++i) {\n",
       "                    if (nbb_cells[i].input_prompt_number == nbb_cell_id) {\n",
       "                        if (nbb_cells[i].get_text() == nbb_unformatted_code) {\n",
       "                             nbb_cells[i].set_text(nbb_formatted_code);\n",
       "                        }\n",
       "                        break;\n",
       "                    }\n",
       "                }\n",
       "            }, 500);\n",
       "            "
      ],
      "text/plain": [
       "<IPython.core.display.Javascript object>"
      ]
     },
     "metadata": {},
     "output_type": "display_data"
    }
   ],
   "source": [
    "# visualize as directed weighted graph\n",
    "G_weighted = nx.Graph()\n",
    "\n",
    "for i in range(len(df)):\n",
    "    G_weighted.add_edge(df.reference[i], df.comparison[i], weight=(df.chi_sq[i]))\n",
    "\n",
    "nx.spring_layout(G_weighted)\n",
    "plt.figure(figsize=(6, 6))\n",
    "nx.draw_networkx(G_weighted, with_labels=True, edge_color=\"gray\", node_color=\"white\")"
   ]
  },
  {
   "cell_type": "code",
   "execution_count": 27,
   "metadata": {
    "scrolled": true
   },
   "outputs": [
    {
     "data": {
      "image/png": "[encoded data removed]",
      "text/plain": [
       "<Figure size 432x432 with 1 Axes>"
      ]
     },
     "metadata": {},
     "output_type": "display_data"
    },
    {
     "data": {
      "application/javascript": [
       "\n",
       "            setTimeout(function() {\n",
       "                var nbb_cell_id = 27;\n",
       "                var nbb_unformatted_code = \"# Visualize as undirected weighted graph.\\n# The edge, weights are combined and averaged \\n\\ndf_new = pd.DataFrame()\\nG_new = nx.Graph()\\n\\nfor i in range(len(df)):\\n    k = pd.DataFrame()\\n    for j in range(len(df)):\\n        if (\\n            df.reference[i] == df.comparison[j]\\n            and df.reference[j] == df.comparison[i]\\n            and i != j\\n        ):\\n            l = [\\n                str(df.reference[i]),\\n                str(df.comparison[i]),\\n                ((df.chi_sq[i] + df.chi_sq[j])),\\n            ]\\n            G_new.add_edge(\\n                str(df.reference[i]),\\n                str(df.comparison[i]),\\n                weight=(((df.chi_sq[i]+df.chi_sq[j])/2)*100),\\n            )\\n            k = k.append(l)\\n            k = k.transpose()\\n            df_new = df_new.append(k)\\n\\nnx.spring_layout(G_new)\\nplt.figure(figsize=(6, 6))\\nplt.axis = \\\"off\\\"\\nnx.draw_networkx(G_new, with_labels=True, edge_color=\\\"gray\\\", node_color=\\\"white\\\")\\n\\ndf_new = df_new.rename(columns={0: \\\"reference\\\", 1: \\\"comparison\\\", 2: \\\"summed_chi_sq\\\"})\";\n",
       "                var nbb_formatted_code = \"# Visualize as undirected weighted graph.\\n# The edge, weights are combined and averaged\\n\\ndf_new = pd.DataFrame()\\nG_new = nx.Graph()\\n\\nfor i in range(len(df)):\\n    k = pd.DataFrame()\\n    for j in range(len(df)):\\n        if (\\n            df.reference[i] == df.comparison[j]\\n            and df.reference[j] == df.comparison[i]\\n            and i != j\\n        ):\\n            l = [\\n                str(df.reference[i]),\\n                str(df.comparison[i]),\\n                ((df.chi_sq[i] + df.chi_sq[j])),\\n            ]\\n            G_new.add_edge(\\n                str(df.reference[i]),\\n                str(df.comparison[i]),\\n                weight=(((df.chi_sq[i] + df.chi_sq[j]) / 2) * 100),\\n            )\\n            k = k.append(l)\\n            k = k.transpose()\\n            df_new = df_new.append(k)\\n\\nnx.spring_layout(G_new)\\nplt.figure(figsize=(6, 6))\\nplt.axis = \\\"off\\\"\\nnx.draw_networkx(G_new, with_labels=True, edge_color=\\\"gray\\\", node_color=\\\"white\\\")\\n\\ndf_new = df_new.rename(columns={0: \\\"reference\\\", 1: \\\"comparison\\\", 2: \\\"summed_chi_sq\\\"})\";\n",
       "                var nbb_cells = Jupyter.notebook.get_cells();\n",
       "                for (var i = 0; i < nbb_cells.length; ++i) {\n",
       "                    if (nbb_cells[i].input_prompt_number == nbb_cell_id) {\n",
       "                        if (nbb_cells[i].get_text() == nbb_unformatted_code) {\n",
       "                             nbb_cells[i].set_text(nbb_formatted_code);\n",
       "                        }\n",
       "                        break;\n",
       "                    }\n",
       "                }\n",
       "            }, 500);\n",
       "            "
      ],
      "text/plain": [
       "<IPython.core.display.Javascript object>"
      ]
     },
     "metadata": {},
     "output_type": "display_data"
    }
   ],
   "source": [
    "# Visualize as undirected weighted graph.\n",
    "# The edge, weights are combined and averaged \n",
    "\n",
    "df_new = pd.DataFrame()\n",
    "G_new = nx.Graph()\n",
    "\n",
    "for i in range(len(df)):\n",
    "    k = pd.DataFrame()\n",
    "    for j in range(len(df)):\n",
    "        if (\n",
    "            df.reference[i] == df.comparison[j]\n",
    "            and df.reference[j] == df.comparison[i]\n",
    "            and i != j\n",
    "        ):\n",
    "            l = [\n",
    "                str(df.reference[i]),\n",
    "                str(df.comparison[i]),\n",
    "                ((df.chi_sq[i] + df.chi_sq[j])),\n",
    "            ]\n",
    "            G_new.add_edge(\n",
    "                str(df.reference[i]),\n",
    "                str(df.comparison[i]),\n",
    "                weight=(((df.chi_sq[i]+df.chi_sq[j])/2)*100),\n",
    "            )\n",
    "            k = k.append(l)\n",
    "            k = k.transpose()\n",
    "            df_new = df_new.append(k)\n",
    "\n",
    "nx.spring_layout(G_new)\n",
    "plt.figure(figsize=(6, 6))\n",
    "plt.axis = \"off\"\n",
    "nx.draw_networkx(G_new, with_labels=True, edge_color=\"gray\", node_color=\"white\")\n",
    "\n",
    "df_new = df_new.rename(columns={0: \"reference\", 1: \"comparison\", 2: \"summed_chi_sq\"})\n"
   ]
  },
  {
   "cell_type": "code",
   "execution_count": 28,
   "metadata": {},
   "outputs": [
    {
     "data": {
      "text/plain": [
       "'\\n# print out triangles that have a cluster coefficient bigger, than X\\nfor i in range(len(df_coefficient)):\\n    if df_coefficient[4][i] >= 0.5:\\n        print(df_coefficient.loc[i])\\n    else:\\n        continue\\n'"
      ]
     },
     "execution_count": 28,
     "metadata": {},
     "output_type": "execute_result"
    },
    {
     "data": {
      "application/javascript": [
       "\n",
       "            setTimeout(function() {\n",
       "                var nbb_cell_id = 28;\n",
       "                var nbb_unformatted_code = \"## calculate the clustering coefficient for each node\\n# normal cluster coefficient not useful since interconnected and weighted --> therefore Opsahl et al. (2009)\\n\\n# triplet values - arithmetic, geometric, max, min --> best results with geometric\\n\\n# split into list of dfs containing only one reference node\\ndf_list = [df.loc[i : i + 8 - 1, :] for i in range(0, len(df), 8)]\\n\\ndf_coefficient = pd.DataFrame()\\n\\n# loop over every single node\\nfor df_single in df_list:\\n    df_single = df_single.reset_index()\\n    total_value = 0\\n\\n    # loop over the weights of all connected nodes\\n    for j in range(len(df_single) - 1):\\n        # geometric\\n        total_value = total_value + math.sqrt(\\n            df_single.chi_sq[j] * df_single.chi_sq[j + 1]\\n        )\\n        # arithmetic\\n        # total_value = total_value + ((df_single.chi_sq[j] * df_single.chi_sq[j + 1])/2)\\n        # max\\n        # total_value = total_value + max(df_single.chi_sq[j], df_single.chi_sq[j + 1])\\n        # min\\n        # total_value = total_value + min(df_single.chi_sq[j], df_single.chi_sq[j + 1])\\n\\n    for i in range(len(df_single) - 1):\\n        # geometric\\n        triplet_value = math.sqrt(df_single.chi_sq[i] * df_single.chi_sq[i + 1])\\n        # arithmetic\\n        # triplet_value = ((df_single.chi_sq[i] * df_single.chi_sq[i + 1])/2)\\n        # max\\n        # triplet_value = max(df_single.chi_sq[i], df_single.chi_sq[i + 1])\\n        # min\\n        # triplet_value = min(df_single.chi_sq[i], df_single.chi_sq[i + 1])\\n\\n        cluster_coefficient = triplet_value / total_value\\n        buffer = [\\n            [\\n                df_single.reference[i],\\n                df_single.comparison[i],\\n                df_single.comparison[i + 1],\\n                triplet_value,\\n                cluster_coefficient,\\n            ]\\n        ]\\n        df_coefficient = df_coefficient.append(buffer)\\n\\ndf_coefficient = df_coefficient.reset_index()\\ndf_coefficient\\n\\n\\\"\\\"\\\"\\n# print out triangles that have a cluster coefficient bigger, than X\\nfor i in range(len(df_coefficient)):\\n    if df_coefficient[4][i] >= 0.5:\\n        print(df_coefficient.loc[i])\\n    else:\\n        continue\\n\\\"\\\"\\\"\";\n",
       "                var nbb_formatted_code = \"## calculate the clustering coefficient for each node\\n# normal cluster coefficient not useful since interconnected and weighted --> therefore Opsahl et al. (2009)\\n\\n# triplet values - arithmetic, geometric, max, min --> best results with geometric\\n\\n# split into list of dfs containing only one reference node\\ndf_list = [df.loc[i : i + 8 - 1, :] for i in range(0, len(df), 8)]\\n\\ndf_coefficient = pd.DataFrame()\\n\\n# loop over every single node\\nfor df_single in df_list:\\n    df_single = df_single.reset_index()\\n    total_value = 0\\n\\n    # loop over the weights of all connected nodes\\n    for j in range(len(df_single) - 1):\\n        # geometric\\n        total_value = total_value + math.sqrt(\\n            df_single.chi_sq[j] * df_single.chi_sq[j + 1]\\n        )\\n        # arithmetic\\n        # total_value = total_value + ((df_single.chi_sq[j] * df_single.chi_sq[j + 1])/2)\\n        # max\\n        # total_value = total_value + max(df_single.chi_sq[j], df_single.chi_sq[j + 1])\\n        # min\\n        # total_value = total_value + min(df_single.chi_sq[j], df_single.chi_sq[j + 1])\\n\\n    for i in range(len(df_single) - 1):\\n        # geometric\\n        triplet_value = math.sqrt(df_single.chi_sq[i] * df_single.chi_sq[i + 1])\\n        # arithmetic\\n        # triplet_value = ((df_single.chi_sq[i] * df_single.chi_sq[i + 1])/2)\\n        # max\\n        # triplet_value = max(df_single.chi_sq[i], df_single.chi_sq[i + 1])\\n        # min\\n        # triplet_value = min(df_single.chi_sq[i], df_single.chi_sq[i + 1])\\n\\n        cluster_coefficient = triplet_value / total_value\\n        buffer = [\\n            [\\n                df_single.reference[i],\\n                df_single.comparison[i],\\n                df_single.comparison[i + 1],\\n                triplet_value,\\n                cluster_coefficient,\\n            ]\\n        ]\\n        df_coefficient = df_coefficient.append(buffer)\\n\\ndf_coefficient = df_coefficient.reset_index()\\ndf_coefficient\\n\\n\\\"\\\"\\\"\\n# print out triangles that have a cluster coefficient bigger, than X\\nfor i in range(len(df_coefficient)):\\n    if df_coefficient[4][i] >= 0.5:\\n        print(df_coefficient.loc[i])\\n    else:\\n        continue\\n\\\"\\\"\\\"\";\n",
       "                var nbb_cells = Jupyter.notebook.get_cells();\n",
       "                for (var i = 0; i < nbb_cells.length; ++i) {\n",
       "                    if (nbb_cells[i].input_prompt_number == nbb_cell_id) {\n",
       "                        if (nbb_cells[i].get_text() == nbb_unformatted_code) {\n",
       "                             nbb_cells[i].set_text(nbb_formatted_code);\n",
       "                        }\n",
       "                        break;\n",
       "                    }\n",
       "                }\n",
       "            }, 500);\n",
       "            "
      ],
      "text/plain": [
       "<IPython.core.display.Javascript object>"
      ]
     },
     "metadata": {},
     "output_type": "display_data"
    }
   ],
   "source": [
    "## calculate the clustering coefficient for each node\n",
    "# normal cluster coefficient not useful since interconnected and weighted --> therefore Opsahl et al. (2009)\n",
    "\n",
    "# triplet values - arithmetic, geometric, max, min --> best results with geometric\n",
    "\n",
    "# split into list of dfs containing only one reference node\n",
    "df_list = [df.loc[i : i + 8 - 1, :] for i in range(0, len(df), 8)]\n",
    "\n",
    "df_coefficient = pd.DataFrame()\n",
    "\n",
    "# loop over every single node\n",
    "for df_single in df_list:\n",
    "    df_single = df_single.reset_index()\n",
    "    total_value = 0\n",
    "\n",
    "    # loop over the weights of all connected nodes\n",
    "    for j in range(len(df_single) - 1):\n",
    "        # geometric\n",
    "        total_value = total_value + math.sqrt(\n",
    "            df_single.chi_sq[j] * df_single.chi_sq[j + 1]\n",
    "        )\n",
    "        # arithmetic\n",
    "        # total_value = total_value + ((df_single.chi_sq[j] * df_single.chi_sq[j + 1])/2)\n",
    "        # max\n",
    "        # total_value = total_value + max(df_single.chi_sq[j], df_single.chi_sq[j + 1])\n",
    "        # min\n",
    "        # total_value = total_value + min(df_single.chi_sq[j], df_single.chi_sq[j + 1])\n",
    "\n",
    "    for i in range(len(df_single) - 1):\n",
    "        # geometric\n",
    "        triplet_value = math.sqrt(df_single.chi_sq[i] * df_single.chi_sq[i + 1])\n",
    "        # arithmetic\n",
    "        # triplet_value = ((df_single.chi_sq[i] * df_single.chi_sq[i + 1])/2)\n",
    "        # max\n",
    "        # triplet_value = max(df_single.chi_sq[i], df_single.chi_sq[i + 1])\n",
    "        # min\n",
    "        # triplet_value = min(df_single.chi_sq[i], df_single.chi_sq[i + 1])\n",
    "\n",
    "        cluster_coefficient = triplet_value / total_value\n",
    "        buffer = [\n",
    "            [\n",
    "                df_single.reference[i],\n",
    "                df_single.comparison[i],\n",
    "                df_single.comparison[i + 1],\n",
    "                triplet_value,\n",
    "                cluster_coefficient,\n",
    "            ]\n",
    "        ]\n",
    "        df_coefficient = df_coefficient.append(buffer)\n",
    "\n",
    "df_coefficient = df_coefficient.reset_index()\n",
    "df_coefficient\n",
    "\n",
    "\"\"\"\n",
    "# print out triangles that have a cluster coefficient bigger, than X\n",
    "for i in range(len(df_coefficient)):\n",
    "    if df_coefficient[4][i] >= 0.5:\n",
    "        print(df_coefficient.loc[i])\n",
    "    else:\n",
    "        continue\n",
    "\"\"\""
   ]
  },
  {
   "cell_type": "markdown",
   "metadata": {},
   "source": [
    "### 5.3 Hypothesis 3 <a class=\"anchor\" id=\"hyp3\"></a>\n",
    "\n",
    "Since it is possible to cluster news-outlets via their co-occurrences, hypothesis 3 assumes, that a combination of sentiment analysis and the clustering by co-occurrences could identify slant groups.\n",
    "\n",
    "First same-slant groups are identified by extracting only the sentiment of all co-occurring entities and the sentiment of their context. Therefore, scope (s) is defined that determines the number of sentences around the sentence in which a co-occurring entity is mentioned. The sentiment of all sentences within the scope is estimated.\n",
    "Expirements are run with s=0 and s=1, since the likelihood of neutral sentiment increases with the number of analyzed sentences. The resulting vectors of each news-outlet and each co-occurring entity are clusterd via k-means into three groups \n"
   ]
  },
  {
   "cell_type": "code",
   "execution_count": 29,
   "metadata": {},
   "outputs": [
    {
     "data": {
      "application/javascript": [
       "\n",
       "            setTimeout(function() {\n",
       "                var nbb_cell_id = 29;\n",
       "                var nbb_unformatted_code = \"# directory path of relation models\\nRELATION_MODELS_PATH = \\\"/home/jonas/Documents/GitHub/MasterThesis/models/finalDataset\\\"\\n\\n# model names\\nRELATION_MODELS = [\\n    \\\"RM_2011_news_CNN.sqlite\\\",\\n    \\\"RM_2011_news_CTB.sqlite\\\",\\n    \\\"RM_2011_news_FXN.sqlite\\\",\\n    \\\"RM_2011_news_HFP.sqlite\\\",\\n    \\\"RM_2011_news_NBC.sqlite\\\",\\n    \\\"RM_2011_news_NYT.sqlite\\\",\\n    \\\"RM_2011_news_RET.sqlite\\\",\\n    \\\"RM_2011_news_WPO.sqlite\\\",\\n    \\\"RM_2011_news_WSJ.sqlite\\\",\\n]\\n\\n# path to results folder\\nRESULTS_PATH = \\\"/home/jonas/Documents/GitHub/MasterThesis/results/\\\"\\n\\n# reference entity\\nTOPIC_OF_INTEREST = \\\"obama\\\"\\n\\n# number of co-occurring entites\\nNO_ENTITIES = 10\";\n",
       "                var nbb_formatted_code = \"# directory path of relation models\\nRELATION_MODELS_PATH = \\\"/home/jonas/Documents/GitHub/MasterThesis/models/finalDataset\\\"\\n\\n# model names\\nRELATION_MODELS = [\\n    \\\"RM_2011_news_CNN.sqlite\\\",\\n    \\\"RM_2011_news_CTB.sqlite\\\",\\n    \\\"RM_2011_news_FXN.sqlite\\\",\\n    \\\"RM_2011_news_HFP.sqlite\\\",\\n    \\\"RM_2011_news_NBC.sqlite\\\",\\n    \\\"RM_2011_news_NYT.sqlite\\\",\\n    \\\"RM_2011_news_RET.sqlite\\\",\\n    \\\"RM_2011_news_WPO.sqlite\\\",\\n    \\\"RM_2011_news_WSJ.sqlite\\\",\\n]\\n\\n# path to results folder\\nRESULTS_PATH = \\\"/home/jonas/Documents/GitHub/MasterThesis/results/\\\"\\n\\n# reference entity\\nTOPIC_OF_INTEREST = \\\"obama\\\"\\n\\n# number of co-occurring entites\\nNO_ENTITIES = 10\";\n",
       "                var nbb_cells = Jupyter.notebook.get_cells();\n",
       "                for (var i = 0; i < nbb_cells.length; ++i) {\n",
       "                    if (nbb_cells[i].input_prompt_number == nbb_cell_id) {\n",
       "                        if (nbb_cells[i].get_text() == nbb_unformatted_code) {\n",
       "                             nbb_cells[i].set_text(nbb_formatted_code);\n",
       "                        }\n",
       "                        break;\n",
       "                    }\n",
       "                }\n",
       "            }, 500);\n",
       "            "
      ],
      "text/plain": [
       "<IPython.core.display.Javascript object>"
      ]
     },
     "metadata": {},
     "output_type": "display_data"
    }
   ],
   "source": [
    "# directory path of relation models\n",
    "RELATION_MODELS_PATH = \"/home/jonas/Documents/GitHub/MasterThesis/models/finalDataset\"\n",
    "\n",
    "# model names\n",
    "RELATION_MODELS = [\n",
    "    \"RM_2011_news_CNN.sqlite\",\n",
    "    \"RM_2011_news_CTB.sqlite\",\n",
    "    \"RM_2011_news_FXN.sqlite\",\n",
    "    \"RM_2011_news_HFP.sqlite\",\n",
    "    \"RM_2011_news_NBC.sqlite\",\n",
    "    \"RM_2011_news_NYT.sqlite\",\n",
    "    \"RM_2011_news_RET.sqlite\",\n",
    "    \"RM_2011_news_WPO.sqlite\",\n",
    "    \"RM_2011_news_WSJ.sqlite\",\n",
    "]\n",
    "\n",
    "# path to results folder\n",
    "RESULTS_PATH = \"/home/jonas/Documents/GitHub/MasterThesis/results/\"\n",
    "\n",
    "# reference entity\n",
    "TOPIC_OF_INTEREST = \"obama\"\n",
    "\n",
    "# number of co-occurring entites\n",
    "NO_ENTITIES = 10"
   ]
  },
  {
   "cell_type": "code",
   "execution_count": null,
   "metadata": {},
   "outputs": [],
   "source": [
    "# extracting the mean and median sentiment of all entity co-occurrences and news-outlet-combinations\n",
    "# with a scope of 1\n",
    "\n",
    "df = pd.DataFrame()\n",
    "\n",
    "# number of sentences arount the sentence, that includes the entity\n",
    "SCOPE = 1\n",
    "\n",
    "# Init multiprocessing.Pool()\n",
    "pool = mp.Pool(mp.cpu_count())\n",
    "\n",
    "# concat the pool-parallelized dataframes from pathlist\n",
    "df = pd.concat(pool.map(entity_sentiment, [model for model in RELATION_MODELS]), axis=0)\n",
    "\n",
    "# close pool\n",
    "pool.close()\n",
    "\n",
    "df = df.reset_index()\n",
    "\n",
    "# save results to csv\n",
    "df.to_csv(RESULTS_PATH + \"sentimentAll_scope1_\" + TOPIC_OF_INTEREST + \".csv\", index=False)\n",
    "\n",
    "\n",
    "message_me(\"sentiment_all_scope_1\")"
   ]
  },
  {
   "cell_type": "code",
   "execution_count": 32,
   "metadata": {},
   "outputs": [
    {
     "data": {
      "application/javascript": [
       "\n",
       "            setTimeout(function() {\n",
       "                var nbb_cell_id = 32;\n",
       "                var nbb_unformatted_code = \"df_scope1 = pd.read_csv(RESULTS_PATH + \\\"sentimentAll_scope1_\\\" + TOPIC_OF_INTEREST + \\\".csv\\\")\";\n",
       "                var nbb_formatted_code = \"df_scope1 = pd.read_csv(\\n    RESULTS_PATH + \\\"sentimentAll_scope1_\\\" + TOPIC_OF_INTEREST + \\\".csv\\\"\\n)\";\n",
       "                var nbb_cells = Jupyter.notebook.get_cells();\n",
       "                for (var i = 0; i < nbb_cells.length; ++i) {\n",
       "                    if (nbb_cells[i].input_prompt_number == nbb_cell_id) {\n",
       "                        if (nbb_cells[i].get_text() == nbb_unformatted_code) {\n",
       "                             nbb_cells[i].set_text(nbb_formatted_code);\n",
       "                        }\n",
       "                        break;\n",
       "                    }\n",
       "                }\n",
       "            }, 500);\n",
       "            "
      ],
      "text/plain": [
       "<IPython.core.display.Javascript object>"
      ]
     },
     "metadata": {},
     "output_type": "display_data"
    }
   ],
   "source": [
    "df_scope1 = pd.read_csv(RESULTS_PATH + \"sentimentAll_scope1_\" + TOPIC_OF_INTEREST + \".csv\")\n"
   ]
  },
  {
   "cell_type": "code",
   "execution_count": 33,
   "metadata": {},
   "outputs": [
    {
     "data": {
      "application/javascript": [
       "\n",
       "            setTimeout(function() {\n",
       "                var nbb_cell_id = 33;\n",
       "                var nbb_unformatted_code = \"df_res, entity_frame_list = run_kmeans_on_sentiment(df_scope1)\";\n",
       "                var nbb_formatted_code = \"df_res, entity_frame_list = run_kmeans_on_sentiment(df_scope1)\";\n",
       "                var nbb_cells = Jupyter.notebook.get_cells();\n",
       "                for (var i = 0; i < nbb_cells.length; ++i) {\n",
       "                    if (nbb_cells[i].input_prompt_number == nbb_cell_id) {\n",
       "                        if (nbb_cells[i].get_text() == nbb_unformatted_code) {\n",
       "                             nbb_cells[i].set_text(nbb_formatted_code);\n",
       "                        }\n",
       "                        break;\n",
       "                    }\n",
       "                }\n",
       "            }, 500);\n",
       "            "
      ],
      "text/plain": [
       "<IPython.core.display.Javascript object>"
      ]
     },
     "metadata": {},
     "output_type": "display_data"
    }
   ],
   "source": [
    "df_res, entity_frame_list = run_kmeans_on_sentiment(df_scope1)\n"
   ]
  },
  {
   "cell_type": "code",
   "execution_count": null,
   "metadata": {},
   "outputs": [],
   "source": [
    "# extracting the mean and median sentiment of all entity co-occurrences and news-outlet-combinations\n",
    "# with a scope of 0\n",
    "\n",
    "df = pd.DataFrame()\n",
    "\n",
    "# number of sentences arount the sentence, that includes the entity\n",
    "SCOPE = 0\n",
    "\n",
    "# Init multiprocessing.Pool()\n",
    "pool = mp.Pool(mp.cpu_count())\n",
    "\n",
    "# concat the pool-parallelized dataframes from pathlist\n",
    "df = pd.concat(pool.map(entity_sentiment, [model for model in RELATION_MODELS]), axis=0)\n",
    "\n",
    "# close pool\n",
    "pool.close()\n",
    "\n",
    "df = df.reset_index()\n",
    "\n",
    "# save results to csv\n",
    "df.to_csv(\n",
    "    RESULTS_PATH + \"sentimentAll_scope0_\" + TOPIC_OF_INTEREST + \".csv\", index=False\n",
    ")\n",
    "\n",
    "\n",
    "message_me(\"sentiment_all_calibration\")"
   ]
  },
  {
   "cell_type": "code",
   "execution_count": 34,
   "metadata": {},
   "outputs": [
    {
     "data": {
      "application/javascript": [
       "\n",
       "            setTimeout(function() {\n",
       "                var nbb_cell_id = 34;\n",
       "                var nbb_unformatted_code = \"df_scope0 = pd.read_csv(RESULTS_PATH + \\\"sentimentAll_scope0_\\\" + TOPIC_OF_INTEREST + \\\".csv\\\")\";\n",
       "                var nbb_formatted_code = \"df_scope0 = pd.read_csv(\\n    RESULTS_PATH + \\\"sentimentAll_scope0_\\\" + TOPIC_OF_INTEREST + \\\".csv\\\"\\n)\";\n",
       "                var nbb_cells = Jupyter.notebook.get_cells();\n",
       "                for (var i = 0; i < nbb_cells.length; ++i) {\n",
       "                    if (nbb_cells[i].input_prompt_number == nbb_cell_id) {\n",
       "                        if (nbb_cells[i].get_text() == nbb_unformatted_code) {\n",
       "                             nbb_cells[i].set_text(nbb_formatted_code);\n",
       "                        }\n",
       "                        break;\n",
       "                    }\n",
       "                }\n",
       "            }, 500);\n",
       "            "
      ],
      "text/plain": [
       "<IPython.core.display.Javascript object>"
      ]
     },
     "metadata": {},
     "output_type": "display_data"
    }
   ],
   "source": [
    "df_scope0 = pd.read_csv(RESULTS_PATH + \"sentimentAll_scope0_\" + TOPIC_OF_INTEREST + \".csv\")\n"
   ]
  },
  {
   "cell_type": "code",
   "execution_count": 35,
   "metadata": {},
   "outputs": [
    {
     "data": {
      "application/javascript": [
       "\n",
       "            setTimeout(function() {\n",
       "                var nbb_cell_id = 35;\n",
       "                var nbb_unformatted_code = \"df_res, entity_frame_list = run_kmeans_on_sentiment(df_scope0)\";\n",
       "                var nbb_formatted_code = \"df_res, entity_frame_list = run_kmeans_on_sentiment(df_scope0)\";\n",
       "                var nbb_cells = Jupyter.notebook.get_cells();\n",
       "                for (var i = 0; i < nbb_cells.length; ++i) {\n",
       "                    if (nbb_cells[i].input_prompt_number == nbb_cell_id) {\n",
       "                        if (nbb_cells[i].get_text() == nbb_unformatted_code) {\n",
       "                             nbb_cells[i].set_text(nbb_formatted_code);\n",
       "                        }\n",
       "                        break;\n",
       "                    }\n",
       "                }\n",
       "            }, 500);\n",
       "            "
      ],
      "text/plain": [
       "<IPython.core.display.Javascript object>"
      ]
     },
     "metadata": {},
     "output_type": "display_data"
    }
   ],
   "source": [
    "df_res, entity_frame_list = run_kmeans_on_sentiment(df_scope0)\n"
   ]
  },
  {
   "cell_type": "code",
   "execution_count": null,
   "metadata": {},
   "outputs": [],
   "source": [
    "# create residual tables\n",
    "\n",
    "model_list = []\n",
    "for i in range(len(RELATION_MODELS)):\n",
    "    model = [RELATION_MODELS[i]]\n",
    "    for j in range(len(RELATION_MODELS)):\n",
    "        if i != j:\n",
    "            model.append(RELATION_MODELS[j])\n",
    "\n",
    "    model_list.append(model)\n",
    "\n",
    "# print(model_list)\n",
    "\n",
    "models = []\n",
    "for model in model_list:\n",
    "    models = models + model\n",
    "\n",
    "df_new[\"index\"] = pd.Series(models)\n",
    "df_new"
   ]
  },
  {
   "cell_type": "markdown",
   "metadata": {},
   "source": [
    "getting the co-occurrence residuals involved"
   ]
  },
  {
   "cell_type": "code",
   "execution_count": 36,
   "metadata": {
    "collapsed": true
   },
   "outputs": [
    {
     "name": "stderr",
     "output_type": "stream",
     "text": [
      "Process ForkPoolWorker-8:\n",
      "  File \"/home/jonas/anaconda3/lib/python3.7/multiprocessing/process.py\", line 297, in _bootstrap\n",
      "    self.run()\n",
      "Process ForkPoolWorker-7:\n",
      "Traceback (most recent call last):\n",
      "  File \"/home/jonas/anaconda3/lib/python3.7/multiprocessing/process.py\", line 297, in _bootstrap\n",
      "    self.run()\n",
      "  File \"/home/jonas/anaconda3/lib/python3.7/multiprocessing/process.py\", line 99, in run\n",
      "    self._target(*self._args, **self._kwargs)\n",
      "  File \"/home/jonas/anaconda3/lib/python3.7/multiprocessing/pool.py\", line 121, in worker\n",
      "    result = (True, func(*args, **kwds))\n",
      "Traceback (most recent call last):\n",
      "  File \"/home/jonas/anaconda3/lib/python3.7/multiprocessing/pool.py\", line 44, in mapstar\n",
      "    return list(map(*args))\n",
      "  File \"<ipython-input-36-9d1836a3f7e7>\", line 18, in create_residual_table\n",
      "    RELATION_MODELS_PATH, models, TOPIC_OF_INTEREST, 10,\n",
      "  File \"/home/jonas/anaconda3/lib/python3.7/multiprocessing/process.py\", line 99, in run\n",
      "    self._target(*self._args, **self._kwargs)\n",
      "Process ForkPoolWorker-6:\n",
      "  File \"<ipython-input-3-0538b57ed046>\", line 28, in build_contingency_table_from_single_topic\n",
      "    e2_is_synset=E2_SYNSET,\n",
      "Process ForkPoolWorker-3:\n",
      "Traceback (most recent call last):\n",
      "  File \"/home/jonas/.local/lib/python3.7/site-packages/newsrelations/metrics/distances.py\", line 118, in get_top_co_occurrences\n",
      "    res = self.get_dict_from_relations(relations_e1, query_name_e1)\n",
      "Traceback (most recent call last):\n",
      "Process ForkPoolWorker-4:\n",
      "  File \"/home/jonas/anaconda3/lib/python3.7/multiprocessing/process.py\", line 297, in _bootstrap\n",
      "    self.run()\n",
      "  File \"/home/jonas/.local/lib/python3.7/site-packages/newsrelations/metrics/distances.py\", line 98, in get_dict_from_relations\n",
      "    rel = sorted([x.e1 if x.e2 == query_name else x.e2 for x in relations])\n",
      "Traceback (most recent call last):\n",
      "  File \"/home/jonas/anaconda3/lib/python3.7/multiprocessing/process.py\", line 297, in _bootstrap\n",
      "    self.run()\n",
      "  File \"/home/jonas/.local/lib/python3.7/site-packages/newsrelations/metrics/distances.py\", line 98, in <listcomp>\n",
      "    rel = sorted([x.e1 if x.e2 == query_name else x.e2 for x in relations])\n",
      "  File \"/home/jonas/anaconda3/lib/python3.7/multiprocessing/process.py\", line 297, in _bootstrap\n",
      "    self.run()\n",
      "  File \"/home/jonas/.local/lib/python3.7/site-packages/newsrelations/query_db/relation_query.py\", line 234, in select_relations\n",
      "    min_dist, min_dist\n",
      "  File \"/home/jonas/anaconda3/lib/python3.7/multiprocessing/process.py\", line 99, in run\n",
      "    self._target(*self._args, **self._kwargs)\n",
      "KeyboardInterrupt\n",
      "Process ForkPoolWorker-1:\n",
      "Process ForkPoolWorker-2:\n",
      "  File \"/home/jonas/anaconda3/lib/python3.7/multiprocessing/pool.py\", line 121, in worker\n",
      "    result = (True, func(*args, **kwds))\n",
      "Traceback (most recent call last):\n",
      "  File \"/home/jonas/anaconda3/lib/python3.7/multiprocessing/pool.py\", line 121, in worker\n",
      "    result = (True, func(*args, **kwds))\n",
      "  File \"/home/jonas/anaconda3/lib/python3.7/multiprocessing/process.py\", line 99, in run\n",
      "    self._target(*self._args, **self._kwargs)\n",
      "Traceback (most recent call last):\n",
      "  File \"/home/jonas/anaconda3/lib/python3.7/multiprocessing/pool.py\", line 121, in worker\n",
      "    result = (True, func(*args, **kwds))\n",
      "  File \"/home/jonas/anaconda3/lib/python3.7/multiprocessing/process.py\", line 297, in _bootstrap\n",
      "    self.run()\n",
      "  File \"/home/jonas/anaconda3/lib/python3.7/multiprocessing/process.py\", line 99, in run\n",
      "    self._target(*self._args, **self._kwargs)\n",
      "  File \"/home/jonas/anaconda3/lib/python3.7/multiprocessing/pool.py\", line 44, in mapstar\n",
      "    return list(map(*args))\n",
      "  File \"/home/jonas/anaconda3/lib/python3.7/multiprocessing/process.py\", line 297, in _bootstrap\n",
      "    self.run()\n",
      "  File \"/home/jonas/anaconda3/lib/python3.7/multiprocessing/pool.py\", line 121, in worker\n",
      "    result = (True, func(*args, **kwds))\n",
      "  File \"/home/jonas/anaconda3/lib/python3.7/multiprocessing/pool.py\", line 44, in mapstar\n",
      "    return list(map(*args))\n",
      "KeyboardInterrupt\n",
      "  File \"/home/jonas/anaconda3/lib/python3.7/multiprocessing/pool.py\", line 44, in mapstar\n",
      "    return list(map(*args))\n",
      "  File \"<ipython-input-36-9d1836a3f7e7>\", line 18, in create_residual_table\n",
      "    RELATION_MODELS_PATH, models, TOPIC_OF_INTEREST, 10,\n",
      "  File \"/home/jonas/anaconda3/lib/python3.7/multiprocessing/process.py\", line 99, in run\n",
      "    self._target(*self._args, **self._kwargs)\n",
      "  File \"/home/jonas/anaconda3/lib/python3.7/multiprocessing/pool.py\", line 44, in mapstar\n",
      "    return list(map(*args))\n",
      "  File \"<ipython-input-36-9d1836a3f7e7>\", line 18, in create_residual_table\n",
      "    RELATION_MODELS_PATH, models, TOPIC_OF_INTEREST, 10,\n",
      "  File \"/home/jonas/anaconda3/lib/python3.7/multiprocessing/pool.py\", line 121, in worker\n",
      "    result = (True, func(*args, **kwds))\n",
      "  File \"/home/jonas/anaconda3/lib/python3.7/multiprocessing/process.py\", line 99, in run\n",
      "    self._target(*self._args, **self._kwargs)\n",
      "  File \"<ipython-input-3-0538b57ed046>\", line 28, in build_contingency_table_from_single_topic\n",
      "    e2_is_synset=E2_SYNSET,\n",
      "  File \"<ipython-input-3-0538b57ed046>\", line 28, in build_contingency_table_from_single_topic\n",
      "    e2_is_synset=E2_SYNSET,\n",
      "  File \"<ipython-input-36-9d1836a3f7e7>\", line 18, in create_residual_table\n",
      "    RELATION_MODELS_PATH, models, TOPIC_OF_INTEREST, 10,\n",
      "  File \"/home/jonas/.local/lib/python3.7/site-packages/newsrelations/metrics/distances.py\", line 118, in get_top_co_occurrences\n",
      "    res = self.get_dict_from_relations(relations_e1, query_name_e1)\n",
      "  File \"/home/jonas/.local/lib/python3.7/site-packages/newsrelations/metrics/distances.py\", line 118, in get_top_co_occurrences\n",
      "    res = self.get_dict_from_relations(relations_e1, query_name_e1)\n",
      "  File \"/home/jonas/anaconda3/lib/python3.7/multiprocessing/pool.py\", line 121, in worker\n",
      "    result = (True, func(*args, **kwds))\n",
      "  File \"<ipython-input-3-0538b57ed046>\", line 28, in build_contingency_table_from_single_topic\n",
      "    e2_is_synset=E2_SYNSET,\n",
      "  File \"/home/jonas/.local/lib/python3.7/site-packages/newsrelations/metrics/distances.py\", line 98, in get_dict_from_relations\n",
      "    rel = sorted([x.e1 if x.e2 == query_name else x.e2 for x in relations])\n",
      "  File \"/home/jonas/.local/lib/python3.7/site-packages/newsrelations/metrics/distances.py\", line 118, in get_top_co_occurrences\n",
      "    res = self.get_dict_from_relations(relations_e1, query_name_e1)\n",
      "  File \"/home/jonas/.local/lib/python3.7/site-packages/newsrelations/metrics/distances.py\", line 98, in get_dict_from_relations\n",
      "    rel = sorted([x.e1 if x.e2 == query_name else x.e2 for x in relations])\n",
      "  File \"/home/jonas/anaconda3/lib/python3.7/multiprocessing/pool.py\", line 44, in mapstar\n",
      "    return list(map(*args))\n",
      "  File \"/home/jonas/.local/lib/python3.7/site-packages/newsrelations/metrics/distances.py\", line 98, in <listcomp>\n",
      "    rel = sorted([x.e1 if x.e2 == query_name else x.e2 for x in relations])\n",
      "  File \"<ipython-input-36-9d1836a3f7e7>\", line 18, in create_residual_table\n",
      "    RELATION_MODELS_PATH, models, TOPIC_OF_INTEREST, 10,\n",
      "  File \"/home/jonas/.local/lib/python3.7/site-packages/newsrelations/metrics/distances.py\", line 98, in <listcomp>\n",
      "    rel = sorted([x.e1 if x.e2 == query_name else x.e2 for x in relations])\n",
      "  File \"/home/jonas/.local/lib/python3.7/site-packages/newsrelations/query_db/relation_query.py\", line 234, in select_relations\n",
      "    min_dist, min_dist\n",
      "  File \"/home/jonas/.local/lib/python3.7/site-packages/newsrelations/query_db/relation_query.py\", line 234, in select_relations\n",
      "    min_dist, min_dist\n",
      "  File \"<ipython-input-3-0538b57ed046>\", line 28, in build_contingency_table_from_single_topic\n",
      "    e2_is_synset=E2_SYNSET,\n",
      "KeyboardInterrupt\n",
      "  File \"/home/jonas/anaconda3/lib/python3.7/multiprocessing/pool.py\", line 44, in mapstar\n",
      "    return list(map(*args))\n",
      "  File \"/home/jonas/.local/lib/python3.7/site-packages/newsrelations/metrics/distances.py\", line 118, in get_top_co_occurrences\n",
      "    res = self.get_dict_from_relations(relations_e1, query_name_e1)\n",
      "  File \"<ipython-input-36-9d1836a3f7e7>\", line 18, in create_residual_table\n",
      "    RELATION_MODELS_PATH, models, TOPIC_OF_INTEREST, 10,\n",
      "  File \"/home/jonas/.local/lib/python3.7/site-packages/newsrelations/metrics/distances.py\", line 98, in get_dict_from_relations\n",
      "    rel = sorted([x.e1 if x.e2 == query_name else x.e2 for x in relations])\n",
      "  File \"/home/jonas/.local/lib/python3.7/site-packages/newsrelations/metrics/distances.py\", line 98, in get_dict_from_relations\n",
      "    rel = sorted([x.e1 if x.e2 == query_name else x.e2 for x in relations])\n"
     ]
    },
    {
     "name": "stderr",
     "output_type": "stream",
     "text": [
      "  File \"<ipython-input-36-9d1836a3f7e7>\", line 18, in create_residual_table\n",
      "    RELATION_MODELS_PATH, models, TOPIC_OF_INTEREST, 10,\n",
      "  File \"<ipython-input-3-0538b57ed046>\", line 28, in build_contingency_table_from_single_topic\n",
      "    e2_is_synset=E2_SYNSET,\n",
      "  File \"/home/jonas/.local/lib/python3.7/site-packages/newsrelations/metrics/distances.py\", line 98, in <listcomp>\n",
      "    rel = sorted([x.e1 if x.e2 == query_name else x.e2 for x in relations])\n",
      "  File \"<ipython-input-3-0538b57ed046>\", line 28, in build_contingency_table_from_single_topic\n",
      "    e2_is_synset=E2_SYNSET,\n",
      "  File \"/home/jonas/.local/lib/python3.7/site-packages/newsrelations/metrics/distances.py\", line 118, in get_top_co_occurrences\n",
      "    res = self.get_dict_from_relations(relations_e1, query_name_e1)\n",
      "  File \"/home/jonas/.local/lib/python3.7/site-packages/newsrelations/metrics/distances.py\", line 98, in <listcomp>\n",
      "    rel = sorted([x.e1 if x.e2 == query_name else x.e2 for x in relations])\n",
      "  File \"/home/jonas/.local/lib/python3.7/site-packages/newsrelations/query_db/relation_query.py\", line 234, in select_relations\n",
      "    min_dist, min_dist\n",
      "  File \"/home/jonas/.local/lib/python3.7/site-packages/newsrelations/metrics/distances.py\", line 98, in get_dict_from_relations\n",
      "    rel = sorted([x.e1 if x.e2 == query_name else x.e2 for x in relations])\n",
      "KeyboardInterrupt\n",
      "  File \"/home/jonas/.local/lib/python3.7/site-packages/newsrelations/query_db/relation_query.py\", line 234, in select_relations\n",
      "    min_dist, min_dist\n",
      "  File \"/home/jonas/.local/lib/python3.7/site-packages/newsrelations/metrics/distances.py\", line 98, in <listcomp>\n",
      "    rel = sorted([x.e1 if x.e2 == query_name else x.e2 for x in relations])\n",
      "  File \"/home/jonas/.local/lib/python3.7/site-packages/newsrelations/query_db/relation_query.py\", line 234, in select_relations\n",
      "    min_dist, min_dist\n",
      "KeyboardInterrupt\n",
      "KeyboardInterrupt\n",
      "Process ForkPoolWorker-5:\n",
      "Traceback (most recent call last):\n",
      "  File \"/home/jonas/.local/lib/python3.7/site-packages/newsrelations/metrics/distances.py\", line 98, in get_dict_from_relations\n",
      "    rel = sorted([x.e1 if x.e2 == query_name else x.e2 for x in relations])\n",
      "  File \"/home/jonas/anaconda3/lib/python3.7/multiprocessing/process.py\", line 99, in run\n",
      "    self._target(*self._args, **self._kwargs)\n",
      "  File \"/home/jonas/.local/lib/python3.7/site-packages/newsrelations/metrics/distances.py\", line 98, in <listcomp>\n",
      "    rel = sorted([x.e1 if x.e2 == query_name else x.e2 for x in relations])\n",
      "  File \"/home/jonas/.local/lib/python3.7/site-packages/newsrelations/metrics/distances.py\", line 118, in get_top_co_occurrences\n",
      "    res = self.get_dict_from_relations(relations_e1, query_name_e1)\n",
      "  File \"/home/jonas/anaconda3/lib/python3.7/multiprocessing/process.py\", line 297, in _bootstrap\n",
      "    self.run()\n",
      "  File \"/home/jonas/.local/lib/python3.7/site-packages/newsrelations/query_db/relation_query.py\", line 234, in select_relations\n",
      "    min_dist, min_dist\n",
      "KeyboardInterrupt\n",
      "  File \"/home/jonas/anaconda3/lib/python3.7/multiprocessing/pool.py\", line 121, in worker\n",
      "    result = (True, func(*args, **kwds))\n",
      "  File \"/home/jonas/anaconda3/lib/python3.7/multiprocessing/pool.py\", line 44, in mapstar\n",
      "    return list(map(*args))\n",
      "  File \"<ipython-input-36-9d1836a3f7e7>\", line 18, in create_residual_table\n",
      "    RELATION_MODELS_PATH, models, TOPIC_OF_INTEREST, 10,\n",
      "  File \"<ipython-input-3-0538b57ed046>\", line 28, in build_contingency_table_from_single_topic\n",
      "    e2_is_synset=E2_SYNSET,\n",
      "  File \"/home/jonas/.local/lib/python3.7/site-packages/newsrelations/metrics/distances.py\", line 118, in get_top_co_occurrences\n",
      "    res = self.get_dict_from_relations(relations_e1, query_name_e1)\n",
      "  File \"/home/jonas/.local/lib/python3.7/site-packages/newsrelations/metrics/distances.py\", line 98, in get_dict_from_relations\n",
      "    rel = sorted([x.e1 if x.e2 == query_name else x.e2 for x in relations])\n",
      "  File \"/home/jonas/.local/lib/python3.7/site-packages/newsrelations/metrics/distances.py\", line 98, in <listcomp>\n",
      "    rel = sorted([x.e1 if x.e2 == query_name else x.e2 for x in relations])\n",
      "  File \"/home/jonas/.local/lib/python3.7/site-packages/newsrelations/query_db/relation_query.py\", line 234, in select_relations\n",
      "    min_dist, min_dist\n",
      "KeyboardInterrupt\n"
     ]
    },
    {
     "ename": "KeyboardInterrupt",
     "evalue": "",
     "output_type": "error",
     "traceback": [
      "\u001b[0;31m---------------------------------------------------------------------------\u001b[0m",
      "\u001b[0;31mKeyboardInterrupt\u001b[0m                         Traceback (most recent call last)",
      "\u001b[0;32m<ipython-input-36-9d1836a3f7e7>\u001b[0m in \u001b[0;36m<module>\u001b[0;34m\u001b[0m\n\u001b[1;32m     31\u001b[0m \u001b[0;34m\u001b[0m\u001b[0m\n\u001b[1;32m     32\u001b[0m \u001b[0;31m# concat the pool-parallelized dataframes from pathlist\u001b[0m\u001b[0;34m\u001b[0m\u001b[0;34m\u001b[0m\u001b[0;34m\u001b[0m\u001b[0m\n\u001b[0;32m---> 33\u001b[0;31m \u001b[0mdf_new\u001b[0m \u001b[0;34m=\u001b[0m \u001b[0mpd\u001b[0m\u001b[0;34m.\u001b[0m\u001b[0mconcat\u001b[0m\u001b[0;34m(\u001b[0m\u001b[0mpool\u001b[0m\u001b[0;34m.\u001b[0m\u001b[0mmap\u001b[0m\u001b[0;34m(\u001b[0m\u001b[0mcreate_residual_table\u001b[0m\u001b[0;34m,\u001b[0m \u001b[0;34m[\u001b[0m\u001b[0mmodel\u001b[0m \u001b[0;32mfor\u001b[0m \u001b[0mmodel\u001b[0m \u001b[0;32min\u001b[0m \u001b[0mmodel_list\u001b[0m\u001b[0;34m]\u001b[0m\u001b[0;34m)\u001b[0m\u001b[0;34m)\u001b[0m\u001b[0;34m\u001b[0m\u001b[0;34m\u001b[0m\u001b[0m\n\u001b[0m\u001b[1;32m     34\u001b[0m \u001b[0;34m\u001b[0m\u001b[0m\n\u001b[1;32m     35\u001b[0m \u001b[0;31m# close pool\u001b[0m\u001b[0;34m\u001b[0m\u001b[0;34m\u001b[0m\u001b[0;34m\u001b[0m\u001b[0m\n",
      "\u001b[0;32m~/anaconda3/lib/python3.7/multiprocessing/pool.py\u001b[0m in \u001b[0;36mmap\u001b[0;34m(self, func, iterable, chunksize)\u001b[0m\n\u001b[1;32m    266\u001b[0m         \u001b[0;32min\u001b[0m \u001b[0ma\u001b[0m \u001b[0mlist\u001b[0m \u001b[0mthat\u001b[0m \u001b[0;32mis\u001b[0m \u001b[0mreturned\u001b[0m\u001b[0;34m.\u001b[0m\u001b[0;34m\u001b[0m\u001b[0;34m\u001b[0m\u001b[0m\n\u001b[1;32m    267\u001b[0m         '''\n\u001b[0;32m--> 268\u001b[0;31m         \u001b[0;32mreturn\u001b[0m \u001b[0mself\u001b[0m\u001b[0;34m.\u001b[0m\u001b[0m_map_async\u001b[0m\u001b[0;34m(\u001b[0m\u001b[0mfunc\u001b[0m\u001b[0;34m,\u001b[0m \u001b[0miterable\u001b[0m\u001b[0;34m,\u001b[0m \u001b[0mmapstar\u001b[0m\u001b[0;34m,\u001b[0m \u001b[0mchunksize\u001b[0m\u001b[0;34m)\u001b[0m\u001b[0;34m.\u001b[0m\u001b[0mget\u001b[0m\u001b[0;34m(\u001b[0m\u001b[0;34m)\u001b[0m\u001b[0;34m\u001b[0m\u001b[0;34m\u001b[0m\u001b[0m\n\u001b[0m\u001b[1;32m    269\u001b[0m \u001b[0;34m\u001b[0m\u001b[0m\n\u001b[1;32m    270\u001b[0m     \u001b[0;32mdef\u001b[0m \u001b[0mstarmap\u001b[0m\u001b[0;34m(\u001b[0m\u001b[0mself\u001b[0m\u001b[0;34m,\u001b[0m \u001b[0mfunc\u001b[0m\u001b[0;34m,\u001b[0m \u001b[0miterable\u001b[0m\u001b[0;34m,\u001b[0m \u001b[0mchunksize\u001b[0m\u001b[0;34m=\u001b[0m\u001b[0;32mNone\u001b[0m\u001b[0;34m)\u001b[0m\u001b[0;34m:\u001b[0m\u001b[0;34m\u001b[0m\u001b[0;34m\u001b[0m\u001b[0m\n",
      "\u001b[0;32m~/anaconda3/lib/python3.7/multiprocessing/pool.py\u001b[0m in \u001b[0;36mget\u001b[0;34m(self, timeout)\u001b[0m\n\u001b[1;32m    649\u001b[0m \u001b[0;34m\u001b[0m\u001b[0m\n\u001b[1;32m    650\u001b[0m     \u001b[0;32mdef\u001b[0m \u001b[0mget\u001b[0m\u001b[0;34m(\u001b[0m\u001b[0mself\u001b[0m\u001b[0;34m,\u001b[0m \u001b[0mtimeout\u001b[0m\u001b[0;34m=\u001b[0m\u001b[0;32mNone\u001b[0m\u001b[0;34m)\u001b[0m\u001b[0;34m:\u001b[0m\u001b[0;34m\u001b[0m\u001b[0;34m\u001b[0m\u001b[0m\n\u001b[0;32m--> 651\u001b[0;31m         \u001b[0mself\u001b[0m\u001b[0;34m.\u001b[0m\u001b[0mwait\u001b[0m\u001b[0;34m(\u001b[0m\u001b[0mtimeout\u001b[0m\u001b[0;34m)\u001b[0m\u001b[0;34m\u001b[0m\u001b[0;34m\u001b[0m\u001b[0m\n\u001b[0m\u001b[1;32m    652\u001b[0m         \u001b[0;32mif\u001b[0m \u001b[0;32mnot\u001b[0m \u001b[0mself\u001b[0m\u001b[0;34m.\u001b[0m\u001b[0mready\u001b[0m\u001b[0;34m(\u001b[0m\u001b[0;34m)\u001b[0m\u001b[0;34m:\u001b[0m\u001b[0;34m\u001b[0m\u001b[0;34m\u001b[0m\u001b[0m\n\u001b[1;32m    653\u001b[0m             \u001b[0;32mraise\u001b[0m \u001b[0mTimeoutError\u001b[0m\u001b[0;34m\u001b[0m\u001b[0;34m\u001b[0m\u001b[0m\n",
      "\u001b[0;32m~/anaconda3/lib/python3.7/multiprocessing/pool.py\u001b[0m in \u001b[0;36mwait\u001b[0;34m(self, timeout)\u001b[0m\n\u001b[1;32m    646\u001b[0m \u001b[0;34m\u001b[0m\u001b[0m\n\u001b[1;32m    647\u001b[0m     \u001b[0;32mdef\u001b[0m \u001b[0mwait\u001b[0m\u001b[0;34m(\u001b[0m\u001b[0mself\u001b[0m\u001b[0;34m,\u001b[0m \u001b[0mtimeout\u001b[0m\u001b[0;34m=\u001b[0m\u001b[0;32mNone\u001b[0m\u001b[0;34m)\u001b[0m\u001b[0;34m:\u001b[0m\u001b[0;34m\u001b[0m\u001b[0;34m\u001b[0m\u001b[0m\n\u001b[0;32m--> 648\u001b[0;31m         \u001b[0mself\u001b[0m\u001b[0;34m.\u001b[0m\u001b[0m_event\u001b[0m\u001b[0;34m.\u001b[0m\u001b[0mwait\u001b[0m\u001b[0;34m(\u001b[0m\u001b[0mtimeout\u001b[0m\u001b[0;34m)\u001b[0m\u001b[0;34m\u001b[0m\u001b[0;34m\u001b[0m\u001b[0m\n\u001b[0m\u001b[1;32m    649\u001b[0m \u001b[0;34m\u001b[0m\u001b[0m\n\u001b[1;32m    650\u001b[0m     \u001b[0;32mdef\u001b[0m \u001b[0mget\u001b[0m\u001b[0;34m(\u001b[0m\u001b[0mself\u001b[0m\u001b[0;34m,\u001b[0m \u001b[0mtimeout\u001b[0m\u001b[0;34m=\u001b[0m\u001b[0;32mNone\u001b[0m\u001b[0;34m)\u001b[0m\u001b[0;34m:\u001b[0m\u001b[0;34m\u001b[0m\u001b[0;34m\u001b[0m\u001b[0m\n",
      "\u001b[0;32m~/anaconda3/lib/python3.7/threading.py\u001b[0m in \u001b[0;36mwait\u001b[0;34m(self, timeout)\u001b[0m\n\u001b[1;32m    550\u001b[0m             \u001b[0msignaled\u001b[0m \u001b[0;34m=\u001b[0m \u001b[0mself\u001b[0m\u001b[0;34m.\u001b[0m\u001b[0m_flag\u001b[0m\u001b[0;34m\u001b[0m\u001b[0;34m\u001b[0m\u001b[0m\n\u001b[1;32m    551\u001b[0m             \u001b[0;32mif\u001b[0m \u001b[0;32mnot\u001b[0m \u001b[0msignaled\u001b[0m\u001b[0;34m:\u001b[0m\u001b[0;34m\u001b[0m\u001b[0;34m\u001b[0m\u001b[0m\n\u001b[0;32m--> 552\u001b[0;31m                 \u001b[0msignaled\u001b[0m \u001b[0;34m=\u001b[0m \u001b[0mself\u001b[0m\u001b[0;34m.\u001b[0m\u001b[0m_cond\u001b[0m\u001b[0;34m.\u001b[0m\u001b[0mwait\u001b[0m\u001b[0;34m(\u001b[0m\u001b[0mtimeout\u001b[0m\u001b[0;34m)\u001b[0m\u001b[0;34m\u001b[0m\u001b[0;34m\u001b[0m\u001b[0m\n\u001b[0m\u001b[1;32m    553\u001b[0m             \u001b[0;32mreturn\u001b[0m \u001b[0msignaled\u001b[0m\u001b[0;34m\u001b[0m\u001b[0;34m\u001b[0m\u001b[0m\n\u001b[1;32m    554\u001b[0m \u001b[0;34m\u001b[0m\u001b[0m\n",
      "\u001b[0;32m~/anaconda3/lib/python3.7/threading.py\u001b[0m in \u001b[0;36mwait\u001b[0;34m(self, timeout)\u001b[0m\n\u001b[1;32m    294\u001b[0m         \u001b[0;32mtry\u001b[0m\u001b[0;34m:\u001b[0m    \u001b[0;31m# restore state no matter what (e.g., KeyboardInterrupt)\u001b[0m\u001b[0;34m\u001b[0m\u001b[0;34m\u001b[0m\u001b[0m\n\u001b[1;32m    295\u001b[0m             \u001b[0;32mif\u001b[0m \u001b[0mtimeout\u001b[0m \u001b[0;32mis\u001b[0m \u001b[0;32mNone\u001b[0m\u001b[0;34m:\u001b[0m\u001b[0;34m\u001b[0m\u001b[0;34m\u001b[0m\u001b[0m\n\u001b[0;32m--> 296\u001b[0;31m                 \u001b[0mwaiter\u001b[0m\u001b[0;34m.\u001b[0m\u001b[0macquire\u001b[0m\u001b[0;34m(\u001b[0m\u001b[0;34m)\u001b[0m\u001b[0;34m\u001b[0m\u001b[0;34m\u001b[0m\u001b[0m\n\u001b[0m\u001b[1;32m    297\u001b[0m                 \u001b[0mgotit\u001b[0m \u001b[0;34m=\u001b[0m \u001b[0;32mTrue\u001b[0m\u001b[0;34m\u001b[0m\u001b[0;34m\u001b[0m\u001b[0m\n\u001b[1;32m    298\u001b[0m             \u001b[0;32melse\u001b[0m\u001b[0;34m:\u001b[0m\u001b[0;34m\u001b[0m\u001b[0;34m\u001b[0m\u001b[0m\n",
      "\u001b[0;31mKeyboardInterrupt\u001b[0m: "
     ]
    },
    {
     "data": {
      "application/javascript": [
       "\n",
       "            setTimeout(function() {\n",
       "                var nbb_cell_id = 36;\n",
       "                var nbb_unformatted_code = \"# create residual tables\\n\\n# create list of all possible combinations\\nmodel_list = []\\nfor i in range(len(RELATION_MODELS)):\\n    model = [RELATION_MODELS[i]]\\n    for j in range(len(RELATION_MODELS)):\\n        if i != j:\\n            model.append(RELATION_MODELS[j])\\n\\n    model_list.append(model)\\n    \\n\\n\\ndef create_residual_table(models):\\n    # create SQL query and build contingency table for sm.stats\\n    contingency_table = build_contingency_table_from_single_topic(\\n        RELATION_MODELS_PATH, models, TOPIC_OF_INTEREST, 10,\\n    )\\n    # create residual table\\n    contingency_table = sm.stats.Table(contingency_table)\\n    residual_table = contingency_table.chi2_contribs\\n\\n    # sort alphabetically\\n    residual_table = residual_table.sort_index()\\n\\n    return residual_table\\n\\n# Init multiprocessing.Pool()\\npool = mp.Pool(mp.cpu_count())\\n\\n# concat the pool-parallelized dataframes from pathlist\\ndf_new = pd.concat(pool.map(create_residual_table, [model for model in model_list]))\\n\\n# close pool\\npool.close()\\n\\n# save results to csv\\ndf.to_csv(RESULTS_PATH + \\\"sentimentAll_residualTable_\\\" + TOPIC_OF_INTEREST + \\\".csv\\\", index=False)\\n\\n\\nmessage_me(\\\"residual_table\\\")\";\n",
       "                var nbb_formatted_code = \"# create residual tables\\n\\n# create list of all possible combinations\\nmodel_list = []\\nfor i in range(len(RELATION_MODELS)):\\n    model = [RELATION_MODELS[i]]\\n    for j in range(len(RELATION_MODELS)):\\n        if i != j:\\n            model.append(RELATION_MODELS[j])\\n\\n    model_list.append(model)\\n\\n\\ndef create_residual_table(models):\\n    # create SQL query and build contingency table for sm.stats\\n    contingency_table = build_contingency_table_from_single_topic(\\n        RELATION_MODELS_PATH, models, TOPIC_OF_INTEREST, 10,\\n    )\\n    # create residual table\\n    contingency_table = sm.stats.Table(contingency_table)\\n    residual_table = contingency_table.chi2_contribs\\n\\n    # sort alphabetically\\n    residual_table = residual_table.sort_index()\\n\\n    return residual_table\\n\\n\\n# Init multiprocessing.Pool()\\npool = mp.Pool(mp.cpu_count())\\n\\n# concat the pool-parallelized dataframes from pathlist\\ndf_new = pd.concat(pool.map(create_residual_table, [model for model in model_list]))\\n\\n# close pool\\npool.close()\\n\\n# save results to csv\\ndf.to_csv(\\n    RESULTS_PATH + \\\"sentimentAll_residualTable_\\\" + TOPIC_OF_INTEREST + \\\".csv\\\",\\n    index=False,\\n)\\n\\n\\nmessage_me(\\\"residual_table\\\")\";\n",
       "                var nbb_cells = Jupyter.notebook.get_cells();\n",
       "                for (var i = 0; i < nbb_cells.length; ++i) {\n",
       "                    if (nbb_cells[i].input_prompt_number == nbb_cell_id) {\n",
       "                        if (nbb_cells[i].get_text() == nbb_unformatted_code) {\n",
       "                             nbb_cells[i].set_text(nbb_formatted_code);\n",
       "                        }\n",
       "                        break;\n",
       "                    }\n",
       "                }\n",
       "            }, 500);\n",
       "            "
      ],
      "text/plain": [
       "<IPython.core.display.Javascript object>"
      ]
     },
     "metadata": {},
     "output_type": "display_data"
    }
   ],
   "source": [
    "# create residual tables\n",
    "\n",
    "# create list of all possible combinations\n",
    "model_list = []\n",
    "for i in range(len(RELATION_MODELS)):\n",
    "    model = [RELATION_MODELS[i]]\n",
    "    for j in range(len(RELATION_MODELS)):\n",
    "        if i != j:\n",
    "            model.append(RELATION_MODELS[j])\n",
    "\n",
    "    model_list.append(model)\n",
    "    \n",
    "\n",
    "\n",
    "def create_residual_table(models):\n",
    "    # create SQL query and build contingency table for sm.stats\n",
    "    contingency_table = build_contingency_table_from_single_topic(\n",
    "        RELATION_MODELS_PATH, models, TOPIC_OF_INTEREST, 10,\n",
    "    )\n",
    "    # create residual table\n",
    "    contingency_table = sm.stats.Table(contingency_table)\n",
    "    residual_table = contingency_table.chi2_contribs\n",
    "\n",
    "    # sort alphabetically\n",
    "    residual_table = residual_table.sort_index()\n",
    "\n",
    "    return residual_table\n",
    "\n",
    "# Init multiprocessing.Pool()\n",
    "pool = mp.Pool(mp.cpu_count())\n",
    "\n",
    "# concat the pool-parallelized dataframes from pathlist\n",
    "df_new = pd.concat(pool.map(create_residual_table, [model for model in model_list]))\n",
    "\n",
    "# close pool\n",
    "pool.close()\n",
    "\n",
    "# save results to csv\n",
    "df.to_csv(RESULTS_PATH + \"sentimentAll_residualTable_\" + TOPIC_OF_INTEREST + \".csv\", index=False)\n",
    "\n",
    "\n",
    "message_me(\"residual_table\")\n"
   ]
  },
  {
   "cell_type": "code",
   "execution_count": 37,
   "metadata": {
    "scrolled": false
   },
   "outputs": [
    {
     "data": {
      "application/javascript": [
       "\n",
       "            setTimeout(function() {\n",
       "                var nbb_cell_id = 37;\n",
       "                var nbb_unformatted_code = \"df_residuals = pd.read_csv(\\n    RESULTS_PATH + \\\"sentimentAll_residualTable_\\\" + TOPIC_OF_INTEREST + \\\".csv\\\"\\n)\";\n",
       "                var nbb_formatted_code = \"df_residuals = pd.read_csv(\\n    RESULTS_PATH + \\\"sentimentAll_residualTable_\\\" + TOPIC_OF_INTEREST + \\\".csv\\\"\\n)\";\n",
       "                var nbb_cells = Jupyter.notebook.get_cells();\n",
       "                for (var i = 0; i < nbb_cells.length; ++i) {\n",
       "                    if (nbb_cells[i].input_prompt_number == nbb_cell_id) {\n",
       "                        if (nbb_cells[i].get_text() == nbb_unformatted_code) {\n",
       "                             nbb_cells[i].set_text(nbb_formatted_code);\n",
       "                        }\n",
       "                        break;\n",
       "                    }\n",
       "                }\n",
       "            }, 500);\n",
       "            "
      ],
      "text/plain": [
       "<IPython.core.display.Javascript object>"
      ]
     },
     "metadata": {},
     "output_type": "display_data"
    }
   ],
   "source": [
    "df_residuals = pd.read_csv(\n",
    "    RESULTS_PATH + \"sentimentAll_residualTable_\" + TOPIC_OF_INTEREST + \".csv\"\n",
    ")"
   ]
  },
  {
   "cell_type": "code",
   "execution_count": 38,
   "metadata": {},
   "outputs": [
    {
     "data": {
      "application/javascript": [
       "\n",
       "            setTimeout(function() {\n",
       "                var nbb_cell_id = 38;\n",
       "                var nbb_unformatted_code = \"# do some transformations to the df\\ndf_residuals = df_residuals[df_residuals.columns[:11]]\\ncontingency_list = [\\n    df_residuals.loc[i : i + 9 - 1, :] for i in range(0, len(df_residuals), 9)\\n]\\n\\ncombined_entity_residuals = []\\n\\nfor i in range(len(contingency_list)):\\n    # delete reference news-outlet and sort it alphabetically to bring it in format of entity_frame_list\\n    contingency_list[i] = contingency_list[i].reset_index(drop=True)\\n    contingency_list[i] = contingency_list[i].drop(index=[i])\\n\\n    # delete string value\\n    contingency_list[i] = contingency_list[i].loc[\\n        :, ~contingency_list[i].columns.str.contains(\\\"^Unnamed\\\")\\n    ]\\n\\n    # labels for columns and indices\\n    combined_entity_index = [entity_frame_list[i].index]\\n    combined_entity_columns = [contingency_list[i].columns]\\n\\n    # reindex all dataframes\\n    contingency_list[i] = contingency_list[i].reset_index(drop=True)\\n    contingency_list[i] = contingency_list[i].T.reset_index(drop=True).T\\n    entity_frame_list[i] = entity_frame_list[i].reset_index(drop=True)\\n    entity_frame_list[i] = entity_frame_list[i].T.reset_index(drop=True).T\\n\\n    # taking reciproke of contingency list weight small differences in coverage bigger and vice versa\\n    contingency_list[i] = 1 / contingency_list[i]\\n\\n    # fill NaNs with zeros (neutral sentiment if not mentioned)\\n    contingency_list[i] = contingency_list[i].fillna(0)\\n    entity_frame_list[i] = entity_frame_list[i].fillna(0)\\n\\n    combined_entity_residuals.append(\\n        pd.DataFrame(entity_frame_list[i] * contingency_list[i],)\\n    )\\n\\nfor i in range(len(combined_entity_residuals)):\\n    combined_entity_residuals[i].index = combined_entity_index\\n    combined_entity_residuals[i].columns = combined_entity_columns\";\n",
       "                var nbb_formatted_code = \"# do some transformations to the df\\ndf_residuals = df_residuals[df_residuals.columns[:11]]\\ncontingency_list = [\\n    df_residuals.loc[i : i + 9 - 1, :] for i in range(0, len(df_residuals), 9)\\n]\\n\\ncombined_entity_residuals = []\\n\\nfor i in range(len(contingency_list)):\\n    # delete reference news-outlet and sort it alphabetically to bring it in format of entity_frame_list\\n    contingency_list[i] = contingency_list[i].reset_index(drop=True)\\n    contingency_list[i] = contingency_list[i].drop(index=[i])\\n\\n    # delete string value\\n    contingency_list[i] = contingency_list[i].loc[\\n        :, ~contingency_list[i].columns.str.contains(\\\"^Unnamed\\\")\\n    ]\\n\\n    # labels for columns and indices\\n    combined_entity_index = [entity_frame_list[i].index]\\n    combined_entity_columns = [contingency_list[i].columns]\\n\\n    # reindex all dataframes\\n    contingency_list[i] = contingency_list[i].reset_index(drop=True)\\n    contingency_list[i] = contingency_list[i].T.reset_index(drop=True).T\\n    entity_frame_list[i] = entity_frame_list[i].reset_index(drop=True)\\n    entity_frame_list[i] = entity_frame_list[i].T.reset_index(drop=True).T\\n\\n    # taking reciproke of contingency list weight small differences in coverage bigger and vice versa\\n    contingency_list[i] = 1 / contingency_list[i]\\n\\n    # fill NaNs with zeros (neutral sentiment if not mentioned)\\n    contingency_list[i] = contingency_list[i].fillna(0)\\n    entity_frame_list[i] = entity_frame_list[i].fillna(0)\\n\\n    combined_entity_residuals.append(\\n        pd.DataFrame(entity_frame_list[i] * contingency_list[i],)\\n    )\\n\\nfor i in range(len(combined_entity_residuals)):\\n    combined_entity_residuals[i].index = combined_entity_index\\n    combined_entity_residuals[i].columns = combined_entity_columns\";\n",
       "                var nbb_cells = Jupyter.notebook.get_cells();\n",
       "                for (var i = 0; i < nbb_cells.length; ++i) {\n",
       "                    if (nbb_cells[i].input_prompt_number == nbb_cell_id) {\n",
       "                        if (nbb_cells[i].get_text() == nbb_unformatted_code) {\n",
       "                             nbb_cells[i].set_text(nbb_formatted_code);\n",
       "                        }\n",
       "                        break;\n",
       "                    }\n",
       "                }\n",
       "            }, 500);\n",
       "            "
      ],
      "text/plain": [
       "<IPython.core.display.Javascript object>"
      ]
     },
     "metadata": {},
     "output_type": "display_data"
    }
   ],
   "source": [
    "# do some transformations to the df\n",
    "df_residuals = df_residuals[df_residuals.columns[:11]]\n",
    "contingency_list = [\n",
    "    df_residuals.loc[i : i + 9 - 1, :] for i in range(0, len(df_residuals), 9)\n",
    "]\n",
    "\n",
    "combined_entity_residuals = []\n",
    "\n",
    "for i in range(len(contingency_list)):\n",
    "    # delete reference news-outlet and sort it alphabetically to bring it in format of entity_frame_list\n",
    "    contingency_list[i] = contingency_list[i].reset_index(drop=True)\n",
    "    contingency_list[i] = contingency_list[i].drop(index=[i])\n",
    "\n",
    "    # delete string value\n",
    "    contingency_list[i] = contingency_list[i].loc[\n",
    "        :, ~contingency_list[i].columns.str.contains(\"^Unnamed\")\n",
    "    ]\n",
    "\n",
    "    # labels for columns and indices\n",
    "    combined_entity_index = [entity_frame_list[i].index]\n",
    "    combined_entity_columns = [contingency_list[i].columns]\n",
    "\n",
    "    # reindex all dataframes\n",
    "    contingency_list[i] = contingency_list[i].reset_index(drop=True)\n",
    "    contingency_list[i] = contingency_list[i].T.reset_index(drop=True).T\n",
    "    entity_frame_list[i] = entity_frame_list[i].reset_index(drop=True)\n",
    "    entity_frame_list[i] = entity_frame_list[i].T.reset_index(drop=True).T\n",
    "\n",
    "    # taking reciproke of contingency list weight small differences in coverage bigger and vice versa\n",
    "    contingency_list[i] = 1 / contingency_list[i]\n",
    "\n",
    "    # fill NaNs with zeros (neutral sentiment if not mentioned)\n",
    "    contingency_list[i] = contingency_list[i].fillna(0)\n",
    "    entity_frame_list[i] = entity_frame_list[i].fillna(0)\n",
    "\n",
    "    combined_entity_residuals.append(\n",
    "        pd.DataFrame(entity_frame_list[i] * contingency_list[i],)\n",
    "    )\n",
    "\n",
    "for i in range(len(combined_entity_residuals)):\n",
    "    combined_entity_residuals[i].index = combined_entity_index\n",
    "    combined_entity_residuals[i].columns = combined_entity_columns"
   ]
  },
  {
   "cell_type": "code",
   "execution_count": 39,
   "metadata": {},
   "outputs": [
    {
     "data": {
      "text/html": [
       "<div>\n",
       "<style scoped>\n",
       "    .dataframe tbody tr th:only-of-type {\n",
       "        vertical-align: middle;\n",
       "    }\n",
       "\n",
       "    .dataframe tbody tr th {\n",
       "        vertical-align: top;\n",
       "    }\n",
       "\n",
       "    .dataframe thead th {\n",
       "        text-align: right;\n",
       "    }\n",
       "</style>\n",
       "<table border=\"1\" class=\"dataframe\">\n",
       "  <thead>\n",
       "    <tr style=\"text-align: right;\">\n",
       "      <th></th>\n",
       "      <th>labels0</th>\n",
       "      <th>labels1</th>\n",
       "      <th>labels2</th>\n",
       "      <th>labels3</th>\n",
       "      <th>labels4</th>\n",
       "      <th>labels5</th>\n",
       "      <th>labels6</th>\n",
       "      <th>labels7</th>\n",
       "      <th>labels8</th>\n",
       "    </tr>\n",
       "  </thead>\n",
       "  <tbody>\n",
       "    <tr>\n",
       "      <th>0</th>\n",
       "      <td>2</td>\n",
       "      <td>2</td>\n",
       "      <td>2</td>\n",
       "      <td>2</td>\n",
       "      <td>2</td>\n",
       "      <td>0</td>\n",
       "      <td>1</td>\n",
       "      <td>2</td>\n",
       "      <td>0</td>\n",
       "    </tr>\n",
       "    <tr>\n",
       "      <th>1</th>\n",
       "      <td>0</td>\n",
       "      <td>1</td>\n",
       "      <td>1</td>\n",
       "      <td>1</td>\n",
       "      <td>1</td>\n",
       "      <td>0</td>\n",
       "      <td>2</td>\n",
       "      <td>1</td>\n",
       "      <td>1</td>\n",
       "    </tr>\n",
       "    <tr>\n",
       "      <th>2</th>\n",
       "      <td>0</td>\n",
       "      <td>1</td>\n",
       "      <td>0</td>\n",
       "      <td>0</td>\n",
       "      <td>0</td>\n",
       "      <td>0</td>\n",
       "      <td>0</td>\n",
       "      <td>0</td>\n",
       "      <td>0</td>\n",
       "    </tr>\n",
       "    <tr>\n",
       "      <th>3</th>\n",
       "      <td>2</td>\n",
       "      <td>0</td>\n",
       "      <td>0</td>\n",
       "      <td>0</td>\n",
       "      <td>2</td>\n",
       "      <td>0</td>\n",
       "      <td>0</td>\n",
       "      <td>0</td>\n",
       "      <td>2</td>\n",
       "    </tr>\n",
       "    <tr>\n",
       "      <th>4</th>\n",
       "      <td>0</td>\n",
       "      <td>1</td>\n",
       "      <td>0</td>\n",
       "      <td>0</td>\n",
       "      <td>0</td>\n",
       "      <td>1</td>\n",
       "      <td>0</td>\n",
       "      <td>0</td>\n",
       "      <td>0</td>\n",
       "    </tr>\n",
       "    <tr>\n",
       "      <th>5</th>\n",
       "      <td>0</td>\n",
       "      <td>1</td>\n",
       "      <td>0</td>\n",
       "      <td>0</td>\n",
       "      <td>0</td>\n",
       "      <td>0</td>\n",
       "      <td>0</td>\n",
       "      <td>0</td>\n",
       "      <td>0</td>\n",
       "    </tr>\n",
       "    <tr>\n",
       "      <th>6</th>\n",
       "      <td>0</td>\n",
       "      <td>1</td>\n",
       "      <td>0</td>\n",
       "      <td>0</td>\n",
       "      <td>0</td>\n",
       "      <td>0</td>\n",
       "      <td>0</td>\n",
       "      <td>0</td>\n",
       "      <td>0</td>\n",
       "    </tr>\n",
       "    <tr>\n",
       "      <th>7</th>\n",
       "      <td>1</td>\n",
       "      <td>1</td>\n",
       "      <td>0</td>\n",
       "      <td>0</td>\n",
       "      <td>0</td>\n",
       "      <td>2</td>\n",
       "      <td>0</td>\n",
       "      <td>0</td>\n",
       "      <td>0</td>\n",
       "    </tr>\n",
       "  </tbody>\n",
       "</table>\n",
       "</div>"
      ],
      "text/plain": [
       "   labels0  labels1  labels2  labels3  labels4  labels5  labels6  labels7  \\\n",
       "0        2        2        2        2        2        0        1        2   \n",
       "1        0        1        1        1        1        0        2        1   \n",
       "2        0        1        0        0        0        0        0        0   \n",
       "3        2        0        0        0        2        0        0        0   \n",
       "4        0        1        0        0        0        1        0        0   \n",
       "5        0        1        0        0        0        0        0        0   \n",
       "6        0        1        0        0        0        0        0        0   \n",
       "7        1        1        0        0        0        2        0        0   \n",
       "\n",
       "   labels8  \n",
       "0        0  \n",
       "1        1  \n",
       "2        0  \n",
       "3        2  \n",
       "4        0  \n",
       "5        0  \n",
       "6        0  \n",
       "7        0  "
      ]
     },
     "execution_count": 39,
     "metadata": {},
     "output_type": "execute_result"
    },
    {
     "data": {
      "application/javascript": [
       "\n",
       "            setTimeout(function() {\n",
       "                var nbb_cell_id = 39;\n",
       "                var nbb_unformatted_code = \"df_res = pd.DataFrame()\\n\\nfor i in range(len(combined_entity_residuals)):\\n    kmeans = KMeans(n_clusters=3).fit(combined_entity_residuals[i])\\n    labels = kmeans.labels_\\n    df_res[str(\\\"labels\\\" + str(i))] = labels\\ndf_res\";\n",
       "                var nbb_formatted_code = \"df_res = pd.DataFrame()\\n\\nfor i in range(len(combined_entity_residuals)):\\n    kmeans = KMeans(n_clusters=3).fit(combined_entity_residuals[i])\\n    labels = kmeans.labels_\\n    df_res[str(\\\"labels\\\" + str(i))] = labels\\ndf_res\";\n",
       "                var nbb_cells = Jupyter.notebook.get_cells();\n",
       "                for (var i = 0; i < nbb_cells.length; ++i) {\n",
       "                    if (nbb_cells[i].input_prompt_number == nbb_cell_id) {\n",
       "                        if (nbb_cells[i].get_text() == nbb_unformatted_code) {\n",
       "                             nbb_cells[i].set_text(nbb_formatted_code);\n",
       "                        }\n",
       "                        break;\n",
       "                    }\n",
       "                }\n",
       "            }, 500);\n",
       "            "
      ],
      "text/plain": [
       "<IPython.core.display.Javascript object>"
      ]
     },
     "metadata": {},
     "output_type": "display_data"
    }
   ],
   "source": [
    "df_res = pd.DataFrame()\n",
    "\n",
    "for i in range(len(combined_entity_residuals)):\n",
    "    kmeans = KMeans(n_clusters=3).fit(combined_entity_residuals[i])\n",
    "    labels = kmeans.labels_\n",
    "    df_res[str(\"labels\" + str(i))] = labels\n",
    "df_res"
   ]
  },
  {
   "cell_type": "code",
   "execution_count": null,
   "metadata": {},
   "outputs": [],
   "source": []
  }
 ],
 "metadata": {
  "kernelspec": {
   "display_name": "Python 3",
   "language": "python",
   "name": "python3"
  },
  "language_info": {
   "codemirror_mode": {
    "name": "ipython",
    "version": 3
   },
   "file_extension": ".py",
   "mimetype": "text/x-python",
   "name": "python",
   "nbconvert_exporter": "python",
   "pygments_lexer": "ipython3",
   "version": "3.7.6"
  }
 },
 "nbformat": 4,
 "nbformat_minor": 4
}
